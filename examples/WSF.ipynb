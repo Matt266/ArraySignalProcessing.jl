{
 "cells": [
  {
   "cell_type": "code",
   "execution_count": 2,
   "id": "7cb91c08",
   "metadata": {},
   "outputs": [
    {
     "name": "stdout",
     "output_type": "stream",
     "text": [
      "[79.7534647493264, 11.0005270715865]\n"
     ]
    },
    {
     "data": {
      "text/plain": [
       "1×2 Matrix{Float64}:\n",
       " 79.88  10.1244"
      ]
     },
     "metadata": {},
     "output_type": "display_data"
    }
   ],
   "source": [
    "using ArraySignalProcessing\n",
    "using LinearAlgebra\n",
    "using StatsBase\n",
    "\n",
    "fc = 150e6\n",
    "\n",
    "# Spacing:  1m is λ/2 for 150MHz \n",
    "# Oriented along yaxis to match Matlab behavior\n",
    "# subarrays for initial estimate via ESPRIT\n",
    "#        subarray 1:  x    x   x   -\n",
    "#        subarray 2:  -    x   x   x\n",
    "pa = IsotropicArray([-1.5 -0.5 0.5 1.5])\n",
    "\n",
    "Δ = [1, 0, 0]\n",
    "\n",
    "# test signal generation\n",
    "Rss = I(2)\n",
    "Θ = deg2rad.([10, 80])\n",
    "d = length(Θ)\n",
    "N = 2000\n",
    "SNR = 5\n",
    "X = unconditional_signals(pa, Rss, N, SNR, Θ, fc)\n",
    "Rxx = X*X'/N\n",
    "\n",
    "# initial estimate using esprit\n",
    "Z = [X[1:3,:]; X[2:4,:]]\n",
    "Rzz = 1/size(Z, 2) * Z*Z'\n",
    "Θest = esprit(Rzz, Δ, d, fc)\n",
    "println(rad2deg.(Θest))\n",
    "\n",
    "# Estimate via WSF\n",
    "rad2deg.(wsf(pa, Rxx, reshape(Θest, 1, d), fc))"
   ]
  }
 ],
 "metadata": {
  "kernelspec": {
   "display_name": "Julia 1.11.6",
   "language": "julia",
   "name": "julia-1.11"
  },
  "language_info": {
   "file_extension": ".jl",
   "mimetype": "application/julia",
   "name": "julia",
   "version": "1.11.6"
  }
 },
 "nbformat": 4,
 "nbformat_minor": 5
}
