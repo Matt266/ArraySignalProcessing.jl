{
 "cells": [
  {
   "cell_type": "code",
   "execution_count": 10,
   "id": "7cb91c08",
   "metadata": {},
   "outputs": [
    {
     "name": "stdout",
     "output_type": "stream",
     "text": [
      "[29.904531344591064, 49.80409078120316]\n",
      "[29.914654082922507, 49.81288867958166]\n",
      "[-29.904531344591064, -49.80409078120316]\n",
      "[[29.904531344591064, 49.80409078120316], [-29.904531344591064, -49.80409078120316]]\n"
     ]
    }
   ],
   "source": [
    "using ArraySignalProcessing\n",
    "using LinearAlgebra\n",
    "using StatsBase\n",
    "\n",
    "fc = 150e6\n",
    "\n",
    "# Spacing:  1m is λ/2 for 150MHz \n",
    "#        subarray 1:  x    x   x   -\n",
    "#        subarray 2:  -    x   x   x\n",
    "pa = IsotropicArray([-1.5 -0.5 0.5 1.5])\n",
    "\n",
    "Δ = [1, 0, 0]\n",
    "\n",
    "# selection matrix for subarray choice\n",
    "J1 = Matrix(I, 3, 4)\n",
    "\n",
    "# test signal generation\n",
    "Rss = I(2)\n",
    "Θ = deg2rad.([30, 50])\n",
    "d = length(Θ)\n",
    "N = 6000\n",
    "SNR = 10\n",
    "X = unconditional_signals(pa, Rss, N, SNR, Θ, fc)\n",
    "\n",
    "println(rad2deg.(unitary_esprit(X, J1, Δ, d, fc)))\n",
    "println(rad2deg.(unitary_esprit(X, J1, Δ, d, fc; TLS=false)))\n",
    "println(rad2deg.(unitary_esprit(X, J1, Δ, d, fc; side=:right)))\n",
    "println([rad2deg.(est) for est in unitary_esprit(X, J1, Δ, d, fc; side=:both)])"
   ]
  },
  {
   "cell_type": "code",
   "execution_count": 11,
   "id": "b2d7f41b",
   "metadata": {},
   "outputs": [
    {
     "name": "stdout",
     "output_type": "stream",
     "text": [
      "[129.86674411092886, 149.93162591280228]\n",
      "[50.133255889071144, 30.068374087197753]\n",
      "[[129.86674411092886, 149.93162591280228], [50.133255889071144, 30.068374087197753]]\n"
     ]
    }
   ],
   "source": [
    "using ArraySignalProcessing\n",
    "using LinearAlgebra\n",
    "using StatsBase\n",
    "\n",
    "fc = 150e6\n",
    "\n",
    "# Spacing:  1m is λ/2 for 150MHz \n",
    "#        subarray 1:  x    x   x   -\n",
    "#        subarray 2:  -    x   x   x\n",
    "pa = IsotropicArray([0.0 0.0 0.0 0.0\n",
    "                    -1.5 -0.5 0.5 1.5])\n",
    "\n",
    "Δ = [0, 1, 0]\n",
    "\n",
    "# selection matrix for subarray choice\n",
    "J1 = Matrix(I, 3, 4)\n",
    "\n",
    "# test signal generation\n",
    "Rss = I(2)\n",
    "Θ = deg2rad.([30, 50])\n",
    "d = length(Θ)\n",
    "N = 6000\n",
    "SNR = 10\n",
    "X = unconditional_signals(pa, Rss, N, SNR, Θ, fc)\n",
    "\n",
    "println(rad2deg.(unitary_esprit(X, J1, Δ, d, fc)))\n",
    "println(rad2deg.(unitary_esprit(X, J1, Δ, d, fc; side=:right)))\n",
    "println([rad2deg.(est) for est in unitary_esprit(X, J1, Δ, d, fc; side=:both)])"
   ]
  },
  {
   "cell_type": "code",
   "execution_count": 15,
   "id": "95a1f161",
   "metadata": {},
   "outputs": [
    {
     "name": "stdout",
     "output_type": "stream",
     "text": [
      "[50.069473455747854, 29.887560866730738]\n"
     ]
    }
   ],
   "source": [
    "using CUDA\n",
    "using ArraySignalProcessing\n",
    "using LinearAlgebra\n",
    "using StatsBase\n",
    "\n",
    "fc = 150e6\n",
    "\n",
    "# Spacing:  1m is λ/2 for 150MHz \n",
    "#        subarray 1:  x    x   x   -\n",
    "#        subarray 2:  -    x   x   x\n",
    "pa = IsotropicArray([0.0 0.0 0.0 0.0\n",
    "                    -1.5 -0.5 0.5 1.5])\n",
    "\n",
    "Δ = [0, 1, 0]\n",
    "\n",
    "# selection matrix for subarray choice\n",
    "J1 = Matrix(I, 3, 4)\n",
    "\n",
    "# test signal generation\n",
    "Rss = I(2)\n",
    "Θ = deg2rad.([30, 50])\n",
    "d = length(Θ)\n",
    "N = 6000\n",
    "SNR = 10\n",
    "X = unconditional_signals(pa, Rss, N, SNR, Θ, fc)\n",
    "\n",
    "println(rad2deg.(unitary_esprit(cu(X), J1, Δ, d, fc; side=:right)))"
   ]
  }
 ],
 "metadata": {
  "kernelspec": {
   "display_name": "Julia 1.11.6",
   "language": "julia",
   "name": "julia-1.11"
  },
  "language_info": {
   "file_extension": ".jl",
   "mimetype": "application/julia",
   "name": "julia",
   "version": "1.11.6"
  }
 },
 "nbformat": 4,
 "nbformat_minor": 5
}
