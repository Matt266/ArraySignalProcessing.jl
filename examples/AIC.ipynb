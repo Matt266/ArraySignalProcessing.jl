{
 "cells": [
  {
   "cell_type": "code",
   "execution_count": 14,
   "id": "7cb91c08",
   "metadata": {},
   "outputs": [
    {
     "data": {
      "text/plain": [
       "2"
      ]
     },
     "metadata": {},
     "output_type": "display_data"
    }
   ],
   "source": [
    "using ArraySignalProcessing\n",
    "using LinearAlgebra\n",
    "\n",
    "fc = 150e6\n",
    "\n",
    "# Spacing:  1m is λ/2 for 150MHz \n",
    "# Oriented along yaxis to match Matlab behavior\n",
    "pa = IsotropicArray([0 0 0 0;\n",
    "                    -1.5 -0.5 0.5 1.5])\n",
    "\n",
    "# test signal generation\n",
    "Rss = I(2)\n",
    "Θ = deg2rad.([10, 80])\n",
    "d = length(Θ)\n",
    "N = 2000\n",
    "SNR = 5\n",
    "X = unconditional_signals(pa, Rss, N, SNR, Θ, fc)\n",
    "Rxx = X*X'/N\n",
    "\n",
    "# return AIC estimate of number of sources\n",
    "d_est = aic(Rxx, N)"
   ]
  },
  {
   "cell_type": "code",
   "execution_count": 15,
   "id": "b9c42b87",
   "metadata": {},
   "outputs": [
    {
     "data": {
      "text/plain": [
       "2"
      ]
     },
     "metadata": {},
     "output_type": "display_data"
    }
   ],
   "source": [
    "using CUDA\n",
    "d_est = aic(cu(Rxx), N)"
   ]
  }
 ],
 "metadata": {
  "kernelspec": {
   "display_name": "Julia 1.11.6",
   "language": "julia",
   "name": "julia-1.11"
  },
  "language_info": {
   "file_extension": ".jl",
   "mimetype": "application/julia",
   "name": "julia",
   "version": "1.11.6"
  }
 },
 "nbformat": 4,
 "nbformat_minor": 5
}
