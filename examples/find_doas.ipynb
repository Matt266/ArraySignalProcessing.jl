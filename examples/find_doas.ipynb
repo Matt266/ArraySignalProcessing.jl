{
 "cells": [
  {
   "cell_type": "code",
   "execution_count": 4,
   "id": "355bcce4",
   "metadata": {},
   "outputs": [
    {
     "data": {
      "text/plain": [
       "\"DoAs After Grid Search:\""
      ]
     },
     "metadata": {},
     "output_type": "display_data"
    },
    {
     "data": {
      "text/plain": [
       "2-element Vector{Int64}:\n",
       "  9\n",
       " 81"
      ]
     },
     "metadata": {},
     "output_type": "display_data"
    },
    {
     "data": {
      "text/plain": [
       "\"DoAs After Grid Search with Refinment:\""
      ]
     },
     "metadata": {},
     "output_type": "display_data"
    },
    {
     "data": {
      "text/plain": [
       "2-element Vector{Float64}:\n",
       "  9.238800247421358\n",
       " 80.66515754747527"
      ]
     },
     "metadata": {},
     "output_type": "display_data"
    }
   ],
   "source": [
    "using ArraySignalProcessing\n",
    "using LinearAlgebra\n",
    "using StatsBase\n",
    "\n",
    "# first we set up a test case\n",
    "# with uncorrelated signals in noise\n",
    "# arriving at an array\n",
    "\n",
    "fc = 3.75e9\n",
    "# Spacing:  4cm is λ/2 for 3.75GHz \n",
    "#        subarray 1:  x    x    x   -\n",
    "#        subarray 2:  -    x    x   x\n",
    "pa = IsotropicArray(Vector(-1.5:1.5)*4e-2)\n",
    "Δ = [4e-2, 0, 0]\n",
    "M = length(pa)\n",
    "θaxis = Vector(0:1:180)\n",
    "\n",
    "# test signal generation\n",
    "Rss = I(2)\n",
    "Θ = deg2rad.([10, 80.5])\n",
    "d = length(Θ)\n",
    "N = 1000\n",
    "SNR = 10\n",
    "X = unconditional_signals(pa, Rss, N, SNR, Θ, fc)\n",
    "Rxx = X*X'/N\n",
    "\n",
    "# note that less DoAs then specified might be returned if not all sources can be resolved\n",
    "P = music(pa, Rxx, d, deg2rad.(θaxis), fc)\n",
    "display(\"DoAs After Grid Search:\")\n",
    "display(find_doas(θaxis, P, d))\n",
    "\n",
    "# define a power_func with the estimator we want to sweep with\n",
    "pfunc(angles) = music(pa, Rxx, d, angles, fc)\n",
    "display(\"DoAs After Grid Search with Refinment:\")\n",
    "display(rad2deg.(find_doas(deg2rad.(θaxis), pfunc, d)))"
   ]
  }
 ],
 "metadata": {
  "kernelspec": {
   "display_name": "Julia 1.11.6",
   "language": "julia",
   "name": "julia-1.11"
  },
  "language_info": {
   "file_extension": ".jl",
   "mimetype": "application/julia",
   "name": "julia",
   "version": "1.11.6"
  }
 },
 "nbformat": 4,
 "nbformat_minor": 5
}
