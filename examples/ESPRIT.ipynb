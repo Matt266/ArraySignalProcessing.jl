{
 "cells": [
  {
   "cell_type": "code",
   "execution_count": 1,
   "id": "7cb91c08",
   "metadata": {},
   "outputs": [
    {
     "name": "stdout",
     "output_type": "stream",
     "text": [
      "[30.241290800328457, 11.197791033108846]\n",
      "[30.244488891282934, 11.187432772211212]\n",
      "[-30.241290800328457, -11.197791033108846]\n",
      "[[30.241290800328457, 11.197791033108846], [-30.241290800328457, -11.197791033108846]]\n"
     ]
    }
   ],
   "source": [
    "using ArraySignalProcessing\n",
    "using LinearAlgebra\n",
    "using StatsBase\n",
    "\n",
    "fc = 150e6\n",
    "\n",
    "# Spacing:  1m is λ/2 for 150MHz \n",
    "#        subarray 1:  x    x   x   -\n",
    "#        subarray 2:  -    x   x   x\n",
    "pa = IsotropicArray([-1.5 -0.5 0.5 1.5])\n",
    "Δ = [1, 0, 0]\n",
    "\n",
    "# test signal generation\n",
    "Rss = I(2)\n",
    "Θ = deg2rad.([10, 30])\n",
    "d = length(Θ)\n",
    "N = 2000\n",
    "SNR = 20\n",
    "X = unconditional_signals(pa, Rss, N, SNR, Θ, fc)\n",
    "Rxx = X*X'/N\n",
    "Z = [X[1:3,:]; X[2:4,:]]\n",
    "Rzz = Z*Z'/N\n",
    "\n",
    "println(rad2deg.(esprit(Rzz, Δ, d, fc)))\n",
    "println(rad2deg.(esprit(Rzz, Δ, d, fc; TLS=false)))\n",
    "println(rad2deg.(esprit(Rzz, Δ, d, fc; side=:right)))\n",
    "println([rad2deg.(est) for est in esprit(Rzz, Δ, d, fc; side=:both)])"
   ]
  },
  {
   "cell_type": "code",
   "execution_count": 2,
   "id": "d091e950",
   "metadata": {},
   "outputs": [
    {
     "name": "stdout",
     "output_type": "stream",
     "text": [
      "[149.91813073340407, 170.01255033196972]\n",
      "[30.081869266595923, 9.9874496680303]\n",
      "[[149.91813073340407, 170.01255033196972], [30.081869266595923, 9.9874496680303]]\n"
     ]
    }
   ],
   "source": [
    "using ArraySignalProcessing\n",
    "using LinearAlgebra\n",
    "using StatsBase\n",
    "\n",
    "fc = 150e6\n",
    "\n",
    "# Spacing:  1m is λ/2 for 150MHz \n",
    "#        subarray 1:  x    x   x   -\n",
    "#        subarray 2:  -    x   x   x\n",
    "pa = IsotropicArray([0.0 0.0 0.0 0.0\n",
    "                    -1.5 -0.5 0.5 1.5])\n",
    "Δ = [0, 1, 0]\n",
    "\n",
    "# test signal generation\n",
    "Rss = I(2)\n",
    "Θ = deg2rad.([10, 30])\n",
    "d = length(Θ)\n",
    "N = 2000\n",
    "SNR = 20\n",
    "X = unconditional_signals(pa, Rss, N, SNR, Θ, fc)\n",
    "Rxx = X*X'/N\n",
    "Z = [X[1:3,:]; X[2:4,:]]\n",
    "Rzz = Z*Z'/N\n",
    "\n",
    "println(rad2deg.(esprit(Rzz, Δ, d, fc)))\n",
    "println(rad2deg.(esprit(Rzz, Δ, d, fc; side=:right)))\n",
    "println([rad2deg.(est) for est in esprit(Rzz, Δ, d, fc; side=:both)])"
   ]
  },
  {
   "cell_type": "code",
   "execution_count": 3,
   "id": "3a2d96e0",
   "metadata": {},
   "outputs": [
    {
     "name": "stdout",
     "output_type": "stream",
     "text": [
      "[30.081866291834782, 9.987447756008633]\n"
     ]
    }
   ],
   "source": [
    "using CUDA\n",
    "# Use SVD instead of eigen() or eigvals()/eigvecs() with CUDA\n",
    "println(rad2deg.(esprit(cu(Rzz), Δ, d, fc; side=:right, SVD=true)))"
   ]
  }
 ],
 "metadata": {
  "kernelspec": {
   "display_name": "Julia 1.11.6",
   "language": "julia",
   "name": "julia-1.11"
  },
  "language_info": {
   "file_extension": ".jl",
   "mimetype": "application/julia",
   "name": "julia",
   "version": "1.11.6"
  }
 },
 "nbformat": 4,
 "nbformat_minor": 5
}
