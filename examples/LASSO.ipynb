{
 "cells": [
  {
   "cell_type": "code",
   "execution_count": null,
   "id": "7cb91c08",
   "metadata": {},
   "outputs": [],
   "source": [
    "using ArraySignalProcessing\n",
    "using LinearAlgebra\n",
    "\n",
    "fc = 150e6\n",
    "\n",
    "# Spacing:  1m is λ/2 for 150MHz \n",
    "# Oriented along yaxis to match Matlab behavior\n",
    "pa = IsotropicArray([0 0 0 0;\n",
    "                    -1.5 -0.5 0.5 1.5])\n",
    "\n",
    "# test signal generation\n",
    "Rss = I(2)\n",
    "Θ = deg2rad.([10, 65])\n",
    "d = length(Θ)\n",
    "N = 1000\n",
    "SNR = 5\n",
    "Y = unconditional_signals(pa, Rss, N, SNR, Θ, fc)\n",
    "\n",
    "θgrid = Vector(-90:90)\n",
    "A = steer(pa, deg2rad.(θgrid), fc)\n",
    "λ = λ_stable(length(pa), N, SNR)\n",
    "@time spectrum = lasso(Y, A, λ)\n",
    "Θest = find_doas(θgrid, spectrum, d)\n",
    "println(Θest)\n",
    "\n",
    "using Plots\n",
    "import Measures\n",
    "p1 = plot(θgrid, 10*log10.(abs.(spectrum)),marker=:dot, label=\"spectrum\")\n",
    "plot!(title=\"LASSO Spectrum\", margin=5*Measures.mm)\n",
    "xlabel!(\"Azimuth in degree\")\n",
    "ylabel!(\"Power in dB\")"
   ]
  },
  {
   "cell_type": "code",
   "execution_count": 5,
   "id": "68c69e49",
   "metadata": {},
   "outputs": [
    {
     "data": {
      "application/vnd.vegalite.v4+json": {
       "data": {
        "values": [
         {
          "level": 0,
          "sf": "ip:0x0",
          "status": "Default",
          "x1": 1,
          "x2": 18003.9
         },
         {
          "level": 1,
          "sf": "_start() at client.jl:531",
          "status": "Default",
          "x1": 4888,
          "x2": 17990.9
         },
         {
          "level": 2,
          "sf": "exec_options(opts::Base.JLOptions) at client.jl:323",
          "status": "Default",
          "x1": 4888,
          "x2": 17990.9
         },
         {
          "level": 3,
          "sf": "include(mod::Module, _path::String) at Base.jl:562",
          "status": "Default",
          "x1": 4888,
          "x2": 17990.9
         },
         {
          "level": 4,
          "sf": "_include(mapexpr::Function, mod::Module, _path::String) at loading.jl:2794",
          "status": "Default",
          "x1": 4888,
          "x2": 17990.9
         },
         {
          "level": 5,
          "sf": "include_string(mapexpr::typeof(identity), mod::Module, code::String, filename::String) at loading.jl:2734",
          "status": "Default",
          "x1": 4888,
          "x2": 17990.9
         },
         {
          "level": 6,
          "sf": "eval at boot.jl:430 [inlined]",
          "status": "Default",
          "x1": 4888,
          "x2": 17990.9
         },
         {
          "level": 7,
          "sf": "top-level scope at notebook.jl:35",
          "status": "Default",
          "x1": 4888,
          "x2": 17990.9
         },
         {
          "level": 8,
          "sf": "kwcall(::@NamedTuple{error_handler::var\"#5#10\"{String}}, ::typeof(VSCodeServer.serve_notebook), pipename::String, debugger_pipename::String, outputchannel_logger::Base.CoreLogging.SimpleLogger) at serve_notebook.jl:81",
          "status": "Default",
          "x1": 4888,
          "x2": 17990.9
         },
         {
          "level": 9,
          "sf": "serve_notebook(pipename::String, debugger_pipename::String, outputchannel_logger::Base.CoreLogging.SimpleLogger; error_handler::var\"#5#10\"{String}) at serve_notebook.jl:147",
          "status": "Default",
          "x1": 4888,
          "x2": 17990.9
         },
         {
          "level": 10,
          "sf": "dispatch_msg(x::VSCodeServer.JSONRPC.JSONRPCEndpoint{Base.PipeEndpoint, Base.PipeEndpoint, VSCodeServer.JSON.Serializations.StandardSerialization}, dispatcher::VSCodeServer.JSONRPC.MsgDispatcher, msg::VSCodeServer.JSONRPC.Request) at typed.jl:68",
          "status": "Default",
          "x1": 4888,
          "x2": 17990.9
         },
         {
          "level": 11,
          "sf": "notebook_runcell_request(conn::VSCodeServer.JSONRPC.JSONRPCEndpoint{Base.PipeEndpoint, Base.PipeEndpoint, VSCodeServer.JSON.Serializations.StandardSerialization}, params::VSCodeServer.NotebookRunCellArguments, token::VSCodeServer.CancellationTokens.CancellationToken) at serve_notebook.jl:13",
          "status": "Default",
          "x1": 4888,
          "x2": 17990.9
         },
         {
          "level": 12,
          "sf": "withpath(f::VSCodeServer.var\"#217#218\"{VSCodeServer.NotebookRunCellArguments, String}, path::String) at repl.jl:276",
          "status": "Default",
          "x1": 4888,
          "x2": 17990.9
         },
         {
          "level": 13,
          "sf": "(::VSCodeServer.var\"#217#218\"{VSCodeServer.NotebookRunCellArguments, String})() at serve_notebook.jl:24",
          "status": "Default",
          "x1": 4888,
          "x2": 17990.9
         },
         {
          "level": 14,
          "sf": "invokelatest at essentials.jl:1052 [inlined]",
          "status": "Default",
          "x1": 4888,
          "x2": 17990.9
         },
         {
          "level": 15,
          "sf": "#invokelatest#2 at essentials.jl:1055 [inlined]",
          "status": "Default",
          "x1": 4888,
          "x2": 17990.9
         },
         {
          "level": 16,
          "sf": "include_string(mapexpr::typeof(REPL.softscope), mod::Module, code::String, filename::String) at loading.jl:2734",
          "status": "Default",
          "x1": 4888,
          "x2": 17990.9
         },
         {
          "level": 17,
          "sf": "eval at boot.jl:430 [inlined]",
          "status": "Default",
          "x1": 4888,
          "x2": 17990.9
         },
         {
          "level": 18,
          "sf": "lasso(Y::Matrix{ComplexF64}, A::Matrix{ComplexF64}, λ::Float64) at lasso.jl:73",
          "status": "Default",
          "x1": 4888,
          "x2": 17990.9
         },
         {
          "level": 19,
          "sf": "lasso(Y::Matrix{ComplexF64}, A::Matrix{ComplexF64}, λ::Float64; kwargs::Base.Pairs{Symbol, Union{}, Tuple{}, @NamedTuple{}}) at lasso.jl:80",
          "status": "Default",
          "x1": 4888,
          "x2": 17990.9
         },
         {
          "level": 20,
          "sf": "IterativeAlgorithm at ProximalAlgorithms.jl:114 [inlined]",
          "status": "Default",
          "x1": 4888,
          "x2": 17990.9
         },
         {
          "level": 21,
          "sf": "(::ProximalAlgorithms.IterativeAlgorithm{ProximalAlgorithms.FastForwardBackwardIteration, ProximalAlgorithms.var\"#29#31\"{Float64}, typeof(ProximalAlgorithms.default_solution), typeof(ProximalAlgorithms.default_display), Base.Pairs{Symbol, Union{}, Tuple{}, @NamedTuple{}}})(; kwargs::Base.Pairs{Symbol, Any, Tuple{Symbol, Symbol, Symbol}, @NamedTuple{x0::Matrix{ComplexF64}, f::ArraySignalProcessing.MyLeastSquares{ComplexF64, Matrix{ComplexF64}, Matrix{ComplexF64}}, g::ArraySignalProcessing.MyNormL21{Float64, Int64}}}) at ProximalAlgorithms.jl:116",
          "status": "Default",
          "x1": 4888,
          "x2": 4890.9
         },
         {
          "level": 22,
          "sf": "iterate at iterators.jl:205 [inlined]",
          "status": "Default",
          "x1": 4888,
          "x2": 4890.9
         },
         {
          "level": 23,
          "sf": "iterate at iterators.jl:206 [inlined]",
          "status": "Default",
          "x1": 4888,
          "x2": 4890.9
         },
         {
          "level": 24,
          "sf": "iterate(iter::ProximalAlgorithms.FastForwardBackwardIteration{Float64, Matrix{ComplexF64}, ArraySignalProcessing.MyLeastSquares{ComplexF64, Matrix{ComplexF64}, Matrix{ComplexF64}}, ArraySignalProcessing.MyNormL21{Float64, Int64}, Nothing, Nothing, Nothing}) at fast_forward_backward.jl:79",
          "status": "Default",
          "x1": 4888,
          "x2": 4889.9
         },
         {
          "level": 25,
          "sf": "materialize at broadcast.jl:872 [inlined]",
          "status": "Default",
          "x1": 4888,
          "x2": 4889.9
         },
         {
          "level": 26,
          "sf": "copy at broadcast.jl:897 [inlined]",
          "status": "Default",
          "x1": 4888,
          "x2": 4889.9
         },
         {
          "level": 27,
          "sf": "copyto! at broadcast.jl:925 [inlined]",
          "status": "Default",
          "x1": 4888,
          "x2": 4888.9
         },
         {
          "level": 28,
          "sf": "copyto! at broadcast.jl:972 [inlined]",
          "status": "Default",
          "x1": 4888,
          "x2": 4888.9
         },
         {
          "level": 29,
          "sf": "macro expansion at simdloop.jl:77 [inlined]",
          "status": "Default",
          "x1": 4888,
          "x2": 4888.9
         },
         {
          "level": 30,
          "sf": "macro expansion at broadcast.jl:973 [inlined]",
          "status": "Default",
          "x1": 4888,
          "x2": 4888.9
         },
         {
          "level": 31,
          "sf": "setindex! at multidimensional.jl:704 [inlined]",
          "status": "Default",
          "x1": 4888,
          "x2": 4888.9
         },
         {
          "level": 32,
          "sf": "setindex! at array.jl:994 [inlined]",
          "status": "Default",
          "x1": 4888,
          "x2": 4888.9
         },
         {
          "level": 27,
          "sf": "similar at broadcast.jl:223 [inlined]",
          "status": "Default",
          "x1": 4889,
          "x2": 4889.9
         },
         {
          "level": 28,
          "sf": "similar at broadcast.jl:224 [inlined]",
          "status": "Default",
          "x1": 4889,
          "x2": 4889.9
         },
         {
          "level": 29,
          "sf": "similar at abstractarray.jl:867 [inlined]",
          "status": "Default",
          "x1": 4889,
          "x2": 4889.9
         },
         {
          "level": 30,
          "sf": "similar at abstractarray.jl:868 [inlined]",
          "status": "Default",
          "x1": 4889,
          "x2": 4889.9
         },
         {
          "level": 31,
          "sf": "Array at boot.jl:599 [inlined]",
          "status": "Default",
          "x1": 4889,
          "x2": 4889.9
         },
         {
          "level": 32,
          "sf": "Array at boot.jl:592 [inlined]",
          "status": "Default",
          "x1": 4889,
          "x2": 4889.9
         },
         {
          "level": 33,
          "sf": "Array at boot.jl:582 [inlined]",
          "status": "Default",
          "x1": 4889,
          "x2": 4889.9
         },
         {
          "level": 34,
          "sf": "new_as_memoryref at boot.jl:535 [inlined]",
          "status": "Default",
          "x1": 4889,
          "x2": 4889.9
         },
         {
          "level": 35,
          "sf": "GenericMemory at boot.jl:516 [inlined]",
          "status": "Garbage collection",
          "x1": 4889,
          "x2": 4889.9
         },
         {
          "level": 24,
          "sf": "iterate(iter::ProximalAlgorithms.FastForwardBackwardIteration{Float64, Matrix{ComplexF64}, ArraySignalProcessing.MyLeastSquares{ComplexF64, Matrix{ComplexF64}, Matrix{ComplexF64}}, ArraySignalProcessing.MyNormL21{Float64, Int64}, Nothing, Nothing, Nothing}) at fast_forward_backward.jl:81",
          "status": "Default",
          "x1": 4890,
          "x2": 4890.9
         },
         {
          "level": 25,
          "sf": "-(A::Matrix{ComplexF64}, B::Matrix{ComplexF64}) at arraymath.jl:8",
          "status": "Default",
          "x1": 4890,
          "x2": 4890.9
         },
         {
          "level": 26,
          "sf": "broadcast_preserving_zero_d at broadcast.jl:861 [inlined]",
          "status": "Default",
          "x1": 4890,
          "x2": 4890.9
         },
         {
          "level": 27,
          "sf": "materialize at broadcast.jl:872 [inlined]",
          "status": "Default",
          "x1": 4890,
          "x2": 4890.9
         },
         {
          "level": 28,
          "sf": "copy at broadcast.jl:897 [inlined]",
          "status": "Default",
          "x1": 4890,
          "x2": 4890.9
         },
         {
          "level": 29,
          "sf": "copyto! at broadcast.jl:925 [inlined]",
          "status": "Default",
          "x1": 4890,
          "x2": 4890.9
         },
         {
          "level": 30,
          "sf": "copyto! at broadcast.jl:972 [inlined]",
          "status": "Default",
          "x1": 4890,
          "x2": 4890.9
         },
         {
          "level": 31,
          "sf": "macro expansion at simdloop.jl:77 [inlined]",
          "status": "Default",
          "x1": 4890,
          "x2": 4890.9
         },
         {
          "level": 32,
          "sf": "macro expansion at broadcast.jl:973 [inlined]",
          "status": "Default",
          "x1": 4890,
          "x2": 4890.9
         },
         {
          "level": 33,
          "sf": "setindex! at multidimensional.jl:704 [inlined]",
          "status": "Default",
          "x1": 4890,
          "x2": 4890.9
         },
         {
          "level": 34,
          "sf": "setindex! at array.jl:994 [inlined]",
          "status": "Default",
          "x1": 4890,
          "x2": 4890.9
         },
         {
          "level": 21,
          "sf": "(::ProximalAlgorithms.IterativeAlgorithm{ProximalAlgorithms.FastForwardBackwardIteration, ProximalAlgorithms.var\"#29#31\"{Float64}, typeof(ProximalAlgorithms.default_solution), typeof(ProximalAlgorithms.default_display), Base.Pairs{Symbol, Union{}, Tuple{}, @NamedTuple{}}})(; kwargs::Base.Pairs{Symbol, Any, Tuple{Symbol, Symbol, Symbol}, @NamedTuple{x0::Matrix{ComplexF64}, f::ArraySignalProcessing.MyLeastSquares{ComplexF64, Matrix{ComplexF64}, Matrix{ComplexF64}}, g::ArraySignalProcessing.MyNormL21{Float64, Int64}}}) at ProximalAlgorithms.jl:117",
          "status": "Default",
          "x1": 4891,
          "x2": 6863.9
         },
         {
          "level": 22,
          "sf": "#29 at fast_forward_backward.jl:189 [inlined]",
          "status": "Default",
          "x1": 4891,
          "x2": 6863.9
         },
         {
          "level": 23,
          "sf": "default_stopping_criterion at fast_forward_backward.jl:147 [inlined]",
          "status": "Default",
          "x1": 4891,
          "x2": 6863.9
         },
         {
          "level": 24,
          "sf": "getproperty at Base.jl:49 [inlined]",
          "status": "Default",
          "x1": 4891,
          "x2": 4891.9
         },
         {
          "level": 24,
          "sf": "/ at float.jl:494 [inlined]",
          "status": "Default",
          "x1": 4892,
          "x2": 4893.9
         },
         {
          "level": 24,
          "sf": "norm(itr::Matrix{ComplexF64}, p::Float64) at generic.jl:608",
          "status": "Default",
          "x1": 4894,
          "x2": 6863.9
         },
         {
          "level": 25,
          "sf": "normInf at generic.jl:533 [inlined]",
          "status": "Default",
          "x1": 4894,
          "x2": 6863.9
         },
         {
          "level": 26,
          "sf": "generic_normInf at generic.jl:459 [inlined]",
          "status": "Default",
          "x1": 4894,
          "x2": 6863.9
         },
         {
          "level": 27,
          "sf": "mapreduce at reducedim.jl:329 [inlined]",
          "status": "Default",
          "x1": 4894,
          "x2": 6863.9
         },
         {
          "level": 28,
          "sf": "#mapreduce#928 at reducedim.jl:329 [inlined]",
          "status": "Default",
          "x1": 4894,
          "x2": 6863.9
         },
         {
          "level": 29,
          "sf": "_mapreduce_dim at reducedim.jl:337 [inlined]",
          "status": "Default",
          "x1": 4894,
          "x2": 6863.9
         },
         {
          "level": 30,
          "sf": "_mapreduce(f::typeof(norm), op::typeof(max), ::IndexLinear, A::Matrix{ComplexF64}) at reduce.jl:0",
          "status": "Default",
          "x1": 4894,
          "x2": 4894.9
         },
         {
          "level": 30,
          "sf": "_mapreduce(f::typeof(norm), op::typeof(max), ::IndexLinear, A::Matrix{ComplexF64}) at reduce.jl:425",
          "status": "Default",
          "x1": 4895,
          "x2": 4895.9
         },
         {
          "level": 30,
          "sf": "_mapreduce(f::typeof(norm), op::typeof(max), ::IndexLinear, A::Matrix{ComplexF64}) at reduce.jl:444",
          "status": "Default",
          "x1": 4896,
          "x2": 6863.9
         },
         {
          "level": 31,
          "sf": "mapreduce_impl(f::typeof(norm), op::typeof(max), A::Matrix{ComplexF64}, first::Int64, last::Int64) at reduce.jl:649",
          "status": "Default",
          "x1": 4896,
          "x2": 4896.9
         },
         {
          "level": 32,
          "sf": "Colon at range.jl:22 [inlined]",
          "status": "Default",
          "x1": 4896,
          "x2": 4896.9
         },
         {
          "level": 33,
          "sf": "_colon at range.jl:24 [inlined]",
          "status": "Default",
          "x1": 4896,
          "x2": 4896.9
         },
         {
          "level": 34,
          "sf": "StepRange at range.jl:384 [inlined]",
          "status": "Default",
          "x1": 4896,
          "x2": 4896.9
         },
         {
          "level": 35,
          "sf": "StepRange at range.jl:329 [inlined]",
          "status": "Default",
          "x1": 4896,
          "x2": 4896.9
         },
         {
          "level": 36,
          "sf": "steprange_last at range.jl:347 [inlined]",
          "status": "Default",
          "x1": 4896,
          "x2": 4896.9
         },
         {
          "level": 37,
          "sf": "> at operators.jl:379 [inlined]",
          "status": "Default",
          "x1": 4896,
          "x2": 4896.9
         },
         {
          "level": 38,
          "sf": "< at int.jl:83 [inlined]",
          "status": "Default",
          "x1": 4896,
          "x2": 4896.9
         },
         {
          "level": 31,
          "sf": "mapreduce_impl(f::typeof(norm), op::typeof(max), A::Matrix{ComplexF64}, first::Int64, last::Int64) at reduce.jl:650",
          "status": "Default",
          "x1": 4897,
          "x2": 5396.9
         },
         {
          "level": 32,
          "sf": "getindex at essentials.jl:917 [inlined]",
          "status": "Default",
          "x1": 4897,
          "x2": 4914.9
         },
         {
          "level": 32,
          "sf": "_fast at reduce.jl:623 [inlined]",
          "status": "Default",
          "x1": 4915,
          "x2": 4987.9
         },
         {
          "level": 33,
          "sf": "ifelse at essentials.jl:796 [inlined]",
          "status": "Default",
          "x1": 4915,
          "x2": 4987.9
         },
         {
          "level": 32,
          "sf": "norm at generic.jl:645 [inlined]",
          "status": "Default",
          "x1": 4988,
          "x2": 5396.9
         },
         {
          "level": 33,
          "sf": "norm at generic.jl:645 [inlined]",
          "status": "Default",
          "x1": 4988,
          "x2": 5396.9
         },
         {
          "level": 34,
          "sf": "abs at complex.jl:286 [inlined]",
          "status": "Default",
          "x1": 4988,
          "x2": 5396.9
         },
         {
          "level": 35,
          "sf": "hypot at math.jl:706 [inlined]",
          "status": "Default",
          "x1": 4988,
          "x2": 5396.9
         },
         {
          "level": 36,
          "sf": "_hypot(x::Float64, y::Float64) at float.jl:0",
          "status": "Default",
          "x1": 4988,
          "x2": 5031.9
         },
         {
          "level": 36,
          "sf": "_hypot(x::Float64, y::Float64) at math.jl:0",
          "status": "Default",
          "x1": 5032,
          "x2": 5036.9
         },
         {
          "level": 36,
          "sf": "_hypot(x::Float64, y::Float64) at math.jl:708",
          "status": "Default",
          "x1": 5037,
          "x2": 5076.9
         },
         {
          "level": 36,
          "sf": "_hypot(x::Float64, y::Float64) at math.jl:710",
          "status": "Default",
          "x1": 5077,
          "x2": 5078.9
         },
         {
          "level": 37,
          "sf": "abs at float.jl:692 [inlined]",
          "status": "Default",
          "x1": 5077,
          "x2": 5078.9
         },
         {
          "level": 36,
          "sf": "_hypot(x::Float64, y::Float64) at math.jl:711",
          "status": "Default",
          "x1": 5079,
          "x2": 5116.9
         },
         {
          "level": 37,
          "sf": "abs at float.jl:692 [inlined]",
          "status": "Default",
          "x1": 5079,
          "x2": 5116.9
         },
         {
          "level": 36,
          "sf": "_hypot(x::Float64, y::Float64) at math.jl:718",
          "status": "Default",
          "x1": 5117,
          "x2": 5120.9
         },
         {
          "level": 36,
          "sf": "_hypot(x::Float64, y::Float64) at math.jl:723",
          "status": "Default",
          "x1": 5121,
          "x2": 5305.9
         },
         {
          "level": 36,
          "sf": "_hypot(x::Float64, y::Float64) at math.jl:729",
          "status": "Default",
          "x1": 5306,
          "x2": 5330.9
         },
         {
          "level": 37,
          "sf": "* at float.jl:493 [inlined]",
          "status": "Default",
          "x1": 5306,
          "x2": 5307.9
         },
         {
          "level": 37,
          "sf": "<= at float.jl:619 [inlined]",
          "status": "Default",
          "x1": 5308,
          "x2": 5324.9
         },
         {
          "level": 36,
          "sf": "_hypot(x::Float64, y::Float64) at math.jl:735",
          "status": "Default",
          "x1": 5331,
          "x2": 5339.9
         },
         {
          "level": 37,
          "sf": "> at operators.jl:379 [inlined]",
          "status": "Default",
          "x1": 5331,
          "x2": 5337.9
         },
         {
          "level": 38,
          "sf": "< at float.jl:618 [inlined]",
          "status": "Default",
          "x1": 5331,
          "x2": 5337.9
         },
         {
          "level": 36,
          "sf": "_hypot(x::Float64, y::Float64) at math.jl:748",
          "status": "Default",
          "x1": 5340,
          "x2": 5357.9
         },
         {
          "level": 37,
          "sf": "* at float.jl:493 [inlined]",
          "status": "Default",
          "x1": 5340,
          "x2": 5357.9
         },
         {
          "level": 36,
          "sf": "_hypot(x::Float64, y::Float64) at math.jl:750",
          "status": "Default",
          "x1": 5358,
          "x2": 5385.9
         },
         {
          "level": 37,
          "sf": "+ at float.jl:491 [inlined]",
          "status": "Default",
          "x1": 5358,
          "x2": 5359.9
         },
         {
          "level": 37,
          "sf": "- at float.jl:492 [inlined]",
          "status": "Default",
          "x1": 5360,
          "x2": 5374.9
         },
         {
          "level": 37,
          "sf": "fma at floatfuncs.jl:357 [inlined]",
          "status": "Default",
          "x1": 5375,
          "x2": 5382.9
         },
         {
          "level": 38,
          "sf": "fma_llvm at floatfuncs.jl:352 [inlined]",
          "status": "Default",
          "x1": 5375,
          "x2": 5382.9
         },
         {
          "level": 37,
          "sf": "* at promotion.jl:430 [inlined]",
          "status": "Default",
          "x1": 5383,
          "x2": 5385.9
         },
         {
          "level": 38,
          "sf": "* at float.jl:493 [inlined]",
          "status": "Default",
          "x1": 5383,
          "x2": 5385.9
         },
         {
          "level": 36,
          "sf": "_hypot(x::Float64, y::Float64) at math.jl:761",
          "status": "Default",
          "x1": 5386,
          "x2": 5387.9
         },
         {
          "level": 37,
          "sf": "* at operators.jl:596 [inlined]",
          "status": "Default",
          "x1": 5386,
          "x2": 5387.9
         },
         {
          "level": 38,
          "sf": "* at float.jl:493 [inlined]",
          "status": "Default",
          "x1": 5386,
          "x2": 5387.9
         },
         {
          "level": 31,
          "sf": "mapreduce_impl(f::typeof(norm), op::typeof(max), A::Matrix{ComplexF64}, first::Int64, last::Int64) at reduce.jl:651",
          "status": "Default",
          "x1": 5397,
          "x2": 5871.9
         },
         {
          "level": 32,
          "sf": "getindex at essentials.jl:917 [inlined]",
          "status": "Default",
          "x1": 5397,
          "x2": 5408.9
         },
         {
          "level": 32,
          "sf": "_fast at reduce.jl:623 [inlined]",
          "status": "Default",
          "x1": 5409,
          "x2": 5510.9
         },
         {
          "level": 33,
          "sf": "ifelse at essentials.jl:796 [inlined]",
          "status": "Default",
          "x1": 5409,
          "x2": 5510.9
         },
         {
          "level": 32,
          "sf": "norm at generic.jl:645 [inlined]",
          "status": "Default",
          "x1": 5511,
          "x2": 5871.9
         },
         {
          "level": 33,
          "sf": "norm at generic.jl:645 [inlined]",
          "status": "Default",
          "x1": 5511,
          "x2": 5871.9
         },
         {
          "level": 34,
          "sf": "abs at complex.jl:286 [inlined]",
          "status": "Default",
          "x1": 5511,
          "x2": 5871.9
         },
         {
          "level": 35,
          "sf": "hypot at math.jl:706 [inlined]",
          "status": "Default",
          "x1": 5511,
          "x2": 5871.9
         },
         {
          "level": 36,
          "sf": "_hypot(x::Float64, y::Float64) at float.jl:0",
          "status": "Default",
          "x1": 5511,
          "x2": 5552.9
         },
         {
          "level": 36,
          "sf": "_hypot(x::Float64, y::Float64) at math.jl:0",
          "status": "Default",
          "x1": 5553,
          "x2": 5555.9
         },
         {
          "level": 36,
          "sf": "_hypot(x::Float64, y::Float64) at math.jl:708",
          "status": "Default",
          "x1": 5556,
          "x2": 5595.9
         },
         {
          "level": 36,
          "sf": "_hypot(x::Float64, y::Float64) at math.jl:711",
          "status": "Default",
          "x1": 5596,
          "x2": 5654.9
         },
         {
          "level": 37,
          "sf": "abs at float.jl:692 [inlined]",
          "status": "Default",
          "x1": 5596,
          "x2": 5654.9
         },
         {
          "level": 36,
          "sf": "_hypot(x::Float64, y::Float64) at math.jl:718",
          "status": "Default",
          "x1": 5655,
          "x2": 5658.9
         },
         {
          "level": 36,
          "sf": "_hypot(x::Float64, y::Float64) at math.jl:723",
          "status": "Default",
          "x1": 5659,
          "x2": 5742.9
         },
         {
          "level": 36,
          "sf": "_hypot(x::Float64, y::Float64) at math.jl:729",
          "status": "Default",
          "x1": 5743,
          "x2": 5807.9
         },
         {
          "level": 37,
          "sf": "* at float.jl:493 [inlined]",
          "status": "Default",
          "x1": 5743,
          "x2": 5743.9
         },
         {
          "level": 37,
          "sf": "<= at float.jl:619 [inlined]",
          "status": "Default",
          "x1": 5744,
          "x2": 5790.9
         },
         {
          "level": 36,
          "sf": "_hypot(x::Float64, y::Float64) at math.jl:735",
          "status": "Default",
          "x1": 5808,
          "x2": 5821.9
         },
         {
          "level": 37,
          "sf": "> at operators.jl:379 [inlined]",
          "status": "Default",
          "x1": 5808,
          "x2": 5817.9
         },
         {
          "level": 38,
          "sf": "< at float.jl:618 [inlined]",
          "status": "Default",
          "x1": 5808,
          "x2": 5817.9
         },
         {
          "level": 36,
          "sf": "_hypot(x::Float64, y::Float64) at math.jl:745",
          "status": "Default",
          "x1": 5822,
          "x2": 5822.9
         },
         {
          "level": 37,
          "sf": "muladd at float.jl:496 [inlined]",
          "status": "Default",
          "x1": 5822,
          "x2": 5822.9
         },
         {
          "level": 36,
          "sf": "_hypot(x::Float64, y::Float64) at math.jl:748",
          "status": "Default",
          "x1": 5823,
          "x2": 5833.9
         },
         {
          "level": 37,
          "sf": "* at float.jl:493 [inlined]",
          "status": "Default",
          "x1": 5823,
          "x2": 5833.9
         },
         {
          "level": 36,
          "sf": "_hypot(x::Float64, y::Float64) at math.jl:750",
          "status": "Default",
          "x1": 5834,
          "x2": 5867.9
         },
         {
          "level": 37,
          "sf": "+ at float.jl:491 [inlined]",
          "status": "Default",
          "x1": 5834,
          "x2": 5834.9
         },
         {
          "level": 37,
          "sf": "- at float.jl:492 [inlined]",
          "status": "Default",
          "x1": 5835,
          "x2": 5858.9
         },
         {
          "level": 37,
          "sf": "fma at floatfuncs.jl:357 [inlined]",
          "status": "Default",
          "x1": 5859,
          "x2": 5867.9
         },
         {
          "level": 38,
          "sf": "fma_llvm at floatfuncs.jl:352 [inlined]",
          "status": "Default",
          "x1": 5859,
          "x2": 5867.9
         },
         {
          "level": 36,
          "sf": "_hypot(x::Float64, y::Float64) at math.jl:761",
          "status": "Default",
          "x1": 5868,
          "x2": 5870.9
         },
         {
          "level": 37,
          "sf": "* at operators.jl:596 [inlined]",
          "status": "Default",
          "x1": 5868,
          "x2": 5870.9
         },
         {
          "level": 38,
          "sf": "* at float.jl:493 [inlined]",
          "status": "Default",
          "x1": 5868,
          "x2": 5870.9
         },
         {
          "level": 31,
          "sf": "mapreduce_impl(f::typeof(norm), op::typeof(max), A::Matrix{ComplexF64}, first::Int64, last::Int64) at reduce.jl:652",
          "status": "Default",
          "x1": 5872,
          "x2": 6294.9
         },
         {
          "level": 32,
          "sf": "getindex at essentials.jl:917 [inlined]",
          "status": "Default",
          "x1": 5872,
          "x2": 5895.9
         },
         {
          "level": 32,
          "sf": "norm at generic.jl:645 [inlined]",
          "status": "Default",
          "x1": 5896,
          "x2": 6294.9
         },
         {
          "level": 33,
          "sf": "norm at generic.jl:645 [inlined]",
          "status": "Default",
          "x1": 5896,
          "x2": 6294.9
         },
         {
          "level": 34,
          "sf": "abs at complex.jl:286 [inlined]",
          "status": "Default",
          "x1": 5896,
          "x2": 6294.9
         },
         {
          "level": 35,
          "sf": "hypot at math.jl:706 [inlined]",
          "status": "Default",
          "x1": 5896,
          "x2": 6294.9
         },
         {
          "level": 36,
          "sf": "_hypot(x::Float64, y::Float64) at float.jl:0",
          "status": "Default",
          "x1": 5896,
          "x2": 5910.9
         },
         {
          "level": 36,
          "sf": "_hypot(x::Float64, y::Float64) at math.jl:0",
          "status": "Default",
          "x1": 5911,
          "x2": 5912.9
         },
         {
          "level": 36,
          "sf": "_hypot(x::Float64, y::Float64) at math.jl:708",
          "status": "Default",
          "x1": 5913,
          "x2": 5963.9
         },
         {
          "level": 36,
          "sf": "_hypot(x::Float64, y::Float64) at math.jl:711",
          "status": "Default",
          "x1": 5964,
          "x2": 6003.9
         },
         {
          "level": 37,
          "sf": "abs at float.jl:692 [inlined]",
          "status": "Default",
          "x1": 5964,
          "x2": 6003.9
         },
         {
          "level": 36,
          "sf": "_hypot(x::Float64, y::Float64) at math.jl:718",
          "status": "Default",
          "x1": 6004,
          "x2": 6006.9
         },
         {
          "level": 36,
          "sf": "_hypot(x::Float64, y::Float64) at math.jl:723",
          "status": "Default",
          "x1": 6007,
          "x2": 6078.9
         },
         {
          "level": 36,
          "sf": "_hypot(x::Float64, y::Float64) at math.jl:729",
          "status": "Default",
          "x1": 6079,
          "x2": 6237.9
         },
         {
          "level": 37,
          "sf": "* at float.jl:493 [inlined]",
          "status": "Default",
          "x1": 6079,
          "x2": 6080.9
         },
         {
          "level": 37,
          "sf": "<= at float.jl:619 [inlined]",
          "status": "Default",
          "x1": 6081,
          "x2": 6183.9
         },
         {
          "level": 36,
          "sf": "_hypot(x::Float64, y::Float64) at math.jl:735",
          "status": "Default",
          "x1": 6238,
          "x2": 6250.9
         },
         {
          "level": 37,
          "sf": "> at operators.jl:379 [inlined]",
          "status": "Default",
          "x1": 6238,
          "x2": 6243.9
         },
         {
          "level": 38,
          "sf": "< at float.jl:618 [inlined]",
          "status": "Default",
          "x1": 6238,
          "x2": 6243.9
         },
         {
          "level": 36,
          "sf": "_hypot(x::Float64, y::Float64) at math.jl:745",
          "status": "Default",
          "x1": 6251,
          "x2": 6251.9
         },
         {
          "level": 37,
          "sf": "sqrt at math.jl:609 [inlined]",
          "status": "Default",
          "x1": 6251,
          "x2": 6251.9
         },
         {
          "level": 36,
          "sf": "_hypot(x::Float64, y::Float64) at math.jl:748",
          "status": "Default",
          "x1": 6252,
          "x2": 6264.9
         },
         {
          "level": 37,
          "sf": "* at float.jl:493 [inlined]",
          "status": "Default",
          "x1": 6252,
          "x2": 6264.9
         },
         {
          "level": 36,
          "sf": "_hypot(x::Float64, y::Float64) at math.jl:750",
          "status": "Default",
          "x1": 6265,
          "x2": 6288.9
         },
         {
          "level": 37,
          "sf": "+ at float.jl:491 [inlined]",
          "status": "Default",
          "x1": 6265,
          "x2": 6265.9
         },
         {
          "level": 37,
          "sf": "- at float.jl:492 [inlined]",
          "status": "Default",
          "x1": 6266,
          "x2": 6280.9
         },
         {
          "level": 37,
          "sf": "fma at floatfuncs.jl:357 [inlined]",
          "status": "Default",
          "x1": 6281,
          "x2": 6286.9
         },
         {
          "level": 38,
          "sf": "fma_llvm at floatfuncs.jl:352 [inlined]",
          "status": "Default",
          "x1": 6281,
          "x2": 6286.9
         },
         {
          "level": 37,
          "sf": "* at promotion.jl:430 [inlined]",
          "status": "Default",
          "x1": 6287,
          "x2": 6288.9
         },
         {
          "level": 38,
          "sf": "* at float.jl:493 [inlined]",
          "status": "Default",
          "x1": 6287,
          "x2": 6288.9
         },
         {
          "level": 36,
          "sf": "_hypot(x::Float64, y::Float64) at math.jl:761",
          "status": "Default",
          "x1": 6289,
          "x2": 6293.9
         },
         {
          "level": 37,
          "sf": "* at operators.jl:596 [inlined]",
          "status": "Default",
          "x1": 6289,
          "x2": 6293.9
         },
         {
          "level": 38,
          "sf": "* at float.jl:493 [inlined]",
          "status": "Default",
          "x1": 6289,
          "x2": 6293.9
         },
         {
          "level": 31,
          "sf": "mapreduce_impl(f::typeof(norm), op::typeof(max), A::Matrix{ComplexF64}, first::Int64, last::Int64) at reduce.jl:653",
          "status": "Default",
          "x1": 6295,
          "x2": 6833.9
         },
         {
          "level": 32,
          "sf": "getindex at essentials.jl:917 [inlined]",
          "status": "Default",
          "x1": 6295,
          "x2": 6355.9
         },
         {
          "level": 32,
          "sf": "_fast at reduce.jl:623 [inlined]",
          "status": "Default",
          "x1": 6356,
          "x2": 6405.9
         },
         {
          "level": 33,
          "sf": "ifelse at essentials.jl:796 [inlined]",
          "status": "Default",
          "x1": 6356,
          "x2": 6405.9
         },
         {
          "level": 32,
          "sf": "norm at generic.jl:645 [inlined]",
          "status": "Default",
          "x1": 6406,
          "x2": 6833.9
         },
         {
          "level": 33,
          "sf": "norm at generic.jl:645 [inlined]",
          "status": "Default",
          "x1": 6406,
          "x2": 6833.9
         },
         {
          "level": 34,
          "sf": "abs at complex.jl:286 [inlined]",
          "status": "Default",
          "x1": 6406,
          "x2": 6833.9
         },
         {
          "level": 35,
          "sf": "hypot at math.jl:706 [inlined]",
          "status": "Default",
          "x1": 6406,
          "x2": 6833.9
         },
         {
          "level": 36,
          "sf": "_hypot(x::Float64, y::Float64) at float.jl:0",
          "status": "Default",
          "x1": 6406,
          "x2": 6455.9
         },
         {
          "level": 36,
          "sf": "_hypot(x::Float64, y::Float64) at math.jl:0",
          "status": "Default",
          "x1": 6456,
          "x2": 6459.9
         },
         {
          "level": 36,
          "sf": "_hypot(x::Float64, y::Float64) at math.jl:708",
          "status": "Default",
          "x1": 6460,
          "x2": 6509.9
         },
         {
          "level": 36,
          "sf": "_hypot(x::Float64, y::Float64) at math.jl:710",
          "status": "Default",
          "x1": 6510,
          "x2": 6510.9
         },
         {
          "level": 37,
          "sf": "abs at float.jl:692 [inlined]",
          "status": "Default",
          "x1": 6510,
          "x2": 6510.9
         },
         {
          "level": 36,
          "sf": "_hypot(x::Float64, y::Float64) at math.jl:711",
          "status": "Default",
          "x1": 6511,
          "x2": 6568.9
         },
         {
          "level": 37,
          "sf": "abs at float.jl:692 [inlined]",
          "status": "Default",
          "x1": 6511,
          "x2": 6568.9
         },
         {
          "level": 36,
          "sf": "_hypot(x::Float64, y::Float64) at math.jl:718",
          "status": "Default",
          "x1": 6569,
          "x2": 6574.9
         },
         {
          "level": 36,
          "sf": "_hypot(x::Float64, y::Float64) at math.jl:723",
          "status": "Default",
          "x1": 6575,
          "x2": 6739.9
         },
         {
          "level": 36,
          "sf": "_hypot(x::Float64, y::Float64) at math.jl:729",
          "status": "Default",
          "x1": 6740,
          "x2": 6777.9
         },
         {
          "level": 37,
          "sf": "* at float.jl:493 [inlined]",
          "status": "Default",
          "x1": 6740,
          "x2": 6740.9
         },
         {
          "level": 37,
          "sf": "<= at float.jl:619 [inlined]",
          "status": "Default",
          "x1": 6741,
          "x2": 6769.9
         },
         {
          "level": 36,
          "sf": "_hypot(x::Float64, y::Float64) at math.jl:735",
          "status": "Default",
          "x1": 6778,
          "x2": 6794.9
         },
         {
          "level": 37,
          "sf": "> at operators.jl:379 [inlined]",
          "status": "Default",
          "x1": 6778,
          "x2": 6788.9
         },
         {
          "level": 38,
          "sf": "< at float.jl:618 [inlined]",
          "status": "Default",
          "x1": 6778,
          "x2": 6788.9
         },
         {
          "level": 36,
          "sf": "_hypot(x::Float64, y::Float64) at math.jl:745",
          "status": "Default",
          "x1": 6795,
          "x2": 6795.9
         },
         {
          "level": 37,
          "sf": "muladd at float.jl:496 [inlined]",
          "status": "Default",
          "x1": 6795,
          "x2": 6795.9
         },
         {
          "level": 36,
          "sf": "_hypot(x::Float64, y::Float64) at math.jl:748",
          "status": "Default",
          "x1": 6796,
          "x2": 6805.9
         },
         {
          "level": 37,
          "sf": "* at float.jl:493 [inlined]",
          "status": "Default",
          "x1": 6796,
          "x2": 6805.9
         },
         {
          "level": 36,
          "sf": "_hypot(x::Float64, y::Float64) at math.jl:750",
          "status": "Default",
          "x1": 6806,
          "x2": 6825.9
         },
         {
          "level": 37,
          "sf": "+ at float.jl:491 [inlined]",
          "status": "Default",
          "x1": 6806,
          "x2": 6806.9
         },
         {
          "level": 37,
          "sf": "- at float.jl:492 [inlined]",
          "status": "Default",
          "x1": 6807,
          "x2": 6819.9
         },
         {
          "level": 37,
          "sf": "fma at floatfuncs.jl:357 [inlined]",
          "status": "Default",
          "x1": 6820,
          "x2": 6823.9
         },
         {
          "level": 38,
          "sf": "fma_llvm at floatfuncs.jl:352 [inlined]",
          "status": "Default",
          "x1": 6820,
          "x2": 6823.9
         },
         {
          "level": 37,
          "sf": "* at promotion.jl:430 [inlined]",
          "status": "Default",
          "x1": 6824,
          "x2": 6825.9
         },
         {
          "level": 38,
          "sf": "* at float.jl:493 [inlined]",
          "status": "Default",
          "x1": 6824,
          "x2": 6825.9
         },
         {
          "level": 36,
          "sf": "_hypot(x::Float64, y::Float64) at math.jl:761",
          "status": "Default",
          "x1": 6826,
          "x2": 6830.9
         },
         {
          "level": 37,
          "sf": "* at operators.jl:596 [inlined]",
          "status": "Default",
          "x1": 6826,
          "x2": 6830.9
         },
         {
          "level": 38,
          "sf": "* at float.jl:493 [inlined]",
          "status": "Default",
          "x1": 6826,
          "x2": 6830.9
         },
         {
          "level": 31,
          "sf": "mapreduce_impl(f::typeof(norm), op::typeof(max), A::Matrix{ComplexF64}, first::Int64, last::Int64) at reduce.jl:654",
          "status": "Default",
          "x1": 6834,
          "x2": 6853.9
         },
         {
          "level": 32,
          "sf": "iterate at range.jl:908 [inlined]",
          "status": "Default",
          "x1": 6834,
          "x2": 6853.9
         },
         {
          "level": 33,
          "sf": "== at promotion.jl:639 [inlined]",
          "status": "Default",
          "x1": 6834,
          "x2": 6853.9
         },
         {
          "level": 31,
          "sf": "mapreduce_impl(f::typeof(norm), op::typeof(max), A::Matrix{ComplexF64}, first::Int64, last::Int64) at reduce.jl:655",
          "status": "Default",
          "x1": 6854,
          "x2": 6859.9
         },
         {
          "level": 32,
          "sf": "checkbounds at abstractarray.jl:699 [inlined]",
          "status": "Default",
          "x1": 6854,
          "x2": 6859.9
         },
         {
          "level": 33,
          "sf": "checkbounds at abstractarray.jl:689 [inlined]",
          "status": "Default",
          "x1": 6854,
          "x2": 6859.9
         },
         {
          "level": 34,
          "sf": "checkindex at abstractarray.jl:754 [inlined]",
          "status": "Default",
          "x1": 6854,
          "x2": 6854.9
         },
         {
          "level": 35,
          "sf": "- at int.jl:86 [inlined]",
          "status": "Default",
          "x1": 6854,
          "x2": 6854.9
         },
         {
          "level": 34,
          "sf": "eachindex at abstractarray.jl:388 [inlined]",
          "status": "Default",
          "x1": 6855,
          "x2": 6859.9
         },
         {
          "level": 35,
          "sf": "oneto at range.jl:476 [inlined]",
          "status": "Default",
          "x1": 6855,
          "x2": 6859.9
         },
         {
          "level": 36,
          "sf": "OneTo at range.jl:474 [inlined]",
          "status": "Default",
          "x1": 6855,
          "x2": 6859.9
         },
         {
          "level": 37,
          "sf": "OneTo at range.jl:459 [inlined]",
          "status": "Default",
          "x1": 6855,
          "x2": 6859.9
         },
         {
          "level": 38,
          "sf": "max at promotion.jl:650 [inlined]",
          "status": "Default",
          "x1": 6855,
          "x2": 6859.9
         },
         {
          "level": 39,
          "sf": "ifelse at essentials.jl:796 [inlined]",
          "status": "Default",
          "x1": 6855,
          "x2": 6857.9
         },
         {
          "level": 39,
          "sf": "< at int.jl:83 [inlined]",
          "status": "Default",
          "x1": 6858,
          "x2": 6859.9
         },
         {
          "level": 31,
          "sf": "mapreduce_impl(f::typeof(norm), op::typeof(max), A::Matrix{ComplexF64}, first::Int64, last::Int64) at reduce.jl:656",
          "status": "Default",
          "x1": 6860,
          "x2": 6862.9
         },
         {
          "level": 32,
          "sf": "+ at int.jl:87 [inlined]",
          "status": "Default",
          "x1": 6860,
          "x2": 6862.9
         },
         {
          "level": 31,
          "sf": "mapreduce_impl(f::typeof(norm), op::typeof(max), A::Matrix{ComplexF64}, first::Int64, last::Int64) at reduce.jl:662",
          "status": "Default",
          "x1": 6863,
          "x2": 6863.9
         },
         {
          "level": 32,
          "sf": "max at math.jl:839 [inlined]",
          "status": "Default",
          "x1": 6863,
          "x2": 6863.9
         },
         {
          "level": 33,
          "sf": "signbit at floatfuncs.jl:15 [inlined]",
          "status": "Default",
          "x1": 6863,
          "x2": 6863.9
         },
         {
          "level": 21,
          "sf": "(::ProximalAlgorithms.IterativeAlgorithm{ProximalAlgorithms.FastForwardBackwardIteration, ProximalAlgorithms.var\"#29#31\"{Float64}, typeof(ProximalAlgorithms.default_solution), typeof(ProximalAlgorithms.default_display), Base.Pairs{Symbol, Union{}, Tuple{}, @NamedTuple{}}})(; kwargs::Base.Pairs{Symbol, Any, Tuple{Symbol, Symbol, Symbol}, @NamedTuple{x0::Matrix{ComplexF64}, f::ArraySignalProcessing.MyLeastSquares{ComplexF64, Matrix{ComplexF64}, Matrix{ComplexF64}}, g::ArraySignalProcessing.MyNormL21{Float64, Int64}}}) at ProximalAlgorithms.jl:122",
          "status": "Default",
          "x1": 6864,
          "x2": 17990.9
         },
         {
          "level": 22,
          "sf": "iterate at iterators.jl:206 [inlined]",
          "status": "Default",
          "x1": 6864,
          "x2": 17989.9
         },
         {
          "level": 23,
          "sf": "iterate(iter::ProximalAlgorithms.FastForwardBackwardIteration{Float64, Matrix{ComplexF64}, ArraySignalProcessing.MyLeastSquares{ComplexF64, Matrix{ComplexF64}, Matrix{ComplexF64}}, ArraySignalProcessing.MyNormL21{Float64, Int64}, Nothing, Nothing, Nothing}, state::ProximalAlgorithms.FastForwardBackwardState{Float64, Matrix{ComplexF64}, ProximalAlgorithms.AdaptiveNesterovSequence{Float64}}) at fast_forward_backward.jl:106",
          "status": "Default",
          "x1": 6864,
          "x2": 6864.9
         },
         {
          "level": 23,
          "sf": "iterate(iter::ProximalAlgorithms.FastForwardBackwardIteration{Float64, Matrix{ComplexF64}, ArraySignalProcessing.MyLeastSquares{ComplexF64, Matrix{ComplexF64}, Matrix{ComplexF64}}, ArraySignalProcessing.MyNormL21{Float64, Int64}, Nothing, Nothing, Nothing}, state::ProximalAlgorithms.FastForwardBackwardState{Float64, Matrix{ComplexF64}, ProximalAlgorithms.AdaptiveNesterovSequence{Float64}}) at fast_forward_backward.jl:112",
          "status": "Default",
          "x1": 6865,
          "x2": 9578.9
         },
         {
          "level": 24,
          "sf": "backtrack_stepsize! at fb_tools.jl:24 [inlined]",
          "status": "Default",
          "x1": 6865,
          "x2": 9578.9
         },
         {
          "level": 25,
          "sf": "backtrack_stepsize!(gamma::Float64, f::ArraySignalProcessing.MyLeastSquares{ComplexF64, Matrix{ComplexF64}, Matrix{ComplexF64}}, A::Nothing, g::ArraySignalProcessing.MyNormL21{Float64, Int64}, x::Matrix{ComplexF64}, f_Ax::Float64, At_grad_f_Ax::Matrix{ComplexF64}, y::Matrix{ComplexF64}, z::Matrix{ComplexF64}, g_z::Float64, res::Matrix{ComplexF64}, Az::Matrix{ComplexF64}, grad_f_Az::Nothing; alpha::Float64, minimum_gamma::Float64, reduce_gamma::Float64) at fb_tools.jl:0",
          "status": "Default",
          "x1": 6865,
          "x2": 6865.9
         },
         {
          "level": 25,
          "sf": "backtrack_stepsize!(gamma::Float64, f::ArraySignalProcessing.MyLeastSquares{ComplexF64, Matrix{ComplexF64}, Matrix{ComplexF64}}, A::Nothing, g::ArraySignalProcessing.MyNormL21{Float64, Int64}, x::Matrix{ComplexF64}, f_Ax::Float64, At_grad_f_Ax::Matrix{ComplexF64}, y::Matrix{ComplexF64}, z::Matrix{ComplexF64}, g_z::Float64, res::Matrix{ComplexF64}, Az::Matrix{ComplexF64}, grad_f_Az::Nothing; alpha::Float64, minimum_gamma::Float64, reduce_gamma::Float64) at fb_tools.jl:42",
          "status": "Default",
          "x1": 6866,
          "x2": 7436.9
         },
         {
          "level": 26,
          "sf": "f_model(f_x::Float64, grad_f_x::Matrix{ComplexF64}, res::Matrix{ComplexF64}, L::Float64) at fb_tools.jl:3",
          "status": "Default",
          "x1": 6866,
          "x2": 6866.9
         },
         {
          "level": 26,
          "sf": "f_model(f_x::Float64, grad_f_x::Matrix{ComplexF64}, res::Matrix{ComplexF64}, L::Float64) at fb_tools.jl:4",
          "status": "Default",
          "x1": 6867,
          "x2": 7436.9
         },
         {
          "level": 27,
          "sf": "dot at matmul.jl:19 [inlined]",
          "status": "Default",
          "x1": 6867,
          "x2": 7436.9
         },
         {
          "level": 28,
          "sf": "dotc at blas.jl:398 [inlined]",
          "status": "Default",
          "x1": 6867,
          "x2": 7436.9
         },
         {
          "level": 29,
          "sf": "dotc at blas.jl:365 [inlined]",
          "status": "Default",
          "x1": 6867,
          "x2": 7436.9
         },
         {
          "level": 25,
          "sf": "backtrack_stepsize!(gamma::Float64, f::ArraySignalProcessing.MyLeastSquares{ComplexF64, Matrix{ComplexF64}, Matrix{ComplexF64}}, A::Nothing, g::ArraySignalProcessing.MyNormL21{Float64, Int64}, x::Matrix{ComplexF64}, f_Ax::Float64, At_grad_f_Ax::Matrix{ComplexF64}, y::Matrix{ComplexF64}, z::Matrix{ComplexF64}, g_z::Float64, res::Matrix{ComplexF64}, Az::Matrix{ComplexF64}, grad_f_Az::Nothing; alpha::Float64, minimum_gamma::Float64, reduce_gamma::Float64) at fb_tools.jl:44",
          "status": "Default",
          "x1": 7437,
          "x2": 9577.9
         },
         {
          "level": 26,
          "sf": "value_and_gradient(f::ArraySignalProcessing.MyLeastSquares{ComplexF64, Matrix{ComplexF64}, Matrix{ComplexF64}}, x::Matrix{ComplexF64}) at lasso.jl:49",
          "status": "Default",
          "x1": 7437,
          "x2": 8020.9
         },
         {
          "level": 27,
          "sf": "-(A::Matrix{ComplexF64}, B::Matrix{ComplexF64}) at arraymath.jl:8",
          "status": "Default",
          "x1": 7437,
          "x2": 7477.9
         },
         {
          "level": 28,
          "sf": "broadcast_preserving_zero_d at broadcast.jl:861 [inlined]",
          "status": "Default",
          "x1": 7437,
          "x2": 7477.9
         },
         {
          "level": 29,
          "sf": "materialize at broadcast.jl:872 [inlined]",
          "status": "Default",
          "x1": 7437,
          "x2": 7477.9
         },
         {
          "level": 30,
          "sf": "copy at broadcast.jl:897 [inlined]",
          "status": "Default",
          "x1": 7437,
          "x2": 7477.9
         },
         {
          "level": 31,
          "sf": "copyto! at broadcast.jl:925 [inlined]",
          "status": "Default",
          "x1": 7437,
          "x2": 7462.9
         },
         {
          "level": 32,
          "sf": "copyto! at broadcast.jl:972 [inlined]",
          "status": "Default",
          "x1": 7437,
          "x2": 7462.9
         },
         {
          "level": 33,
          "sf": "macro expansion at simdloop.jl:0 [inlined]",
          "status": "Default",
          "x1": 7437,
          "x2": 7437.9
         },
         {
          "level": 33,
          "sf": "macro expansion at simdloop.jl:75 [inlined]",
          "status": "Default",
          "x1": 7438,
          "x2": 7439.9
         },
         {
          "level": 33,
          "sf": "macro expansion at simdloop.jl:77 [inlined]",
          "status": "Default",
          "x1": 7440,
          "x2": 7461.9
         },
         {
          "level": 34,
          "sf": "macro expansion at broadcast.jl:973 [inlined]",
          "status": "Default",
          "x1": 7440,
          "x2": 7461.9
         },
         {
          "level": 35,
          "sf": "getindex at broadcast.jl:610 [inlined]",
          "status": "Default",
          "x1": 7440,
          "x2": 7446.9
         },
         {
          "level": 36,
          "sf": "_broadcast_getindex at broadcast.jl:650 [inlined]",
          "status": "Default",
          "x1": 7440,
          "x2": 7441.9
         },
         {
          "level": 37,
          "sf": "_getindex at broadcast.jl:674 [inlined]",
          "status": "Default",
          "x1": 7440,
          "x2": 7441.9
         },
         {
          "level": 38,
          "sf": "_getindex at broadcast.jl:675 [inlined]",
          "status": "Default",
          "x1": 7440,
          "x2": 7441.9
         },
         {
          "level": 39,
          "sf": "_broadcast_getindex at broadcast.jl:644 [inlined]",
          "status": "Default",
          "x1": 7440,
          "x2": 7441.9
         },
         {
          "level": 40,
          "sf": "getindex at multidimensional.jl:702 [inlined]",
          "status": "Default",
          "x1": 7440,
          "x2": 7441.9
         },
         {
          "level": 41,
          "sf": "getindex at array.jl:930 [inlined]",
          "status": "Default",
          "x1": 7440,
          "x2": 7441.9
         },
         {
          "level": 42,
          "sf": "getindex at essentials.jl:917 [inlined]",
          "status": "Default",
          "x1": 7440,
          "x2": 7441.9
         },
         {
          "level": 36,
          "sf": "_broadcast_getindex at broadcast.jl:651 [inlined]",
          "status": "Default",
          "x1": 7442,
          "x2": 7446.9
         },
         {
          "level": 37,
          "sf": "_broadcast_getindex_evalf at broadcast.jl:678 [inlined]",
          "status": "Default",
          "x1": 7442,
          "x2": 7446.9
         },
         {
          "level": 38,
          "sf": "- at complex.jl:298 [inlined]",
          "status": "Default",
          "x1": 7442,
          "x2": 7446.9
         },
         {
          "level": 39,
          "sf": "- at float.jl:492 [inlined]",
          "status": "Default",
          "x1": 7442,
          "x2": 7446.9
         },
         {
          "level": 35,
          "sf": "setindex! at multidimensional.jl:704 [inlined]",
          "status": "Default",
          "x1": 7447,
          "x2": 7461.9
         },
         {
          "level": 36,
          "sf": "setindex! at array.jl:994 [inlined]",
          "status": "Default",
          "x1": 7447,
          "x2": 7461.9
         },
         {
          "level": 33,
          "sf": "macro expansion at simdloop.jl:84 [inlined]",
          "status": "Default",
          "x1": 7462,
          "x2": 7462.9
         },
         {
          "level": 31,
          "sf": "similar at broadcast.jl:223 [inlined]",
          "status": "Default",
          "x1": 7463,
          "x2": 7477.9
         },
         {
          "level": 32,
          "sf": "similar at broadcast.jl:224 [inlined]",
          "status": "Default",
          "x1": 7463,
          "x2": 7477.9
         },
         {
          "level": 33,
          "sf": "similar at abstractarray.jl:867 [inlined]",
          "status": "Default",
          "x1": 7463,
          "x2": 7477.9
         },
         {
          "level": 34,
          "sf": "similar at abstractarray.jl:868 [inlined]",
          "status": "Default",
          "x1": 7463,
          "x2": 7477.9
         },
         {
          "level": 35,
          "sf": "Array at boot.jl:599 [inlined]",
          "status": "Default",
          "x1": 7463,
          "x2": 7477.9
         },
         {
          "level": 36,
          "sf": "Array at boot.jl:592 [inlined]",
          "status": "Default",
          "x1": 7463,
          "x2": 7477.9
         },
         {
          "level": 37,
          "sf": "Array at boot.jl:582 [inlined]",
          "status": "Default",
          "x1": 7463,
          "x2": 7477.9
         },
         {
          "level": 38,
          "sf": "new_as_memoryref at boot.jl:535 [inlined]",
          "status": "Default",
          "x1": 7463,
          "x2": 7477.9
         },
         {
          "level": 39,
          "sf": "GenericMemory at boot.jl:516 [inlined]",
          "status": "Garbage collection",
          "x1": 7463,
          "x2": 7477.9
         },
         {
          "level": 27,
          "sf": "* at matmul.jl:130 [inlined]",
          "status": "Default",
          "x1": 7478,
          "x2": 8020.9
         },
         {
          "level": 28,
          "sf": "similar at array.jl:372 [inlined]",
          "status": "Default",
          "x1": 7478,
          "x2": 7513.9
         },
         {
          "level": 29,
          "sf": "Array at boot.jl:592 [inlined]",
          "status": "Default",
          "x1": 7478,
          "x2": 7513.9
         },
         {
          "level": 30,
          "sf": "Array at boot.jl:582 [inlined]",
          "status": "Default",
          "x1": 7478,
          "x2": 7513.9
         },
         {
          "level": 31,
          "sf": "new_as_memoryref at boot.jl:535 [inlined]",
          "status": "Default",
          "x1": 7478,
          "x2": 7513.9
         },
         {
          "level": 32,
          "sf": "GenericMemory at boot.jl:516 [inlined]",
          "status": "Garbage collection",
          "x1": 7478,
          "x2": 7513.9
         },
         {
          "level": 28,
          "sf": "mul! at matmul.jl:253 [inlined]",
          "status": "Default",
          "x1": 7514,
          "x2": 8020.9
         },
         {
          "level": 29,
          "sf": "mul! at matmul.jl:285 [inlined]",
          "status": "Default",
          "x1": 7514,
          "x2": 8020.9
         },
         {
          "level": 30,
          "sf": "_mul! at matmul.jl:287 [inlined]",
          "status": "Default",
          "x1": 7514,
          "x2": 8020.9
         },
         {
          "level": 31,
          "sf": "generic_matmatmul! at matmul.jl:381 [inlined]",
          "status": "Default",
          "x1": 7514,
          "x2": 8020.9
         },
         {
          "level": 32,
          "sf": "gemm_wrapper!(C::Matrix{ComplexF64}, tA::Char, tB::Char, A::Matrix{ComplexF64}, B::Matrix{ComplexF64}, _add::LinearAlgebra.MulAddMul{true, true, Bool, Bool}) at matmul.jl:657",
          "status": "Default",
          "x1": 7514,
          "x2": 8020.9
         },
         {
          "level": 33,
          "sf": "gemm!(transA::Char, transB::Char, alpha::ComplexF64, A::Matrix{ComplexF64}, B::Matrix{ComplexF64}, beta::ComplexF64, C::Matrix{ComplexF64}) at blas.jl:1625",
          "status": "Default",
          "x1": 7514,
          "x2": 7514.9
         },
         {
          "level": 33,
          "sf": "gemm!(transA::Char, transB::Char, alpha::ComplexF64, A::Matrix{ComplexF64}, B::Matrix{ComplexF64}, beta::ComplexF64, C::Matrix{ComplexF64}) at blas.jl:1644",
          "status": "Default",
          "x1": 7515,
          "x2": 8020.9
         },
         {
          "level": 26,
          "sf": "value_and_gradient(f::ArraySignalProcessing.MyLeastSquares{ComplexF64, Matrix{ComplexF64}, Matrix{ComplexF64}}, x::Matrix{ComplexF64}) at lasso.jl:50",
          "status": "Default",
          "x1": 8021,
          "x2": 8027.9
         },
         {
          "level": 27,
          "sf": "sum at reducedim.jl:983 [inlined]",
          "status": "Default",
          "x1": 8021,
          "x2": 8027.9
         },
         {
          "level": 28,
          "sf": "#sum#936 at reducedim.jl:983 [inlined]",
          "status": "Default",
          "x1": 8021,
          "x2": 8027.9
         },
         {
          "level": 29,
          "sf": "_sum at reducedim.jl:987 [inlined]",
          "status": "Default",
          "x1": 8021,
          "x2": 8027.9
         },
         {
          "level": 30,
          "sf": "#_sum#938 at reducedim.jl:987 [inlined]",
          "status": "Default",
          "x1": 8021,
          "x2": 8027.9
         },
         {
          "level": 31,
          "sf": "mapreduce at reducedim.jl:329 [inlined]",
          "status": "Default",
          "x1": 8021,
          "x2": 8027.9
         },
         {
          "level": 32,
          "sf": "#mapreduce#928 at reducedim.jl:329 [inlined]",
          "status": "Default",
          "x1": 8021,
          "x2": 8027.9
         },
         {
          "level": 33,
          "sf": "_mapreduce_dim at reducedim.jl:337 [inlined]",
          "status": "Default",
          "x1": 8021,
          "x2": 8027.9
         },
         {
          "level": 34,
          "sf": "_mapreduce(f::typeof(abs2), op::typeof(Base.add_sum), ::IndexLinear, A::Matrix{ComplexF64}) at reduce.jl:444",
          "status": "Default",
          "x1": 8021,
          "x2": 8027.9
         },
         {
          "level": 35,
          "sf": "mapreduce_impl at reduce.jl:277 [inlined]",
          "status": "Default",
          "x1": 8021,
          "x2": 8027.9
         },
         {
          "level": 36,
          "sf": "mapreduce_impl(f::typeof(abs2), op::typeof(Base.add_sum), A::Matrix{ComplexF64}, ifirst::Int64, ilast::Int64, blksize::Int64) at reduce.jl:253",
          "status": "Default",
          "x1": 8021,
          "x2": 8021.9
         },
         {
          "level": 36,
          "sf": "mapreduce_impl(f::typeof(abs2), op::typeof(Base.add_sum), A::Matrix{ComplexF64}, ifirst::Int64, ilast::Int64, blksize::Int64) at reduce.jl:271",
          "status": "Default",
          "x1": 8022,
          "x2": 8024.9
         },
         {
          "level": 37,
          "sf": "mapreduce_impl(f::typeof(abs2), op::typeof(Base.add_sum), A::Matrix{ComplexF64}, ifirst::Int64, ilast::Int64, blksize::Int64) at reduce.jl:271",
          "status": "Default",
          "x1": 8022,
          "x2": 8022.9
         },
         {
          "level": 38,
          "sf": "mapreduce_impl(f::typeof(abs2), op::typeof(Base.add_sum), A::Matrix{ComplexF64}, ifirst::Int64, ilast::Int64, blksize::Int64) at reduce.jl:263",
          "status": "Default",
          "x1": 8022,
          "x2": 8022.9
         },
         {
          "level": 39,
          "sf": "macro expansion at simdloop.jl:77 [inlined]",
          "status": "Default",
          "x1": 8022,
          "x2": 8022.9
         },
         {
          "level": 40,
          "sf": "macro expansion at reduce.jl:264 [inlined]",
          "status": "Default",
          "x1": 8022,
          "x2": 8022.9
         },
         {
          "level": 41,
          "sf": "getindex at essentials.jl:917 [inlined]",
          "status": "Default",
          "x1": 8022,
          "x2": 8022.9
         },
         {
          "level": 37,
          "sf": "mapreduce_impl(f::typeof(abs2), op::typeof(Base.add_sum), A::Matrix{ComplexF64}, ifirst::Int64, ilast::Int64, blksize::Int64) at reduce.jl:272",
          "status": "Default",
          "x1": 8023,
          "x2": 8024.9
         },
         {
          "level": 38,
          "sf": "mapreduce_impl(f::typeof(abs2), op::typeof(Base.add_sum), A::Matrix{ComplexF64}, ifirst::Int64, ilast::Int64, blksize::Int64) at reduce.jl:263",
          "status": "Default",
          "x1": 8023,
          "x2": 8024.9
         },
         {
          "level": 39,
          "sf": "macro expansion at simdloop.jl:77 [inlined]",
          "status": "Default",
          "x1": 8023,
          "x2": 8024.9
         },
         {
          "level": 40,
          "sf": "macro expansion at reduce.jl:265 [inlined]",
          "status": "Default",
          "x1": 8023,
          "x2": 8024.9
         },
         {
          "level": 41,
          "sf": "add_sum at reduce.jl:27 [inlined]",
          "status": "Default",
          "x1": 8023,
          "x2": 8024.9
         },
         {
          "level": 42,
          "sf": "+ at float.jl:491 [inlined]",
          "status": "Default",
          "x1": 8023,
          "x2": 8024.9
         },
         {
          "level": 36,
          "sf": "mapreduce_impl(f::typeof(abs2), op::typeof(Base.add_sum), A::Matrix{ComplexF64}, ifirst::Int64, ilast::Int64, blksize::Int64) at reduce.jl:272",
          "status": "Default",
          "x1": 8025,
          "x2": 8027.9
         },
         {
          "level": 37,
          "sf": "mapreduce_impl(f::typeof(abs2), op::typeof(Base.add_sum), A::Matrix{ComplexF64}, ifirst::Int64, ilast::Int64, blksize::Int64) at reduce.jl:271",
          "status": "Default",
          "x1": 8025,
          "x2": 8026.9
         },
         {
          "level": 38,
          "sf": "mapreduce_impl(f::typeof(abs2), op::typeof(Base.add_sum), A::Matrix{ComplexF64}, ifirst::Int64, ilast::Int64, blksize::Int64) at reduce.jl:263",
          "status": "Default",
          "x1": 8025,
          "x2": 8026.9
         },
         {
          "level": 39,
          "sf": "macro expansion at simdloop.jl:77 [inlined]",
          "status": "Default",
          "x1": 8025,
          "x2": 8026.9
         },
         {
          "level": 40,
          "sf": "macro expansion at reduce.jl:265 [inlined]",
          "status": "Default",
          "x1": 8025,
          "x2": 8026.9
         },
         {
          "level": 41,
          "sf": "add_sum at reduce.jl:27 [inlined]",
          "status": "Default",
          "x1": 8025,
          "x2": 8026.9
         },
         {
          "level": 42,
          "sf": "+ at float.jl:491 [inlined]",
          "status": "Default",
          "x1": 8025,
          "x2": 8026.9
         },
         {
          "level": 37,
          "sf": "mapreduce_impl(f::typeof(abs2), op::typeof(Base.add_sum), A::Matrix{ComplexF64}, ifirst::Int64, ilast::Int64, blksize::Int64) at reduce.jl:272",
          "status": "Default",
          "x1": 8027,
          "x2": 8027.9
         },
         {
          "level": 38,
          "sf": "mapreduce_impl(f::typeof(abs2), op::typeof(Base.add_sum), A::Matrix{ComplexF64}, ifirst::Int64, ilast::Int64, blksize::Int64) at reduce.jl:263",
          "status": "Default",
          "x1": 8027,
          "x2": 8027.9
         },
         {
          "level": 39,
          "sf": "macro expansion at simdloop.jl:77 [inlined]",
          "status": "Default",
          "x1": 8027,
          "x2": 8027.9
         },
         {
          "level": 40,
          "sf": "macro expansion at reduce.jl:265 [inlined]",
          "status": "Default",
          "x1": 8027,
          "x2": 8027.9
         },
         {
          "level": 41,
          "sf": "add_sum at reduce.jl:27 [inlined]",
          "status": "Default",
          "x1": 8027,
          "x2": 8027.9
         },
         {
          "level": 42,
          "sf": "+ at float.jl:491 [inlined]",
          "status": "Default",
          "x1": 8027,
          "x2": 8027.9
         },
         {
          "level": 26,
          "sf": "value_and_gradient(f::ArraySignalProcessing.MyLeastSquares{ComplexF64, Matrix{ComplexF64}, Matrix{ComplexF64}}, x::Matrix{ComplexF64}) at lasso.jl:51",
          "status": "Default",
          "x1": 8028,
          "x2": 9577.9
         },
         {
          "level": 27,
          "sf": "* at matmul.jl:130 [inlined]",
          "status": "Default",
          "x1": 8028,
          "x2": 9577.9
         },
         {
          "level": 28,
          "sf": "similar at array.jl:372 [inlined]",
          "status": "Default",
          "x1": 8028,
          "x2": 8959.9
         },
         {
          "level": 29,
          "sf": "Array at boot.jl:592 [inlined]",
          "status": "Default",
          "x1": 8028,
          "x2": 8959.9
         },
         {
          "level": 30,
          "sf": "Array at boot.jl:582 [inlined]",
          "status": "Default",
          "x1": 8028,
          "x2": 8959.9
         },
         {
          "level": 31,
          "sf": "new_as_memoryref at boot.jl:535 [inlined]",
          "status": "Default",
          "x1": 8028,
          "x2": 8959.9
         },
         {
          "level": 32,
          "sf": "GenericMemory at boot.jl:516 [inlined]",
          "status": "Garbage collection",
          "x1": 8028,
          "x2": 8959.9
         },
         {
          "level": 28,
          "sf": "mul! at matmul.jl:253 [inlined]",
          "status": "Default",
          "x1": 8960,
          "x2": 9577.9
         },
         {
          "level": 29,
          "sf": "mul! at matmul.jl:285 [inlined]",
          "status": "Default",
          "x1": 8960,
          "x2": 9577.9
         },
         {
          "level": 30,
          "sf": "_mul! at matmul.jl:287 [inlined]",
          "status": "Default",
          "x1": 8960,
          "x2": 9577.9
         },
         {
          "level": 31,
          "sf": "generic_matmatmul! at matmul.jl:381 [inlined]",
          "status": "Default",
          "x1": 8960,
          "x2": 9577.9
         },
         {
          "level": 32,
          "sf": "gemm_wrapper!(C::Matrix{ComplexF64}, tA::Char, tB::Char, A::Matrix{ComplexF64}, B::Matrix{ComplexF64}, _add::LinearAlgebra.MulAddMul{true, true, Bool, Bool}) at matmul.jl:657",
          "status": "Default",
          "x1": 8960,
          "x2": 9577.9
         },
         {
          "level": 33,
          "sf": "gemm!(transA::Char, transB::Char, alpha::ComplexF64, A::Matrix{ComplexF64}, B::Matrix{ComplexF64}, beta::ComplexF64, C::Matrix{ComplexF64}) at blas.jl:1644",
          "status": "Default",
          "x1": 8960,
          "x2": 9577.9
         },
         {
          "level": 25,
          "sf": "backtrack_stepsize!(gamma::Float64, f::ArraySignalProcessing.MyLeastSquares{ComplexF64, Matrix{ComplexF64}, Matrix{ComplexF64}}, A::Nothing, g::ArraySignalProcessing.MyNormL21{Float64, Int64}, x::Matrix{ComplexF64}, f_Ax::Float64, At_grad_f_Ax::Matrix{ComplexF64}, y::Matrix{ComplexF64}, z::Matrix{ComplexF64}, g_z::Float64, res::Matrix{ComplexF64}, Az::Matrix{ComplexF64}, grad_f_Az::Nothing; alpha::Float64, minimum_gamma::Float64, reduce_gamma::Float64) at fb_tools.jl:53",
          "status": "Default",
          "x1": 9578,
          "x2": 9578.9
         },
         {
          "level": 26,
          "sf": "value_and_gradient(f::ArraySignalProcessing.MyLeastSquares{ComplexF64, Matrix{ComplexF64}, Matrix{ComplexF64}}, x::Matrix{ComplexF64}) at lasso.jl:51",
          "status": "Default",
          "x1": 9578,
          "x2": 9578.9
         },
         {
          "level": 27,
          "sf": "* at matmul.jl:130 [inlined]",
          "status": "Default",
          "x1": 9578,
          "x2": 9578.9
         },
         {
          "level": 28,
          "sf": "mul! at matmul.jl:253 [inlined]",
          "status": "Default",
          "x1": 9578,
          "x2": 9578.9
         },
         {
          "level": 29,
          "sf": "mul! at matmul.jl:285 [inlined]",
          "status": "Default",
          "x1": 9578,
          "x2": 9578.9
         },
         {
          "level": 30,
          "sf": "_mul! at matmul.jl:287 [inlined]",
          "status": "Default",
          "x1": 9578,
          "x2": 9578.9
         },
         {
          "level": 31,
          "sf": "generic_matmatmul! at matmul.jl:381 [inlined]",
          "status": "Default",
          "x1": 9578,
          "x2": 9578.9
         },
         {
          "level": 32,
          "sf": "gemm_wrapper!(C::Matrix{ComplexF64}, tA::Char, tB::Char, A::Matrix{ComplexF64}, B::Matrix{ComplexF64}, _add::LinearAlgebra.MulAddMul{true, true, Bool, Bool}) at matmul.jl:657",
          "status": "Default",
          "x1": 9578,
          "x2": 9578.9
         },
         {
          "level": 33,
          "sf": "gemm!(transA::Char, transB::Char, alpha::ComplexF64, A::Matrix{ComplexF64}, B::Matrix{ComplexF64}, beta::ComplexF64, C::Matrix{ComplexF64}) at blas.jl:1644",
          "status": "Default",
          "x1": 9578,
          "x2": 9578.9
         },
         {
          "level": 23,
          "sf": "iterate(iter::ProximalAlgorithms.FastForwardBackwardIteration{Float64, Matrix{ComplexF64}, ArraySignalProcessing.MyLeastSquares{ComplexF64, Matrix{ComplexF64}, Matrix{ComplexF64}}, ArraySignalProcessing.MyNormL21{Float64, Int64}, Nothing, Nothing, Nothing}, state::ProximalAlgorithms.FastForwardBackwardState{Float64, Matrix{ComplexF64}, ProximalAlgorithms.AdaptiveNesterovSequence{Float64}}) at fast_forward_backward.jl:134",
          "status": "Default",
          "x1": 9579,
          "x2": 9579.9
         },
         {
          "level": 24,
          "sf": "get_next_extrapolation_coefficient! at fast_forward_backward.jl:102 [inlined]",
          "status": "Default",
          "x1": 9579,
          "x2": 9579.9
         },
         {
          "level": 25,
          "sf": "next!(seq::ProximalAlgorithms.AdaptiveNesterovSequence{Float64}, stepsize::Float64) at nesterov.jl:89",
          "status": "Default",
          "x1": 9579,
          "x2": 9579.9
         },
         {
          "level": 23,
          "sf": "iterate(iter::ProximalAlgorithms.FastForwardBackwardIteration{Float64, Matrix{ComplexF64}, ArraySignalProcessing.MyLeastSquares{ComplexF64, Matrix{ComplexF64}, Matrix{ComplexF64}}, ArraySignalProcessing.MyNormL21{Float64, Int64}, Nothing, Nothing, Nothing}, state::ProximalAlgorithms.FastForwardBackwardState{Float64, Matrix{ComplexF64}, ProximalAlgorithms.AdaptiveNesterovSequence{Float64}}) at fast_forward_backward.jl:135",
          "status": "Default",
          "x1": 9580,
          "x2": 11168.9
         },
         {
          "level": 24,
          "sf": "materialize! at broadcast.jl:880 [inlined]",
          "status": "Default",
          "x1": 9580,
          "x2": 11168.9
         },
         {
          "level": 25,
          "sf": "materialize! at broadcast.jl:883 [inlined]",
          "status": "Default",
          "x1": 9580,
          "x2": 11168.9
         },
         {
          "level": 26,
          "sf": "copyto! at broadcast.jl:925 [inlined]",
          "status": "Default",
          "x1": 9580,
          "x2": 11168.9
         },
         {
          "level": 27,
          "sf": "copyto! at array.jl:0 [inlined]",
          "status": "Default",
          "x1": 9580,
          "x2": 9580.9
         },
         {
          "level": 27,
          "sf": "copyto! at broadcast.jl:969 [inlined]",
          "status": "Default",
          "x1": 9581,
          "x2": 9595.9
         },
         {
          "level": 28,
          "sf": "preprocess at broadcast.jl:952 [inlined]",
          "status": "Default",
          "x1": 9581,
          "x2": 9595.9
         },
         {
          "level": 29,
          "sf": "preprocess_args at broadcast.jl:955 [inlined]",
          "status": "Default",
          "x1": 9581,
          "x2": 9595.9
         },
         {
          "level": 30,
          "sf": "preprocess_args at broadcast.jl:956 [inlined]",
          "status": "Default",
          "x1": 9581,
          "x2": 9595.9
         },
         {
          "level": 31,
          "sf": "preprocess at broadcast.jl:952 [inlined]",
          "status": "Default",
          "x1": 9581,
          "x2": 9595.9
         },
         {
          "level": 32,
          "sf": "preprocess_args at broadcast.jl:955 [inlined]",
          "status": "Default",
          "x1": 9581,
          "x2": 9595.9
         },
         {
          "level": 33,
          "sf": "preprocess_args at broadcast.jl:956 [inlined]",
          "status": "Default",
          "x1": 9581,
          "x2": 9595.9
         },
         {
          "level": 34,
          "sf": "preprocess at broadcast.jl:952 [inlined]",
          "status": "Default",
          "x1": 9581,
          "x2": 9595.9
         },
         {
          "level": 35,
          "sf": "preprocess_args at broadcast.jl:955 [inlined]",
          "status": "Default",
          "x1": 9581,
          "x2": 9595.9
         },
         {
          "level": 36,
          "sf": "preprocess_args at broadcast.jl:956 [inlined]",
          "status": "Default",
          "x1": 9581,
          "x2": 9595.9
         },
         {
          "level": 37,
          "sf": "preprocess at broadcast.jl:953 [inlined]",
          "status": "Default",
          "x1": 9581,
          "x2": 9595.9
         },
         {
          "level": 38,
          "sf": "extrude at broadcast.jl:645 [inlined]",
          "status": "Default",
          "x1": 9581,
          "x2": 9595.9
         },
         {
          "level": 39,
          "sf": "newindexer at broadcast.jl:598 [inlined]",
          "status": "Default",
          "x1": 9581,
          "x2": 9595.9
         },
         {
          "level": 40,
          "sf": "shapeindexer at broadcast.jl:599 [inlined]",
          "status": "Default",
          "x1": 9581,
          "x2": 9595.9
         },
         {
          "level": 41,
          "sf": "_newindexer at broadcast.jl:604 [inlined]",
          "status": "Default",
          "x1": 9581,
          "x2": 9595.9
         },
         {
          "level": 42,
          "sf": "!= at operators.jl:277 [inlined]",
          "status": "Default",
          "x1": 9581,
          "x2": 9595.9
         },
         {
          "level": 43,
          "sf": "== at promotion.jl:639 [inlined]",
          "status": "Default",
          "x1": 9581,
          "x2": 9595.9
         },
         {
          "level": 27,
          "sf": "copyto! at broadcast.jl:972 [inlined]",
          "status": "Default",
          "x1": 9596,
          "x2": 11168.9
         },
         {
          "level": 28,
          "sf": "macro expansion at array.jl:0 [inlined]",
          "status": "Default",
          "x1": 9596,
          "x2": 9597.9
         },
         {
          "level": 28,
          "sf": "macro expansion at simdloop.jl:0 [inlined]",
          "status": "Default",
          "x1": 9598,
          "x2": 9632.9
         },
         {
          "level": 28,
          "sf": "macro expansion at simdloop.jl:75 [inlined]",
          "status": "Default",
          "x1": 9633,
          "x2": 9641.9
         },
         {
          "level": 28,
          "sf": "macro expansion at simdloop.jl:77 [inlined]",
          "status": "Default",
          "x1": 9642,
          "x2": 11168.9
         },
         {
          "level": 29,
          "sf": "macro expansion at broadcast.jl:973 [inlined]",
          "status": "Default",
          "x1": 9642,
          "x2": 11168.9
         },
         {
          "level": 30,
          "sf": "getindex at broadcast.jl:610 [inlined]",
          "status": "Default",
          "x1": 9642,
          "x2": 11028.9
         },
         {
          "level": 31,
          "sf": "_broadcast_getindex at broadcast.jl:650 [inlined]",
          "status": "Default",
          "x1": 9642,
          "x2": 10842.9
         },
         {
          "level": 32,
          "sf": "_getindex at broadcast.jl:674 [inlined]",
          "status": "Default",
          "x1": 9642,
          "x2": 10842.9
         },
         {
          "level": 33,
          "sf": "_broadcast_getindex at broadcast.jl:644 [inlined]",
          "status": "Default",
          "x1": 9642,
          "x2": 9781.9
         },
         {
          "level": 34,
          "sf": "getindex at multidimensional.jl:702 [inlined]",
          "status": "Default",
          "x1": 9642,
          "x2": 9781.9
         },
         {
          "level": 35,
          "sf": "getindex at array.jl:930 [inlined]",
          "status": "Default",
          "x1": 9642,
          "x2": 9781.9
         },
         {
          "level": 36,
          "sf": "_to_linear_index at abstractarray.jl:1347 [inlined]",
          "status": "Default",
          "x1": 9642,
          "x2": 9659.9
         },
         {
          "level": 37,
          "sf": "_sub2ind at abstractarray.jl:3048 [inlined]",
          "status": "Default",
          "x1": 9642,
          "x2": 9659.9
         },
         {
          "level": 38,
          "sf": "_sub2ind at abstractarray.jl:3064 [inlined]",
          "status": "Default",
          "x1": 9642,
          "x2": 9659.9
         },
         {
          "level": 39,
          "sf": "_sub2ind_recurse at abstractarray.jl:3080 [inlined]",
          "status": "Default",
          "x1": 9642,
          "x2": 9659.9
         },
         {
          "level": 40,
          "sf": "_sub2ind_recurse at abstractarray.jl:3080 [inlined]",
          "status": "Default",
          "x1": 9642,
          "x2": 9643.9
         },
         {
          "level": 41,
          "sf": "* at int.jl:88 [inlined]",
          "status": "Default",
          "x1": 9642,
          "x2": 9643.9
         },
         {
          "level": 40,
          "sf": "+ at int.jl:87 [inlined]",
          "status": "Default",
          "x1": 9644,
          "x2": 9659.9
         },
         {
          "level": 36,
          "sf": "getindex at essentials.jl:917 [inlined]",
          "status": "Default",
          "x1": 9660,
          "x2": 9781.9
         },
         {
          "level": 33,
          "sf": "_getindex at broadcast.jl:675 [inlined]",
          "status": "Default",
          "x1": 9782,
          "x2": 10842.9
         },
         {
          "level": 34,
          "sf": "_broadcast_getindex at broadcast.jl:650 [inlined]",
          "status": "Default",
          "x1": 9782,
          "x2": 10766.9
         },
         {
          "level": 35,
          "sf": "_getindex at broadcast.jl:674 [inlined]",
          "status": "Default",
          "x1": 9782,
          "x2": 10766.9
         },
         {
          "level": 36,
          "sf": "_getindex at broadcast.jl:675 [inlined]",
          "status": "Default",
          "x1": 9782,
          "x2": 10766.9
         },
         {
          "level": 37,
          "sf": "_broadcast_getindex at broadcast.jl:650 [inlined]",
          "status": "Default",
          "x1": 9782,
          "x2": 10251.9
         },
         {
          "level": 38,
          "sf": "_getindex at broadcast.jl:674 [inlined]",
          "status": "Default",
          "x1": 9782,
          "x2": 10251.9
         },
         {
          "level": 39,
          "sf": "_broadcast_getindex at broadcast.jl:644 [inlined]",
          "status": "Default",
          "x1": 9782,
          "x2": 9982.9
         },
         {
          "level": 40,
          "sf": "getindex at multidimensional.jl:702 [inlined]",
          "status": "Default",
          "x1": 9782,
          "x2": 9982.9
         },
         {
          "level": 41,
          "sf": "getindex at array.jl:930 [inlined]",
          "status": "Default",
          "x1": 9782,
          "x2": 9982.9
         },
         {
          "level": 42,
          "sf": "getindex at essentials.jl:917 [inlined]",
          "status": "Default",
          "x1": 9782,
          "x2": 9982.9
         },
         {
          "level": 39,
          "sf": "_getindex at broadcast.jl:675 [inlined]",
          "status": "Default",
          "x1": 9983,
          "x2": 10251.9
         },
         {
          "level": 40,
          "sf": "_broadcast_getindex at broadcast.jl:644 [inlined]",
          "status": "Default",
          "x1": 9983,
          "x2": 10251.9
         },
         {
          "level": 41,
          "sf": "getindex at multidimensional.jl:702 [inlined]",
          "status": "Default",
          "x1": 9983,
          "x2": 10251.9
         },
         {
          "level": 42,
          "sf": "getindex at array.jl:930 [inlined]",
          "status": "Default",
          "x1": 9983,
          "x2": 10251.9
         },
         {
          "level": 43,
          "sf": "_to_linear_index at abstractarray.jl:1347 [inlined]",
          "status": "Default",
          "x1": 9983,
          "x2": 10070.9
         },
         {
          "level": 44,
          "sf": "_sub2ind at abstractarray.jl:3048 [inlined]",
          "status": "Default",
          "x1": 9983,
          "x2": 10070.9
         },
         {
          "level": 45,
          "sf": "_sub2ind at abstractarray.jl:3064 [inlined]",
          "status": "Default",
          "x1": 9983,
          "x2": 10070.9
         },
         {
          "level": 46,
          "sf": "_sub2ind_recurse at abstractarray.jl:3080 [inlined]",
          "status": "Default",
          "x1": 9983,
          "x2": 10070.9
         },
         {
          "level": 47,
          "sf": "_sub2ind_recurse at abstractarray.jl:3080 [inlined]",
          "status": "Default",
          "x1": 9983,
          "x2": 10070.9
         },
         {
          "level": 48,
          "sf": "* at int.jl:88 [inlined]",
          "status": "Default",
          "x1": 9983,
          "x2": 10011.9
         },
         {
          "level": 48,
          "sf": "+ at int.jl:87 [inlined]",
          "status": "Default",
          "x1": 10012,
          "x2": 10070.9
         },
         {
          "level": 43,
          "sf": "getindex at essentials.jl:917 [inlined]",
          "status": "Default",
          "x1": 10071,
          "x2": 10251.9
         },
         {
          "level": 37,
          "sf": "_broadcast_getindex at broadcast.jl:651 [inlined]",
          "status": "Default",
          "x1": 10252,
          "x2": 10766.9
         },
         {
          "level": 38,
          "sf": "_broadcast_getindex_evalf at broadcast.jl:678 [inlined]",
          "status": "Default",
          "x1": 10252,
          "x2": 10766.9
         },
         {
          "level": 39,
          "sf": "- at complex.jl:298 [inlined]",
          "status": "Default",
          "x1": 10252,
          "x2": 10766.9
         },
         {
          "level": 40,
          "sf": "- at float.jl:492 [inlined]",
          "status": "Default",
          "x1": 10252,
          "x2": 10766.9
         },
         {
          "level": 34,
          "sf": "_broadcast_getindex at broadcast.jl:651 [inlined]",
          "status": "Default",
          "x1": 10767,
          "x2": 10842.9
         },
         {
          "level": 35,
          "sf": "_broadcast_getindex_evalf at broadcast.jl:678 [inlined]",
          "status": "Default",
          "x1": 10767,
          "x2": 10842.9
         },
         {
          "level": 36,
          "sf": "* at complex.jl:342 [inlined]",
          "status": "Default",
          "x1": 10767,
          "x2": 10842.9
         },
         {
          "level": 37,
          "sf": "* at float.jl:493 [inlined]",
          "status": "Default",
          "x1": 10767,
          "x2": 10842.9
         },
         {
          "level": 31,
          "sf": "_broadcast_getindex at broadcast.jl:651 [inlined]",
          "status": "Default",
          "x1": 10843,
          "x2": 11028.9
         },
         {
          "level": 32,
          "sf": "_broadcast_getindex_evalf at broadcast.jl:678 [inlined]",
          "status": "Default",
          "x1": 10843,
          "x2": 11028.9
         },
         {
          "level": 33,
          "sf": "+ at complex.jl:297 [inlined]",
          "status": "Default",
          "x1": 10843,
          "x2": 11028.9
         },
         {
          "level": 34,
          "sf": "+ at float.jl:491 [inlined]",
          "status": "Default",
          "x1": 10843,
          "x2": 11028.9
         },
         {
          "level": 30,
          "sf": "setindex! at multidimensional.jl:704 [inlined]",
          "status": "Default",
          "x1": 11029,
          "x2": 11168.9
         },
         {
          "level": 31,
          "sf": "setindex! at array.jl:994 [inlined]",
          "status": "Default",
          "x1": 11029,
          "x2": 11168.9
         },
         {
          "level": 23,
          "sf": "iterate(iter::ProximalAlgorithms.FastForwardBackwardIteration{Float64, Matrix{ComplexF64}, ArraySignalProcessing.MyLeastSquares{ComplexF64, Matrix{ComplexF64}, Matrix{ComplexF64}}, ArraySignalProcessing.MyNormL21{Float64, Int64}, Nothing, Nothing, Nothing}, state::ProximalAlgorithms.FastForwardBackwardState{Float64, Matrix{ComplexF64}, ProximalAlgorithms.AdaptiveNesterovSequence{Float64}}) at fast_forward_backward.jl:138",
          "status": "Default",
          "x1": 11169,
          "x2": 13575.9
         },
         {
          "level": 24,
          "sf": "value_and_gradient(f::ArraySignalProcessing.MyLeastSquares{ComplexF64, Matrix{ComplexF64}, Matrix{ComplexF64}}, x::Matrix{ComplexF64}) at lasso.jl:47",
          "status": "Default",
          "x1": 11169,
          "x2": 11169.9
         },
         {
          "level": 24,
          "sf": "value_and_gradient(f::ArraySignalProcessing.MyLeastSquares{ComplexF64, Matrix{ComplexF64}, Matrix{ComplexF64}}, x::Matrix{ComplexF64}) at lasso.jl:49",
          "status": "Default",
          "x1": 11170,
          "x2": 11767.9
         },
         {
          "level": 25,
          "sf": "-(A::Matrix{ComplexF64}, B::Matrix{ComplexF64}) at arraymath.jl:8",
          "status": "Default",
          "x1": 11170,
          "x2": 11204.9
         },
         {
          "level": 26,
          "sf": "broadcast_preserving_zero_d at broadcast.jl:861 [inlined]",
          "status": "Default",
          "x1": 11170,
          "x2": 11204.9
         },
         {
          "level": 27,
          "sf": "materialize at broadcast.jl:872 [inlined]",
          "status": "Default",
          "x1": 11170,
          "x2": 11204.9
         },
         {
          "level": 28,
          "sf": "copy at broadcast.jl:897 [inlined]",
          "status": "Default",
          "x1": 11170,
          "x2": 11204.9
         },
         {
          "level": 29,
          "sf": "copyto! at broadcast.jl:925 [inlined]",
          "status": "Default",
          "x1": 11170,
          "x2": 11197.9
         },
         {
          "level": 30,
          "sf": "copyto! at broadcast.jl:969 [inlined]",
          "status": "Default",
          "x1": 11170,
          "x2": 11171.9
         },
         {
          "level": 31,
          "sf": "preprocess at broadcast.jl:952 [inlined]",
          "status": "Default",
          "x1": 11170,
          "x2": 11171.9
         },
         {
          "level": 32,
          "sf": "preprocess_args at broadcast.jl:955 [inlined]",
          "status": "Default",
          "x1": 11170,
          "x2": 11171.9
         },
         {
          "level": 33,
          "sf": "preprocess_args at broadcast.jl:956 [inlined]",
          "status": "Default",
          "x1": 11170,
          "x2": 11171.9
         },
         {
          "level": 34,
          "sf": "preprocess at broadcast.jl:953 [inlined]",
          "status": "Default",
          "x1": 11170,
          "x2": 11171.9
         },
         {
          "level": 35,
          "sf": "broadcast_unalias at broadcast.jl:946 [inlined]",
          "status": "Default",
          "x1": 11170,
          "x2": 11170.9
         },
         {
          "level": 36,
          "sf": "unalias at abstractarray.jl:1500 [inlined]",
          "status": "Default",
          "x1": 11170,
          "x2": 11170.9
         },
         {
          "level": 37,
          "sf": "mightalias at abstractarray.jl:1537 [inlined]",
          "status": "Default",
          "x1": 11170,
          "x2": 11170.9
         },
         {
          "level": 38,
          "sf": "isempty at abstractarray.jl:1212 [inlined]",
          "status": "Default",
          "x1": 11170,
          "x2": 11170.9
         },
         {
          "level": 39,
          "sf": "== at promotion.jl:639 [inlined]",
          "status": "Default",
          "x1": 11170,
          "x2": 11170.9
         },
         {
          "level": 35,
          "sf": "extrude at broadcast.jl:645 [inlined]",
          "status": "Default",
          "x1": 11171,
          "x2": 11171.9
         },
         {
          "level": 36,
          "sf": "newindexer at broadcast.jl:598 [inlined]",
          "status": "Default",
          "x1": 11171,
          "x2": 11171.9
         },
         {
          "level": 37,
          "sf": "shapeindexer at broadcast.jl:599 [inlined]",
          "status": "Default",
          "x1": 11171,
          "x2": 11171.9
         },
         {
          "level": 38,
          "sf": "_newindexer at broadcast.jl:604 [inlined]",
          "status": "Default",
          "x1": 11171,
          "x2": 11171.9
         },
         {
          "level": 39,
          "sf": "!= at operators.jl:277 [inlined]",
          "status": "Default",
          "x1": 11171,
          "x2": 11171.9
         },
         {
          "level": 40,
          "sf": "== at promotion.jl:639 [inlined]",
          "status": "Default",
          "x1": 11171,
          "x2": 11171.9
         },
         {
          "level": 30,
          "sf": "copyto! at broadcast.jl:972 [inlined]",
          "status": "Default",
          "x1": 11172,
          "x2": 11197.9
         },
         {
          "level": 31,
          "sf": "macro expansion at simdloop.jl:0 [inlined]",
          "status": "Default",
          "x1": 11172,
          "x2": 11172.9
         },
         {
          "level": 31,
          "sf": "macro expansion at simdloop.jl:75 [inlined]",
          "status": "Default",
          "x1": 11173,
          "x2": 11175.9
         },
         {
          "level": 31,
          "sf": "macro expansion at simdloop.jl:77 [inlined]",
          "status": "Default",
          "x1": 11176,
          "x2": 11197.9
         },
         {
          "level": 32,
          "sf": "macro expansion at broadcast.jl:973 [inlined]",
          "status": "Default",
          "x1": 11176,
          "x2": 11197.9
         },
         {
          "level": 33,
          "sf": "getindex at broadcast.jl:610 [inlined]",
          "status": "Default",
          "x1": 11176,
          "x2": 11185.9
         },
         {
          "level": 34,
          "sf": "_broadcast_getindex at broadcast.jl:650 [inlined]",
          "status": "Default",
          "x1": 11176,
          "x2": 11180.9
         },
         {
          "level": 35,
          "sf": "_getindex at broadcast.jl:674 [inlined]",
          "status": "Default",
          "x1": 11176,
          "x2": 11180.9
         },
         {
          "level": 36,
          "sf": "_broadcast_getindex at broadcast.jl:644 [inlined]",
          "status": "Default",
          "x1": 11176,
          "x2": 11176.9
         },
         {
          "level": 37,
          "sf": "getindex at multidimensional.jl:702 [inlined]",
          "status": "Default",
          "x1": 11176,
          "x2": 11176.9
         },
         {
          "level": 38,
          "sf": "getindex at array.jl:930 [inlined]",
          "status": "Default",
          "x1": 11176,
          "x2": 11176.9
         },
         {
          "level": 39,
          "sf": "getindex at essentials.jl:917 [inlined]",
          "status": "Default",
          "x1": 11176,
          "x2": 11176.9
         },
         {
          "level": 36,
          "sf": "_getindex at broadcast.jl:675 [inlined]",
          "status": "Default",
          "x1": 11177,
          "x2": 11180.9
         },
         {
          "level": 37,
          "sf": "_broadcast_getindex at broadcast.jl:644 [inlined]",
          "status": "Default",
          "x1": 11177,
          "x2": 11180.9
         },
         {
          "level": 38,
          "sf": "getindex at multidimensional.jl:702 [inlined]",
          "status": "Default",
          "x1": 11177,
          "x2": 11180.9
         },
         {
          "level": 39,
          "sf": "getindex at array.jl:930 [inlined]",
          "status": "Default",
          "x1": 11177,
          "x2": 11180.9
         },
         {
          "level": 40,
          "sf": "getindex at essentials.jl:917 [inlined]",
          "status": "Default",
          "x1": 11177,
          "x2": 11180.9
         },
         {
          "level": 34,
          "sf": "_broadcast_getindex at broadcast.jl:651 [inlined]",
          "status": "Default",
          "x1": 11181,
          "x2": 11185.9
         },
         {
          "level": 35,
          "sf": "_broadcast_getindex_evalf at broadcast.jl:678 [inlined]",
          "status": "Default",
          "x1": 11181,
          "x2": 11185.9
         },
         {
          "level": 36,
          "sf": "- at complex.jl:298 [inlined]",
          "status": "Default",
          "x1": 11181,
          "x2": 11185.9
         },
         {
          "level": 37,
          "sf": "- at float.jl:492 [inlined]",
          "status": "Default",
          "x1": 11181,
          "x2": 11185.9
         },
         {
          "level": 33,
          "sf": "setindex! at multidimensional.jl:704 [inlined]",
          "status": "Default",
          "x1": 11186,
          "x2": 11197.9
         },
         {
          "level": 34,
          "sf": "setindex! at array.jl:994 [inlined]",
          "status": "Default",
          "x1": 11186,
          "x2": 11197.9
         },
         {
          "level": 29,
          "sf": "similar at broadcast.jl:223 [inlined]",
          "status": "Default",
          "x1": 11198,
          "x2": 11204.9
         },
         {
          "level": 30,
          "sf": "similar at broadcast.jl:224 [inlined]",
          "status": "Default",
          "x1": 11198,
          "x2": 11204.9
         },
         {
          "level": 31,
          "sf": "similar at abstractarray.jl:867 [inlined]",
          "status": "Default",
          "x1": 11198,
          "x2": 11204.9
         },
         {
          "level": 32,
          "sf": "similar at abstractarray.jl:868 [inlined]",
          "status": "Default",
          "x1": 11198,
          "x2": 11204.9
         },
         {
          "level": 33,
          "sf": "Array at boot.jl:599 [inlined]",
          "status": "Default",
          "x1": 11198,
          "x2": 11204.9
         },
         {
          "level": 34,
          "sf": "Array at boot.jl:592 [inlined]",
          "status": "Default",
          "x1": 11198,
          "x2": 11204.9
         },
         {
          "level": 35,
          "sf": "Array at boot.jl:582 [inlined]",
          "status": "Default",
          "x1": 11198,
          "x2": 11204.9
         },
         {
          "level": 36,
          "sf": "new_as_memoryref at boot.jl:535 [inlined]",
          "status": "Default",
          "x1": 11198,
          "x2": 11204.9
         },
         {
          "level": 37,
          "sf": "GenericMemory at boot.jl:516 [inlined]",
          "status": "Garbage collection",
          "x1": 11198,
          "x2": 11204.9
         },
         {
          "level": 25,
          "sf": "* at matmul.jl:130 [inlined]",
          "status": "Default",
          "x1": 11205,
          "x2": 11767.9
         },
         {
          "level": 26,
          "sf": "similar at array.jl:372 [inlined]",
          "status": "Default",
          "x1": 11205,
          "x2": 11248.9
         },
         {
          "level": 27,
          "sf": "Array at boot.jl:592 [inlined]",
          "status": "Default",
          "x1": 11205,
          "x2": 11248.9
         },
         {
          "level": 28,
          "sf": "Array at boot.jl:582 [inlined]",
          "status": "Default",
          "x1": 11205,
          "x2": 11248.9
         },
         {
          "level": 29,
          "sf": "new_as_memoryref at boot.jl:535 [inlined]",
          "status": "Default",
          "x1": 11205,
          "x2": 11248.9
         },
         {
          "level": 30,
          "sf": "GenericMemory at boot.jl:516 [inlined]",
          "status": "Garbage collection",
          "x1": 11205,
          "x2": 11248.9
         },
         {
          "level": 26,
          "sf": "mul! at matmul.jl:253 [inlined]",
          "status": "Default",
          "x1": 11249,
          "x2": 11767.9
         },
         {
          "level": 27,
          "sf": "mul! at matmul.jl:285 [inlined]",
          "status": "Default",
          "x1": 11249,
          "x2": 11767.9
         },
         {
          "level": 28,
          "sf": "_mul! at matmul.jl:287 [inlined]",
          "status": "Default",
          "x1": 11249,
          "x2": 11767.9
         },
         {
          "level": 29,
          "sf": "generic_matmatmul! at matmul.jl:381 [inlined]",
          "status": "Default",
          "x1": 11249,
          "x2": 11767.9
         },
         {
          "level": 30,
          "sf": "gemm_wrapper!(C::Matrix{ComplexF64}, tA::Char, tB::Char, A::Matrix{ComplexF64}, B::Matrix{ComplexF64}, _add::LinearAlgebra.MulAddMul{true, true, Bool, Bool}) at matmul.jl:657",
          "status": "Default",
          "x1": 11249,
          "x2": 11767.9
         },
         {
          "level": 31,
          "sf": "gemm!(transA::Char, transB::Char, alpha::ComplexF64, A::Matrix{ComplexF64}, B::Matrix{ComplexF64}, beta::ComplexF64, C::Matrix{ComplexF64}) at blas.jl:1644",
          "status": "Default",
          "x1": 11249,
          "x2": 11767.9
         },
         {
          "level": 24,
          "sf": "value_and_gradient(f::ArraySignalProcessing.MyLeastSquares{ComplexF64, Matrix{ComplexF64}, Matrix{ComplexF64}}, x::Matrix{ComplexF64}) at lasso.jl:50",
          "status": "Default",
          "x1": 11768,
          "x2": 11775.9
         },
         {
          "level": 25,
          "sf": "sum at reducedim.jl:983 [inlined]",
          "status": "Default",
          "x1": 11768,
          "x2": 11775.9
         },
         {
          "level": 26,
          "sf": "#sum#936 at reducedim.jl:983 [inlined]",
          "status": "Default",
          "x1": 11768,
          "x2": 11775.9
         },
         {
          "level": 27,
          "sf": "_sum at reducedim.jl:987 [inlined]",
          "status": "Default",
          "x1": 11768,
          "x2": 11775.9
         },
         {
          "level": 28,
          "sf": "#_sum#938 at reducedim.jl:987 [inlined]",
          "status": "Default",
          "x1": 11768,
          "x2": 11775.9
         },
         {
          "level": 29,
          "sf": "mapreduce at reducedim.jl:329 [inlined]",
          "status": "Default",
          "x1": 11768,
          "x2": 11775.9
         },
         {
          "level": 30,
          "sf": "#mapreduce#928 at reducedim.jl:329 [inlined]",
          "status": "Default",
          "x1": 11768,
          "x2": 11775.9
         },
         {
          "level": 31,
          "sf": "_mapreduce_dim at reducedim.jl:337 [inlined]",
          "status": "Default",
          "x1": 11768,
          "x2": 11775.9
         },
         {
          "level": 32,
          "sf": "_mapreduce(f::typeof(abs2), op::typeof(Base.add_sum), ::IndexLinear, A::Matrix{ComplexF64}) at reduce.jl:444",
          "status": "Default",
          "x1": 11768,
          "x2": 11775.9
         },
         {
          "level": 33,
          "sf": "mapreduce_impl at reduce.jl:277 [inlined]",
          "status": "Default",
          "x1": 11768,
          "x2": 11775.9
         },
         {
          "level": 34,
          "sf": "mapreduce_impl(f::typeof(abs2), op::typeof(Base.add_sum), A::Matrix{ComplexF64}, ifirst::Int64, ilast::Int64, blksize::Int64) at reduce.jl:253",
          "status": "Default",
          "x1": 11768,
          "x2": 11768.9
         },
         {
          "level": 34,
          "sf": "mapreduce_impl(f::typeof(abs2), op::typeof(Base.add_sum), A::Matrix{ComplexF64}, ifirst::Int64, ilast::Int64, blksize::Int64) at reduce.jl:271",
          "status": "Default",
          "x1": 11769,
          "x2": 11771.9
         },
         {
          "level": 35,
          "sf": "mapreduce_impl(f::typeof(abs2), op::typeof(Base.add_sum), A::Matrix{ComplexF64}, ifirst::Int64, ilast::Int64, blksize::Int64) at reduce.jl:271",
          "status": "Default",
          "x1": 11769,
          "x2": 11769.9
         },
         {
          "level": 36,
          "sf": "mapreduce_impl(f::typeof(abs2), op::typeof(Base.add_sum), A::Matrix{ComplexF64}, ifirst::Int64, ilast::Int64, blksize::Int64) at reduce.jl:263",
          "status": "Default",
          "x1": 11769,
          "x2": 11769.9
         },
         {
          "level": 37,
          "sf": "macro expansion at simdloop.jl:78 [inlined]",
          "status": "Default",
          "x1": 11769,
          "x2": 11769.9
         },
         {
          "level": 38,
          "sf": "+ at int.jl:87 [inlined]",
          "status": "Default",
          "x1": 11769,
          "x2": 11769.9
         },
         {
          "level": 35,
          "sf": "mapreduce_impl(f::typeof(abs2), op::typeof(Base.add_sum), A::Matrix{ComplexF64}, ifirst::Int64, ilast::Int64, blksize::Int64) at reduce.jl:272",
          "status": "Default",
          "x1": 11770,
          "x2": 11771.9
         },
         {
          "level": 36,
          "sf": "mapreduce_impl(f::typeof(abs2), op::typeof(Base.add_sum), A::Matrix{ComplexF64}, ifirst::Int64, ilast::Int64, blksize::Int64) at reduce.jl:263",
          "status": "Default",
          "x1": 11770,
          "x2": 11771.9
         },
         {
          "level": 37,
          "sf": "macro expansion at simdloop.jl:77 [inlined]",
          "status": "Default",
          "x1": 11770,
          "x2": 11771.9
         },
         {
          "level": 38,
          "sf": "macro expansion at reduce.jl:264 [inlined]",
          "status": "Default",
          "x1": 11770,
          "x2": 11771.9
         },
         {
          "level": 39,
          "sf": "getindex at essentials.jl:917 [inlined]",
          "status": "Default",
          "x1": 11770,
          "x2": 11771.9
         },
         {
          "level": 34,
          "sf": "mapreduce_impl(f::typeof(abs2), op::typeof(Base.add_sum), A::Matrix{ComplexF64}, ifirst::Int64, ilast::Int64, blksize::Int64) at reduce.jl:272",
          "status": "Default",
          "x1": 11772,
          "x2": 11775.9
         },
         {
          "level": 35,
          "sf": "mapreduce_impl(f::typeof(abs2), op::typeof(Base.add_sum), A::Matrix{ComplexF64}, ifirst::Int64, ilast::Int64, blksize::Int64) at reduce.jl:271",
          "status": "Default",
          "x1": 11772,
          "x2": 11774.9
         },
         {
          "level": 36,
          "sf": "mapreduce_impl(f::typeof(abs2), op::typeof(Base.add_sum), A::Matrix{ComplexF64}, ifirst::Int64, ilast::Int64, blksize::Int64) at reduce.jl:263",
          "status": "Default",
          "x1": 11772,
          "x2": 11774.9
         },
         {
          "level": 37,
          "sf": "macro expansion at simdloop.jl:77 [inlined]",
          "status": "Default",
          "x1": 11772,
          "x2": 11773.9
         },
         {
          "level": 38,
          "sf": "macro expansion at reduce.jl:264 [inlined]",
          "status": "Default",
          "x1": 11772,
          "x2": 11772.9
         },
         {
          "level": 39,
          "sf": "getindex at essentials.jl:917 [inlined]",
          "status": "Default",
          "x1": 11772,
          "x2": 11772.9
         },
         {
          "level": 38,
          "sf": "macro expansion at reduce.jl:265 [inlined]",
          "status": "Default",
          "x1": 11773,
          "x2": 11773.9
         },
         {
          "level": 39,
          "sf": "add_sum at reduce.jl:27 [inlined]",
          "status": "Default",
          "x1": 11773,
          "x2": 11773.9
         },
         {
          "level": 40,
          "sf": "+ at float.jl:491 [inlined]",
          "status": "Default",
          "x1": 11773,
          "x2": 11773.9
         },
         {
          "level": 37,
          "sf": "macro expansion at simdloop.jl:78 [inlined]",
          "status": "Default",
          "x1": 11774,
          "x2": 11774.9
         },
         {
          "level": 38,
          "sf": "+ at int.jl:87 [inlined]",
          "status": "Default",
          "x1": 11774,
          "x2": 11774.9
         },
         {
          "level": 35,
          "sf": "mapreduce_impl(f::typeof(abs2), op::typeof(Base.add_sum), A::Matrix{ComplexF64}, ifirst::Int64, ilast::Int64, blksize::Int64) at reduce.jl:272",
          "status": "Default",
          "x1": 11775,
          "x2": 11775.9
         },
         {
          "level": 36,
          "sf": "mapreduce_impl(f::typeof(abs2), op::typeof(Base.add_sum), A::Matrix{ComplexF64}, ifirst::Int64, ilast::Int64, blksize::Int64) at reduce.jl:263",
          "status": "Default",
          "x1": 11775,
          "x2": 11775.9
         },
         {
          "level": 37,
          "sf": "macro expansion at simdloop.jl:77 [inlined]",
          "status": "Default",
          "x1": 11775,
          "x2": 11775.9
         },
         {
          "level": 38,
          "sf": "macro expansion at reduce.jl:265 [inlined]",
          "status": "Default",
          "x1": 11775,
          "x2": 11775.9
         },
         {
          "level": 39,
          "sf": "add_sum at reduce.jl:27 [inlined]",
          "status": "Default",
          "x1": 11775,
          "x2": 11775.9
         },
         {
          "level": 40,
          "sf": "+ at float.jl:491 [inlined]",
          "status": "Default",
          "x1": 11775,
          "x2": 11775.9
         },
         {
          "level": 24,
          "sf": "value_and_gradient(f::ArraySignalProcessing.MyLeastSquares{ComplexF64, Matrix{ComplexF64}, Matrix{ComplexF64}}, x::Matrix{ComplexF64}) at lasso.jl:51",
          "status": "Default",
          "x1": 11776,
          "x2": 13575.9
         },
         {
          "level": 25,
          "sf": "* at matmul.jl:130 [inlined]",
          "status": "Default",
          "x1": 11776,
          "x2": 13575.9
         },
         {
          "level": 26,
          "sf": "similar at array.jl:372 [inlined]",
          "status": "Default",
          "x1": 11776,
          "x2": 12975.9
         },
         {
          "level": 27,
          "sf": "Array at boot.jl:592 [inlined]",
          "status": "Default",
          "x1": 11776,
          "x2": 12975.9
         },
         {
          "level": 28,
          "sf": "Array at boot.jl:582 [inlined]",
          "status": "Default",
          "x1": 11776,
          "x2": 12975.9
         },
         {
          "level": 29,
          "sf": "new_as_memoryref at boot.jl:535 [inlined]",
          "status": "Default",
          "x1": 11776,
          "x2": 12975.9
         },
         {
          "level": 30,
          "sf": "GenericMemory at boot.jl:516 [inlined]",
          "status": "Garbage collection",
          "x1": 11776,
          "x2": 12975.9
         },
         {
          "level": 26,
          "sf": "mul! at matmul.jl:253 [inlined]",
          "status": "Default",
          "x1": 12976,
          "x2": 13575.9
         },
         {
          "level": 27,
          "sf": "mul! at matmul.jl:285 [inlined]",
          "status": "Default",
          "x1": 12976,
          "x2": 13575.9
         },
         {
          "level": 28,
          "sf": "_mul! at matmul.jl:287 [inlined]",
          "status": "Default",
          "x1": 12976,
          "x2": 13575.9
         },
         {
          "level": 29,
          "sf": "generic_matmatmul! at matmul.jl:381 [inlined]",
          "status": "Default",
          "x1": 12976,
          "x2": 13575.9
         },
         {
          "level": 30,
          "sf": "gemm_wrapper!(C::Matrix{ComplexF64}, tA::Char, tB::Char, A::Matrix{ComplexF64}, B::Matrix{ComplexF64}, _add::LinearAlgebra.MulAddMul{true, true, Bool, Bool}) at matmul.jl:657",
          "status": "Default",
          "x1": 12976,
          "x2": 13575.9
         },
         {
          "level": 31,
          "sf": "gemm!(transA::Char, transB::Char, alpha::ComplexF64, A::Matrix{ComplexF64}, B::Matrix{ComplexF64}, beta::ComplexF64, C::Matrix{ComplexF64}) at blas.jl:1644",
          "status": "Default",
          "x1": 12976,
          "x2": 13575.9
         },
         {
          "level": 23,
          "sf": "iterate(iter::ProximalAlgorithms.FastForwardBackwardIteration{Float64, Matrix{ComplexF64}, ArraySignalProcessing.MyLeastSquares{ComplexF64, Matrix{ComplexF64}, Matrix{ComplexF64}}, ArraySignalProcessing.MyNormL21{Float64, Int64}, Nothing, Nothing, Nothing}, state::ProximalAlgorithms.FastForwardBackwardState{Float64, Matrix{ComplexF64}, ProximalAlgorithms.AdaptiveNesterovSequence{Float64}}) at fast_forward_backward.jl:139",
          "status": "Default",
          "x1": 13576,
          "x2": 14146.9
         },
         {
          "level": 24,
          "sf": "dotgetproperty at Base.jl:56 [inlined]",
          "status": "Default",
          "x1": 13576,
          "x2": 13576.9
         },
         {
          "level": 25,
          "sf": "getproperty at Base.jl:49 [inlined]",
          "status": "Default",
          "x1": 13576,
          "x2": 13576.9
         },
         {
          "level": 24,
          "sf": "materialize! at broadcast.jl:880 [inlined]",
          "status": "Default",
          "x1": 13577,
          "x2": 14146.9
         },
         {
          "level": 25,
          "sf": "materialize! at broadcast.jl:883 [inlined]",
          "status": "Default",
          "x1": 13577,
          "x2": 14146.9
         },
         {
          "level": 26,
          "sf": "copyto! at broadcast.jl:925 [inlined]",
          "status": "Default",
          "x1": 13577,
          "x2": 14146.9
         },
         {
          "level": 27,
          "sf": "copyto! at broadcast.jl:966 [inlined]",
          "status": "Default",
          "x1": 13577,
          "x2": 14146.9
         },
         {
          "level": 28,
          "sf": "copyto! at array.jl:322 [inlined]",
          "status": "Default",
          "x1": 13577,
          "x2": 14146.9
         },
         {
          "level": 29,
          "sf": "copyto! at array.jl:299 [inlined]",
          "status": "Default",
          "x1": 13577,
          "x2": 14146.9
         },
         {
          "level": 30,
          "sf": "_copyto_impl! at array.jl:308 [inlined]",
          "status": "Default",
          "x1": 13577,
          "x2": 14146.9
         },
         {
          "level": 31,
          "sf": "unsafe_copyto! at genericmemory.jl:121 [inlined]",
          "status": "Default",
          "x1": 13577,
          "x2": 14146.9
         },
         {
          "level": 32,
          "sf": "memmove at cmem.jl:28 [inlined]",
          "status": "Default",
          "x1": 13577,
          "x2": 14146.9
         },
         {
          "level": 23,
          "sf": "iterate(iter::ProximalAlgorithms.FastForwardBackwardIteration{Float64, Matrix{ComplexF64}, ArraySignalProcessing.MyLeastSquares{ComplexF64, Matrix{ComplexF64}, Matrix{ComplexF64}}, ArraySignalProcessing.MyNormL21{Float64, Int64}, Nothing, Nothing, Nothing}, state::ProximalAlgorithms.FastForwardBackwardState{Float64, Matrix{ComplexF64}, ProximalAlgorithms.AdaptiveNesterovSequence{Float64}}) at fast_forward_backward.jl:140",
          "status": "Default",
          "x1": 14147,
          "x2": 15656.9
         },
         {
          "level": 24,
          "sf": "dotgetproperty at Base.jl:56 [inlined]",
          "status": "Default",
          "x1": 14147,
          "x2": 14148.9
         },
         {
          "level": 25,
          "sf": "getproperty at Base.jl:49 [inlined]",
          "status": "Default",
          "x1": 14147,
          "x2": 14148.9
         },
         {
          "level": 24,
          "sf": "materialize! at broadcast.jl:880 [inlined]",
          "status": "Default",
          "x1": 14149,
          "x2": 15656.9
         },
         {
          "level": 25,
          "sf": "materialize! at broadcast.jl:883 [inlined]",
          "status": "Default",
          "x1": 14149,
          "x2": 15656.9
         },
         {
          "level": 26,
          "sf": "copyto! at broadcast.jl:925 [inlined]",
          "status": "Default",
          "x1": 14149,
          "x2": 15656.9
         },
         {
          "level": 27,
          "sf": "copyto! at broadcast.jl:969 [inlined]",
          "status": "Default",
          "x1": 14149,
          "x2": 14151.9
         },
         {
          "level": 28,
          "sf": "preprocess at broadcast.jl:952 [inlined]",
          "status": "Default",
          "x1": 14149,
          "x2": 14151.9
         },
         {
          "level": 29,
          "sf": "preprocess_args at broadcast.jl:955 [inlined]",
          "status": "Default",
          "x1": 14149,
          "x2": 14151.9
         },
         {
          "level": 30,
          "sf": "preprocess at broadcast.jl:953 [inlined]",
          "status": "Default",
          "x1": 14149,
          "x2": 14149.9
         },
         {
          "level": 31,
          "sf": "broadcast_unalias at broadcast.jl:946 [inlined]",
          "status": "Default",
          "x1": 14149,
          "x2": 14149.9
         },
         {
          "level": 32,
          "sf": "unalias at abstractarray.jl:1500 [inlined]",
          "status": "Default",
          "x1": 14149,
          "x2": 14149.9
         },
         {
          "level": 33,
          "sf": "mightalias at abstractarray.jl:1537 [inlined]",
          "status": "Default",
          "x1": 14149,
          "x2": 14149.9
         },
         {
          "level": 30,
          "sf": "preprocess_args at broadcast.jl:956 [inlined]",
          "status": "Default",
          "x1": 14150,
          "x2": 14151.9
         },
         {
          "level": 31,
          "sf": "preprocess at broadcast.jl:952 [inlined]",
          "status": "Default",
          "x1": 14150,
          "x2": 14151.9
         },
         {
          "level": 32,
          "sf": "preprocess_args at broadcast.jl:955 [inlined]",
          "status": "Default",
          "x1": 14150,
          "x2": 14151.9
         },
         {
          "level": 33,
          "sf": "preprocess_args at broadcast.jl:956 [inlined]",
          "status": "Default",
          "x1": 14150,
          "x2": 14151.9
         },
         {
          "level": 34,
          "sf": "preprocess at broadcast.jl:953 [inlined]",
          "status": "Default",
          "x1": 14150,
          "x2": 14151.9
         },
         {
          "level": 35,
          "sf": "extrude at broadcast.jl:645 [inlined]",
          "status": "Default",
          "x1": 14150,
          "x2": 14151.9
         },
         {
          "level": 36,
          "sf": "newindexer at broadcast.jl:598 [inlined]",
          "status": "Default",
          "x1": 14150,
          "x2": 14151.9
         },
         {
          "level": 37,
          "sf": "shapeindexer at broadcast.jl:599 [inlined]",
          "status": "Default",
          "x1": 14150,
          "x2": 14151.9
         },
         {
          "level": 38,
          "sf": "_newindexer at broadcast.jl:603 [inlined]",
          "status": "Default",
          "x1": 14150,
          "x2": 14150.9
         },
         {
          "level": 39,
          "sf": "_newindexer at broadcast.jl:604 [inlined]",
          "status": "Default",
          "x1": 14150,
          "x2": 14150.9
         },
         {
          "level": 40,
          "sf": "!= at operators.jl:277 [inlined]",
          "status": "Default",
          "x1": 14150,
          "x2": 14150.9
         },
         {
          "level": 41,
          "sf": "== at promotion.jl:639 [inlined]",
          "status": "Default",
          "x1": 14150,
          "x2": 14150.9
         },
         {
          "level": 38,
          "sf": "_newindexer at broadcast.jl:604 [inlined]",
          "status": "Default",
          "x1": 14151,
          "x2": 14151.9
         },
         {
          "level": 39,
          "sf": "!= at operators.jl:277 [inlined]",
          "status": "Default",
          "x1": 14151,
          "x2": 14151.9
         },
         {
          "level": 40,
          "sf": "== at promotion.jl:639 [inlined]",
          "status": "Default",
          "x1": 14151,
          "x2": 14151.9
         },
         {
          "level": 27,
          "sf": "copyto! at broadcast.jl:972 [inlined]",
          "status": "Default",
          "x1": 14152,
          "x2": 15656.9
         },
         {
          "level": 28,
          "sf": "macro expansion at simdloop.jl:0 [inlined]",
          "status": "Default",
          "x1": 14152,
          "x2": 14165.9
         },
         {
          "level": 28,
          "sf": "macro expansion at simdloop.jl:72 [inlined]",
          "status": "Default",
          "x1": 14166,
          "x2": 14166.9
         },
         {
          "level": 28,
          "sf": "macro expansion at simdloop.jl:75 [inlined]",
          "status": "Default",
          "x1": 14167,
          "x2": 14176.9
         },
         {
          "level": 28,
          "sf": "macro expansion at simdloop.jl:77 [inlined]",
          "status": "Default",
          "x1": 14177,
          "x2": 15656.9
         },
         {
          "level": 29,
          "sf": "macro expansion at broadcast.jl:973 [inlined]",
          "status": "Default",
          "x1": 14177,
          "x2": 15656.9
         },
         {
          "level": 30,
          "sf": "getindex at broadcast.jl:610 [inlined]",
          "status": "Default",
          "x1": 14177,
          "x2": 15403.9
         },
         {
          "level": 31,
          "sf": "_broadcast_getindex at broadcast.jl:650 [inlined]",
          "status": "Default",
          "x1": 14177,
          "x2": 15362.9
         },
         {
          "level": 32,
          "sf": "_getindex at broadcast.jl:674 [inlined]",
          "status": "Default",
          "x1": 14177,
          "x2": 15362.9
         },
         {
          "level": 33,
          "sf": "_broadcast_getindex at broadcast.jl:644 [inlined]",
          "status": "Default",
          "x1": 14177,
          "x2": 14422.9
         },
         {
          "level": 34,
          "sf": "getindex at multidimensional.jl:702 [inlined]",
          "status": "Default",
          "x1": 14177,
          "x2": 14422.9
         },
         {
          "level": 35,
          "sf": "getindex at array.jl:930 [inlined]",
          "status": "Default",
          "x1": 14177,
          "x2": 14422.9
         },
         {
          "level": 36,
          "sf": "_to_linear_index at abstractarray.jl:1347 [inlined]",
          "status": "Default",
          "x1": 14177,
          "x2": 14205.9
         },
         {
          "level": 37,
          "sf": "_sub2ind at abstractarray.jl:3048 [inlined]",
          "status": "Default",
          "x1": 14177,
          "x2": 14205.9
         },
         {
          "level": 38,
          "sf": "_sub2ind at abstractarray.jl:3064 [inlined]",
          "status": "Default",
          "x1": 14177,
          "x2": 14205.9
         },
         {
          "level": 39,
          "sf": "_sub2ind_recurse at abstractarray.jl:3080 [inlined]",
          "status": "Default",
          "x1": 14177,
          "x2": 14205.9
         },
         {
          "level": 40,
          "sf": "_sub2ind_recurse at abstractarray.jl:3080 [inlined]",
          "status": "Default",
          "x1": 14177,
          "x2": 14192.9
         },
         {
          "level": 41,
          "sf": "* at int.jl:88 [inlined]",
          "status": "Default",
          "x1": 14177,
          "x2": 14192.9
         },
         {
          "level": 40,
          "sf": "+ at int.jl:87 [inlined]",
          "status": "Default",
          "x1": 14193,
          "x2": 14205.9
         },
         {
          "level": 36,
          "sf": "getindex at essentials.jl:917 [inlined]",
          "status": "Default",
          "x1": 14206,
          "x2": 14422.9
         },
         {
          "level": 33,
          "sf": "_getindex at broadcast.jl:675 [inlined]",
          "status": "Default",
          "x1": 14423,
          "x2": 15362.9
         },
         {
          "level": 34,
          "sf": "_broadcast_getindex at broadcast.jl:650 [inlined]",
          "status": "Default",
          "x1": 14423,
          "x2": 14519.9
         },
         {
          "level": 35,
          "sf": "_getindex at broadcast.jl:674 [inlined]",
          "status": "Default",
          "x1": 14423,
          "x2": 14519.9
         },
         {
          "level": 36,
          "sf": "_getindex at broadcast.jl:675 [inlined]",
          "status": "Default",
          "x1": 14423,
          "x2": 14519.9
         },
         {
          "level": 37,
          "sf": "_broadcast_getindex at broadcast.jl:644 [inlined]",
          "status": "Default",
          "x1": 14423,
          "x2": 14519.9
         },
         {
          "level": 38,
          "sf": "getindex at multidimensional.jl:702 [inlined]",
          "status": "Default",
          "x1": 14423,
          "x2": 14519.9
         },
         {
          "level": 39,
          "sf": "getindex at array.jl:930 [inlined]",
          "status": "Default",
          "x1": 14423,
          "x2": 14519.9
         },
         {
          "level": 40,
          "sf": "_to_linear_index at abstractarray.jl:1347 [inlined]",
          "status": "Default",
          "x1": 14423,
          "x2": 14447.9
         },
         {
          "level": 41,
          "sf": "_sub2ind at abstractarray.jl:3048 [inlined]",
          "status": "Default",
          "x1": 14423,
          "x2": 14447.9
         },
         {
          "level": 42,
          "sf": "_sub2ind at abstractarray.jl:3064 [inlined]",
          "status": "Default",
          "x1": 14423,
          "x2": 14447.9
         },
         {
          "level": 43,
          "sf": "_sub2ind_recurse at abstractarray.jl:3080 [inlined]",
          "status": "Default",
          "x1": 14423,
          "x2": 14447.9
         },
         {
          "level": 44,
          "sf": "_sub2ind_recurse at abstractarray.jl:3080 [inlined]",
          "status": "Default",
          "x1": 14423,
          "x2": 14447.9
         },
         {
          "level": 45,
          "sf": "* at int.jl:88 [inlined]",
          "status": "Default",
          "x1": 14423,
          "x2": 14447.9
         },
         {
          "level": 40,
          "sf": "getindex at essentials.jl:917 [inlined]",
          "status": "Default",
          "x1": 14448,
          "x2": 14519.9
         },
         {
          "level": 34,
          "sf": "_broadcast_getindex at broadcast.jl:651 [inlined]",
          "status": "Default",
          "x1": 14520,
          "x2": 15362.9
         },
         {
          "level": 35,
          "sf": "_broadcast_getindex_evalf at broadcast.jl:678 [inlined]",
          "status": "Default",
          "x1": 14520,
          "x2": 15362.9
         },
         {
          "level": 36,
          "sf": "* at complex.jl:342 [inlined]",
          "status": "Default",
          "x1": 14520,
          "x2": 15362.9
         },
         {
          "level": 37,
          "sf": "* at float.jl:493 [inlined]",
          "status": "Default",
          "x1": 14520,
          "x2": 15362.9
         },
         {
          "level": 31,
          "sf": "_broadcast_getindex at broadcast.jl:651 [inlined]",
          "status": "Default",
          "x1": 15363,
          "x2": 15403.9
         },
         {
          "level": 32,
          "sf": "_broadcast_getindex_evalf at broadcast.jl:678 [inlined]",
          "status": "Default",
          "x1": 15363,
          "x2": 15403.9
         },
         {
          "level": 33,
          "sf": "- at complex.jl:298 [inlined]",
          "status": "Default",
          "x1": 15363,
          "x2": 15403.9
         },
         {
          "level": 34,
          "sf": "- at float.jl:492 [inlined]",
          "status": "Default",
          "x1": 15363,
          "x2": 15403.9
         },
         {
          "level": 30,
          "sf": "setindex! at multidimensional.jl:704 [inlined]",
          "status": "Default",
          "x1": 15404,
          "x2": 15656.9
         },
         {
          "level": 31,
          "sf": "setindex! at array.jl:994 [inlined]",
          "status": "Default",
          "x1": 15404,
          "x2": 15656.9
         },
         {
          "level": 23,
          "sf": "iterate(iter::ProximalAlgorithms.FastForwardBackwardIteration{Float64, Matrix{ComplexF64}, ArraySignalProcessing.MyLeastSquares{ComplexF64, Matrix{ComplexF64}, Matrix{ComplexF64}}, ArraySignalProcessing.MyNormL21{Float64, Int64}, Nothing, Nothing, Nothing}, state::ProximalAlgorithms.FastForwardBackwardState{Float64, Matrix{ComplexF64}, ProximalAlgorithms.AdaptiveNesterovSequence{Float64}}) at fast_forward_backward.jl:141",
          "status": "Default",
          "x1": 15657,
          "x2": 16947.9
         },
         {
          "level": 24,
          "sf": "prox!(Y::Matrix{ComplexF64}, f::ArraySignalProcessing.MyNormL21{Float64, Int64}, X::Matrix{ComplexF64}, gamma::Float64) at lasso.jl:23",
          "status": "Default",
          "x1": 15657,
          "x2": 15657.9
         },
         {
          "level": 25,
          "sf": "* at float.jl:493 [inlined]",
          "status": "Default",
          "x1": 15657,
          "x2": 15657.9
         },
         {
          "level": 24,
          "sf": "prox!(Y::Matrix{ComplexF64}, f::ArraySignalProcessing.MyNormL21{Float64, Int64}, X::Matrix{ComplexF64}, gamma::Float64) at lasso.jl:25",
          "status": "Default",
          "x1": 15658,
          "x2": 16191.9
         },
         {
          "level": 25,
          "sf": "materialize at broadcast.jl:872 [inlined]",
          "status": "Default",
          "x1": 15658,
          "x2": 15659.9
         },
         {
          "level": 26,
          "sf": "copy at broadcast.jl:897 [inlined]",
          "status": "Default",
          "x1": 15658,
          "x2": 15659.9
         },
         {
          "level": 27,
          "sf": "copyto! at broadcast.jl:925 [inlined]",
          "status": "Default",
          "x1": 15658,
          "x2": 15658.9
         },
         {
          "level": 28,
          "sf": "copyto! at broadcast.jl:972 [inlined]",
          "status": "Default",
          "x1": 15658,
          "x2": 15658.9
         },
         {
          "level": 29,
          "sf": "macro expansion at simdloop.jl:77 [inlined]",
          "status": "Default",
          "x1": 15658,
          "x2": 15658.9
         },
         {
          "level": 30,
          "sf": "macro expansion at broadcast.jl:973 [inlined]",
          "status": "Default",
          "x1": 15658,
          "x2": 15658.9
         },
         {
          "level": 31,
          "sf": "setindex! at multidimensional.jl:704 [inlined]",
          "status": "Default",
          "x1": 15658,
          "x2": 15658.9
         },
         {
          "level": 32,
          "sf": "setindex! at array.jl:994 [inlined]",
          "status": "Default",
          "x1": 15658,
          "x2": 15658.9
         },
         {
          "level": 27,
          "sf": "similar at broadcast.jl:223 [inlined]",
          "status": "Default",
          "x1": 15659,
          "x2": 15659.9
         },
         {
          "level": 28,
          "sf": "similar at broadcast.jl:224 [inlined]",
          "status": "Default",
          "x1": 15659,
          "x2": 15659.9
         },
         {
          "level": 29,
          "sf": "similar at abstractarray.jl:867 [inlined]",
          "status": "Default",
          "x1": 15659,
          "x2": 15659.9
         },
         {
          "level": 30,
          "sf": "similar at abstractarray.jl:868 [inlined]",
          "status": "Default",
          "x1": 15659,
          "x2": 15659.9
         },
         {
          "level": 31,
          "sf": "Array at boot.jl:599 [inlined]",
          "status": "Default",
          "x1": 15659,
          "x2": 15659.9
         },
         {
          "level": 32,
          "sf": "Array at boot.jl:592 [inlined]",
          "status": "Default",
          "x1": 15659,
          "x2": 15659.9
         },
         {
          "level": 33,
          "sf": "Array at boot.jl:582 [inlined]",
          "status": "Default",
          "x1": 15659,
          "x2": 15659.9
         },
         {
          "level": 34,
          "sf": "new_as_memoryref at boot.jl:535 [inlined]",
          "status": "Default",
          "x1": 15659,
          "x2": 15659.9
         },
         {
          "level": 35,
          "sf": "GenericMemory at boot.jl:516 [inlined]",
          "status": "Default",
          "x1": 15659,
          "x2": 15659.9
         },
         {
          "level": 25,
          "sf": "sum at reducedim.jl:983 [inlined]",
          "status": "Default",
          "x1": 15660,
          "x2": 16191.9
         },
         {
          "level": 26,
          "sf": "#sum#936 at reducedim.jl:983 [inlined]",
          "status": "Default",
          "x1": 15660,
          "x2": 16191.9
         },
         {
          "level": 27,
          "sf": "_sum at reducedim.jl:1011 [inlined]",
          "status": "Default",
          "x1": 15660,
          "x2": 16191.9
         },
         {
          "level": 28,
          "sf": "#_sum#962 at reducedim.jl:1011 [inlined]",
          "status": "Default",
          "x1": 15660,
          "x2": 16191.9
         },
         {
          "level": 29,
          "sf": "mapreduce at reducedim.jl:329 [inlined]",
          "status": "Default",
          "x1": 15660,
          "x2": 16191.9
         },
         {
          "level": 30,
          "sf": "#mapreduce#928 at reducedim.jl:329 [inlined]",
          "status": "Default",
          "x1": 15660,
          "x2": 16191.9
         },
         {
          "level": 31,
          "sf": "_mapreduce_dim at reducedim.jl:343 [inlined]",
          "status": "Default",
          "x1": 15660,
          "x2": 16191.9
         },
         {
          "level": 32,
          "sf": "mapreducedim! at reducedim.jl:296 [inlined]",
          "status": "Default",
          "x1": 15660,
          "x2": 16187.9
         },
         {
          "level": 33,
          "sf": "_mapreducedim!(f::typeof(abs2), op::typeof(Base.add_sum), R::Matrix{Float64}, A::Matrix{ComplexF64}) at reducedim.jl:287",
          "status": "Default",
          "x1": 15660,
          "x2": 16187.9
         },
         {
          "level": 34,
          "sf": "macro expansion at simdloop.jl:75 [inlined]",
          "status": "Default",
          "x1": 15660,
          "x2": 15661.9
         },
         {
          "level": 35,
          "sf": "< at int.jl:83 [inlined]",
          "status": "Default",
          "x1": 15660,
          "x2": 15660.9
         },
         {
          "level": 34,
          "sf": "macro expansion at simdloop.jl:77 [inlined]",
          "status": "Default",
          "x1": 15662,
          "x2": 16183.9
         },
         {
          "level": 35,
          "sf": "macro expansion at reducedim.jl:288 [inlined]",
          "status": "Default",
          "x1": 15662,
          "x2": 16159.9
         },
         {
          "level": 36,
          "sf": "abs2 at complex.jl:287 [inlined]",
          "status": "Default",
          "x1": 15662,
          "x2": 15689.9
         },
         {
          "level": 37,
          "sf": "* at float.jl:493 [inlined]",
          "status": "Default",
          "x1": 15662,
          "x2": 15663.9
         },
         {
          "level": 37,
          "sf": "+ at float.jl:491 [inlined]",
          "status": "Default",
          "x1": 15664,
          "x2": 15689.9
         },
         {
          "level": 36,
          "sf": "getindex at multidimensional.jl:702 [inlined]",
          "status": "Default",
          "x1": 15690,
          "x2": 16142.9
         },
         {
          "level": 37,
          "sf": "getindex at array.jl:930 [inlined]",
          "status": "Default",
          "x1": 15690,
          "x2": 16142.9
         },
         {
          "level": 38,
          "sf": "getindex at essentials.jl:917 [inlined]",
          "status": "Default",
          "x1": 15690,
          "x2": 16142.9
         },
         {
          "level": 36,
          "sf": "add_sum at reduce.jl:27 [inlined]",
          "status": "Default",
          "x1": 16143,
          "x2": 16159.9
         },
         {
          "level": 37,
          "sf": "+ at float.jl:491 [inlined]",
          "status": "Default",
          "x1": 16143,
          "x2": 16159.9
         },
         {
          "level": 35,
          "sf": "macro expansion at reducedim.jl:289 [inlined]",
          "status": "Default",
          "x1": 16160,
          "x2": 16183.9
         },
         {
          "level": 36,
          "sf": "setindex! at array.jl:994 [inlined]",
          "status": "Default",
          "x1": 16160,
          "x2": 16183.9
         },
         {
          "level": 34,
          "sf": "macro expansion at simdloop.jl:78 [inlined]",
          "status": "Default",
          "x1": 16184,
          "x2": 16187.9
         },
         {
          "level": 35,
          "sf": "+ at int.jl:87 [inlined]",
          "status": "Default",
          "x1": 16184,
          "x2": 16187.9
         },
         {
          "level": 32,
          "sf": "reducedim_init at reducedim.jl:189 [inlined]",
          "status": "Default",
          "x1": 16188,
          "x2": 16191.9
         },
         {
          "level": 33,
          "sf": "reducedim_initarray at reducedim.jl:54 [inlined]",
          "status": "Default",
          "x1": 16188,
          "x2": 16191.9
         },
         {
          "level": 34,
          "sf": "reducedim_initarray(A::Matrix{ComplexF64}, region::Int64, init::Float64, ::Type{Float64}) at reducedim.jl:53",
          "status": "Default",
          "x1": 16188,
          "x2": 16191.9
         },
         {
          "level": 35,
          "sf": "similar at abstractarray.jl:830 [inlined]",
          "status": "Default",
          "x1": 16188,
          "x2": 16191.9
         },
         {
          "level": 36,
          "sf": "similar at array.jl:372 [inlined]",
          "status": "Default",
          "x1": 16188,
          "x2": 16191.9
         },
         {
          "level": 37,
          "sf": "Array at boot.jl:592 [inlined]",
          "status": "Default",
          "x1": 16188,
          "x2": 16191.9
         },
         {
          "level": 38,
          "sf": "Array at boot.jl:582 [inlined]",
          "status": "Default",
          "x1": 16188,
          "x2": 16191.9
         },
         {
          "level": 39,
          "sf": "new_as_memoryref at boot.jl:535 [inlined]",
          "status": "Default",
          "x1": 16188,
          "x2": 16191.9
         },
         {
          "level": 40,
          "sf": "GenericMemory at boot.jl:516 [inlined]",
          "status": "Default",
          "x1": 16188,
          "x2": 16191.9
         },
         {
          "level": 24,
          "sf": "prox!(Y::Matrix{ComplexF64}, f::ArraySignalProcessing.MyNormL21{Float64, Int64}, X::Matrix{ComplexF64}, gamma::Float64) at lasso.jl:26",
          "status": "Default",
          "x1": 16192,
          "x2": 16193.9
         },
         {
          "level": 25,
          "sf": "materialize at broadcast.jl:872 [inlined]",
          "status": "Default",
          "x1": 16192,
          "x2": 16193.9
         },
         {
          "level": 26,
          "sf": "copy at broadcast.jl:897 [inlined]",
          "status": "Default",
          "x1": 16192,
          "x2": 16193.9
         },
         {
          "level": 27,
          "sf": "copyto! at broadcast.jl:925 [inlined]",
          "status": "Default",
          "x1": 16192,
          "x2": 16193.9
         },
         {
          "level": 28,
          "sf": "copyto! at broadcast.jl:972 [inlined]",
          "status": "Default",
          "x1": 16192,
          "x2": 16193.9
         },
         {
          "level": 29,
          "sf": "macro expansion at simdloop.jl:75 [inlined]",
          "status": "Default",
          "x1": 16192,
          "x2": 16192.9
         },
         {
          "level": 29,
          "sf": "macro expansion at simdloop.jl:77 [inlined]",
          "status": "Default",
          "x1": 16193,
          "x2": 16193.9
         },
         {
          "level": 30,
          "sf": "macro expansion at broadcast.jl:973 [inlined]",
          "status": "Default",
          "x1": 16193,
          "x2": 16193.9
         },
         {
          "level": 31,
          "sf": "getindex at broadcast.jl:610 [inlined]",
          "status": "Default",
          "x1": 16193,
          "x2": 16193.9
         },
         {
          "level": 32,
          "sf": "_broadcast_getindex at broadcast.jl:651 [inlined]",
          "status": "Default",
          "x1": 16193,
          "x2": 16193.9
         },
         {
          "level": 33,
          "sf": "_broadcast_getindex_evalf at broadcast.jl:678 [inlined]",
          "status": "Default",
          "x1": 16193,
          "x2": 16193.9
         },
         {
          "level": 34,
          "sf": "shrink at lasso.jl:24 [inlined]",
          "status": "Default",
          "x1": 16193,
          "x2": 16193.9
         },
         {
          "level": 35,
          "sf": "max at math.jl:839 [inlined]",
          "status": "Default",
          "x1": 16193,
          "x2": 16193.9
         },
         {
          "level": 36,
          "sf": "ifelse at essentials.jl:796 [inlined]",
          "status": "Default",
          "x1": 16193,
          "x2": 16193.9
         },
         {
          "level": 24,
          "sf": "prox!(Y::Matrix{ComplexF64}, f::ArraySignalProcessing.MyNormL21{Float64, Int64}, X::Matrix{ComplexF64}, gamma::Float64) at lasso.jl:28",
          "status": "Default",
          "x1": 16194,
          "x2": 16942.9
         },
         {
          "level": 25,
          "sf": "materialize! at broadcast.jl:880 [inlined]",
          "status": "Default",
          "x1": 16194,
          "x2": 16942.9
         },
         {
          "level": 26,
          "sf": "materialize! at broadcast.jl:883 [inlined]",
          "status": "Default",
          "x1": 16194,
          "x2": 16942.9
         },
         {
          "level": 27,
          "sf": "axes at abstractarray.jl:98 [inlined]",
          "status": "Default",
          "x1": 16194,
          "x2": 16194.9
         },
         {
          "level": 28,
          "sf": "size at array.jl:194 [inlined]",
          "status": "Default",
          "x1": 16194,
          "x2": 16194.9
         },
         {
          "level": 27,
          "sf": "copyto! at broadcast.jl:925 [inlined]",
          "status": "Default",
          "x1": 16195,
          "x2": 16941.9
         },
         {
          "level": 28,
          "sf": "copyto! at broadcast.jl:972 [inlined]",
          "status": "Default",
          "x1": 16195,
          "x2": 16941.9
         },
         {
          "level": 29,
          "sf": "macro expansion at simdloop.jl:0 [inlined]",
          "status": "Default",
          "x1": 16195,
          "x2": 16204.9
         },
         {
          "level": 29,
          "sf": "macro expansion at simdloop.jl:75 [inlined]",
          "status": "Default",
          "x1": 16205,
          "x2": 16236.9
         },
         {
          "level": 29,
          "sf": "macro expansion at simdloop.jl:77 [inlined]",
          "status": "Default",
          "x1": 16237,
          "x2": 16940.9
         },
         {
          "level": 30,
          "sf": "macro expansion at broadcast.jl:973 [inlined]",
          "status": "Default",
          "x1": 16237,
          "x2": 16940.9
         },
         {
          "level": 31,
          "sf": "getindex at broadcast.jl:610 [inlined]",
          "status": "Default",
          "x1": 16237,
          "x2": 16423.9
         },
         {
          "level": 32,
          "sf": "_broadcast_getindex at broadcast.jl:650 [inlined]",
          "status": "Default",
          "x1": 16237,
          "x2": 16355.9
         },
         {
          "level": 33,
          "sf": "_getindex at broadcast.jl:674 [inlined]",
          "status": "Default",
          "x1": 16237,
          "x2": 16355.9
         },
         {
          "level": 34,
          "sf": "_getindex at broadcast.jl:675 [inlined]",
          "status": "Default",
          "x1": 16237,
          "x2": 16355.9
         },
         {
          "level": 35,
          "sf": "_broadcast_getindex at broadcast.jl:644 [inlined]",
          "status": "Default",
          "x1": 16237,
          "x2": 16355.9
         },
         {
          "level": 36,
          "sf": "getindex at multidimensional.jl:702 [inlined]",
          "status": "Default",
          "x1": 16237,
          "x2": 16355.9
         },
         {
          "level": 37,
          "sf": "getindex at array.jl:930 [inlined]",
          "status": "Default",
          "x1": 16237,
          "x2": 16355.9
         },
         {
          "level": 38,
          "sf": "_to_linear_index at abstractarray.jl:1347 [inlined]",
          "status": "Default",
          "x1": 16237,
          "x2": 16258.9
         },
         {
          "level": 39,
          "sf": "_sub2ind at abstractarray.jl:3048 [inlined]",
          "status": "Default",
          "x1": 16237,
          "x2": 16258.9
         },
         {
          "level": 40,
          "sf": "_sub2ind at abstractarray.jl:3064 [inlined]",
          "status": "Default",
          "x1": 16237,
          "x2": 16258.9
         },
         {
          "level": 41,
          "sf": "_sub2ind_recurse at abstractarray.jl:3080 [inlined]",
          "status": "Default",
          "x1": 16237,
          "x2": 16258.9
         },
         {
          "level": 42,
          "sf": "_sub2ind_recurse at abstractarray.jl:3080 [inlined]",
          "status": "Default",
          "x1": 16237,
          "x2": 16258.9
         },
         {
          "level": 43,
          "sf": "* at int.jl:88 [inlined]",
          "status": "Default",
          "x1": 16237,
          "x2": 16258.9
         },
         {
          "level": 38,
          "sf": "getindex at essentials.jl:917 [inlined]",
          "status": "Default",
          "x1": 16259,
          "x2": 16355.9
         },
         {
          "level": 32,
          "sf": "_broadcast_getindex at broadcast.jl:651 [inlined]",
          "status": "Default",
          "x1": 16356,
          "x2": 16423.9
         },
         {
          "level": 33,
          "sf": "_broadcast_getindex_evalf at broadcast.jl:678 [inlined]",
          "status": "Default",
          "x1": 16356,
          "x2": 16423.9
         },
         {
          "level": 34,
          "sf": "* at complex.jl:342 [inlined]",
          "status": "Default",
          "x1": 16356,
          "x2": 16423.9
         },
         {
          "level": 35,
          "sf": "* at float.jl:493 [inlined]",
          "status": "Default",
          "x1": 16356,
          "x2": 16423.9
         },
         {
          "level": 31,
          "sf": "setindex! at multidimensional.jl:704 [inlined]",
          "status": "Default",
          "x1": 16424,
          "x2": 16940.9
         },
         {
          "level": 32,
          "sf": "setindex! at array.jl:994 [inlined]",
          "status": "Default",
          "x1": 16424,
          "x2": 16940.9
         },
         {
          "level": 29,
          "sf": "macro expansion at simdloop.jl:84 [inlined]",
          "status": "Default",
          "x1": 16941,
          "x2": 16941.9
         },
         {
          "level": 30,
          "sf": "iterate at multidimensional.jl:422 [inlined]",
          "status": "Default",
          "x1": 16941,
          "x2": 16941.9
         },
         {
          "level": 31,
          "sf": "__inc at multidimensional.jl:441 [inlined]",
          "status": "Default",
          "x1": 16941,
          "x2": 16941.9
         },
         {
          "level": 32,
          "sf": "!= at operators.jl:277 [inlined]",
          "status": "Default",
          "x1": 16941,
          "x2": 16941.9
         },
         {
          "level": 33,
          "sf": "== at promotion.jl:639 [inlined]",
          "status": "Default",
          "x1": 16941,
          "x2": 16941.9
         },
         {
          "level": 27,
          "sf": "instantiate at broadcast.jl:310 [inlined]",
          "status": "Default",
          "x1": 16942,
          "x2": 16942.9
         },
         {
          "level": 28,
          "sf": "check_broadcast_axes at broadcast.jl:558 [inlined]",
          "status": "Default",
          "x1": 16942,
          "x2": 16942.9
         },
         {
          "level": 29,
          "sf": "check_broadcast_axes at broadcast.jl:0 [inlined]",
          "status": "Default",
          "x1": 16942,
          "x2": 16942.9
         },
         {
          "level": 24,
          "sf": "prox!(Y::Matrix{ComplexF64}, f::ArraySignalProcessing.MyNormL21{Float64, Int64}, X::Matrix{ComplexF64}, gamma::Float64) at lasso.jl:29",
          "status": "Default",
          "x1": 16943,
          "x2": 16947.9
         },
         {
          "level": 25,
          "sf": "materialize at broadcast.jl:872 [inlined]",
          "status": "Default",
          "x1": 16943,
          "x2": 16946.9
         },
         {
          "level": 26,
          "sf": "copy at broadcast.jl:897 [inlined]",
          "status": "Default",
          "x1": 16943,
          "x2": 16946.9
         },
         {
          "level": 27,
          "sf": "copyto! at broadcast.jl:925 [inlined]",
          "status": "Default",
          "x1": 16943,
          "x2": 16946.9
         },
         {
          "level": 28,
          "sf": "copyto! at broadcast.jl:972 [inlined]",
          "status": "Default",
          "x1": 16943,
          "x2": 16946.9
         },
         {
          "level": 29,
          "sf": "macro expansion at simdloop.jl:0 [inlined]",
          "status": "Default",
          "x1": 16943,
          "x2": 16944.9
         },
         {
          "level": 29,
          "sf": "macro expansion at simdloop.jl:77 [inlined]",
          "status": "Default",
          "x1": 16945,
          "x2": 16946.9
         },
         {
          "level": 30,
          "sf": "macro expansion at broadcast.jl:973 [inlined]",
          "status": "Default",
          "x1": 16945,
          "x2": 16946.9
         },
         {
          "level": 31,
          "sf": "setindex! at multidimensional.jl:704 [inlined]",
          "status": "Default",
          "x1": 16945,
          "x2": 16946.9
         },
         {
          "level": 32,
          "sf": "setindex! at array.jl:994 [inlined]",
          "status": "Default",
          "x1": 16945,
          "x2": 16946.9
         },
         {
          "level": 25,
          "sf": "sum at reducedim.jl:982 [inlined]",
          "status": "Default",
          "x1": 16947,
          "x2": 16947.9
         },
         {
          "level": 26,
          "sf": "#sum#935 at reducedim.jl:982 [inlined]",
          "status": "Default",
          "x1": 16947,
          "x2": 16947.9
         },
         {
          "level": 27,
          "sf": "_sum at reducedim.jl:986 [inlined]",
          "status": "Default",
          "x1": 16947,
          "x2": 16947.9
         },
         {
          "level": 28,
          "sf": "#_sum#937 at reducedim.jl:986 [inlined]",
          "status": "Default",
          "x1": 16947,
          "x2": 16947.9
         },
         {
          "level": 29,
          "sf": "_sum at reducedim.jl:987 [inlined]",
          "status": "Default",
          "x1": 16947,
          "x2": 16947.9
         },
         {
          "level": 30,
          "sf": "#_sum#938 at reducedim.jl:987 [inlined]",
          "status": "Default",
          "x1": 16947,
          "x2": 16947.9
         },
         {
          "level": 31,
          "sf": "mapreduce at reducedim.jl:329 [inlined]",
          "status": "Default",
          "x1": 16947,
          "x2": 16947.9
         },
         {
          "level": 32,
          "sf": "#mapreduce#928 at reducedim.jl:329 [inlined]",
          "status": "Default",
          "x1": 16947,
          "x2": 16947.9
         },
         {
          "level": 33,
          "sf": "_mapreduce_dim at reducedim.jl:337 [inlined]",
          "status": "Default",
          "x1": 16947,
          "x2": 16947.9
         },
         {
          "level": 34,
          "sf": "_mapreduce at reduce.jl:444 [inlined]",
          "status": "Default",
          "x1": 16947,
          "x2": 16947.9
         },
         {
          "level": 35,
          "sf": "mapreduce_impl at reduce.jl:277 [inlined]",
          "status": "Default",
          "x1": 16947,
          "x2": 16947.9
         },
         {
          "level": 36,
          "sf": "mapreduce_impl(f::typeof(identity), op::typeof(Base.add_sum), A::Matrix{Float64}, ifirst::Int64, ilast::Int64, blksize::Int64) at reduce.jl:263",
          "status": "Default",
          "x1": 16947,
          "x2": 16947.9
         },
         {
          "level": 37,
          "sf": "macro expansion at simdloop.jl:69 [inlined]",
          "status": "Default",
          "x1": 16947,
          "x2": 16947.9
         },
         {
          "level": 38,
          "sf": "Colon at range.jl:5 [inlined]",
          "status": "Default",
          "x1": 16947,
          "x2": 16947.9
         },
         {
          "level": 39,
          "sf": "UnitRange at range.jl:408 [inlined]",
          "status": "Default",
          "x1": 16947,
          "x2": 16947.9
         },
         {
          "level": 40,
          "sf": "unitrange_last at range.jl:419 [inlined]",
          "status": "Default",
          "x1": 16947,
          "x2": 16947.9
         },
         {
          "level": 41,
          "sf": ">= at operators.jl:426 [inlined]",
          "status": "Default",
          "x1": 16947,
          "x2": 16947.9
         },
         {
          "level": 42,
          "sf": "<= at int.jl:514 [inlined]",
          "status": "Default",
          "x1": 16947,
          "x2": 16947.9
         },
         {
          "level": 23,
          "sf": "iterate(iter::ProximalAlgorithms.FastForwardBackwardIteration{Float64, Matrix{ComplexF64}, ArraySignalProcessing.MyLeastSquares{ComplexF64, Matrix{ComplexF64}, Matrix{ComplexF64}}, ArraySignalProcessing.MyNormL21{Float64, Int64}, Nothing, Nothing, Nothing}, state::ProximalAlgorithms.FastForwardBackwardState{Float64, Matrix{ComplexF64}, ProximalAlgorithms.AdaptiveNesterovSequence{Float64}}) at fast_forward_backward.jl:142",
          "status": "Default",
          "x1": 16948,
          "x2": 17989.9
         },
         {
          "level": 24,
          "sf": "materialize! at broadcast.jl:880 [inlined]",
          "status": "Default",
          "x1": 16948,
          "x2": 17989.9
         },
         {
          "level": 25,
          "sf": "materialize! at broadcast.jl:883 [inlined]",
          "status": "Default",
          "x1": 16948,
          "x2": 17989.9
         },
         {
          "level": 26,
          "sf": "copyto! at broadcast.jl:925 [inlined]",
          "status": "Default",
          "x1": 16948,
          "x2": 17989.9
         },
         {
          "level": 27,
          "sf": "copyto! at broadcast.jl:969 [inlined]",
          "status": "Default",
          "x1": 16948,
          "x2": 16948.9
         },
         {
          "level": 28,
          "sf": "preprocess at broadcast.jl:952 [inlined]",
          "status": "Default",
          "x1": 16948,
          "x2": 16948.9
         },
         {
          "level": 29,
          "sf": "preprocess_args at broadcast.jl:955 [inlined]",
          "status": "Default",
          "x1": 16948,
          "x2": 16948.9
         },
         {
          "level": 30,
          "sf": "preprocess_args at broadcast.jl:956 [inlined]",
          "status": "Default",
          "x1": 16948,
          "x2": 16948.9
         },
         {
          "level": 31,
          "sf": "preprocess at broadcast.jl:953 [inlined]",
          "status": "Default",
          "x1": 16948,
          "x2": 16948.9
         },
         {
          "level": 32,
          "sf": "extrude at broadcast.jl:645 [inlined]",
          "status": "Default",
          "x1": 16948,
          "x2": 16948.9
         },
         {
          "level": 33,
          "sf": "newindexer at broadcast.jl:598 [inlined]",
          "status": "Default",
          "x1": 16948,
          "x2": 16948.9
         },
         {
          "level": 34,
          "sf": "shapeindexer at broadcast.jl:599 [inlined]",
          "status": "Default",
          "x1": 16948,
          "x2": 16948.9
         },
         {
          "level": 35,
          "sf": "_newindexer at broadcast.jl:603 [inlined]",
          "status": "Default",
          "x1": 16948,
          "x2": 16948.9
         },
         {
          "level": 36,
          "sf": "_newindexer at broadcast.jl:604 [inlined]",
          "status": "Default",
          "x1": 16948,
          "x2": 16948.9
         },
         {
          "level": 37,
          "sf": "!= at operators.jl:277 [inlined]",
          "status": "Default",
          "x1": 16948,
          "x2": 16948.9
         },
         {
          "level": 38,
          "sf": "== at promotion.jl:639 [inlined]",
          "status": "Default",
          "x1": 16948,
          "x2": 16948.9
         },
         {
          "level": 27,
          "sf": "copyto! at broadcast.jl:972 [inlined]",
          "status": "Default",
          "x1": 16949,
          "x2": 17988.9
         },
         {
          "level": 28,
          "sf": "macro expansion at simdloop.jl:0 [inlined]",
          "status": "Default",
          "x1": 16949,
          "x2": 16961.9
         },
         {
          "level": 28,
          "sf": "macro expansion at simdloop.jl:75 [inlined]",
          "status": "Default",
          "x1": 16962,
          "x2": 16973.9
         },
         {
          "level": 28,
          "sf": "macro expansion at simdloop.jl:77 [inlined]",
          "status": "Default",
          "x1": 16974,
          "x2": 17988.9
         },
         {
          "level": 29,
          "sf": "macro expansion at broadcast.jl:973 [inlined]",
          "status": "Default",
          "x1": 16974,
          "x2": 17988.9
         },
         {
          "level": 30,
          "sf": "getindex at broadcast.jl:610 [inlined]",
          "status": "Default",
          "x1": 16974,
          "x2": 17851.9
         },
         {
          "level": 31,
          "sf": "_broadcast_getindex at broadcast.jl:650 [inlined]",
          "status": "Default",
          "x1": 16974,
          "x2": 17344.9
         },
         {
          "level": 32,
          "sf": "_getindex at broadcast.jl:674 [inlined]",
          "status": "Default",
          "x1": 16974,
          "x2": 17344.9
         },
         {
          "level": 33,
          "sf": "_broadcast_getindex at broadcast.jl:644 [inlined]",
          "status": "Default",
          "x1": 16974,
          "x2": 17243.9
         },
         {
          "level": 34,
          "sf": "getindex at multidimensional.jl:702 [inlined]",
          "status": "Default",
          "x1": 16974,
          "x2": 17243.9
         },
         {
          "level": 35,
          "sf": "getindex at array.jl:930 [inlined]",
          "status": "Default",
          "x1": 16974,
          "x2": 17243.9
         },
         {
          "level": 36,
          "sf": "_to_linear_index at abstractarray.jl:1347 [inlined]",
          "status": "Default",
          "x1": 16974,
          "x2": 17002.9
         },
         {
          "level": 37,
          "sf": "_sub2ind at abstractarray.jl:3048 [inlined]",
          "status": "Default",
          "x1": 16974,
          "x2": 17002.9
         },
         {
          "level": 38,
          "sf": "_sub2ind at abstractarray.jl:3064 [inlined]",
          "status": "Default",
          "x1": 16974,
          "x2": 17002.9
         },
         {
          "level": 39,
          "sf": "_sub2ind_recurse at abstractarray.jl:3080 [inlined]",
          "status": "Default",
          "x1": 16974,
          "x2": 17002.9
         },
         {
          "level": 40,
          "sf": "_sub2ind_recurse at abstractarray.jl:3080 [inlined]",
          "status": "Default",
          "x1": 16974,
          "x2": 16992.9
         },
         {
          "level": 41,
          "sf": "* at int.jl:88 [inlined]",
          "status": "Default",
          "x1": 16974,
          "x2": 16992.9
         },
         {
          "level": 40,
          "sf": "+ at int.jl:87 [inlined]",
          "status": "Default",
          "x1": 16993,
          "x2": 17002.9
         },
         {
          "level": 36,
          "sf": "getindex at essentials.jl:917 [inlined]",
          "status": "Default",
          "x1": 17003,
          "x2": 17243.9
         },
         {
          "level": 33,
          "sf": "_getindex at broadcast.jl:675 [inlined]",
          "status": "Default",
          "x1": 17244,
          "x2": 17344.9
         },
         {
          "level": 34,
          "sf": "_broadcast_getindex at broadcast.jl:644 [inlined]",
          "status": "Default",
          "x1": 17244,
          "x2": 17344.9
         },
         {
          "level": 35,
          "sf": "getindex at multidimensional.jl:702 [inlined]",
          "status": "Default",
          "x1": 17244,
          "x2": 17344.9
         },
         {
          "level": 36,
          "sf": "getindex at array.jl:930 [inlined]",
          "status": "Default",
          "x1": 17244,
          "x2": 17344.9
         },
         {
          "level": 37,
          "sf": "_to_linear_index at abstractarray.jl:1347 [inlined]",
          "status": "Default",
          "x1": 17244,
          "x2": 17280.9
         },
         {
          "level": 38,
          "sf": "_sub2ind at abstractarray.jl:3048 [inlined]",
          "status": "Default",
          "x1": 17244,
          "x2": 17280.9
         },
         {
          "level": 39,
          "sf": "_sub2ind at abstractarray.jl:3064 [inlined]",
          "status": "Default",
          "x1": 17244,
          "x2": 17280.9
         },
         {
          "level": 40,
          "sf": "_sub2ind_recurse at abstractarray.jl:3080 [inlined]",
          "status": "Default",
          "x1": 17244,
          "x2": 17280.9
         },
         {
          "level": 41,
          "sf": "_sub2ind_recurse at abstractarray.jl:3080 [inlined]",
          "status": "Default",
          "x1": 17244,
          "x2": 17280.9
         },
         {
          "level": 42,
          "sf": "* at int.jl:88 [inlined]",
          "status": "Default",
          "x1": 17244,
          "x2": 17280.9
         },
         {
          "level": 37,
          "sf": "getindex at essentials.jl:917 [inlined]",
          "status": "Default",
          "x1": 17281,
          "x2": 17344.9
         },
         {
          "level": 31,
          "sf": "_broadcast_getindex at broadcast.jl:651 [inlined]",
          "status": "Default",
          "x1": 17345,
          "x2": 17851.9
         },
         {
          "level": 32,
          "sf": "_broadcast_getindex_evalf at broadcast.jl:678 [inlined]",
          "status": "Default",
          "x1": 17345,
          "x2": 17851.9
         },
         {
          "level": 33,
          "sf": "- at complex.jl:298 [inlined]",
          "status": "Default",
          "x1": 17345,
          "x2": 17851.9
         },
         {
          "level": 34,
          "sf": "- at float.jl:492 [inlined]",
          "status": "Default",
          "x1": 17345,
          "x2": 17851.9
         },
         {
          "level": 30,
          "sf": "setindex! at multidimensional.jl:704 [inlined]",
          "status": "Default",
          "x1": 17852,
          "x2": 17988.9
         },
         {
          "level": 31,
          "sf": "setindex! at array.jl:994 [inlined]",
          "status": "Default",
          "x1": 17852,
          "x2": 17988.9
         },
         {
          "level": 27,
          "sf": "copyto! at simdloop.jl:0 [inlined]",
          "status": "Default",
          "x1": 17989,
          "x2": 17989.9
         },
         {
          "level": 22,
          "sf": "iterate at iterators.jl:208 [inlined]",
          "status": "Default",
          "x1": 17990,
          "x2": 17990.9
         },
         {
          "level": 23,
          "sf": "getindex at tuple.jl:31 [inlined]",
          "status": "Default",
          "x1": 17990,
          "x2": 17990.9
         }
        ]
       },
       "encoding": {
        "color": {
         "field": "status",
         "legend": {
          "orient": "bottom",
          "title": null
         },
         "type": "nominal"
        },
        "fillOpacity": {
         "condition": [
          {
           "selection": "highlight",
           "value": 0.6
          },
          {
           "selection": "select",
           "value": 0.5
          }
         ],
         "value": 1
        },
        "strokeWidth": {
         "condition": [
          {
           "selection": "highlight",
           "value": 0.5
          },
          {
           "selection": "select",
           "value": 0.5
          }
         ],
         "value": 0
        },
        "tooltip": {
         "field": "sf",
         "type": "nominal"
        },
        "x": {
         "axis": null,
         "field": "x1",
         "type": "quantitative"
        },
        "x2": {
         "field": "x2",
         "type": "quantitative"
        },
        "y": {
         "axis": null,
         "field": "level",
         "type": "quantitative"
        },
        "y2": {
         "field": "level2",
         "type": "quantitative"
        }
       },
       "height": 400,
       "mark": {
        "stroke": "#505050",
        "type": "rect"
       },
       "selection": {
        "grid": {
         "bind": "scales",
         "type": "interval"
        },
        "highlight": {
         "empty": "none",
         "on": "mouseover",
         "type": "single"
        },
        "select": {
         "empty": "none",
         "type": "multi"
        }
       },
       "title": "Profile Results",
       "transform": [
        {
         "as": "level2",
         "calculate": "datum.level+0.9"
        }
       ],
       "width": 800
      },
      "image/png": "[encoded data removed]",
      "image/svg+xml": [
       "<?xml version=\"1.0\" encoding=\"utf-8\"?>\n",
       "<!DOCTYPE svg PUBLIC \"-//W3C//DTD SVG 1.1//EN\" \"http://www.w3.org/Graphics/SVG/1.1/DTD/svg11.dtd\">\n",
       "<svg xmlns=\"http://www.w3.org/2000/svg\" xmlns:xlink=\"http://www.w3.org/1999/xlink\" version=\"1.1\" class=\"marks\" width=\"810\" height=\"458\" viewBox=\"0 0 810 458\"><rect width=\"810\" height=\"458\" fill=\"white\"/><g fill=\"none\" stroke-miterlimit=\"10\" transform=\"translate(5,22)\"><g class=\"mark-group role-frame root\" role=\"graphics-object\" aria-roledescription=\"group mark container\"><g transform=\"translate(0,0)\"><path class=\"background\" aria-hidden=\"true\" d=\"M0.5,0.5h800v400h-800Z\" stroke=\"#ddd\"/><g><g class=\"mark-rect role-mark marks\" clip-path=\"url(#clip1)\" role=\"graphics-object\" aria-roledescription=\"rect mark container\"><path aria-label=\"x1: 1; x2: 18003.9; level: 0; level2: 0.9; status: Default; sf: ip:0x0\" role=\"graphics-symbol\" aria-roledescription=\"rect mark\" d=\"M0.04,392.8h720.1160000000001v7.199999999999989h-720.1160000000001Z\" fill=\"#4c78a8\" fill-opacity=\"1\" stroke=\"#505050\" stroke-width=\"0\"/><path aria-label=\"x1: 4888; x2: 17990.9; level: 1; level2: 1.9; status: Default; sf: _start() at client.jl:531\" role=\"graphics-symbol\" aria-roledescription=\"rect mark\" d=\"M195.52,384.8h524.1160000000001v7.199999999999989h-524.1160000000001Z\" fill=\"#4c78a8\" fill-opacity=\"1\" stroke=\"#505050\" stroke-width=\"0\"/><path aria-label=\"x1: 4888; x2: 17990.9; level: 2; level2: 2.9; status: Default; sf: exec_options(opts::Base.JLOptions) at client.jl:323\" role=\"graphics-symbol\" aria-roledescription=\"rect mark\" d=\"M195.52,376.79999999999995h524.1160000000001v7.2000000000000455h-524.1160000000001Z\" fill=\"#4c78a8\" fill-opacity=\"1\" stroke=\"#505050\" stroke-width=\"0\"/><path aria-label=\"x1: 4888; x2: 17990.9; level: 3; level2: 3.9; status: Default; sf: include(mod::Module, _path::String) at Base.jl:562\" role=\"graphics-symbol\" aria-roledescription=\"rect mark\" d=\"M195.52,368.8h524.1160000000001v7.199999999999989h-524.1160000000001Z\" fill=\"#4c78a8\" fill-opacity=\"1\" stroke=\"#505050\" stroke-width=\"0\"/><path aria-label=\"x1: 4888; x2: 17990.9; level: 4; level2: 4.9; status: Default; sf: _include(mapexpr::Function, mod::Module, _path::String) at loading.jl:2794\" role=\"graphics-symbol\" aria-roledescription=\"rect mark\" d=\"M195.52,360.8h524.1160000000001v7.199999999999989h-524.1160000000001Z\" fill=\"#4c78a8\" fill-opacity=\"1\" stroke=\"#505050\" stroke-width=\"0\"/><path aria-label=\"x1: 4888; x2: 17990.9; level: 5; level2: 5.9; status: Default; sf: include_string(mapexpr::typeof(identity), mod::Module, code::String, filename::String) at loading.jl:2734\" role=\"graphics-symbol\" aria-roledescription=\"rect mark\" d=\"M195.52,352.8h524.1160000000001v7.199999999999989h-524.1160000000001Z\" fill=\"#4c78a8\" fill-opacity=\"1\" stroke=\"#505050\" stroke-width=\"0\"/><path aria-label=\"x1: 4888; x2: 17990.9; level: 6; level2: 6.9; status: Default; sf: eval at boot.jl:430 [inlined]\" role=\"graphics-symbol\" aria-roledescription=\"rect mark\" d=\"M195.52,344.8h524.1160000000001v7.199999999999989h-524.1160000000001Z\" fill=\"#4c78a8\" fill-opacity=\"1\" stroke=\"#505050\" stroke-width=\"0\"/><path aria-label=\"x1: 4888; x2: 17990.9; level: 7; level2: 7.9; status: Default; sf: top-level scope at notebook.jl:35\" role=\"graphics-symbol\" aria-roledescription=\"rect mark\" d=\"M195.52,336.8h524.1160000000001v7.199999999999989h-524.1160000000001Z\" fill=\"#4c78a8\" fill-opacity=\"1\" stroke=\"#505050\" stroke-width=\"0\"/><path aria-label=\"x1: 4888; x2: 17990.9; level: 8; level2: 8.9; status: Default; sf: kwcall(::@NamedTuple{error_handler::var&quot;#5#10&quot;{String}}, ::typeof(VSCodeServer.serve_notebook), pipename::String, debugger_pipename::String, outputchannel_logger::Base.CoreLogging.SimpleLogger) at serve_notebook.jl:81\" role=\"graphics-symbol\" aria-roledescription=\"rect mark\" d=\"M195.52,328.79999999999995h524.1160000000001v7.2000000000000455h-524.1160000000001Z\" fill=\"#4c78a8\" fill-opacity=\"1\" stroke=\"#505050\" stroke-width=\"0\"/><path aria-label=\"x1: 4888; x2: 17990.9; level: 9; level2: 9.9; status: Default; sf: serve_notebook(pipename::String, debugger_pipename::String, outputchannel_logger::Base.CoreLogging.SimpleLogger; error_handler::var&quot;#5#10&quot;{String}) at serve_notebook.jl:147\" role=\"graphics-symbol\" aria-roledescription=\"rect mark\" d=\"M195.52,320.8h524.1160000000001v7.199999999999989h-524.1160000000001Z\" fill=\"#4c78a8\" fill-opacity=\"1\" stroke=\"#505050\" stroke-width=\"0\"/><path aria-label=\"x1: 4888; x2: 17990.9; level: 10; level2: 10.9; status: Default; sf: dispatch_msg(x::VSCodeServer.JSONRPC.JSONRPCEndpoint{Base.PipeEndpoint, Base.PipeEndpoint, VSCodeServer.JSON.Serializations.StandardSerialization}, dispatcher::VSCodeServer.JSONRPC.MsgDispatcher, msg::VSCodeServer.JSONRPC.Request) at typed.jl:68\" role=\"graphics-symbol\" aria-roledescription=\"rect mark\" d=\"M195.52,312.8h524.1160000000001v7.199999999999989h-524.1160000000001Z\" fill=\"#4c78a8\" fill-opacity=\"1\" stroke=\"#505050\" stroke-width=\"0\"/><path aria-label=\"x1: 4888; x2: 17990.9; level: 11; level2: 11.9; status: Default; sf: notebook_runcell_request(conn::VSCodeServer.JSONRPC.JSONRPCEndpoint{Base.PipeEndpoint, Base.PipeEndpoint, VSCodeServer.JSON.Serializations.StandardSerialization}, params::VSCodeServer.NotebookRunCellArguments, token::VSCodeServer.CancellationTokens.CancellationToken) at serve_notebook.jl:13\" role=\"graphics-symbol\" aria-roledescription=\"rect mark\" d=\"M195.52,304.8h524.1160000000001v7.199999999999989h-524.1160000000001Z\" fill=\"#4c78a8\" fill-opacity=\"1\" stroke=\"#505050\" stroke-width=\"0\"/><path aria-label=\"x1: 4888; x2: 17990.9; level: 12; level2: 12.9; status: Default; sf: withpath(f::VSCodeServer.var&quot;#217#218&quot;{VSCodeServer.NotebookRunCellArguments, String}, path::String) at repl.jl:276\" role=\"graphics-symbol\" aria-roledescription=\"rect mark\" d=\"M195.52,296.8h524.1160000000001v7.199999999999989h-524.1160000000001Z\" fill=\"#4c78a8\" fill-opacity=\"1\" stroke=\"#505050\" stroke-width=\"0\"/><path aria-label=\"x1: 4888; x2: 17990.9; level: 13; level2: 13.9; status: Default; sf: (::VSCodeServer.var&quot;#217#218&quot;{VSCodeServer.NotebookRunCellArguments, String})() at serve_notebook.jl:24\" role=\"graphics-symbol\" aria-roledescription=\"rect mark\" d=\"M195.52,288.8h524.1160000000001v7.199999999999989h-524.1160000000001Z\" fill=\"#4c78a8\" fill-opacity=\"1\" stroke=\"#505050\" stroke-width=\"0\"/><path aria-label=\"x1: 4888; x2: 17990.9; level: 14; level2: 14.9; status: Default; sf: invokelatest at essentials.jl:1052 [inlined]\" role=\"graphics-symbol\" aria-roledescription=\"rect mark\" d=\"M195.52,280.79999999999995h524.1160000000001v7.2000000000000455h-524.1160000000001Z\" fill=\"#4c78a8\" fill-opacity=\"1\" stroke=\"#505050\" stroke-width=\"0\"/><path aria-label=\"x1: 4888; x2: 17990.9; level: 15; level2: 15.9; status: Default; sf: #invokelatest#2 at essentials.jl:1055 [inlined]\" role=\"graphics-symbol\" aria-roledescription=\"rect mark\" d=\"M195.52,272.79999999999995h524.1160000000001v7.2000000000000455h-524.1160000000001Z\" fill=\"#4c78a8\" fill-opacity=\"1\" stroke=\"#505050\" stroke-width=\"0\"/><path aria-label=\"x1: 4888; x2: 17990.9; level: 16; level2: 16.9; status: Default; sf: include_string(mapexpr::typeof(REPL.softscope), mod::Module, code::String, filename::String) at loading.jl:2734\" role=\"graphics-symbol\" aria-roledescription=\"rect mark\" d=\"M195.52,264.8h524.1160000000001v7.199999999999989h-524.1160000000001Z\" fill=\"#4c78a8\" fill-opacity=\"1\" stroke=\"#505050\" stroke-width=\"0\"/><path aria-label=\"x1: 4888; x2: 17990.9; level: 17; level2: 17.9; status: Default; sf: eval at boot.jl:430 [inlined]\" role=\"graphics-symbol\" aria-roledescription=\"rect mark\" d=\"M195.52,256.8h524.1160000000001v7.199999999999932h-524.1160000000001Z\" fill=\"#4c78a8\" fill-opacity=\"1\" stroke=\"#505050\" stroke-width=\"0\"/><path aria-label=\"x1: 4888; x2: 17990.9; level: 18; level2: 18.9; status: Default; sf: lasso(Y::Matrix{ComplexF64}, A::Matrix{ComplexF64}, λ::Float64) at lasso.jl:73\" role=\"graphics-symbol\" aria-roledescription=\"rect mark\" d=\"M195.52,248.80000000000004h524.1160000000001v7.19999999999996h-524.1160000000001Z\" fill=\"#4c78a8\" fill-opacity=\"1\" stroke=\"#505050\" stroke-width=\"0\"/><path aria-label=\"x1: 4888; x2: 17990.9; level: 19; level2: 19.9; status: Default; sf: lasso(Y::Matrix{ComplexF64}, A::Matrix{ComplexF64}, λ::Float64; kwargs::Base.Pairs{Symbol, Union{}, Tuple{}, @NamedTuple{}}) at lasso.jl:80\" role=\"graphics-symbol\" aria-roledescription=\"rect mark\" d=\"M195.52,240.80000000000004h524.1160000000001v7.19999999999996h-524.1160000000001Z\" fill=\"#4c78a8\" fill-opacity=\"1\" stroke=\"#505050\" stroke-width=\"0\"/><path aria-label=\"x1: 4888; x2: 17990.9; level: 20; level2: 20.9; status: Default; sf: IterativeAlgorithm at ProximalAlgorithms.jl:114 [inlined]\" role=\"graphics-symbol\" aria-roledescription=\"rect mark\" d=\"M195.52,232.80000000000004h524.1160000000001v7.19999999999996h-524.1160000000001Z\" fill=\"#4c78a8\" fill-opacity=\"1\" stroke=\"#505050\" stroke-width=\"0\"/><path aria-label=\"x1: 4888; x2: 4890.9; level: 21; level2: 21.9; status: Default; sf: (::ProximalAlgorithms.IterativeAlgorithm{ProximalAlgorithms.FastForwardBackwardIteration, ProximalAlgorithms.var&quot;#29#31&quot;{Float64}, typeof(ProximalAlgorithms.default_solution), typeof(ProximalAlgorithms.default_display), Base.Pairs{Symbol, Union{}, Tuple{}, @NamedTuple{}}})(; kwargs::Base.Pairs{Symbol, Any, Tuple{Symbol, Symbol, Symbol}, @NamedTuple{x0::Matrix{ComplexF64}, f::ArraySignalProcessing.MyLeastSquares{ComplexF64, Matrix{ComplexF64}, Matrix{ComplexF64}}, g::ArraySignalProcessing.MyNormL21{Float64, Int64}}}) at ProximalAlgorithms.jl:116\" role=\"graphics-symbol\" aria-roledescription=\"rect mark\" d=\"M195.52,224.8h0.11599999999998545v7.200000000000017h-0.11599999999998545Z\" fill=\"#4c78a8\" fill-opacity=\"1\" stroke=\"#505050\" stroke-width=\"0\"/><path aria-label=\"x1: 4888; x2: 4890.9; level: 22; level2: 22.9; status: Default; sf: iterate at iterators.jl:205 [inlined]\" role=\"graphics-symbol\" aria-roledescription=\"rect mark\" d=\"M195.52,216.8h0.11599999999998545v7.200000000000017h-0.11599999999998545Z\" fill=\"#4c78a8\" fill-opacity=\"1\" stroke=\"#505050\" stroke-width=\"0\"/><path aria-label=\"x1: 4888; x2: 4890.9; level: 23; level2: 23.9; status: Default; sf: iterate at iterators.jl:206 [inlined]\" role=\"graphics-symbol\" aria-roledescription=\"rect mark\" d=\"M195.52,208.8h0.11599999999998545v7.199999999999989h-0.11599999999998545Z\" fill=\"#4c78a8\" fill-opacity=\"1\" stroke=\"#505050\" stroke-width=\"0\"/><path aria-label=\"x1: 4888; x2: 4889.9; level: 24; level2: 24.9; status: Default; sf: iterate(iter::ProximalAlgorithms.FastForwardBackwardIteration{Float64, Matrix{ComplexF64}, ArraySignalProcessing.MyLeastSquares{ComplexF64, Matrix{ComplexF64}, Matrix{ComplexF64}}, ArraySignalProcessing.MyNormL21{Float64, Int64}, Nothing, Nothing, Nothing}) at fast_forward_backward.jl:79\" role=\"graphics-symbol\" aria-roledescription=\"rect mark\" d=\"M195.52,200.8h0.0759999999999934v7.199999999999989h-0.0759999999999934Z\" fill=\"#4c78a8\" fill-opacity=\"1\" stroke=\"#505050\" stroke-width=\"0\"/><path aria-label=\"x1: 4888; x2: 4889.9; level: 25; level2: 25.9; status: Default; sf: materialize at broadcast.jl:872 [inlined]\" role=\"graphics-symbol\" aria-roledescription=\"rect mark\" d=\"M195.52,192.79999999999998h0.0759999999999934v7.200000000000017h-0.0759999999999934Z\" fill=\"#4c78a8\" fill-opacity=\"1\" stroke=\"#505050\" stroke-width=\"0\"/><path aria-label=\"x1: 4888; x2: 4889.9; level: 26; level2: 26.9; status: Default; sf: copy at broadcast.jl:897 [inlined]\" role=\"graphics-symbol\" aria-roledescription=\"rect mark\" d=\"M195.52,184.80000000000004h0.0759999999999934v7.19999999999996h-0.0759999999999934Z\" fill=\"#4c78a8\" fill-opacity=\"1\" stroke=\"#505050\" stroke-width=\"0\"/><path aria-label=\"x1: 4888; x2: 4888.9; level: 27; level2: 27.9; status: Default; sf: copyto! at broadcast.jl:925 [inlined]\" role=\"graphics-symbol\" aria-roledescription=\"rect mark\" d=\"M195.52,176.8h0.03599999999997294v7.199999999999989h-0.03599999999997294Z\" fill=\"#4c78a8\" fill-opacity=\"1\" stroke=\"#505050\" stroke-width=\"0\"/><path aria-label=\"x1: 4888; x2: 4888.9; level: 28; level2: 28.9; status: Default; sf: copyto! at broadcast.jl:972 [inlined]\" role=\"graphics-symbol\" aria-roledescription=\"rect mark\" d=\"M195.52,168.8h0.03599999999997294v7.19999999999996h-0.03599999999997294Z\" fill=\"#4c78a8\" fill-opacity=\"1\" stroke=\"#505050\" stroke-width=\"0\"/><path aria-label=\"x1: 4888; x2: 4888.9; level: 29; level2: 29.9; status: Default; sf: macro expansion at simdloop.jl:77 [inlined]\" role=\"graphics-symbol\" aria-roledescription=\"rect mark\" d=\"M195.52,160.8h0.03599999999997294v7.200000000000017h-0.03599999999997294Z\" fill=\"#4c78a8\" fill-opacity=\"1\" stroke=\"#505050\" stroke-width=\"0\"/><path aria-label=\"x1: 4888; x2: 4888.9; level: 30; level2: 30.9; status: Default; sf: macro expansion at broadcast.jl:973 [inlined]\" role=\"graphics-symbol\" aria-roledescription=\"rect mark\" d=\"M195.52,152.8h0.03599999999997294v7.199999999999989h-0.03599999999997294Z\" fill=\"#4c78a8\" fill-opacity=\"1\" stroke=\"#505050\" stroke-width=\"0\"/><path aria-label=\"x1: 4888; x2: 4888.9; level: 31; level2: 31.9; status: Default; sf: setindex! at multidimensional.jl:704 [inlined]\" role=\"graphics-symbol\" aria-roledescription=\"rect mark\" d=\"M195.52,144.79999999999998h0.03599999999997294v7.200000000000017h-0.03599999999997294Z\" fill=\"#4c78a8\" fill-opacity=\"1\" stroke=\"#505050\" stroke-width=\"0\"/><path aria-label=\"x1: 4888; x2: 4888.9; level: 32; level2: 32.9; status: Default; sf: setindex! at array.jl:994 [inlined]\" role=\"graphics-symbol\" aria-roledescription=\"rect mark\" d=\"M195.52,136.80000000000004h0.03599999999997294v7.19999999999996h-0.03599999999997294Z\" fill=\"#4c78a8\" fill-opacity=\"1\" stroke=\"#505050\" stroke-width=\"0\"/><path aria-label=\"x1: 4889; x2: 4889.9; level: 27; level2: 27.9; status: Default; sf: similar at broadcast.jl:223 [inlined]\" role=\"graphics-symbol\" aria-roledescription=\"rect mark\" d=\"M195.56,176.8h0.036000000000001364v7.199999999999989h-0.036000000000001364Z\" fill=\"#4c78a8\" fill-opacity=\"1\" stroke=\"#505050\" stroke-width=\"0\"/><path aria-label=\"x1: 4889; x2: 4889.9; level: 28; level2: 28.9; status: Default; sf: similar at broadcast.jl:224 [inlined]\" role=\"graphics-symbol\" aria-roledescription=\"rect mark\" d=\"M195.56,168.8h0.036000000000001364v7.19999999999996h-0.036000000000001364Z\" fill=\"#4c78a8\" fill-opacity=\"1\" stroke=\"#505050\" stroke-width=\"0\"/><path aria-label=\"x1: 4889; x2: 4889.9; level: 29; level2: 29.9; status: Default; sf: similar at abstractarray.jl:867 [inlined]\" role=\"graphics-symbol\" aria-roledescription=\"rect mark\" d=\"M195.56,160.8h0.036000000000001364v7.200000000000017h-0.036000000000001364Z\" fill=\"#4c78a8\" fill-opacity=\"1\" stroke=\"#505050\" stroke-width=\"0\"/><path aria-label=\"x1: 4889; x2: 4889.9; level: 30; level2: 30.9; status: Default; sf: similar at abstractarray.jl:868 [inlined]\" role=\"graphics-symbol\" aria-roledescription=\"rect mark\" d=\"M195.56,152.8h0.036000000000001364v7.199999999999989h-0.036000000000001364Z\" fill=\"#4c78a8\" fill-opacity=\"1\" stroke=\"#505050\" stroke-width=\"0\"/><path aria-label=\"x1: 4889; x2: 4889.9; level: 31; level2: 31.9; status: Default; sf: Array at boot.jl:599 [inlined]\" role=\"graphics-symbol\" aria-roledescription=\"rect mark\" d=\"M195.56,144.79999999999998h0.036000000000001364v7.200000000000017h-0.036000000000001364Z\" fill=\"#4c78a8\" fill-opacity=\"1\" stroke=\"#505050\" stroke-width=\"0\"/><path aria-label=\"x1: 4889; x2: 4889.9; level: 32; level2: 32.9; status: Default; sf: Array at boot.jl:592 [inlined]\" role=\"graphics-symbol\" aria-roledescription=\"rect mark\" d=\"M195.56,136.80000000000004h0.036000000000001364v7.19999999999996h-0.036000000000001364Z\" fill=\"#4c78a8\" fill-opacity=\"1\" stroke=\"#505050\" stroke-width=\"0\"/><path aria-label=\"x1: 4889; x2: 4889.9; level: 33; level2: 33.9; status: Default; sf: Array at boot.jl:582 [inlined]\" role=\"graphics-symbol\" aria-roledescription=\"rect mark\" d=\"M195.56,128.8h0.036000000000001364v7.199999999999989h-0.036000000000001364Z\" fill=\"#4c78a8\" fill-opacity=\"1\" stroke=\"#505050\" stroke-width=\"0\"/><path aria-label=\"x1: 4889; x2: 4889.9; level: 34; level2: 34.9; status: Default; sf: new_as_memoryref at boot.jl:535 [inlined]\" role=\"graphics-symbol\" aria-roledescription=\"rect mark\" d=\"M195.56,120.80000000000001h0.036000000000001364v7.199999999999974h-0.036000000000001364Z\" fill=\"#4c78a8\" fill-opacity=\"1\" stroke=\"#505050\" stroke-width=\"0\"/><path aria-label=\"x1: 4889; x2: 4889.9; level: 35; level2: 35.9; status: Garbage collection; sf: GenericMemory at boot.jl:516 [inlined]\" role=\"graphics-symbol\" aria-roledescription=\"rect mark\" d=\"M195.56,112.80000000000001h0.036000000000001364v7.200000000000003h-0.036000000000001364Z\" fill=\"#f58518\" fill-opacity=\"1\" stroke=\"#505050\" stroke-width=\"0\"/><path aria-label=\"x1: 4890; x2: 4890.9; level: 24; level2: 24.9; status: Default; sf: iterate(iter::ProximalAlgorithms.FastForwardBackwardIteration{Float64, Matrix{ComplexF64}, ArraySignalProcessing.MyLeastSquares{ComplexF64, Matrix{ComplexF64}, Matrix{ComplexF64}}, ArraySignalProcessing.MyNormL21{Float64, Int64}, Nothing, Nothing, Nothing}) at fast_forward_backward.jl:81\" role=\"graphics-symbol\" aria-roledescription=\"rect mark\" d=\"M195.6,200.8h0.036000000000001364v7.199999999999989h-0.036000000000001364Z\" fill=\"#4c78a8\" fill-opacity=\"1\" stroke=\"#505050\" stroke-width=\"0\"/><path aria-label=\"x1: 4890; x2: 4890.9; level: 25; level2: 25.9; status: Default; sf: -(A::Matrix{ComplexF64}, B::Matrix{ComplexF64}) at arraymath.jl:8\" role=\"graphics-symbol\" aria-roledescription=\"rect mark\" d=\"M195.6,192.79999999999998h0.036000000000001364v7.200000000000017h-0.036000000000001364Z\" fill=\"#4c78a8\" fill-opacity=\"1\" stroke=\"#505050\" stroke-width=\"0\"/><path aria-label=\"x1: 4890; x2: 4890.9; level: 26; level2: 26.9; status: Default; sf: broadcast_preserving_zero_d at broadcast.jl:861 [inlined]\" role=\"graphics-symbol\" aria-roledescription=\"rect mark\" d=\"M195.6,184.80000000000004h0.036000000000001364v7.19999999999996h-0.036000000000001364Z\" fill=\"#4c78a8\" fill-opacity=\"1\" stroke=\"#505050\" stroke-width=\"0\"/><path aria-label=\"x1: 4890; x2: 4890.9; level: 27; level2: 27.9; status: Default; sf: materialize at broadcast.jl:872 [inlined]\" role=\"graphics-symbol\" aria-roledescription=\"rect mark\" d=\"M195.6,176.8h0.036000000000001364v7.199999999999989h-0.036000000000001364Z\" fill=\"#4c78a8\" fill-opacity=\"1\" stroke=\"#505050\" stroke-width=\"0\"/><path aria-label=\"x1: 4890; x2: 4890.9; level: 28; level2: 28.9; status: Default; sf: copy at broadcast.jl:897 [inlined]\" role=\"graphics-symbol\" aria-roledescription=\"rect mark\" d=\"M195.6,168.8h0.036000000000001364v7.19999999999996h-0.036000000000001364Z\" fill=\"#4c78a8\" fill-opacity=\"1\" stroke=\"#505050\" stroke-width=\"0\"/><path aria-label=\"x1: 4890; x2: 4890.9; level: 29; level2: 29.9; status: Default; sf: copyto! at broadcast.jl:925 [inlined]\" role=\"graphics-symbol\" aria-roledescription=\"rect mark\" d=\"M195.6,160.8h0.036000000000001364v7.200000000000017h-0.036000000000001364Z\" fill=\"#4c78a8\" fill-opacity=\"1\" stroke=\"#505050\" stroke-width=\"0\"/><path aria-label=\"x1: 4890; x2: 4890.9; level: 30; level2: 30.9; status: Default; sf: copyto! at broadcast.jl:972 [inlined]\" role=\"graphics-symbol\" aria-roledescription=\"rect mark\" d=\"M195.6,152.8h0.036000000000001364v7.199999999999989h-0.036000000000001364Z\" fill=\"#4c78a8\" fill-opacity=\"1\" stroke=\"#505050\" stroke-width=\"0\"/><path aria-label=\"x1: 4890; x2: 4890.9; level: 31; level2: 31.9; status: Default; sf: macro expansion at simdloop.jl:77 [inlined]\" role=\"graphics-symbol\" aria-roledescription=\"rect mark\" d=\"M195.6,144.79999999999998h0.036000000000001364v7.200000000000017h-0.036000000000001364Z\" fill=\"#4c78a8\" fill-opacity=\"1\" stroke=\"#505050\" stroke-width=\"0\"/><path aria-label=\"x1: 4890; x2: 4890.9; level: 32; level2: 32.9; status: Default; sf: macro expansion at broadcast.jl:973 [inlined]\" role=\"graphics-symbol\" aria-roledescription=\"rect mark\" d=\"M195.6,136.80000000000004h0.036000000000001364v7.19999999999996h-0.036000000000001364Z\" fill=\"#4c78a8\" fill-opacity=\"1\" stroke=\"#505050\" stroke-width=\"0\"/><path aria-label=\"x1: 4890; x2: 4890.9; level: 33; level2: 33.9; status: Default; sf: setindex! at multidimensional.jl:704 [inlined]\" role=\"graphics-symbol\" aria-roledescription=\"rect mark\" d=\"M195.6,128.8h0.036000000000001364v7.199999999999989h-0.036000000000001364Z\" fill=\"#4c78a8\" fill-opacity=\"1\" stroke=\"#505050\" stroke-width=\"0\"/><path aria-label=\"x1: 4890; x2: 4890.9; level: 34; level2: 34.9; status: Default; sf: setindex! at array.jl:994 [inlined]\" role=\"graphics-symbol\" aria-roledescription=\"rect mark\" d=\"M195.6,120.80000000000001h0.036000000000001364v7.199999999999974h-0.036000000000001364Z\" fill=\"#4c78a8\" fill-opacity=\"1\" stroke=\"#505050\" stroke-width=\"0\"/><path aria-label=\"x1: 4891; x2: 6863.9; level: 21; level2: 21.9; status: Default; sf: (::ProximalAlgorithms.IterativeAlgorithm{ProximalAlgorithms.FastForwardBackwardIteration, ProximalAlgorithms.var&quot;#29#31&quot;{Float64}, typeof(ProximalAlgorithms.default_solution), typeof(ProximalAlgorithms.default_display), Base.Pairs{Symbol, Union{}, Tuple{}, @NamedTuple{}}})(; kwargs::Base.Pairs{Symbol, Any, Tuple{Symbol, Symbol, Symbol}, @NamedTuple{x0::Matrix{ComplexF64}, f::ArraySignalProcessing.MyLeastSquares{ComplexF64, Matrix{ComplexF64}, Matrix{ComplexF64}}, g::ArraySignalProcessing.MyNormL21{Float64, Int64}}}) at ProximalAlgorithms.jl:117\" role=\"graphics-symbol\" aria-roledescription=\"rect mark\" d=\"M195.64,224.8h78.916v7.200000000000017h-78.916Z\" fill=\"#4c78a8\" fill-opacity=\"1\" stroke=\"#505050\" stroke-width=\"0\"/><path aria-label=\"x1: 4891; x2: 6863.9; level: 22; level2: 22.9; status: Default; sf: #29 at fast_forward_backward.jl:189 [inlined]\" role=\"graphics-symbol\" aria-roledescription=\"rect mark\" d=\"M195.64,216.8h78.916v7.200000000000017h-78.916Z\" fill=\"#4c78a8\" fill-opacity=\"1\" stroke=\"#505050\" stroke-width=\"0\"/><path aria-label=\"x1: 4891; x2: 6863.9; level: 23; level2: 23.9; status: Default; sf: default_stopping_criterion at fast_forward_backward.jl:147 [inlined]\" role=\"graphics-symbol\" aria-roledescription=\"rect mark\" d=\"M195.64,208.8h78.916v7.199999999999989h-78.916Z\" fill=\"#4c78a8\" fill-opacity=\"1\" stroke=\"#505050\" stroke-width=\"0\"/><path aria-label=\"x1: 4891; x2: 4891.9; level: 24; level2: 24.9; status: Default; sf: getproperty at Base.jl:49 [inlined]\" role=\"graphics-symbol\" aria-roledescription=\"rect mark\" d=\"M195.64,200.8h0.036000000000001364v7.199999999999989h-0.036000000000001364Z\" fill=\"#4c78a8\" fill-opacity=\"1\" stroke=\"#505050\" stroke-width=\"0\"/><path aria-label=\"x1: 4892; x2: 4893.9; level: 24; level2: 24.9; status: Default; sf: / at float.jl:494 [inlined]\" role=\"graphics-symbol\" aria-roledescription=\"rect mark\" d=\"M195.68,200.8h0.07599999999996498v7.199999999999989h-0.07599999999996498Z\" fill=\"#4c78a8\" fill-opacity=\"1\" stroke=\"#505050\" stroke-width=\"0\"/><path aria-label=\"x1: 4894; x2: 6863.9; level: 24; level2: 24.9; status: Default; sf: norm(itr::Matrix{ComplexF64}, p::Float64) at generic.jl:608\" role=\"graphics-symbol\" aria-roledescription=\"rect mark\" d=\"M195.76,200.8h78.79599999999999v7.199999999999989h-78.79599999999999Z\" fill=\"#4c78a8\" fill-opacity=\"1\" stroke=\"#505050\" stroke-width=\"0\"/><path aria-label=\"x1: 4894; x2: 6863.9; level: 25; level2: 25.9; status: Default; sf: normInf at generic.jl:533 [inlined]\" role=\"graphics-symbol\" aria-roledescription=\"rect mark\" d=\"M195.76,192.79999999999998h78.79599999999999v7.200000000000017h-78.79599999999999Z\" fill=\"#4c78a8\" fill-opacity=\"1\" stroke=\"#505050\" stroke-width=\"0\"/><path aria-label=\"x1: 4894; x2: 6863.9; level: 26; level2: 26.9; status: Default; sf: generic_normInf at generic.jl:459 [inlined]\" role=\"graphics-symbol\" aria-roledescription=\"rect mark\" d=\"M195.76,184.80000000000004h78.79599999999999v7.19999999999996h-78.79599999999999Z\" fill=\"#4c78a8\" fill-opacity=\"1\" stroke=\"#505050\" stroke-width=\"0\"/><path aria-label=\"x1: 4894; x2: 6863.9; level: 27; level2: 27.9; status: Default; sf: mapreduce at reducedim.jl:329 [inlined]\" role=\"graphics-symbol\" aria-roledescription=\"rect mark\" d=\"M195.76,176.8h78.79599999999999v7.199999999999989h-78.79599999999999Z\" fill=\"#4c78a8\" fill-opacity=\"1\" stroke=\"#505050\" stroke-width=\"0\"/><path aria-label=\"x1: 4894; x2: 6863.9; level: 28; level2: 28.9; status: Default; sf: #mapreduce#928 at reducedim.jl:329 [inlined]\" role=\"graphics-symbol\" aria-roledescription=\"rect mark\" d=\"M195.76,168.8h78.79599999999999v7.19999999999996h-78.79599999999999Z\" fill=\"#4c78a8\" fill-opacity=\"1\" stroke=\"#505050\" stroke-width=\"0\"/><path aria-label=\"x1: 4894; x2: 6863.9; level: 29; level2: 29.9; status: Default; sf: _mapreduce_dim at reducedim.jl:337 [inlined]\" role=\"graphics-symbol\" aria-roledescription=\"rect mark\" d=\"M195.76,160.8h78.79599999999999v7.200000000000017h-78.79599999999999Z\" fill=\"#4c78a8\" fill-opacity=\"1\" stroke=\"#505050\" stroke-width=\"0\"/><path aria-label=\"x1: 4894; x2: 4894.9; level: 30; level2: 30.9; status: Default; sf: _mapreduce(f::typeof(norm), op::typeof(max), ::IndexLinear, A::Matrix{ComplexF64}) at reduce.jl:0\" role=\"graphics-symbol\" aria-roledescription=\"rect mark\" d=\"M195.76,152.8h0.036000000000001364v7.199999999999989h-0.036000000000001364Z\" fill=\"#4c78a8\" fill-opacity=\"1\" stroke=\"#505050\" stroke-width=\"0\"/><path aria-label=\"x1: 4895; x2: 4895.9; level: 30; level2: 30.9; status: Default; sf: _mapreduce(f::typeof(norm), op::typeof(max), ::IndexLinear, A::Matrix{ComplexF64}) at reduce.jl:425\" role=\"graphics-symbol\" aria-roledescription=\"rect mark\" d=\"M195.79999999999998,152.8h0.036000000000001364v7.199999999999989h-0.036000000000001364Z\" fill=\"#4c78a8\" fill-opacity=\"1\" stroke=\"#505050\" stroke-width=\"0\"/><path aria-label=\"x1: 4896; x2: 6863.9; level: 30; level2: 30.9; status: Default; sf: _mapreduce(f::typeof(norm), op::typeof(max), ::IndexLinear, A::Matrix{ComplexF64}) at reduce.jl:444\" role=\"graphics-symbol\" aria-roledescription=\"rect mark\" d=\"M195.84,152.8h78.71599999999998v7.199999999999989h-78.71599999999998Z\" fill=\"#4c78a8\" fill-opacity=\"1\" stroke=\"#505050\" stroke-width=\"0\"/><path aria-label=\"x1: 4896; x2: 4896.9; level: 31; level2: 31.9; status: Default; sf: mapreduce_impl(f::typeof(norm), op::typeof(max), A::Matrix{ComplexF64}, first::Int64, last::Int64) at reduce.jl:649\" role=\"graphics-symbol\" aria-roledescription=\"rect mark\" d=\"M195.84,144.79999999999998h0.03599999999997294v7.200000000000017h-0.03599999999997294Z\" fill=\"#4c78a8\" fill-opacity=\"1\" stroke=\"#505050\" stroke-width=\"0\"/><path aria-label=\"x1: 4896; x2: 4896.9; level: 32; level2: 32.9; status: Default; sf: Colon at range.jl:22 [inlined]\" role=\"graphics-symbol\" aria-roledescription=\"rect mark\" d=\"M195.84,136.80000000000004h0.03599999999997294v7.19999999999996h-0.03599999999997294Z\" fill=\"#4c78a8\" fill-opacity=\"1\" stroke=\"#505050\" stroke-width=\"0\"/><path aria-label=\"x1: 4896; x2: 4896.9; level: 33; level2: 33.9; status: Default; sf: _colon at range.jl:24 [inlined]\" role=\"graphics-symbol\" aria-roledescription=\"rect mark\" d=\"M195.84,128.8h0.03599999999997294v7.199999999999989h-0.03599999999997294Z\" fill=\"#4c78a8\" fill-opacity=\"1\" stroke=\"#505050\" stroke-width=\"0\"/><path aria-label=\"x1: 4896; x2: 4896.9; level: 34; level2: 34.9; status: Default; sf: StepRange at range.jl:384 [inlined]\" role=\"graphics-symbol\" aria-roledescription=\"rect mark\" d=\"M195.84,120.80000000000001h0.03599999999997294v7.199999999999974h-0.03599999999997294Z\" fill=\"#4c78a8\" fill-opacity=\"1\" stroke=\"#505050\" stroke-width=\"0\"/><path aria-label=\"x1: 4896; x2: 4896.9; level: 35; level2: 35.9; status: Default; sf: StepRange at range.jl:329 [inlined]\" role=\"graphics-symbol\" aria-roledescription=\"rect mark\" d=\"M195.84,112.80000000000001h0.03599999999997294v7.200000000000003h-0.03599999999997294Z\" fill=\"#4c78a8\" fill-opacity=\"1\" stroke=\"#505050\" stroke-width=\"0\"/><path aria-label=\"x1: 4896; x2: 4896.9; level: 36; level2: 36.9; status: Default; sf: steprange_last at range.jl:347 [inlined]\" role=\"graphics-symbol\" aria-roledescription=\"rect mark\" d=\"M195.84,104.80000000000001h0.03599999999997294v7.200000000000003h-0.03599999999997294Z\" fill=\"#4c78a8\" fill-opacity=\"1\" stroke=\"#505050\" stroke-width=\"0\"/><path aria-label=\"x1: 4896; x2: 4896.9; level: 37; level2: 37.9; status: Default; sf: &gt; at operators.jl:379 [inlined]\" role=\"graphics-symbol\" aria-roledescription=\"rect mark\" d=\"M195.84,96.8h0.03599999999997294v7.200000000000003h-0.03599999999997294Z\" fill=\"#4c78a8\" fill-opacity=\"1\" stroke=\"#505050\" stroke-width=\"0\"/><path aria-label=\"x1: 4896; x2: 4896.9; level: 38; level2: 38.9; status: Default; sf: &lt; at int.jl:83 [inlined]\" role=\"graphics-symbol\" aria-roledescription=\"rect mark\" d=\"M195.84,88.79999999999998h0.03599999999997294v7.200000000000017h-0.03599999999997294Z\" fill=\"#4c78a8\" fill-opacity=\"1\" stroke=\"#505050\" stroke-width=\"0\"/><path aria-label=\"x1: 4897; x2: 5396.9; level: 31; level2: 31.9; status: Default; sf: mapreduce_impl(f::typeof(norm), op::typeof(max), A::Matrix{ComplexF64}, first::Int64, last::Int64) at reduce.jl:650\" role=\"graphics-symbol\" aria-roledescription=\"rect mark\" d=\"M195.88,144.79999999999998h19.99600000000001v7.200000000000017h-19.99600000000001Z\" fill=\"#4c78a8\" fill-opacity=\"1\" stroke=\"#505050\" stroke-width=\"0\"/><path aria-label=\"x1: 4897; x2: 4914.9; level: 32; level2: 32.9; status: Default; sf: getindex at essentials.jl:917 [inlined]\" role=\"graphics-symbol\" aria-roledescription=\"rect mark\" d=\"M195.88,136.80000000000004h0.7160000000000082v7.19999999999996h-0.7160000000000082Z\" fill=\"#4c78a8\" fill-opacity=\"1\" stroke=\"#505050\" stroke-width=\"0\"/><path aria-label=\"x1: 4915; x2: 4987.9; level: 32; level2: 32.9; status: Default; sf: _fast at reduce.jl:623 [inlined]\" role=\"graphics-symbol\" aria-roledescription=\"rect mark\" d=\"M196.6,136.80000000000004h2.915999999999997v7.19999999999996h-2.915999999999997Z\" fill=\"#4c78a8\" fill-opacity=\"1\" stroke=\"#505050\" stroke-width=\"0\"/><path aria-label=\"x1: 4915; x2: 4987.9; level: 33; level2: 33.9; status: Default; sf: ifelse at essentials.jl:796 [inlined]\" role=\"graphics-symbol\" aria-roledescription=\"rect mark\" d=\"M196.6,128.8h2.915999999999997v7.199999999999989h-2.915999999999997Z\" fill=\"#4c78a8\" fill-opacity=\"1\" stroke=\"#505050\" stroke-width=\"0\"/><path aria-label=\"x1: 4988; x2: 5396.9; level: 32; level2: 32.9; status: Default; sf: norm at generic.jl:645 [inlined]\" role=\"graphics-symbol\" aria-roledescription=\"rect mark\" d=\"M199.52,136.80000000000004h16.355999999999995v7.19999999999996h-16.355999999999995Z\" fill=\"#4c78a8\" fill-opacity=\"1\" stroke=\"#505050\" stroke-width=\"0\"/><path aria-label=\"x1: 4988; x2: 5396.9; level: 33; level2: 33.9; status: Default; sf: norm at generic.jl:645 [inlined]\" role=\"graphics-symbol\" aria-roledescription=\"rect mark\" d=\"M199.52,128.8h16.355999999999995v7.199999999999989h-16.355999999999995Z\" fill=\"#4c78a8\" fill-opacity=\"1\" stroke=\"#505050\" stroke-width=\"0\"/><path aria-label=\"x1: 4988; x2: 5396.9; level: 34; level2: 34.9; status: Default; sf: abs at complex.jl:286 [inlined]\" role=\"graphics-symbol\" aria-roledescription=\"rect mark\" d=\"M199.52,120.80000000000001h16.355999999999995v7.199999999999974h-16.355999999999995Z\" fill=\"#4c78a8\" fill-opacity=\"1\" stroke=\"#505050\" stroke-width=\"0\"/><path aria-label=\"x1: 4988; x2: 5396.9; level: 35; level2: 35.9; status: Default; sf: hypot at math.jl:706 [inlined]\" role=\"graphics-symbol\" aria-roledescription=\"rect mark\" d=\"M199.52,112.80000000000001h16.355999999999995v7.200000000000003h-16.355999999999995Z\" fill=\"#4c78a8\" fill-opacity=\"1\" stroke=\"#505050\" stroke-width=\"0\"/><path aria-label=\"x1: 4988; x2: 5031.9; level: 36; level2: 36.9; status: Default; sf: _hypot(x::Float64, y::Float64) at float.jl:0\" role=\"graphics-symbol\" aria-roledescription=\"rect mark\" d=\"M199.52,104.80000000000001h1.7559999999999434v7.200000000000003h-1.7559999999999434Z\" fill=\"#4c78a8\" fill-opacity=\"1\" stroke=\"#505050\" stroke-width=\"0\"/><path aria-label=\"x1: 5032; x2: 5036.9; level: 36; level2: 36.9; status: Default; sf: _hypot(x::Float64, y::Float64) at math.jl:0\" role=\"graphics-symbol\" aria-roledescription=\"rect mark\" d=\"M201.28,104.80000000000001h0.19599999999999795v7.200000000000003h-0.19599999999999795Z\" fill=\"#4c78a8\" fill-opacity=\"1\" stroke=\"#505050\" stroke-width=\"0\"/><path aria-label=\"x1: 5037; x2: 5076.9; level: 36; level2: 36.9; status: Default; sf: _hypot(x::Float64, y::Float64) at math.jl:708\" role=\"graphics-symbol\" aria-roledescription=\"rect mark\" d=\"M201.48000000000002,104.80000000000001h1.5959999999999752v7.200000000000003h-1.5959999999999752Z\" fill=\"#4c78a8\" fill-opacity=\"1\" stroke=\"#505050\" stroke-width=\"0\"/><path aria-label=\"x1: 5077; x2: 5078.9; level: 36; level2: 36.9; status: Default; sf: _hypot(x::Float64, y::Float64) at math.jl:710\" role=\"graphics-symbol\" aria-roledescription=\"rect mark\" d=\"M203.08,104.80000000000001h0.07599999999996498v7.200000000000003h-0.07599999999996498Z\" fill=\"#4c78a8\" fill-opacity=\"1\" stroke=\"#505050\" stroke-width=\"0\"/><path aria-label=\"x1: 5077; x2: 5078.9; level: 37; level2: 37.9; status: Default; sf: abs at float.jl:692 [inlined]\" role=\"graphics-symbol\" aria-roledescription=\"rect mark\" d=\"M203.08,96.8h0.07599999999996498v7.200000000000003h-0.07599999999996498Z\" fill=\"#4c78a8\" fill-opacity=\"1\" stroke=\"#505050\" stroke-width=\"0\"/><path aria-label=\"x1: 5079; x2: 5116.9; level: 36; level2: 36.9; status: Default; sf: _hypot(x::Float64, y::Float64) at math.jl:711\" role=\"graphics-symbol\" aria-roledescription=\"rect mark\" d=\"M203.16,104.80000000000001h1.5159999999999911v7.200000000000003h-1.5159999999999911Z\" fill=\"#4c78a8\" fill-opacity=\"1\" stroke=\"#505050\" stroke-width=\"0\"/><path aria-label=\"x1: 5079; x2: 5116.9; level: 37; level2: 37.9; status: Default; sf: abs at float.jl:692 [inlined]\" role=\"graphics-symbol\" aria-roledescription=\"rect mark\" d=\"M203.16,96.8h1.5159999999999911v7.200000000000003h-1.5159999999999911Z\" fill=\"#4c78a8\" fill-opacity=\"1\" stroke=\"#505050\" stroke-width=\"0\"/><path aria-label=\"x1: 5117; x2: 5120.9; level: 36; level2: 36.9; status: Default; sf: _hypot(x::Float64, y::Float64) at math.jl:718\" role=\"graphics-symbol\" aria-roledescription=\"rect mark\" d=\"M204.68,104.80000000000001h0.1559999999999775v7.200000000000003h-0.1559999999999775Z\" fill=\"#4c78a8\" fill-opacity=\"1\" stroke=\"#505050\" stroke-width=\"0\"/><path aria-label=\"x1: 5121; x2: 5305.9; level: 36; level2: 36.9; status: Default; sf: _hypot(x::Float64, y::Float64) at math.jl:723\" role=\"graphics-symbol\" aria-roledescription=\"rect mark\" d=\"M204.84,104.80000000000001h7.395999999999987v7.200000000000003h-7.395999999999987Z\" fill=\"#4c78a8\" fill-opacity=\"1\" stroke=\"#505050\" stroke-width=\"0\"/><path aria-label=\"x1: 5306; x2: 5330.9; level: 36; level2: 36.9; status: Default; sf: _hypot(x::Float64, y::Float64) at math.jl:729\" role=\"graphics-symbol\" aria-roledescription=\"rect mark\" d=\"M212.23999999999998,104.80000000000001h0.9960000000000093v7.200000000000003h-0.9960000000000093Z\" fill=\"#4c78a8\" fill-opacity=\"1\" stroke=\"#505050\" stroke-width=\"0\"/><path aria-label=\"x1: 5306; x2: 5307.9; level: 37; level2: 37.9; status: Default; sf: * at float.jl:493 [inlined]\" role=\"graphics-symbol\" aria-roledescription=\"rect mark\" d=\"M212.23999999999998,96.8h0.07600000000002183v7.200000000000003h-0.07600000000002183Z\" fill=\"#4c78a8\" fill-opacity=\"1\" stroke=\"#505050\" stroke-width=\"0\"/><path aria-label=\"x1: 5308; x2: 5324.9; level: 37; level2: 37.9; status: Default; sf: &lt;= at float.jl:619 [inlined]\" role=\"graphics-symbol\" aria-roledescription=\"rect mark\" d=\"M212.32000000000002,96.8h0.6759999999999877v7.200000000000003h-0.6759999999999877Z\" fill=\"#4c78a8\" fill-opacity=\"1\" stroke=\"#505050\" stroke-width=\"0\"/><path aria-label=\"x1: 5331; x2: 5339.9; level: 36; level2: 36.9; status: Default; sf: _hypot(x::Float64, y::Float64) at math.jl:735\" role=\"graphics-symbol\" aria-roledescription=\"rect mark\" d=\"M213.24,104.80000000000001h0.3559999999999661v7.200000000000003h-0.3559999999999661Z\" fill=\"#4c78a8\" fill-opacity=\"1\" stroke=\"#505050\" stroke-width=\"0\"/><path aria-label=\"x1: 5331; x2: 5337.9; level: 37; level2: 37.9; status: Default; sf: &gt; at operators.jl:379 [inlined]\" role=\"graphics-symbol\" aria-roledescription=\"rect mark\" d=\"M213.24,96.8h0.27599999999998204v7.200000000000003h-0.27599999999998204Z\" fill=\"#4c78a8\" fill-opacity=\"1\" stroke=\"#505050\" stroke-width=\"0\"/><path aria-label=\"x1: 5331; x2: 5337.9; level: 38; level2: 38.9; status: Default; sf: &lt; at float.jl:618 [inlined]\" role=\"graphics-symbol\" aria-roledescription=\"rect mark\" d=\"M213.24,88.79999999999998h0.27599999999998204v7.200000000000017h-0.27599999999998204Z\" fill=\"#4c78a8\" fill-opacity=\"1\" stroke=\"#505050\" stroke-width=\"0\"/><path aria-label=\"x1: 5340; x2: 5357.9; level: 36; level2: 36.9; status: Default; sf: _hypot(x::Float64, y::Float64) at math.jl:748\" role=\"graphics-symbol\" aria-roledescription=\"rect mark\" d=\"M213.60000000000002,104.80000000000001h0.7159999999999798v7.200000000000003h-0.7159999999999798Z\" fill=\"#4c78a8\" fill-opacity=\"1\" stroke=\"#505050\" stroke-width=\"0\"/><path aria-label=\"x1: 5340; x2: 5357.9; level: 37; level2: 37.9; status: Default; sf: * at float.jl:493 [inlined]\" role=\"graphics-symbol\" aria-roledescription=\"rect mark\" d=\"M213.60000000000002,96.8h0.7159999999999798v7.200000000000003h-0.7159999999999798Z\" fill=\"#4c78a8\" fill-opacity=\"1\" stroke=\"#505050\" stroke-width=\"0\"/><path aria-label=\"x1: 5358; x2: 5385.9; level: 36; level2: 36.9; status: Default; sf: _hypot(x::Float64, y::Float64) at math.jl:750\" role=\"graphics-symbol\" aria-roledescription=\"rect mark\" d=\"M214.32000000000002,104.80000000000001h1.1159999999999854v7.200000000000003h-1.1159999999999854Z\" fill=\"#4c78a8\" fill-opacity=\"1\" stroke=\"#505050\" stroke-width=\"0\"/><path aria-label=\"x1: 5358; x2: 5359.9; level: 37; level2: 37.9; status: Default; sf: + at float.jl:491 [inlined]\" role=\"graphics-symbol\" aria-roledescription=\"rect mark\" d=\"M214.32000000000002,96.8h0.07599999999996498v7.200000000000003h-0.07599999999996498Z\" fill=\"#4c78a8\" fill-opacity=\"1\" stroke=\"#505050\" stroke-width=\"0\"/><path aria-label=\"x1: 5360; x2: 5374.9; level: 37; level2: 37.9; status: Default; sf: - at float.jl:492 [inlined]\" role=\"graphics-symbol\" aria-roledescription=\"rect mark\" d=\"M214.4,96.8h0.5959999999999468v7.200000000000003h-0.5959999999999468Z\" fill=\"#4c78a8\" fill-opacity=\"1\" stroke=\"#505050\" stroke-width=\"0\"/><path aria-label=\"x1: 5375; x2: 5382.9; level: 37; level2: 37.9; status: Default; sf: fma at floatfuncs.jl:357 [inlined]\" role=\"graphics-symbol\" aria-roledescription=\"rect mark\" d=\"M215,96.8h0.3159999999999741v7.200000000000003h-0.3159999999999741Z\" fill=\"#4c78a8\" fill-opacity=\"1\" stroke=\"#505050\" stroke-width=\"0\"/><path aria-label=\"x1: 5375; x2: 5382.9; level: 38; level2: 38.9; status: Default; sf: fma_llvm at floatfuncs.jl:352 [inlined]\" role=\"graphics-symbol\" aria-roledescription=\"rect mark\" d=\"M215,88.79999999999998h0.3159999999999741v7.200000000000017h-0.3159999999999741Z\" fill=\"#4c78a8\" fill-opacity=\"1\" stroke=\"#505050\" stroke-width=\"0\"/><path aria-label=\"x1: 5383; x2: 5385.9; level: 37; level2: 37.9; status: Default; sf: * at promotion.jl:430 [inlined]\" role=\"graphics-symbol\" aria-roledescription=\"rect mark\" d=\"M215.32,96.8h0.11600000000001387v7.200000000000003h-0.11600000000001387Z\" fill=\"#4c78a8\" fill-opacity=\"1\" stroke=\"#505050\" stroke-width=\"0\"/><path aria-label=\"x1: 5383; x2: 5385.9; level: 38; level2: 38.9; status: Default; sf: * at float.jl:493 [inlined]\" role=\"graphics-symbol\" aria-roledescription=\"rect mark\" d=\"M215.32,88.79999999999998h0.11600000000001387v7.200000000000017h-0.11600000000001387Z\" fill=\"#4c78a8\" fill-opacity=\"1\" stroke=\"#505050\" stroke-width=\"0\"/><path aria-label=\"x1: 5386; x2: 5387.9; level: 36; level2: 36.9; status: Default; sf: _hypot(x::Float64, y::Float64) at math.jl:761\" role=\"graphics-symbol\" aria-roledescription=\"rect mark\" d=\"M215.44,104.80000000000001h0.0759999999999934v7.200000000000003h-0.0759999999999934Z\" fill=\"#4c78a8\" fill-opacity=\"1\" stroke=\"#505050\" stroke-width=\"0\"/><path aria-label=\"x1: 5386; x2: 5387.9; level: 37; level2: 37.9; status: Default; sf: * at operators.jl:596 [inlined]\" role=\"graphics-symbol\" aria-roledescription=\"rect mark\" d=\"M215.44,96.8h0.0759999999999934v7.200000000000003h-0.0759999999999934Z\" fill=\"#4c78a8\" fill-opacity=\"1\" stroke=\"#505050\" stroke-width=\"0\"/><path aria-label=\"x1: 5386; x2: 5387.9; level: 38; level2: 38.9; status: Default; sf: * at float.jl:493 [inlined]\" role=\"graphics-symbol\" aria-roledescription=\"rect mark\" d=\"M215.44,88.79999999999998h0.0759999999999934v7.200000000000017h-0.0759999999999934Z\" fill=\"#4c78a8\" fill-opacity=\"1\" stroke=\"#505050\" stroke-width=\"0\"/><path aria-label=\"x1: 5397; x2: 5871.9; level: 31; level2: 31.9; status: Default; sf: mapreduce_impl(f::typeof(norm), op::typeof(max), A::Matrix{ComplexF64}, first::Int64, last::Int64) at reduce.jl:651\" role=\"graphics-symbol\" aria-roledescription=\"rect mark\" d=\"M215.88,144.79999999999998h18.99600000000001v7.200000000000017h-18.99600000000001Z\" fill=\"#4c78a8\" fill-opacity=\"1\" stroke=\"#505050\" stroke-width=\"0\"/><path aria-label=\"x1: 5397; x2: 5408.9; level: 32; level2: 32.9; status: Default; sf: getindex at essentials.jl:917 [inlined]\" role=\"graphics-symbol\" aria-roledescription=\"rect mark\" d=\"M215.88,136.80000000000004h0.4759999999999991v7.19999999999996h-0.4759999999999991Z\" fill=\"#4c78a8\" fill-opacity=\"1\" stroke=\"#505050\" stroke-width=\"0\"/><path aria-label=\"x1: 5409; x2: 5510.9; level: 32; level2: 32.9; status: Default; sf: _fast at reduce.jl:623 [inlined]\" role=\"graphics-symbol\" aria-roledescription=\"rect mark\" d=\"M216.36,136.80000000000004h4.075999999999965v7.19999999999996h-4.075999999999965Z\" fill=\"#4c78a8\" fill-opacity=\"1\" stroke=\"#505050\" stroke-width=\"0\"/><path aria-label=\"x1: 5409; x2: 5510.9; level: 33; level2: 33.9; status: Default; sf: ifelse at essentials.jl:796 [inlined]\" role=\"graphics-symbol\" aria-roledescription=\"rect mark\" d=\"M216.36,128.8h4.075999999999965v7.199999999999989h-4.075999999999965Z\" fill=\"#4c78a8\" fill-opacity=\"1\" stroke=\"#505050\" stroke-width=\"0\"/><path aria-label=\"x1: 5511; x2: 5871.9; level: 32; level2: 32.9; status: Default; sf: norm at generic.jl:645 [inlined]\" role=\"graphics-symbol\" aria-roledescription=\"rect mark\" d=\"M220.44000000000003,136.80000000000004h14.435999999999979v7.19999999999996h-14.435999999999979Z\" fill=\"#4c78a8\" fill-opacity=\"1\" stroke=\"#505050\" stroke-width=\"0\"/><path aria-label=\"x1: 5511; x2: 5871.9; level: 33; level2: 33.9; status: Default; sf: norm at generic.jl:645 [inlined]\" role=\"graphics-symbol\" aria-roledescription=\"rect mark\" d=\"M220.44000000000003,128.8h14.435999999999979v7.199999999999989h-14.435999999999979Z\" fill=\"#4c78a8\" fill-opacity=\"1\" stroke=\"#505050\" stroke-width=\"0\"/><path aria-label=\"x1: 5511; x2: 5871.9; level: 34; level2: 34.9; status: Default; sf: abs at complex.jl:286 [inlined]\" role=\"graphics-symbol\" aria-roledescription=\"rect mark\" d=\"M220.44000000000003,120.80000000000001h14.435999999999979v7.199999999999974h-14.435999999999979Z\" fill=\"#4c78a8\" fill-opacity=\"1\" stroke=\"#505050\" stroke-width=\"0\"/><path aria-label=\"x1: 5511; x2: 5871.9; level: 35; level2: 35.9; status: Default; sf: hypot at math.jl:706 [inlined]\" role=\"graphics-symbol\" aria-roledescription=\"rect mark\" d=\"M220.44000000000003,112.80000000000001h14.435999999999979v7.200000000000003h-14.435999999999979Z\" fill=\"#4c78a8\" fill-opacity=\"1\" stroke=\"#505050\" stroke-width=\"0\"/><path aria-label=\"x1: 5511; x2: 5552.9; level: 36; level2: 36.9; status: Default; sf: _hypot(x::Float64, y::Float64) at float.jl:0\" role=\"graphics-symbol\" aria-roledescription=\"rect mark\" d=\"M220.44000000000003,104.80000000000001h1.6759999999999593v7.200000000000003h-1.6759999999999593Z\" fill=\"#4c78a8\" fill-opacity=\"1\" stroke=\"#505050\" stroke-width=\"0\"/><path aria-label=\"x1: 5553; x2: 5555.9; level: 36; level2: 36.9; status: Default; sf: _hypot(x::Float64, y::Float64) at math.jl:0\" role=\"graphics-symbol\" aria-roledescription=\"rect mark\" d=\"M222.12,104.80000000000001h0.11599999999995703v7.200000000000003h-0.11599999999995703Z\" fill=\"#4c78a8\" fill-opacity=\"1\" stroke=\"#505050\" stroke-width=\"0\"/><path aria-label=\"x1: 5556; x2: 5595.9; level: 36; level2: 36.9; status: Default; sf: _hypot(x::Float64, y::Float64) at math.jl:708\" role=\"graphics-symbol\" aria-roledescription=\"rect mark\" d=\"M222.23999999999998,104.80000000000001h1.5959999999999752v7.200000000000003h-1.5959999999999752Z\" fill=\"#4c78a8\" fill-opacity=\"1\" stroke=\"#505050\" stroke-width=\"0\"/><path aria-label=\"x1: 5596; x2: 5654.9; level: 36; level2: 36.9; status: Default; sf: _hypot(x::Float64, y::Float64) at math.jl:711\" role=\"graphics-symbol\" aria-roledescription=\"rect mark\" d=\"M223.84,104.80000000000001h2.355999999999966v7.200000000000003h-2.355999999999966Z\" fill=\"#4c78a8\" fill-opacity=\"1\" stroke=\"#505050\" stroke-width=\"0\"/><path aria-label=\"x1: 5596; x2: 5654.9; level: 37; level2: 37.9; status: Default; sf: abs at float.jl:692 [inlined]\" role=\"graphics-symbol\" aria-roledescription=\"rect mark\" d=\"M223.84,96.8h2.355999999999966v7.200000000000003h-2.355999999999966Z\" fill=\"#4c78a8\" fill-opacity=\"1\" stroke=\"#505050\" stroke-width=\"0\"/><path aria-label=\"x1: 5655; x2: 5658.9; level: 36; level2: 36.9; status: Default; sf: _hypot(x::Float64, y::Float64) at math.jl:718\" role=\"graphics-symbol\" aria-roledescription=\"rect mark\" d=\"M226.2,104.80000000000001h0.1560000000000059v7.200000000000003h-0.1560000000000059Z\" fill=\"#4c78a8\" fill-opacity=\"1\" stroke=\"#505050\" stroke-width=\"0\"/><path aria-label=\"x1: 5659; x2: 5742.9; level: 36; level2: 36.9; status: Default; sf: _hypot(x::Float64, y::Float64) at math.jl:723\" role=\"graphics-symbol\" aria-roledescription=\"rect mark\" d=\"M226.35999999999999,104.80000000000001h3.3559999999999945v7.200000000000003h-3.3559999999999945Z\" fill=\"#4c78a8\" fill-opacity=\"1\" stroke=\"#505050\" stroke-width=\"0\"/><path aria-label=\"x1: 5743; x2: 5807.9; level: 36; level2: 36.9; status: Default; sf: _hypot(x::Float64, y::Float64) at math.jl:729\" role=\"graphics-symbol\" aria-roledescription=\"rect mark\" d=\"M229.72000000000003,104.80000000000001h2.595999999999947v7.200000000000003h-2.595999999999947Z\" fill=\"#4c78a8\" fill-opacity=\"1\" stroke=\"#505050\" stroke-width=\"0\"/><path aria-label=\"x1: 5743; x2: 5743.9; level: 37; level2: 37.9; status: Default; sf: * at float.jl:493 [inlined]\" role=\"graphics-symbol\" aria-roledescription=\"rect mark\" d=\"M229.72000000000003,96.8h0.03599999999994452v7.200000000000003h-0.03599999999994452Z\" fill=\"#4c78a8\" fill-opacity=\"1\" stroke=\"#505050\" stroke-width=\"0\"/><path aria-label=\"x1: 5744; x2: 5790.9; level: 37; level2: 37.9; status: Default; sf: &lt;= at float.jl:619 [inlined]\" role=\"graphics-symbol\" aria-roledescription=\"rect mark\" d=\"M229.76000000000002,96.8h1.8759999999999764v7.200000000000003h-1.8759999999999764Z\" fill=\"#4c78a8\" fill-opacity=\"1\" stroke=\"#505050\" stroke-width=\"0\"/><path aria-label=\"x1: 5808; x2: 5821.9; level: 36; level2: 36.9; status: Default; sf: _hypot(x::Float64, y::Float64) at math.jl:735\" role=\"graphics-symbol\" aria-roledescription=\"rect mark\" d=\"M232.32,104.80000000000001h0.5560000000000116v7.200000000000003h-0.5560000000000116Z\" fill=\"#4c78a8\" fill-opacity=\"1\" stroke=\"#505050\" stroke-width=\"0\"/><path aria-label=\"x1: 5808; x2: 5817.9; level: 37; level2: 37.9; status: Default; sf: &gt; at operators.jl:379 [inlined]\" role=\"graphics-symbol\" aria-roledescription=\"rect mark\" d=\"M232.32,96.8h0.3959999999999866v7.200000000000003h-0.3959999999999866Z\" fill=\"#4c78a8\" fill-opacity=\"1\" stroke=\"#505050\" stroke-width=\"0\"/><path aria-label=\"x1: 5808; x2: 5817.9; level: 38; level2: 38.9; status: Default; sf: &lt; at float.jl:618 [inlined]\" role=\"graphics-symbol\" aria-roledescription=\"rect mark\" d=\"M232.32,88.79999999999998h0.3959999999999866v7.200000000000017h-0.3959999999999866Z\" fill=\"#4c78a8\" fill-opacity=\"1\" stroke=\"#505050\" stroke-width=\"0\"/><path aria-label=\"x1: 5822; x2: 5822.9; level: 36; level2: 36.9; status: Default; sf: _hypot(x::Float64, y::Float64) at math.jl:745\" role=\"graphics-symbol\" aria-roledescription=\"rect mark\" d=\"M232.88000000000002,104.80000000000001h0.03599999999997294v7.200000000000003h-0.03599999999997294Z\" fill=\"#4c78a8\" fill-opacity=\"1\" stroke=\"#505050\" stroke-width=\"0\"/><path aria-label=\"x1: 5822; x2: 5822.9; level: 37; level2: 37.9; status: Default; sf: muladd at float.jl:496 [inlined]\" role=\"graphics-symbol\" aria-roledescription=\"rect mark\" d=\"M232.88000000000002,96.8h0.03599999999997294v7.200000000000003h-0.03599999999997294Z\" fill=\"#4c78a8\" fill-opacity=\"1\" stroke=\"#505050\" stroke-width=\"0\"/><path aria-label=\"x1: 5823; x2: 5833.9; level: 36; level2: 36.9; status: Default; sf: _hypot(x::Float64, y::Float64) at math.jl:748\" role=\"graphics-symbol\" aria-roledescription=\"rect mark\" d=\"M232.92000000000002,104.80000000000001h0.4359999999999786v7.200000000000003h-0.4359999999999786Z\" fill=\"#4c78a8\" fill-opacity=\"1\" stroke=\"#505050\" stroke-width=\"0\"/><path aria-label=\"x1: 5823; x2: 5833.9; level: 37; level2: 37.9; status: Default; sf: * at float.jl:493 [inlined]\" role=\"graphics-symbol\" aria-roledescription=\"rect mark\" d=\"M232.92000000000002,96.8h0.4359999999999786v7.200000000000003h-0.4359999999999786Z\" fill=\"#4c78a8\" fill-opacity=\"1\" stroke=\"#505050\" stroke-width=\"0\"/><path aria-label=\"x1: 5834; x2: 5867.9; level: 36; level2: 36.9; status: Default; sf: _hypot(x::Float64, y::Float64) at math.jl:750\" role=\"graphics-symbol\" aria-roledescription=\"rect mark\" d=\"M233.36,104.80000000000001h1.3559999999999661v7.200000000000003h-1.3559999999999661Z\" fill=\"#4c78a8\" fill-opacity=\"1\" stroke=\"#505050\" stroke-width=\"0\"/><path aria-label=\"x1: 5834; x2: 5834.9; level: 37; level2: 37.9; status: Default; sf: + at float.jl:491 [inlined]\" role=\"graphics-symbol\" aria-roledescription=\"rect mark\" d=\"M233.36,96.8h0.03599999999997294v7.200000000000003h-0.03599999999997294Z\" fill=\"#4c78a8\" fill-opacity=\"1\" stroke=\"#505050\" stroke-width=\"0\"/><path aria-label=\"x1: 5835; x2: 5858.9; level: 37; level2: 37.9; status: Default; sf: - at float.jl:492 [inlined]\" role=\"graphics-symbol\" aria-roledescription=\"rect mark\" d=\"M233.4,96.8h0.9559999999999604v7.200000000000003h-0.9559999999999604Z\" fill=\"#4c78a8\" fill-opacity=\"1\" stroke=\"#505050\" stroke-width=\"0\"/><path aria-label=\"x1: 5859; x2: 5867.9; level: 37; level2: 37.9; status: Default; sf: fma at floatfuncs.jl:357 [inlined]\" role=\"graphics-symbol\" aria-roledescription=\"rect mark\" d=\"M234.35999999999999,96.8h0.35599999999999454v7.200000000000003h-0.35599999999999454Z\" fill=\"#4c78a8\" fill-opacity=\"1\" stroke=\"#505050\" stroke-width=\"0\"/><path aria-label=\"x1: 5859; x2: 5867.9; level: 38; level2: 38.9; status: Default; sf: fma_llvm at floatfuncs.jl:352 [inlined]\" role=\"graphics-symbol\" aria-roledescription=\"rect mark\" d=\"M234.35999999999999,88.79999999999998h0.35599999999999454v7.200000000000017h-0.35599999999999454Z\" fill=\"#4c78a8\" fill-opacity=\"1\" stroke=\"#505050\" stroke-width=\"0\"/><path aria-label=\"x1: 5868; x2: 5870.9; level: 36; level2: 36.9; status: Default; sf: _hypot(x::Float64, y::Float64) at math.jl:761\" role=\"graphics-symbol\" aria-roledescription=\"rect mark\" d=\"M234.72,104.80000000000001h0.11600000000001387v7.200000000000003h-0.11600000000001387Z\" fill=\"#4c78a8\" fill-opacity=\"1\" stroke=\"#505050\" stroke-width=\"0\"/><path aria-label=\"x1: 5868; x2: 5870.9; level: 37; level2: 37.9; status: Default; sf: * at operators.jl:596 [inlined]\" role=\"graphics-symbol\" aria-roledescription=\"rect mark\" d=\"M234.72,96.8h0.11600000000001387v7.200000000000003h-0.11600000000001387Z\" fill=\"#4c78a8\" fill-opacity=\"1\" stroke=\"#505050\" stroke-width=\"0\"/><path aria-label=\"x1: 5868; x2: 5870.9; level: 38; level2: 38.9; status: Default; sf: * at float.jl:493 [inlined]\" role=\"graphics-symbol\" aria-roledescription=\"rect mark\" d=\"M234.72,88.79999999999998h0.11600000000001387v7.200000000000017h-0.11600000000001387Z\" fill=\"#4c78a8\" fill-opacity=\"1\" stroke=\"#505050\" stroke-width=\"0\"/><path aria-label=\"x1: 5872; x2: 6294.9; level: 31; level2: 31.9; status: Default; sf: mapreduce_impl(f::typeof(norm), op::typeof(max), A::Matrix{ComplexF64}, first::Int64, last::Int64) at reduce.jl:652\" role=\"graphics-symbol\" aria-roledescription=\"rect mark\" d=\"M234.88000000000002,144.79999999999998h16.91599999999997v7.200000000000017h-16.91599999999997Z\" fill=\"#4c78a8\" fill-opacity=\"1\" stroke=\"#505050\" stroke-width=\"0\"/><path aria-label=\"x1: 5872; x2: 5895.9; level: 32; level2: 32.9; status: Default; sf: getindex at essentials.jl:917 [inlined]\" role=\"graphics-symbol\" aria-roledescription=\"rect mark\" d=\"M234.88000000000002,136.80000000000004h0.9559999999999604v7.19999999999996h-0.9559999999999604Z\" fill=\"#4c78a8\" fill-opacity=\"1\" stroke=\"#505050\" stroke-width=\"0\"/><path aria-label=\"x1: 5896; x2: 6294.9; level: 32; level2: 32.9; status: Default; sf: norm at generic.jl:645 [inlined]\" role=\"graphics-symbol\" aria-roledescription=\"rect mark\" d=\"M235.84,136.80000000000004h15.955999999999989v7.19999999999996h-15.955999999999989Z\" fill=\"#4c78a8\" fill-opacity=\"1\" stroke=\"#505050\" stroke-width=\"0\"/><path aria-label=\"x1: 5896; x2: 6294.9; level: 33; level2: 33.9; status: Default; sf: norm at generic.jl:645 [inlined]\" role=\"graphics-symbol\" aria-roledescription=\"rect mark\" d=\"M235.84,128.8h15.955999999999989v7.199999999999989h-15.955999999999989Z\" fill=\"#4c78a8\" fill-opacity=\"1\" stroke=\"#505050\" stroke-width=\"0\"/><path aria-label=\"x1: 5896; x2: 6294.9; level: 34; level2: 34.9; status: Default; sf: abs at complex.jl:286 [inlined]\" role=\"graphics-symbol\" aria-roledescription=\"rect mark\" d=\"M235.84,120.80000000000001h15.955999999999989v7.199999999999974h-15.955999999999989Z\" fill=\"#4c78a8\" fill-opacity=\"1\" stroke=\"#505050\" stroke-width=\"0\"/><path aria-label=\"x1: 5896; x2: 6294.9; level: 35; level2: 35.9; status: Default; sf: hypot at math.jl:706 [inlined]\" role=\"graphics-symbol\" aria-roledescription=\"rect mark\" d=\"M235.84,112.80000000000001h15.955999999999989v7.200000000000003h-15.955999999999989Z\" fill=\"#4c78a8\" fill-opacity=\"1\" stroke=\"#505050\" stroke-width=\"0\"/><path aria-label=\"x1: 5896; x2: 5910.9; level: 36; level2: 36.9; status: Default; sf: _hypot(x::Float64, y::Float64) at float.jl:0\" role=\"graphics-symbol\" aria-roledescription=\"rect mark\" d=\"M235.84,104.80000000000001h0.5960000000000036v7.200000000000003h-0.5960000000000036Z\" fill=\"#4c78a8\" fill-opacity=\"1\" stroke=\"#505050\" stroke-width=\"0\"/><path aria-label=\"x1: 5911; x2: 5912.9; level: 36; level2: 36.9; status: Default; sf: _hypot(x::Float64, y::Float64) at math.jl:0\" role=\"graphics-symbol\" aria-roledescription=\"rect mark\" d=\"M236.44,104.80000000000001h0.0759999999999934v7.200000000000003h-0.0759999999999934Z\" fill=\"#4c78a8\" fill-opacity=\"1\" stroke=\"#505050\" stroke-width=\"0\"/><path aria-label=\"x1: 5913; x2: 5963.9; level: 36; level2: 36.9; status: Default; sf: _hypot(x::Float64, y::Float64) at math.jl:708\" role=\"graphics-symbol\" aria-roledescription=\"rect mark\" d=\"M236.52,104.80000000000001h2.035999999999973v7.200000000000003h-2.035999999999973Z\" fill=\"#4c78a8\" fill-opacity=\"1\" stroke=\"#505050\" stroke-width=\"0\"/><path aria-label=\"x1: 5964; x2: 6003.9; level: 36; level2: 36.9; status: Default; sf: _hypot(x::Float64, y::Float64) at math.jl:711\" role=\"graphics-symbol\" aria-roledescription=\"rect mark\" d=\"M238.56,104.80000000000001h1.5960000000000036v7.200000000000003h-1.5960000000000036Z\" fill=\"#4c78a8\" fill-opacity=\"1\" stroke=\"#505050\" stroke-width=\"0\"/><path aria-label=\"x1: 5964; x2: 6003.9; level: 37; level2: 37.9; status: Default; sf: abs at float.jl:692 [inlined]\" role=\"graphics-symbol\" aria-roledescription=\"rect mark\" d=\"M238.56,96.8h1.5960000000000036v7.200000000000003h-1.5960000000000036Z\" fill=\"#4c78a8\" fill-opacity=\"1\" stroke=\"#505050\" stroke-width=\"0\"/><path aria-label=\"x1: 6004; x2: 6006.9; level: 36; level2: 36.9; status: Default; sf: _hypot(x::Float64, y::Float64) at math.jl:718\" role=\"graphics-symbol\" aria-roledescription=\"rect mark\" d=\"M240.16000000000003,104.80000000000001h0.11599999999995703v7.200000000000003h-0.11599999999995703Z\" fill=\"#4c78a8\" fill-opacity=\"1\" stroke=\"#505050\" stroke-width=\"0\"/><path aria-label=\"x1: 6007; x2: 6078.9; level: 36; level2: 36.9; status: Default; sf: _hypot(x::Float64, y::Float64) at math.jl:723\" role=\"graphics-symbol\" aria-roledescription=\"rect mark\" d=\"M240.28,104.80000000000001h2.8759999999999764v7.200000000000003h-2.8759999999999764Z\" fill=\"#4c78a8\" fill-opacity=\"1\" stroke=\"#505050\" stroke-width=\"0\"/><path aria-label=\"x1: 6079; x2: 6237.9; level: 36; level2: 36.9; status: Default; sf: _hypot(x::Float64, y::Float64) at math.jl:729\" role=\"graphics-symbol\" aria-roledescription=\"rect mark\" d=\"M243.16,104.80000000000001h6.3559999999999945v7.200000000000003h-6.3559999999999945Z\" fill=\"#4c78a8\" fill-opacity=\"1\" stroke=\"#505050\" stroke-width=\"0\"/><path aria-label=\"x1: 6079; x2: 6080.9; level: 37; level2: 37.9; status: Default; sf: * at float.jl:493 [inlined]\" role=\"graphics-symbol\" aria-roledescription=\"rect mark\" d=\"M243.16,96.8h0.07599999999996498v7.200000000000003h-0.07599999999996498Z\" fill=\"#4c78a8\" fill-opacity=\"1\" stroke=\"#505050\" stroke-width=\"0\"/><path aria-label=\"x1: 6081; x2: 6183.9; level: 37; level2: 37.9; status: Default; sf: &lt;= at float.jl:619 [inlined]\" role=\"graphics-symbol\" aria-roledescription=\"rect mark\" d=\"M243.23999999999998,96.8h4.116000000000014v7.200000000000003h-4.116000000000014Z\" fill=\"#4c78a8\" fill-opacity=\"1\" stroke=\"#505050\" stroke-width=\"0\"/><path aria-label=\"x1: 6238; x2: 6250.9; level: 36; level2: 36.9; status: Default; sf: _hypot(x::Float64, y::Float64) at math.jl:735\" role=\"graphics-symbol\" aria-roledescription=\"rect mark\" d=\"M249.52,104.80000000000001h0.5159999999999627v7.200000000000003h-0.5159999999999627Z\" fill=\"#4c78a8\" fill-opacity=\"1\" stroke=\"#505050\" stroke-width=\"0\"/><path aria-label=\"x1: 6238; x2: 6243.9; level: 37; level2: 37.9; status: Default; sf: &gt; at operators.jl:379 [inlined]\" role=\"graphics-symbol\" aria-roledescription=\"rect mark\" d=\"M249.52,96.8h0.23599999999999v7.200000000000003h-0.23599999999999Z\" fill=\"#4c78a8\" fill-opacity=\"1\" stroke=\"#505050\" stroke-width=\"0\"/><path aria-label=\"x1: 6238; x2: 6243.9; level: 38; level2: 38.9; status: Default; sf: &lt; at float.jl:618 [inlined]\" role=\"graphics-symbol\" aria-roledescription=\"rect mark\" d=\"M249.52,88.79999999999998h0.23599999999999v7.200000000000017h-0.23599999999999Z\" fill=\"#4c78a8\" fill-opacity=\"1\" stroke=\"#505050\" stroke-width=\"0\"/><path aria-label=\"x1: 6251; x2: 6251.9; level: 36; level2: 36.9; status: Default; sf: _hypot(x::Float64, y::Float64) at math.jl:745\" role=\"graphics-symbol\" aria-roledescription=\"rect mark\" d=\"M250.04,104.80000000000001h0.03599999999997294v7.200000000000003h-0.03599999999997294Z\" fill=\"#4c78a8\" fill-opacity=\"1\" stroke=\"#505050\" stroke-width=\"0\"/><path aria-label=\"x1: 6251; x2: 6251.9; level: 37; level2: 37.9; status: Default; sf: sqrt at math.jl:609 [inlined]\" role=\"graphics-symbol\" aria-roledescription=\"rect mark\" d=\"M250.04,96.8h0.03599999999997294v7.200000000000003h-0.03599999999997294Z\" fill=\"#4c78a8\" fill-opacity=\"1\" stroke=\"#505050\" stroke-width=\"0\"/><path aria-label=\"x1: 6252; x2: 6264.9; level: 36; level2: 36.9; status: Default; sf: _hypot(x::Float64, y::Float64) at math.jl:748\" role=\"graphics-symbol\" aria-roledescription=\"rect mark\" d=\"M250.07999999999998,104.80000000000001h0.5160000000000196v7.200000000000003h-0.5160000000000196Z\" fill=\"#4c78a8\" fill-opacity=\"1\" stroke=\"#505050\" stroke-width=\"0\"/><path aria-label=\"x1: 6252; x2: 6264.9; level: 37; level2: 37.9; status: Default; sf: * at float.jl:493 [inlined]\" role=\"graphics-symbol\" aria-roledescription=\"rect mark\" d=\"M250.07999999999998,96.8h0.5160000000000196v7.200000000000003h-0.5160000000000196Z\" fill=\"#4c78a8\" fill-opacity=\"1\" stroke=\"#505050\" stroke-width=\"0\"/><path aria-label=\"x1: 6265; x2: 6288.9; level: 36; level2: 36.9; status: Default; sf: _hypot(x::Float64, y::Float64) at math.jl:750\" role=\"graphics-symbol\" aria-roledescription=\"rect mark\" d=\"M250.59999999999997,104.80000000000001h0.9560000000000173v7.200000000000003h-0.9560000000000173Z\" fill=\"#4c78a8\" fill-opacity=\"1\" stroke=\"#505050\" stroke-width=\"0\"/><path aria-label=\"x1: 6265; x2: 6265.9; level: 37; level2: 37.9; status: Default; sf: + at float.jl:491 [inlined]\" role=\"graphics-symbol\" aria-roledescription=\"rect mark\" d=\"M250.59999999999997,96.8h0.036000000000029786v7.200000000000003h-0.036000000000029786Z\" fill=\"#4c78a8\" fill-opacity=\"1\" stroke=\"#505050\" stroke-width=\"0\"/><path aria-label=\"x1: 6266; x2: 6280.9; level: 37; level2: 37.9; status: Default; sf: - at float.jl:492 [inlined]\" role=\"graphics-symbol\" aria-roledescription=\"rect mark\" d=\"M250.64000000000001,96.8h0.5959999999999468v7.200000000000003h-0.5959999999999468Z\" fill=\"#4c78a8\" fill-opacity=\"1\" stroke=\"#505050\" stroke-width=\"0\"/><path aria-label=\"x1: 6281; x2: 6286.9; level: 37; level2: 37.9; status: Default; sf: fma at floatfuncs.jl:357 [inlined]\" role=\"graphics-symbol\" aria-roledescription=\"rect mark\" d=\"M251.24,96.8h0.23599999999999v7.200000000000003h-0.23599999999999Z\" fill=\"#4c78a8\" fill-opacity=\"1\" stroke=\"#505050\" stroke-width=\"0\"/><path aria-label=\"x1: 6281; x2: 6286.9; level: 38; level2: 38.9; status: Default; sf: fma_llvm at floatfuncs.jl:352 [inlined]\" role=\"graphics-symbol\" aria-roledescription=\"rect mark\" d=\"M251.24,88.79999999999998h0.23599999999999v7.200000000000017h-0.23599999999999Z\" fill=\"#4c78a8\" fill-opacity=\"1\" stroke=\"#505050\" stroke-width=\"0\"/><path aria-label=\"x1: 6287; x2: 6288.9; level: 37; level2: 37.9; status: Default; sf: * at promotion.jl:430 [inlined]\" role=\"graphics-symbol\" aria-roledescription=\"rect mark\" d=\"M251.48000000000002,96.8h0.07599999999996498v7.200000000000003h-0.07599999999996498Z\" fill=\"#4c78a8\" fill-opacity=\"1\" stroke=\"#505050\" stroke-width=\"0\"/><path aria-label=\"x1: 6287; x2: 6288.9; level: 38; level2: 38.9; status: Default; sf: * at float.jl:493 [inlined]\" role=\"graphics-symbol\" aria-roledescription=\"rect mark\" d=\"M251.48000000000002,88.79999999999998h0.07599999999996498v7.200000000000017h-0.07599999999996498Z\" fill=\"#4c78a8\" fill-opacity=\"1\" stroke=\"#505050\" stroke-width=\"0\"/><path aria-label=\"x1: 6289; x2: 6293.9; level: 36; level2: 36.9; status: Default; sf: _hypot(x::Float64, y::Float64) at math.jl:761\" role=\"graphics-symbol\" aria-roledescription=\"rect mark\" d=\"M251.56,104.80000000000001h0.19599999999999795v7.200000000000003h-0.19599999999999795Z\" fill=\"#4c78a8\" fill-opacity=\"1\" stroke=\"#505050\" stroke-width=\"0\"/><path aria-label=\"x1: 6289; x2: 6293.9; level: 37; level2: 37.9; status: Default; sf: * at operators.jl:596 [inlined]\" role=\"graphics-symbol\" aria-roledescription=\"rect mark\" d=\"M251.56,96.8h0.19599999999999795v7.200000000000003h-0.19599999999999795Z\" fill=\"#4c78a8\" fill-opacity=\"1\" stroke=\"#505050\" stroke-width=\"0\"/><path aria-label=\"x1: 6289; x2: 6293.9; level: 38; level2: 38.9; status: Default; sf: * at float.jl:493 [inlined]\" role=\"graphics-symbol\" aria-roledescription=\"rect mark\" d=\"M251.56,88.79999999999998h0.19599999999999795v7.200000000000017h-0.19599999999999795Z\" fill=\"#4c78a8\" fill-opacity=\"1\" stroke=\"#505050\" stroke-width=\"0\"/><path aria-label=\"x1: 6295; x2: 6833.9; level: 31; level2: 31.9; status: Default; sf: mapreduce_impl(f::typeof(norm), op::typeof(max), A::Matrix{ComplexF64}, first::Int64, last::Int64) at reduce.jl:653\" role=\"graphics-symbol\" aria-roledescription=\"rect mark\" d=\"M251.79999999999998,144.79999999999998h21.55600000000001v7.200000000000017h-21.55600000000001Z\" fill=\"#4c78a8\" fill-opacity=\"1\" stroke=\"#505050\" stroke-width=\"0\"/><path aria-label=\"x1: 6295; x2: 6355.9; level: 32; level2: 32.9; status: Default; sf: getindex at essentials.jl:917 [inlined]\" role=\"graphics-symbol\" aria-roledescription=\"rect mark\" d=\"M251.79999999999998,136.80000000000004h2.436000000000007v7.19999999999996h-2.436000000000007Z\" fill=\"#4c78a8\" fill-opacity=\"1\" stroke=\"#505050\" stroke-width=\"0\"/><path aria-label=\"x1: 6356; x2: 6405.9; level: 32; level2: 32.9; status: Default; sf: _fast at reduce.jl:623 [inlined]\" role=\"graphics-symbol\" aria-roledescription=\"rect mark\" d=\"M254.24,136.80000000000004h1.995999999999981v7.19999999999996h-1.995999999999981Z\" fill=\"#4c78a8\" fill-opacity=\"1\" stroke=\"#505050\" stroke-width=\"0\"/><path aria-label=\"x1: 6356; x2: 6405.9; level: 33; level2: 33.9; status: Default; sf: ifelse at essentials.jl:796 [inlined]\" role=\"graphics-symbol\" aria-roledescription=\"rect mark\" d=\"M254.24,128.8h1.995999999999981v7.199999999999989h-1.995999999999981Z\" fill=\"#4c78a8\" fill-opacity=\"1\" stroke=\"#505050\" stroke-width=\"0\"/><path aria-label=\"x1: 6406; x2: 6833.9; level: 32; level2: 32.9; status: Default; sf: norm at generic.jl:645 [inlined]\" role=\"graphics-symbol\" aria-roledescription=\"rect mark\" d=\"M256.23999999999995,136.80000000000004h17.116000000000042v7.19999999999996h-17.116000000000042Z\" fill=\"#4c78a8\" fill-opacity=\"1\" stroke=\"#505050\" stroke-width=\"0\"/><path aria-label=\"x1: 6406; x2: 6833.9; level: 33; level2: 33.9; status: Default; sf: norm at generic.jl:645 [inlined]\" role=\"graphics-symbol\" aria-roledescription=\"rect mark\" d=\"M256.23999999999995,128.8h17.116000000000042v7.199999999999989h-17.116000000000042Z\" fill=\"#4c78a8\" fill-opacity=\"1\" stroke=\"#505050\" stroke-width=\"0\"/><path aria-label=\"x1: 6406; x2: 6833.9; level: 34; level2: 34.9; status: Default; sf: abs at complex.jl:286 [inlined]\" role=\"graphics-symbol\" aria-roledescription=\"rect mark\" d=\"M256.23999999999995,120.80000000000001h17.116000000000042v7.199999999999974h-17.116000000000042Z\" fill=\"#4c78a8\" fill-opacity=\"1\" stroke=\"#505050\" stroke-width=\"0\"/><path aria-label=\"x1: 6406; x2: 6833.9; level: 35; level2: 35.9; status: Default; sf: hypot at math.jl:706 [inlined]\" role=\"graphics-symbol\" aria-roledescription=\"rect mark\" d=\"M256.23999999999995,112.80000000000001h17.116000000000042v7.200000000000003h-17.116000000000042Z\" fill=\"#4c78a8\" fill-opacity=\"1\" stroke=\"#505050\" stroke-width=\"0\"/><path aria-label=\"x1: 6406; x2: 6455.9; level: 36; level2: 36.9; status: Default; sf: _hypot(x::Float64, y::Float64) at float.jl:0\" role=\"graphics-symbol\" aria-roledescription=\"rect mark\" d=\"M256.23999999999995,104.80000000000001h1.9960000000000377v7.200000000000003h-1.9960000000000377Z\" fill=\"#4c78a8\" fill-opacity=\"1\" stroke=\"#505050\" stroke-width=\"0\"/><path aria-label=\"x1: 6456; x2: 6459.9; level: 36; level2: 36.9; status: Default; sf: _hypot(x::Float64, y::Float64) at math.jl:0\" role=\"graphics-symbol\" aria-roledescription=\"rect mark\" d=\"M258.24,104.80000000000001h0.15599999999994907v7.200000000000003h-0.15599999999994907Z\" fill=\"#4c78a8\" fill-opacity=\"1\" stroke=\"#505050\" stroke-width=\"0\"/><path aria-label=\"x1: 6460; x2: 6509.9; level: 36; level2: 36.9; status: Default; sf: _hypot(x::Float64, y::Float64) at math.jl:708\" role=\"graphics-symbol\" aria-roledescription=\"rect mark\" d=\"M258.40000000000003,104.80000000000001h1.995999999999924v7.200000000000003h-1.995999999999924Z\" fill=\"#4c78a8\" fill-opacity=\"1\" stroke=\"#505050\" stroke-width=\"0\"/><path aria-label=\"x1: 6510; x2: 6510.9; level: 36; level2: 36.9; status: Default; sf: _hypot(x::Float64, y::Float64) at math.jl:710\" role=\"graphics-symbol\" aria-roledescription=\"rect mark\" d=\"M260.40000000000003,104.80000000000001h0.03599999999994452v7.200000000000003h-0.03599999999994452Z\" fill=\"#4c78a8\" fill-opacity=\"1\" stroke=\"#505050\" stroke-width=\"0\"/><path aria-label=\"x1: 6510; x2: 6510.9; level: 37; level2: 37.9; status: Default; sf: abs at float.jl:692 [inlined]\" role=\"graphics-symbol\" aria-roledescription=\"rect mark\" d=\"M260.40000000000003,96.8h0.03599999999994452v7.200000000000003h-0.03599999999994452Z\" fill=\"#4c78a8\" fill-opacity=\"1\" stroke=\"#505050\" stroke-width=\"0\"/><path aria-label=\"x1: 6511; x2: 6568.9; level: 36; level2: 36.9; status: Default; sf: _hypot(x::Float64, y::Float64) at math.jl:711\" role=\"graphics-symbol\" aria-roledescription=\"rect mark\" d=\"M260.44,104.80000000000001h2.315999999999974v7.200000000000003h-2.315999999999974Z\" fill=\"#4c78a8\" fill-opacity=\"1\" stroke=\"#505050\" stroke-width=\"0\"/><path aria-label=\"x1: 6511; x2: 6568.9; level: 37; level2: 37.9; status: Default; sf: abs at float.jl:692 [inlined]\" role=\"graphics-symbol\" aria-roledescription=\"rect mark\" d=\"M260.44,96.8h2.315999999999974v7.200000000000003h-2.315999999999974Z\" fill=\"#4c78a8\" fill-opacity=\"1\" stroke=\"#505050\" stroke-width=\"0\"/><path aria-label=\"x1: 6569; x2: 6574.9; level: 36; level2: 36.9; status: Default; sf: _hypot(x::Float64, y::Float64) at math.jl:718\" role=\"graphics-symbol\" aria-roledescription=\"rect mark\" d=\"M262.76,104.80000000000001h0.23599999999999v7.200000000000003h-0.23599999999999Z\" fill=\"#4c78a8\" fill-opacity=\"1\" stroke=\"#505050\" stroke-width=\"0\"/><path aria-label=\"x1: 6575; x2: 6739.9; level: 36; level2: 36.9; status: Default; sf: _hypot(x::Float64, y::Float64) at math.jl:723\" role=\"graphics-symbol\" aria-roledescription=\"rect mark\" d=\"M263,104.80000000000001h6.596000000000004v7.200000000000003h-6.596000000000004Z\" fill=\"#4c78a8\" fill-opacity=\"1\" stroke=\"#505050\" stroke-width=\"0\"/><path aria-label=\"x1: 6740; x2: 6777.9; level: 36; level2: 36.9; status: Default; sf: _hypot(x::Float64, y::Float64) at math.jl:729\" role=\"graphics-symbol\" aria-roledescription=\"rect mark\" d=\"M269.6,104.80000000000001h1.5159999999999627v7.200000000000003h-1.5159999999999627Z\" fill=\"#4c78a8\" fill-opacity=\"1\" stroke=\"#505050\" stroke-width=\"0\"/><path aria-label=\"x1: 6740; x2: 6740.9; level: 37; level2: 37.9; status: Default; sf: * at float.jl:493 [inlined]\" role=\"graphics-symbol\" aria-roledescription=\"rect mark\" d=\"M269.6,96.8h0.03599999999994452v7.200000000000003h-0.03599999999994452Z\" fill=\"#4c78a8\" fill-opacity=\"1\" stroke=\"#505050\" stroke-width=\"0\"/><path aria-label=\"x1: 6741; x2: 6769.9; level: 37; level2: 37.9; status: Default; sf: &lt;= at float.jl:619 [inlined]\" role=\"graphics-symbol\" aria-roledescription=\"rect mark\" d=\"M269.64,96.8h1.156000000000006v7.200000000000003h-1.156000000000006Z\" fill=\"#4c78a8\" fill-opacity=\"1\" stroke=\"#505050\" stroke-width=\"0\"/><path aria-label=\"x1: 6778; x2: 6794.9; level: 36; level2: 36.9; status: Default; sf: _hypot(x::Float64, y::Float64) at math.jl:735\" role=\"graphics-symbol\" aria-roledescription=\"rect mark\" d=\"M271.12,104.80000000000001h0.6759999999999877v7.200000000000003h-0.6759999999999877Z\" fill=\"#4c78a8\" fill-opacity=\"1\" stroke=\"#505050\" stroke-width=\"0\"/><path aria-label=\"x1: 6778; x2: 6788.9; level: 37; level2: 37.9; status: Default; sf: &gt; at operators.jl:379 [inlined]\" role=\"graphics-symbol\" aria-roledescription=\"rect mark\" d=\"M271.12,96.8h0.4359999999999786v7.200000000000003h-0.4359999999999786Z\" fill=\"#4c78a8\" fill-opacity=\"1\" stroke=\"#505050\" stroke-width=\"0\"/><path aria-label=\"x1: 6778; x2: 6788.9; level: 38; level2: 38.9; status: Default; sf: &lt; at float.jl:618 [inlined]\" role=\"graphics-symbol\" aria-roledescription=\"rect mark\" d=\"M271.12,88.79999999999998h0.4359999999999786v7.200000000000017h-0.4359999999999786Z\" fill=\"#4c78a8\" fill-opacity=\"1\" stroke=\"#505050\" stroke-width=\"0\"/><path aria-label=\"x1: 6795; x2: 6795.9; level: 36; level2: 36.9; status: Default; sf: _hypot(x::Float64, y::Float64) at math.jl:745\" role=\"graphics-symbol\" aria-roledescription=\"rect mark\" d=\"M271.8,104.80000000000001h0.03599999999994452v7.200000000000003h-0.03599999999994452Z\" fill=\"#4c78a8\" fill-opacity=\"1\" stroke=\"#505050\" stroke-width=\"0\"/><path aria-label=\"x1: 6795; x2: 6795.9; level: 37; level2: 37.9; status: Default; sf: muladd at float.jl:496 [inlined]\" role=\"graphics-symbol\" aria-roledescription=\"rect mark\" d=\"M271.8,96.8h0.03599999999994452v7.200000000000003h-0.03599999999994452Z\" fill=\"#4c78a8\" fill-opacity=\"1\" stroke=\"#505050\" stroke-width=\"0\"/><path aria-label=\"x1: 6796; x2: 6805.9; level: 36; level2: 36.9; status: Default; sf: _hypot(x::Float64, y::Float64) at math.jl:748\" role=\"graphics-symbol\" aria-roledescription=\"rect mark\" d=\"M271.84,104.80000000000001h0.396000000000015v7.200000000000003h-0.396000000000015Z\" fill=\"#4c78a8\" fill-opacity=\"1\" stroke=\"#505050\" stroke-width=\"0\"/><path aria-label=\"x1: 6796; x2: 6805.9; level: 37; level2: 37.9; status: Default; sf: * at float.jl:493 [inlined]\" role=\"graphics-symbol\" aria-roledescription=\"rect mark\" d=\"M271.84,96.8h0.396000000000015v7.200000000000003h-0.396000000000015Z\" fill=\"#4c78a8\" fill-opacity=\"1\" stroke=\"#505050\" stroke-width=\"0\"/><path aria-label=\"x1: 6806; x2: 6825.9; level: 36; level2: 36.9; status: Default; sf: _hypot(x::Float64, y::Float64) at math.jl:750\" role=\"graphics-symbol\" aria-roledescription=\"rect mark\" d=\"M272.24,104.80000000000001h0.7959999999999354v7.200000000000003h-0.7959999999999354Z\" fill=\"#4c78a8\" fill-opacity=\"1\" stroke=\"#505050\" stroke-width=\"0\"/><path aria-label=\"x1: 6806; x2: 6806.9; level: 37; level2: 37.9; status: Default; sf: + at float.jl:491 [inlined]\" role=\"graphics-symbol\" aria-roledescription=\"rect mark\" d=\"M272.24,96.8h0.036000000000001364v7.200000000000003h-0.036000000000001364Z\" fill=\"#4c78a8\" fill-opacity=\"1\" stroke=\"#505050\" stroke-width=\"0\"/><path aria-label=\"x1: 6807; x2: 6819.9; level: 37; level2: 37.9; status: Default; sf: - at float.jl:492 [inlined]\" role=\"graphics-symbol\" aria-roledescription=\"rect mark\" d=\"M272.28,96.8h0.5160000000000196v7.200000000000003h-0.5160000000000196Z\" fill=\"#4c78a8\" fill-opacity=\"1\" stroke=\"#505050\" stroke-width=\"0\"/><path aria-label=\"x1: 6820; x2: 6823.9; level: 37; level2: 37.9; status: Default; sf: fma at floatfuncs.jl:357 [inlined]\" role=\"graphics-symbol\" aria-roledescription=\"rect mark\" d=\"M272.8,96.8h0.15599999999994907v7.200000000000003h-0.15599999999994907Z\" fill=\"#4c78a8\" fill-opacity=\"1\" stroke=\"#505050\" stroke-width=\"0\"/><path aria-label=\"x1: 6820; x2: 6823.9; level: 38; level2: 38.9; status: Default; sf: fma_llvm at floatfuncs.jl:352 [inlined]\" role=\"graphics-symbol\" aria-roledescription=\"rect mark\" d=\"M272.8,88.79999999999998h0.15599999999994907v7.200000000000017h-0.15599999999994907Z\" fill=\"#4c78a8\" fill-opacity=\"1\" stroke=\"#505050\" stroke-width=\"0\"/><path aria-label=\"x1: 6824; x2: 6825.9; level: 37; level2: 37.9; status: Default; sf: * at promotion.jl:430 [inlined]\" role=\"graphics-symbol\" aria-roledescription=\"rect mark\" d=\"M272.96,96.8h0.07599999999996498v7.200000000000003h-0.07599999999996498Z\" fill=\"#4c78a8\" fill-opacity=\"1\" stroke=\"#505050\" stroke-width=\"0\"/><path aria-label=\"x1: 6824; x2: 6825.9; level: 38; level2: 38.9; status: Default; sf: * at float.jl:493 [inlined]\" role=\"graphics-symbol\" aria-roledescription=\"rect mark\" d=\"M272.96,88.79999999999998h0.07599999999996498v7.200000000000017h-0.07599999999996498Z\" fill=\"#4c78a8\" fill-opacity=\"1\" stroke=\"#505050\" stroke-width=\"0\"/><path aria-label=\"x1: 6826; x2: 6830.9; level: 36; level2: 36.9; status: Default; sf: _hypot(x::Float64, y::Float64) at math.jl:761\" role=\"graphics-symbol\" aria-roledescription=\"rect mark\" d=\"M273.04,104.80000000000001h0.19599999999996953v7.200000000000003h-0.19599999999996953Z\" fill=\"#4c78a8\" fill-opacity=\"1\" stroke=\"#505050\" stroke-width=\"0\"/><path aria-label=\"x1: 6826; x2: 6830.9; level: 37; level2: 37.9; status: Default; sf: * at operators.jl:596 [inlined]\" role=\"graphics-symbol\" aria-roledescription=\"rect mark\" d=\"M273.04,96.8h0.19599999999996953v7.200000000000003h-0.19599999999996953Z\" fill=\"#4c78a8\" fill-opacity=\"1\" stroke=\"#505050\" stroke-width=\"0\"/><path aria-label=\"x1: 6826; x2: 6830.9; level: 38; level2: 38.9; status: Default; sf: * at float.jl:493 [inlined]\" role=\"graphics-symbol\" aria-roledescription=\"rect mark\" d=\"M273.04,88.79999999999998h0.19599999999996953v7.200000000000017h-0.19599999999996953Z\" fill=\"#4c78a8\" fill-opacity=\"1\" stroke=\"#505050\" stroke-width=\"0\"/><path aria-label=\"x1: 6834; x2: 6853.9; level: 31; level2: 31.9; status: Default; sf: mapreduce_impl(f::typeof(norm), op::typeof(max), A::Matrix{ComplexF64}, first::Int64, last::Int64) at reduce.jl:654\" role=\"graphics-symbol\" aria-roledescription=\"rect mark\" d=\"M273.36,144.79999999999998h0.7959999999999354v7.200000000000017h-0.7959999999999354Z\" fill=\"#4c78a8\" fill-opacity=\"1\" stroke=\"#505050\" stroke-width=\"0\"/><path aria-label=\"x1: 6834; x2: 6853.9; level: 32; level2: 32.9; status: Default; sf: iterate at range.jl:908 [inlined]\" role=\"graphics-symbol\" aria-roledescription=\"rect mark\" d=\"M273.36,136.80000000000004h0.7959999999999354v7.19999999999996h-0.7959999999999354Z\" fill=\"#4c78a8\" fill-opacity=\"1\" stroke=\"#505050\" stroke-width=\"0\"/><path aria-label=\"x1: 6834; x2: 6853.9; level: 33; level2: 33.9; status: Default; sf: == at promotion.jl:639 [inlined]\" role=\"graphics-symbol\" aria-roledescription=\"rect mark\" d=\"M273.36,128.8h0.7959999999999354v7.199999999999989h-0.7959999999999354Z\" fill=\"#4c78a8\" fill-opacity=\"1\" stroke=\"#505050\" stroke-width=\"0\"/><path aria-label=\"x1: 6854; x2: 6859.9; level: 31; level2: 31.9; status: Default; sf: mapreduce_impl(f::typeof(norm), op::typeof(max), A::Matrix{ComplexF64}, first::Int64, last::Int64) at reduce.jl:655\" role=\"graphics-symbol\" aria-roledescription=\"rect mark\" d=\"M274.16,144.79999999999998h0.23599999999999v7.200000000000017h-0.23599999999999Z\" fill=\"#4c78a8\" fill-opacity=\"1\" stroke=\"#505050\" stroke-width=\"0\"/><path aria-label=\"x1: 6854; x2: 6859.9; level: 32; level2: 32.9; status: Default; sf: checkbounds at abstractarray.jl:699 [inlined]\" role=\"graphics-symbol\" aria-roledescription=\"rect mark\" d=\"M274.16,136.80000000000004h0.23599999999999v7.19999999999996h-0.23599999999999Z\" fill=\"#4c78a8\" fill-opacity=\"1\" stroke=\"#505050\" stroke-width=\"0\"/><path aria-label=\"x1: 6854; x2: 6859.9; level: 33; level2: 33.9; status: Default; sf: checkbounds at abstractarray.jl:689 [inlined]\" role=\"graphics-symbol\" aria-roledescription=\"rect mark\" d=\"M274.16,128.8h0.23599999999999v7.199999999999989h-0.23599999999999Z\" fill=\"#4c78a8\" fill-opacity=\"1\" stroke=\"#505050\" stroke-width=\"0\"/><path aria-label=\"x1: 6854; x2: 6854.9; level: 34; level2: 34.9; status: Default; sf: checkindex at abstractarray.jl:754 [inlined]\" role=\"graphics-symbol\" aria-roledescription=\"rect mark\" d=\"M274.16,120.80000000000001h0.03599999999994452v7.199999999999974h-0.03599999999994452Z\" fill=\"#4c78a8\" fill-opacity=\"1\" stroke=\"#505050\" stroke-width=\"0\"/><path aria-label=\"x1: 6854; x2: 6854.9; level: 35; level2: 35.9; status: Default; sf: - at int.jl:86 [inlined]\" role=\"graphics-symbol\" aria-roledescription=\"rect mark\" d=\"M274.16,112.80000000000001h0.03599999999994452v7.200000000000003h-0.03599999999994452Z\" fill=\"#4c78a8\" fill-opacity=\"1\" stroke=\"#505050\" stroke-width=\"0\"/><path aria-label=\"x1: 6855; x2: 6859.9; level: 34; level2: 34.9; status: Default; sf: eachindex at abstractarray.jl:388 [inlined]\" role=\"graphics-symbol\" aria-roledescription=\"rect mark\" d=\"M274.2,120.80000000000001h0.19600000000002638v7.199999999999974h-0.19600000000002638Z\" fill=\"#4c78a8\" fill-opacity=\"1\" stroke=\"#505050\" stroke-width=\"0\"/><path aria-label=\"x1: 6855; x2: 6859.9; level: 35; level2: 35.9; status: Default; sf: oneto at range.jl:476 [inlined]\" role=\"graphics-symbol\" aria-roledescription=\"rect mark\" d=\"M274.2,112.80000000000001h0.19600000000002638v7.200000000000003h-0.19600000000002638Z\" fill=\"#4c78a8\" fill-opacity=\"1\" stroke=\"#505050\" stroke-width=\"0\"/><path aria-label=\"x1: 6855; x2: 6859.9; level: 36; level2: 36.9; status: Default; sf: OneTo at range.jl:474 [inlined]\" role=\"graphics-symbol\" aria-roledescription=\"rect mark\" d=\"M274.2,104.80000000000001h0.19600000000002638v7.200000000000003h-0.19600000000002638Z\" fill=\"#4c78a8\" fill-opacity=\"1\" stroke=\"#505050\" stroke-width=\"0\"/><path aria-label=\"x1: 6855; x2: 6859.9; level: 37; level2: 37.9; status: Default; sf: OneTo at range.jl:459 [inlined]\" role=\"graphics-symbol\" aria-roledescription=\"rect mark\" d=\"M274.2,96.8h0.19600000000002638v7.200000000000003h-0.19600000000002638Z\" fill=\"#4c78a8\" fill-opacity=\"1\" stroke=\"#505050\" stroke-width=\"0\"/><path aria-label=\"x1: 6855; x2: 6859.9; level: 38; level2: 38.9; status: Default; sf: max at promotion.jl:650 [inlined]\" role=\"graphics-symbol\" aria-roledescription=\"rect mark\" d=\"M274.2,88.79999999999998h0.19600000000002638v7.200000000000017h-0.19600000000002638Z\" fill=\"#4c78a8\" fill-opacity=\"1\" stroke=\"#505050\" stroke-width=\"0\"/><path aria-label=\"x1: 6855; x2: 6857.9; level: 39; level2: 39.9; status: Default; sf: ifelse at essentials.jl:796 [inlined]\" role=\"graphics-symbol\" aria-roledescription=\"rect mark\" d=\"M274.2,80.80000000000003h0.11600000000004229v7.19999999999996h-0.11600000000004229Z\" fill=\"#4c78a8\" fill-opacity=\"1\" stroke=\"#505050\" stroke-width=\"0\"/><path aria-label=\"x1: 6858; x2: 6859.9; level: 39; level2: 39.9; status: Default; sf: &lt; at int.jl:83 [inlined]\" role=\"graphics-symbol\" aria-roledescription=\"rect mark\" d=\"M274.32,80.80000000000003h0.07600000000002183v7.19999999999996h-0.07600000000002183Z\" fill=\"#4c78a8\" fill-opacity=\"1\" stroke=\"#505050\" stroke-width=\"0\"/><path aria-label=\"x1: 6860; x2: 6862.9; level: 31; level2: 31.9; status: Default; sf: mapreduce_impl(f::typeof(norm), op::typeof(max), A::Matrix{ComplexF64}, first::Int64, last::Int64) at reduce.jl:656\" role=\"graphics-symbol\" aria-roledescription=\"rect mark\" d=\"M274.40000000000003,144.79999999999998h0.1159999999999286v7.200000000000017h-0.1159999999999286Z\" fill=\"#4c78a8\" fill-opacity=\"1\" stroke=\"#505050\" stroke-width=\"0\"/><path aria-label=\"x1: 6860; x2: 6862.9; level: 32; level2: 32.9; status: Default; sf: + at int.jl:87 [inlined]\" role=\"graphics-symbol\" aria-roledescription=\"rect mark\" d=\"M274.40000000000003,136.80000000000004h0.1159999999999286v7.19999999999996h-0.1159999999999286Z\" fill=\"#4c78a8\" fill-opacity=\"1\" stroke=\"#505050\" stroke-width=\"0\"/><path aria-label=\"x1: 6863; x2: 6863.9; level: 31; level2: 31.9; status: Default; sf: mapreduce_impl(f::typeof(norm), op::typeof(max), A::Matrix{ComplexF64}, first::Int64, last::Int64) at reduce.jl:662\" role=\"graphics-symbol\" aria-roledescription=\"rect mark\" d=\"M274.52,144.79999999999998h0.036000000000001364v7.200000000000017h-0.036000000000001364Z\" fill=\"#4c78a8\" fill-opacity=\"1\" stroke=\"#505050\" stroke-width=\"0\"/><path aria-label=\"x1: 6863; x2: 6863.9; level: 32; level2: 32.9; status: Default; sf: max at math.jl:839 [inlined]\" role=\"graphics-symbol\" aria-roledescription=\"rect mark\" d=\"M274.52,136.80000000000004h0.036000000000001364v7.19999999999996h-0.036000000000001364Z\" fill=\"#4c78a8\" fill-opacity=\"1\" stroke=\"#505050\" stroke-width=\"0\"/><path aria-label=\"x1: 6863; x2: 6863.9; level: 33; level2: 33.9; status: Default; sf: signbit at floatfuncs.jl:15 [inlined]\" role=\"graphics-symbol\" aria-roledescription=\"rect mark\" d=\"M274.52,128.8h0.036000000000001364v7.199999999999989h-0.036000000000001364Z\" fill=\"#4c78a8\" fill-opacity=\"1\" stroke=\"#505050\" stroke-width=\"0\"/><path aria-label=\"x1: 6864; x2: 17990.9; level: 21; level2: 21.9; status: Default; sf: (::ProximalAlgorithms.IterativeAlgorithm{ProximalAlgorithms.FastForwardBackwardIteration, ProximalAlgorithms.var&quot;#29#31&quot;{Float64}, typeof(ProximalAlgorithms.default_solution), typeof(ProximalAlgorithms.default_display), Base.Pairs{Symbol, Union{}, Tuple{}, @NamedTuple{}}})(; kwargs::Base.Pairs{Symbol, Any, Tuple{Symbol, Symbol, Symbol}, @NamedTuple{x0::Matrix{ComplexF64}, f::ArraySignalProcessing.MyLeastSquares{ComplexF64, Matrix{ComplexF64}, Matrix{ComplexF64}}, g::ArraySignalProcessing.MyNormL21{Float64, Int64}}}) at ProximalAlgorithms.jl:122\" role=\"graphics-symbol\" aria-roledescription=\"rect mark\" d=\"M274.56,224.8h445.0760000000001v7.200000000000017h-445.0760000000001Z\" fill=\"#4c78a8\" fill-opacity=\"1\" stroke=\"#505050\" stroke-width=\"0\"/><path aria-label=\"x1: 6864; x2: 17989.9; level: 22; level2: 22.9; status: Default; sf: iterate at iterators.jl:206 [inlined]\" role=\"graphics-symbol\" aria-roledescription=\"rect mark\" d=\"M274.56,216.8h445.036v7.200000000000017h-445.036Z\" fill=\"#4c78a8\" fill-opacity=\"1\" stroke=\"#505050\" stroke-width=\"0\"/><path aria-label=\"x1: 6864; x2: 6864.9; level: 23; level2: 23.9; status: Default; sf: iterate(iter::ProximalAlgorithms.FastForwardBackwardIteration{Float64, Matrix{ComplexF64}, ArraySignalProcessing.MyLeastSquares{ComplexF64, Matrix{ComplexF64}, Matrix{ComplexF64}}, ArraySignalProcessing.MyNormL21{Float64, Int64}, Nothing, Nothing, Nothing}, state::ProximalAlgorithms.FastForwardBackwardState{Float64, Matrix{ComplexF64}, ProximalAlgorithms.AdaptiveNesterovSequence{Float64}}) at fast_forward_backward.jl:106\" role=\"graphics-symbol\" aria-roledescription=\"rect mark\" d=\"M274.56,208.8h0.03599999999994452v7.199999999999989h-0.03599999999994452Z\" fill=\"#4c78a8\" fill-opacity=\"1\" stroke=\"#505050\" stroke-width=\"0\"/><path aria-label=\"x1: 6865; x2: 9578.9; level: 23; level2: 23.9; status: Default; sf: iterate(iter::ProximalAlgorithms.FastForwardBackwardIteration{Float64, Matrix{ComplexF64}, ArraySignalProcessing.MyLeastSquares{ComplexF64, Matrix{ComplexF64}, Matrix{ComplexF64}}, ArraySignalProcessing.MyNormL21{Float64, Int64}, Nothing, Nothing, Nothing}, state::ProximalAlgorithms.FastForwardBackwardState{Float64, Matrix{ComplexF64}, ProximalAlgorithms.AdaptiveNesterovSequence{Float64}}) at fast_forward_backward.jl:112\" role=\"graphics-symbol\" aria-roledescription=\"rect mark\" d=\"M274.6,208.8h108.55599999999993v7.199999999999989h-108.55599999999993Z\" fill=\"#4c78a8\" fill-opacity=\"1\" stroke=\"#505050\" stroke-width=\"0\"/><path aria-label=\"x1: 6865; x2: 9578.9; level: 24; level2: 24.9; status: Default; sf: backtrack_stepsize! at fb_tools.jl:24 [inlined]\" role=\"graphics-symbol\" aria-roledescription=\"rect mark\" d=\"M274.6,200.8h108.55599999999993v7.199999999999989h-108.55599999999993Z\" fill=\"#4c78a8\" fill-opacity=\"1\" stroke=\"#505050\" stroke-width=\"0\"/><path aria-label=\"x1: 6865; x2: 6865.9; level: 25; level2: 25.9; status: Default; sf: backtrack_stepsize!(gamma::Float64, f::ArraySignalProcessing.MyLeastSquares{ComplexF64, Matrix{ComplexF64}, Matrix{ComplexF64}}, A::Nothing, g::ArraySignalProcessing.MyNormL21{Float64, Int64}, x::Matrix{ComplexF64}, f_Ax::Float64, At_grad_f_Ax::Matrix{ComplexF64}, y::Matrix{ComplexF64}, z::Matrix{ComplexF64}, g_z::Float64, res::Matrix{ComplexF64}, Az::Matrix{ComplexF64}, grad_f_Az::Nothing; alpha::Float64, minimum_gamma::Float64, reduce_gamma::Float64) at fb_tools.jl:0\" role=\"graphics-symbol\" aria-roledescription=\"rect mark\" d=\"M274.6,192.79999999999998h0.03599999999994452v7.200000000000017h-0.03599999999994452Z\" fill=\"#4c78a8\" fill-opacity=\"1\" stroke=\"#505050\" stroke-width=\"0\"/><path aria-label=\"x1: 6866; x2: 7436.9; level: 25; level2: 25.9; status: Default; sf: backtrack_stepsize!(gamma::Float64, f::ArraySignalProcessing.MyLeastSquares{ComplexF64, Matrix{ComplexF64}, Matrix{ComplexF64}}, A::Nothing, g::ArraySignalProcessing.MyNormL21{Float64, Int64}, x::Matrix{ComplexF64}, f_Ax::Float64, At_grad_f_Ax::Matrix{ComplexF64}, y::Matrix{ComplexF64}, z::Matrix{ComplexF64}, g_z::Float64, res::Matrix{ComplexF64}, Az::Matrix{ComplexF64}, grad_f_Az::Nothing; alpha::Float64, minimum_gamma::Float64, reduce_gamma::Float64) at fb_tools.jl:42\" role=\"graphics-symbol\" aria-roledescription=\"rect mark\" d=\"M274.64,192.79999999999998h22.836000000000013v7.200000000000017h-22.836000000000013Z\" fill=\"#4c78a8\" fill-opacity=\"1\" stroke=\"#505050\" stroke-width=\"0\"/><path aria-label=\"x1: 6866; x2: 6866.9; level: 26; level2: 26.9; status: Default; sf: f_model(f_x::Float64, grad_f_x::Matrix{ComplexF64}, res::Matrix{ComplexF64}, L::Float64) at fb_tools.jl:3\" role=\"graphics-symbol\" aria-roledescription=\"rect mark\" d=\"M274.64,184.80000000000004h0.036000000000001364v7.19999999999996h-0.036000000000001364Z\" fill=\"#4c78a8\" fill-opacity=\"1\" stroke=\"#505050\" stroke-width=\"0\"/><path aria-label=\"x1: 6867; x2: 7436.9; level: 26; level2: 26.9; status: Default; sf: f_model(f_x::Float64, grad_f_x::Matrix{ComplexF64}, res::Matrix{ComplexF64}, L::Float64) at fb_tools.jl:4\" role=\"graphics-symbol\" aria-roledescription=\"rect mark\" d=\"M274.68,184.80000000000004h22.795999999999992v7.19999999999996h-22.795999999999992Z\" fill=\"#4c78a8\" fill-opacity=\"1\" stroke=\"#505050\" stroke-width=\"0\"/><path aria-label=\"x1: 6867; x2: 7436.9; level: 27; level2: 27.9; status: Default; sf: dot at matmul.jl:19 [inlined]\" role=\"graphics-symbol\" aria-roledescription=\"rect mark\" d=\"M274.68,176.8h22.795999999999992v7.199999999999989h-22.795999999999992Z\" fill=\"#4c78a8\" fill-opacity=\"1\" stroke=\"#505050\" stroke-width=\"0\"/><path aria-label=\"x1: 6867; x2: 7436.9; level: 28; level2: 28.9; status: Default; sf: dotc at blas.jl:398 [inlined]\" role=\"graphics-symbol\" aria-roledescription=\"rect mark\" d=\"M274.68,168.8h22.795999999999992v7.19999999999996h-22.795999999999992Z\" fill=\"#4c78a8\" fill-opacity=\"1\" stroke=\"#505050\" stroke-width=\"0\"/><path aria-label=\"x1: 6867; x2: 7436.9; level: 29; level2: 29.9; status: Default; sf: dotc at blas.jl:365 [inlined]\" role=\"graphics-symbol\" aria-roledescription=\"rect mark\" d=\"M274.68,160.8h22.795999999999992v7.200000000000017h-22.795999999999992Z\" fill=\"#4c78a8\" fill-opacity=\"1\" stroke=\"#505050\" stroke-width=\"0\"/><path aria-label=\"x1: 7437; x2: 9577.9; level: 25; level2: 25.9; status: Default; sf: backtrack_stepsize!(gamma::Float64, f::ArraySignalProcessing.MyLeastSquares{ComplexF64, Matrix{ComplexF64}, Matrix{ComplexF64}}, A::Nothing, g::ArraySignalProcessing.MyNormL21{Float64, Int64}, x::Matrix{ComplexF64}, f_Ax::Float64, At_grad_f_Ax::Matrix{ComplexF64}, y::Matrix{ComplexF64}, z::Matrix{ComplexF64}, g_z::Float64, res::Matrix{ComplexF64}, Az::Matrix{ComplexF64}, grad_f_Az::Nothing; alpha::Float64, minimum_gamma::Float64, reduce_gamma::Float64) at fb_tools.jl:44\" role=\"graphics-symbol\" aria-roledescription=\"rect mark\" d=\"M297.48,192.79999999999998h85.63599999999997v7.200000000000017h-85.63599999999997Z\" fill=\"#4c78a8\" fill-opacity=\"1\" stroke=\"#505050\" stroke-width=\"0\"/><path aria-label=\"x1: 7437; x2: 8020.9; level: 26; level2: 26.9; status: Default; sf: value_and_gradient(f::ArraySignalProcessing.MyLeastSquares{ComplexF64, Matrix{ComplexF64}, Matrix{ComplexF64}}, x::Matrix{ComplexF64}) at lasso.jl:49\" role=\"graphics-symbol\" aria-roledescription=\"rect mark\" d=\"M297.48,184.80000000000004h23.355999999999995v7.19999999999996h-23.355999999999995Z\" fill=\"#4c78a8\" fill-opacity=\"1\" stroke=\"#505050\" stroke-width=\"0\"/><path aria-label=\"x1: 7437; x2: 7477.9; level: 27; level2: 27.9; status: Default; sf: -(A::Matrix{ComplexF64}, B::Matrix{ComplexF64}) at arraymath.jl:8\" role=\"graphics-symbol\" aria-roledescription=\"rect mark\" d=\"M297.48,176.8h1.6359999999999673v7.199999999999989h-1.6359999999999673Z\" fill=\"#4c78a8\" fill-opacity=\"1\" stroke=\"#505050\" stroke-width=\"0\"/><path aria-label=\"x1: 7437; x2: 7477.9; level: 28; level2: 28.9; status: Default; sf: broadcast_preserving_zero_d at broadcast.jl:861 [inlined]\" role=\"graphics-symbol\" aria-roledescription=\"rect mark\" d=\"M297.48,168.8h1.6359999999999673v7.19999999999996h-1.6359999999999673Z\" fill=\"#4c78a8\" fill-opacity=\"1\" stroke=\"#505050\" stroke-width=\"0\"/><path aria-label=\"x1: 7437; x2: 7477.9; level: 29; level2: 29.9; status: Default; sf: materialize at broadcast.jl:872 [inlined]\" role=\"graphics-symbol\" aria-roledescription=\"rect mark\" d=\"M297.48,160.8h1.6359999999999673v7.200000000000017h-1.6359999999999673Z\" fill=\"#4c78a8\" fill-opacity=\"1\" stroke=\"#505050\" stroke-width=\"0\"/><path aria-label=\"x1: 7437; x2: 7477.9; level: 30; level2: 30.9; status: Default; sf: copy at broadcast.jl:897 [inlined]\" role=\"graphics-symbol\" aria-roledescription=\"rect mark\" d=\"M297.48,152.8h1.6359999999999673v7.199999999999989h-1.6359999999999673Z\" fill=\"#4c78a8\" fill-opacity=\"1\" stroke=\"#505050\" stroke-width=\"0\"/><path aria-label=\"x1: 7437; x2: 7462.9; level: 31; level2: 31.9; status: Default; sf: copyto! at broadcast.jl:925 [inlined]\" role=\"graphics-symbol\" aria-roledescription=\"rect mark\" d=\"M297.48,144.79999999999998h1.0360000000000014v7.200000000000017h-1.0360000000000014Z\" fill=\"#4c78a8\" fill-opacity=\"1\" stroke=\"#505050\" stroke-width=\"0\"/><path aria-label=\"x1: 7437; x2: 7462.9; level: 32; level2: 32.9; status: Default; sf: copyto! at broadcast.jl:972 [inlined]\" role=\"graphics-symbol\" aria-roledescription=\"rect mark\" d=\"M297.48,136.80000000000004h1.0360000000000014v7.19999999999996h-1.0360000000000014Z\" fill=\"#4c78a8\" fill-opacity=\"1\" stroke=\"#505050\" stroke-width=\"0\"/><path aria-label=\"x1: 7437; x2: 7437.9; level: 33; level2: 33.9; status: Default; sf: macro expansion at simdloop.jl:0 [inlined]\" role=\"graphics-symbol\" aria-roledescription=\"rect mark\" d=\"M297.48,128.8h0.03599999999994452v7.199999999999989h-0.03599999999994452Z\" fill=\"#4c78a8\" fill-opacity=\"1\" stroke=\"#505050\" stroke-width=\"0\"/><path aria-label=\"x1: 7438; x2: 7439.9; level: 33; level2: 33.9; status: Default; sf: macro expansion at simdloop.jl:75 [inlined]\" role=\"graphics-symbol\" aria-roledescription=\"rect mark\" d=\"M297.52,128.8h0.07599999999996498v7.199999999999989h-0.07599999999996498Z\" fill=\"#4c78a8\" fill-opacity=\"1\" stroke=\"#505050\" stroke-width=\"0\"/><path aria-label=\"x1: 7440; x2: 7461.9; level: 33; level2: 33.9; status: Default; sf: macro expansion at simdloop.jl:77 [inlined]\" role=\"graphics-symbol\" aria-roledescription=\"rect mark\" d=\"M297.6,128.8h0.8759999999999195v7.199999999999989h-0.8759999999999195Z\" fill=\"#4c78a8\" fill-opacity=\"1\" stroke=\"#505050\" stroke-width=\"0\"/><path aria-label=\"x1: 7440; x2: 7461.9; level: 34; level2: 34.9; status: Default; sf: macro expansion at broadcast.jl:973 [inlined]\" role=\"graphics-symbol\" aria-roledescription=\"rect mark\" d=\"M297.6,120.80000000000001h0.8759999999999195v7.199999999999974h-0.8759999999999195Z\" fill=\"#4c78a8\" fill-opacity=\"1\" stroke=\"#505050\" stroke-width=\"0\"/><path aria-label=\"x1: 7440; x2: 7446.9; level: 35; level2: 35.9; status: Default; sf: getindex at broadcast.jl:610 [inlined]\" role=\"graphics-symbol\" aria-roledescription=\"rect mark\" d=\"M297.6,112.80000000000001h0.2759999999999536v7.200000000000003h-0.2759999999999536Z\" fill=\"#4c78a8\" fill-opacity=\"1\" stroke=\"#505050\" stroke-width=\"0\"/><path aria-label=\"x1: 7440; x2: 7441.9; level: 36; level2: 36.9; status: Default; sf: _broadcast_getindex at broadcast.jl:650 [inlined]\" role=\"graphics-symbol\" aria-roledescription=\"rect mark\" d=\"M297.6,104.80000000000001h0.07599999999996498v7.200000000000003h-0.07599999999996498Z\" fill=\"#4c78a8\" fill-opacity=\"1\" stroke=\"#505050\" stroke-width=\"0\"/><path aria-label=\"x1: 7440; x2: 7441.9; level: 37; level2: 37.9; status: Default; sf: _getindex at broadcast.jl:674 [inlined]\" role=\"graphics-symbol\" aria-roledescription=\"rect mark\" d=\"M297.6,96.8h0.07599999999996498v7.200000000000003h-0.07599999999996498Z\" fill=\"#4c78a8\" fill-opacity=\"1\" stroke=\"#505050\" stroke-width=\"0\"/><path aria-label=\"x1: 7440; x2: 7441.9; level: 38; level2: 38.9; status: Default; sf: _getindex at broadcast.jl:675 [inlined]\" role=\"graphics-symbol\" aria-roledescription=\"rect mark\" d=\"M297.6,88.79999999999998h0.07599999999996498v7.200000000000017h-0.07599999999996498Z\" fill=\"#4c78a8\" fill-opacity=\"1\" stroke=\"#505050\" stroke-width=\"0\"/><path aria-label=\"x1: 7440; x2: 7441.9; level: 39; level2: 39.9; status: Default; sf: _broadcast_getindex at broadcast.jl:644 [inlined]\" role=\"graphics-symbol\" aria-roledescription=\"rect mark\" d=\"M297.6,80.80000000000003h0.07599999999996498v7.19999999999996h-0.07599999999996498Z\" fill=\"#4c78a8\" fill-opacity=\"1\" stroke=\"#505050\" stroke-width=\"0\"/><path aria-label=\"x1: 7440; x2: 7441.9; level: 40; level2: 40.9; status: Default; sf: getindex at multidimensional.jl:702 [inlined]\" role=\"graphics-symbol\" aria-roledescription=\"rect mark\" d=\"M297.6,72.80000000000003h0.07599999999996498v7.19999999999996h-0.07599999999996498Z\" fill=\"#4c78a8\" fill-opacity=\"1\" stroke=\"#505050\" stroke-width=\"0\"/><path aria-label=\"x1: 7440; x2: 7441.9; level: 41; level2: 41.9; status: Default; sf: getindex at array.jl:930 [inlined]\" role=\"graphics-symbol\" aria-roledescription=\"rect mark\" d=\"M297.6,64.80000000000001h0.07599999999996498v7.200000000000003h-0.07599999999996498Z\" fill=\"#4c78a8\" fill-opacity=\"1\" stroke=\"#505050\" stroke-width=\"0\"/><path aria-label=\"x1: 7440; x2: 7441.9; level: 42; level2: 42.9; status: Default; sf: getindex at essentials.jl:917 [inlined]\" role=\"graphics-symbol\" aria-roledescription=\"rect mark\" d=\"M297.6,56.800000000000004h0.07599999999996498v7.20000000000001h-0.07599999999996498Z\" fill=\"#4c78a8\" fill-opacity=\"1\" stroke=\"#505050\" stroke-width=\"0\"/><path aria-label=\"x1: 7442; x2: 7446.9; level: 36; level2: 36.9; status: Default; sf: _broadcast_getindex at broadcast.jl:651 [inlined]\" role=\"graphics-symbol\" aria-roledescription=\"rect mark\" d=\"M297.68,104.80000000000001h0.19599999999996953v7.200000000000003h-0.19599999999996953Z\" fill=\"#4c78a8\" fill-opacity=\"1\" stroke=\"#505050\" stroke-width=\"0\"/><path aria-label=\"x1: 7442; x2: 7446.9; level: 37; level2: 37.9; status: Default; sf: _broadcast_getindex_evalf at broadcast.jl:678 [inlined]\" role=\"graphics-symbol\" aria-roledescription=\"rect mark\" d=\"M297.68,96.8h0.19599999999996953v7.200000000000003h-0.19599999999996953Z\" fill=\"#4c78a8\" fill-opacity=\"1\" stroke=\"#505050\" stroke-width=\"0\"/><path aria-label=\"x1: 7442; x2: 7446.9; level: 38; level2: 38.9; status: Default; sf: - at complex.jl:298 [inlined]\" role=\"graphics-symbol\" aria-roledescription=\"rect mark\" d=\"M297.68,88.79999999999998h0.19599999999996953v7.200000000000017h-0.19599999999996953Z\" fill=\"#4c78a8\" fill-opacity=\"1\" stroke=\"#505050\" stroke-width=\"0\"/><path aria-label=\"x1: 7442; x2: 7446.9; level: 39; level2: 39.9; status: Default; sf: - at float.jl:492 [inlined]\" role=\"graphics-symbol\" aria-roledescription=\"rect mark\" d=\"M297.68,80.80000000000003h0.19599999999996953v7.19999999999996h-0.19599999999996953Z\" fill=\"#4c78a8\" fill-opacity=\"1\" stroke=\"#505050\" stroke-width=\"0\"/><path aria-label=\"x1: 7447; x2: 7461.9; level: 35; level2: 35.9; status: Default; sf: setindex! at multidimensional.jl:704 [inlined]\" role=\"graphics-symbol\" aria-roledescription=\"rect mark\" d=\"M297.88,112.80000000000001h0.5959999999999468v7.200000000000003h-0.5959999999999468Z\" fill=\"#4c78a8\" fill-opacity=\"1\" stroke=\"#505050\" stroke-width=\"0\"/><path aria-label=\"x1: 7447; x2: 7461.9; level: 36; level2: 36.9; status: Default; sf: setindex! at array.jl:994 [inlined]\" role=\"graphics-symbol\" aria-roledescription=\"rect mark\" d=\"M297.88,104.80000000000001h0.5959999999999468v7.200000000000003h-0.5959999999999468Z\" fill=\"#4c78a8\" fill-opacity=\"1\" stroke=\"#505050\" stroke-width=\"0\"/><path aria-label=\"x1: 7462; x2: 7462.9; level: 33; level2: 33.9; status: Default; sf: macro expansion at simdloop.jl:84 [inlined]\" role=\"graphics-symbol\" aria-roledescription=\"rect mark\" d=\"M298.48,128.8h0.036000000000001364v7.199999999999989h-0.036000000000001364Z\" fill=\"#4c78a8\" fill-opacity=\"1\" stroke=\"#505050\" stroke-width=\"0\"/><path aria-label=\"x1: 7463; x2: 7477.9; level: 31; level2: 31.9; status: Default; sf: similar at broadcast.jl:223 [inlined]\" role=\"graphics-symbol\" aria-roledescription=\"rect mark\" d=\"M298.52,144.79999999999998h0.5960000000000036v7.200000000000017h-0.5960000000000036Z\" fill=\"#4c78a8\" fill-opacity=\"1\" stroke=\"#505050\" stroke-width=\"0\"/><path aria-label=\"x1: 7463; x2: 7477.9; level: 32; level2: 32.9; status: Default; sf: similar at broadcast.jl:224 [inlined]\" role=\"graphics-symbol\" aria-roledescription=\"rect mark\" d=\"M298.52,136.80000000000004h0.5960000000000036v7.19999999999996h-0.5960000000000036Z\" fill=\"#4c78a8\" fill-opacity=\"1\" stroke=\"#505050\" stroke-width=\"0\"/><path aria-label=\"x1: 7463; x2: 7477.9; level: 33; level2: 33.9; status: Default; sf: similar at abstractarray.jl:867 [inlined]\" role=\"graphics-symbol\" aria-roledescription=\"rect mark\" d=\"M298.52,128.8h0.5960000000000036v7.199999999999989h-0.5960000000000036Z\" fill=\"#4c78a8\" fill-opacity=\"1\" stroke=\"#505050\" stroke-width=\"0\"/><path aria-label=\"x1: 7463; x2: 7477.9; level: 34; level2: 34.9; status: Default; sf: similar at abstractarray.jl:868 [inlined]\" role=\"graphics-symbol\" aria-roledescription=\"rect mark\" d=\"M298.52,120.80000000000001h0.5960000000000036v7.199999999999974h-0.5960000000000036Z\" fill=\"#4c78a8\" fill-opacity=\"1\" stroke=\"#505050\" stroke-width=\"0\"/><path aria-label=\"x1: 7463; x2: 7477.9; level: 35; level2: 35.9; status: Default; sf: Array at boot.jl:599 [inlined]\" role=\"graphics-symbol\" aria-roledescription=\"rect mark\" d=\"M298.52,112.80000000000001h0.5960000000000036v7.200000000000003h-0.5960000000000036Z\" fill=\"#4c78a8\" fill-opacity=\"1\" stroke=\"#505050\" stroke-width=\"0\"/><path aria-label=\"x1: 7463; x2: 7477.9; level: 36; level2: 36.9; status: Default; sf: Array at boot.jl:592 [inlined]\" role=\"graphics-symbol\" aria-roledescription=\"rect mark\" d=\"M298.52,104.80000000000001h0.5960000000000036v7.200000000000003h-0.5960000000000036Z\" fill=\"#4c78a8\" fill-opacity=\"1\" stroke=\"#505050\" stroke-width=\"0\"/><path aria-label=\"x1: 7463; x2: 7477.9; level: 37; level2: 37.9; status: Default; sf: Array at boot.jl:582 [inlined]\" role=\"graphics-symbol\" aria-roledescription=\"rect mark\" d=\"M298.52,96.8h0.5960000000000036v7.200000000000003h-0.5960000000000036Z\" fill=\"#4c78a8\" fill-opacity=\"1\" stroke=\"#505050\" stroke-width=\"0\"/><path aria-label=\"x1: 7463; x2: 7477.9; level: 38; level2: 38.9; status: Default; sf: new_as_memoryref at boot.jl:535 [inlined]\" role=\"graphics-symbol\" aria-roledescription=\"rect mark\" d=\"M298.52,88.79999999999998h0.5960000000000036v7.200000000000017h-0.5960000000000036Z\" fill=\"#4c78a8\" fill-opacity=\"1\" stroke=\"#505050\" stroke-width=\"0\"/><path aria-label=\"x1: 7463; x2: 7477.9; level: 39; level2: 39.9; status: Garbage collection; sf: GenericMemory at boot.jl:516 [inlined]\" role=\"graphics-symbol\" aria-roledescription=\"rect mark\" d=\"M298.52,80.80000000000003h0.5960000000000036v7.19999999999996h-0.5960000000000036Z\" fill=\"#f58518\" fill-opacity=\"1\" stroke=\"#505050\" stroke-width=\"0\"/><path aria-label=\"x1: 7478; x2: 8020.9; level: 27; level2: 27.9; status: Default; sf: * at matmul.jl:130 [inlined]\" role=\"graphics-symbol\" aria-roledescription=\"rect mark\" d=\"M299.12,176.8h21.716000000000008v7.199999999999989h-21.716000000000008Z\" fill=\"#4c78a8\" fill-opacity=\"1\" stroke=\"#505050\" stroke-width=\"0\"/><path aria-label=\"x1: 7478; x2: 7513.9; level: 28; level2: 28.9; status: Default; sf: similar at array.jl:372 [inlined]\" role=\"graphics-symbol\" aria-roledescription=\"rect mark\" d=\"M299.12,168.8h1.4359999999999786v7.19999999999996h-1.4359999999999786Z\" fill=\"#4c78a8\" fill-opacity=\"1\" stroke=\"#505050\" stroke-width=\"0\"/><path aria-label=\"x1: 7478; x2: 7513.9; level: 29; level2: 29.9; status: Default; sf: Array at boot.jl:592 [inlined]\" role=\"graphics-symbol\" aria-roledescription=\"rect mark\" d=\"M299.12,160.8h1.4359999999999786v7.200000000000017h-1.4359999999999786Z\" fill=\"#4c78a8\" fill-opacity=\"1\" stroke=\"#505050\" stroke-width=\"0\"/><path aria-label=\"x1: 7478; x2: 7513.9; level: 30; level2: 30.9; status: Default; sf: Array at boot.jl:582 [inlined]\" role=\"graphics-symbol\" aria-roledescription=\"rect mark\" d=\"M299.12,152.8h1.4359999999999786v7.199999999999989h-1.4359999999999786Z\" fill=\"#4c78a8\" fill-opacity=\"1\" stroke=\"#505050\" stroke-width=\"0\"/><path aria-label=\"x1: 7478; x2: 7513.9; level: 31; level2: 31.9; status: Default; sf: new_as_memoryref at boot.jl:535 [inlined]\" role=\"graphics-symbol\" aria-roledescription=\"rect mark\" d=\"M299.12,144.79999999999998h1.4359999999999786v7.200000000000017h-1.4359999999999786Z\" fill=\"#4c78a8\" fill-opacity=\"1\" stroke=\"#505050\" stroke-width=\"0\"/><path aria-label=\"x1: 7478; x2: 7513.9; level: 32; level2: 32.9; status: Garbage collection; sf: GenericMemory at boot.jl:516 [inlined]\" role=\"graphics-symbol\" aria-roledescription=\"rect mark\" d=\"M299.12,136.80000000000004h1.4359999999999786v7.19999999999996h-1.4359999999999786Z\" fill=\"#f58518\" fill-opacity=\"1\" stroke=\"#505050\" stroke-width=\"0\"/><path aria-label=\"x1: 7514; x2: 8020.9; level: 28; level2: 28.9; status: Default; sf: mul! at matmul.jl:253 [inlined]\" role=\"graphics-symbol\" aria-roledescription=\"rect mark\" d=\"M300.56,168.8h20.27600000000001v7.19999999999996h-20.27600000000001Z\" fill=\"#4c78a8\" fill-opacity=\"1\" stroke=\"#505050\" stroke-width=\"0\"/><path aria-label=\"x1: 7514; x2: 8020.9; level: 29; level2: 29.9; status: Default; sf: mul! at matmul.jl:285 [inlined]\" role=\"graphics-symbol\" aria-roledescription=\"rect mark\" d=\"M300.56,160.8h20.27600000000001v7.200000000000017h-20.27600000000001Z\" fill=\"#4c78a8\" fill-opacity=\"1\" stroke=\"#505050\" stroke-width=\"0\"/><path aria-label=\"x1: 7514; x2: 8020.9; level: 30; level2: 30.9; status: Default; sf: _mul! at matmul.jl:287 [inlined]\" role=\"graphics-symbol\" aria-roledescription=\"rect mark\" d=\"M300.56,152.8h20.27600000000001v7.199999999999989h-20.27600000000001Z\" fill=\"#4c78a8\" fill-opacity=\"1\" stroke=\"#505050\" stroke-width=\"0\"/><path aria-label=\"x1: 7514; x2: 8020.9; level: 31; level2: 31.9; status: Default; sf: generic_matmatmul! at matmul.jl:381 [inlined]\" role=\"graphics-symbol\" aria-roledescription=\"rect mark\" d=\"M300.56,144.79999999999998h20.27600000000001v7.200000000000017h-20.27600000000001Z\" fill=\"#4c78a8\" fill-opacity=\"1\" stroke=\"#505050\" stroke-width=\"0\"/><path aria-label=\"x1: 7514; x2: 8020.9; level: 32; level2: 32.9; status: Default; sf: gemm_wrapper!(C::Matrix{ComplexF64}, tA::Char, tB::Char, A::Matrix{ComplexF64}, B::Matrix{ComplexF64}, _add::LinearAlgebra.MulAddMul{true, true, Bool, Bool}) at matmul.jl:657\" role=\"graphics-symbol\" aria-roledescription=\"rect mark\" d=\"M300.56,136.80000000000004h20.27600000000001v7.19999999999996h-20.27600000000001Z\" fill=\"#4c78a8\" fill-opacity=\"1\" stroke=\"#505050\" stroke-width=\"0\"/><path aria-label=\"x1: 7514; x2: 7514.9; level: 33; level2: 33.9; status: Default; sf: gemm!(transA::Char, transB::Char, alpha::ComplexF64, A::Matrix{ComplexF64}, B::Matrix{ComplexF64}, beta::ComplexF64, C::Matrix{ComplexF64}) at blas.jl:1625\" role=\"graphics-symbol\" aria-roledescription=\"rect mark\" d=\"M300.56,128.8h0.036000000000001364v7.199999999999989h-0.036000000000001364Z\" fill=\"#4c78a8\" fill-opacity=\"1\" stroke=\"#505050\" stroke-width=\"0\"/><path aria-label=\"x1: 7515; x2: 8020.9; level: 33; level2: 33.9; status: Default; sf: gemm!(transA::Char, transB::Char, alpha::ComplexF64, A::Matrix{ComplexF64}, B::Matrix{ComplexF64}, beta::ComplexF64, C::Matrix{ComplexF64}) at blas.jl:1644\" role=\"graphics-symbol\" aria-roledescription=\"rect mark\" d=\"M300.59999999999997,128.8h20.236000000000047v7.199999999999989h-20.236000000000047Z\" fill=\"#4c78a8\" fill-opacity=\"1\" stroke=\"#505050\" stroke-width=\"0\"/><path aria-label=\"x1: 8021; x2: 8027.9; level: 26; level2: 26.9; status: Default; sf: value_and_gradient(f::ArraySignalProcessing.MyLeastSquares{ComplexF64, Matrix{ComplexF64}, Matrix{ComplexF64}}, x::Matrix{ComplexF64}) at lasso.jl:50\" role=\"graphics-symbol\" aria-roledescription=\"rect mark\" d=\"M320.84000000000003,184.80000000000004h0.2759999999999536v7.19999999999996h-0.2759999999999536Z\" fill=\"#4c78a8\" fill-opacity=\"1\" stroke=\"#505050\" stroke-width=\"0\"/><path aria-label=\"x1: 8021; x2: 8027.9; level: 27; level2: 27.9; status: Default; sf: sum at reducedim.jl:983 [inlined]\" role=\"graphics-symbol\" aria-roledescription=\"rect mark\" d=\"M320.84000000000003,176.8h0.2759999999999536v7.199999999999989h-0.2759999999999536Z\" fill=\"#4c78a8\" fill-opacity=\"1\" stroke=\"#505050\" stroke-width=\"0\"/><path aria-label=\"x1: 8021; x2: 8027.9; level: 28; level2: 28.9; status: Default; sf: #sum#936 at reducedim.jl:983 [inlined]\" role=\"graphics-symbol\" aria-roledescription=\"rect mark\" d=\"M320.84000000000003,168.8h0.2759999999999536v7.19999999999996h-0.2759999999999536Z\" fill=\"#4c78a8\" fill-opacity=\"1\" stroke=\"#505050\" stroke-width=\"0\"/><path aria-label=\"x1: 8021; x2: 8027.9; level: 29; level2: 29.9; status: Default; sf: _sum at reducedim.jl:987 [inlined]\" role=\"graphics-symbol\" aria-roledescription=\"rect mark\" d=\"M320.84000000000003,160.8h0.2759999999999536v7.200000000000017h-0.2759999999999536Z\" fill=\"#4c78a8\" fill-opacity=\"1\" stroke=\"#505050\" stroke-width=\"0\"/><path aria-label=\"x1: 8021; x2: 8027.9; level: 30; level2: 30.9; status: Default; sf: #_sum#938 at reducedim.jl:987 [inlined]\" role=\"graphics-symbol\" aria-roledescription=\"rect mark\" d=\"M320.84000000000003,152.8h0.2759999999999536v7.199999999999989h-0.2759999999999536Z\" fill=\"#4c78a8\" fill-opacity=\"1\" stroke=\"#505050\" stroke-width=\"0\"/><path aria-label=\"x1: 8021; x2: 8027.9; level: 31; level2: 31.9; status: Default; sf: mapreduce at reducedim.jl:329 [inlined]\" role=\"graphics-symbol\" aria-roledescription=\"rect mark\" d=\"M320.84000000000003,144.79999999999998h0.2759999999999536v7.200000000000017h-0.2759999999999536Z\" fill=\"#4c78a8\" fill-opacity=\"1\" stroke=\"#505050\" stroke-width=\"0\"/><path aria-label=\"x1: 8021; x2: 8027.9; level: 32; level2: 32.9; status: Default; sf: #mapreduce#928 at reducedim.jl:329 [inlined]\" role=\"graphics-symbol\" aria-roledescription=\"rect mark\" d=\"M320.84000000000003,136.80000000000004h0.2759999999999536v7.19999999999996h-0.2759999999999536Z\" fill=\"#4c78a8\" fill-opacity=\"1\" stroke=\"#505050\" stroke-width=\"0\"/><path aria-label=\"x1: 8021; x2: 8027.9; level: 33; level2: 33.9; status: Default; sf: _mapreduce_dim at reducedim.jl:337 [inlined]\" role=\"graphics-symbol\" aria-roledescription=\"rect mark\" d=\"M320.84000000000003,128.8h0.2759999999999536v7.199999999999989h-0.2759999999999536Z\" fill=\"#4c78a8\" fill-opacity=\"1\" stroke=\"#505050\" stroke-width=\"0\"/><path aria-label=\"x1: 8021; x2: 8027.9; level: 34; level2: 34.9; status: Default; sf: _mapreduce(f::typeof(abs2), op::typeof(Base.add_sum), ::IndexLinear, A::Matrix{ComplexF64}) at reduce.jl:444\" role=\"graphics-symbol\" aria-roledescription=\"rect mark\" d=\"M320.84000000000003,120.80000000000001h0.2759999999999536v7.199999999999974h-0.2759999999999536Z\" fill=\"#4c78a8\" fill-opacity=\"1\" stroke=\"#505050\" stroke-width=\"0\"/><path aria-label=\"x1: 8021; x2: 8027.9; level: 35; level2: 35.9; status: Default; sf: mapreduce_impl at reduce.jl:277 [inlined]\" role=\"graphics-symbol\" aria-roledescription=\"rect mark\" d=\"M320.84000000000003,112.80000000000001h0.2759999999999536v7.200000000000003h-0.2759999999999536Z\" fill=\"#4c78a8\" fill-opacity=\"1\" stroke=\"#505050\" stroke-width=\"0\"/><path aria-label=\"x1: 8021; x2: 8021.9; level: 36; level2: 36.9; status: Default; sf: mapreduce_impl(f::typeof(abs2), op::typeof(Base.add_sum), A::Matrix{ComplexF64}, ifirst::Int64, ilast::Int64, blksize::Int64) at reduce.jl:253\" role=\"graphics-symbol\" aria-roledescription=\"rect mark\" d=\"M320.84000000000003,104.80000000000001h0.03599999999994452v7.200000000000003h-0.03599999999994452Z\" fill=\"#4c78a8\" fill-opacity=\"1\" stroke=\"#505050\" stroke-width=\"0\"/><path aria-label=\"x1: 8022; x2: 8024.9; level: 36; level2: 36.9; status: Default; sf: mapreduce_impl(f::typeof(abs2), op::typeof(Base.add_sum), A::Matrix{ComplexF64}, ifirst::Int64, ilast::Int64, blksize::Int64) at reduce.jl:271\" role=\"graphics-symbol\" aria-roledescription=\"rect mark\" d=\"M320.88,104.80000000000001h0.11599999999998545v7.200000000000003h-0.11599999999998545Z\" fill=\"#4c78a8\" fill-opacity=\"1\" stroke=\"#505050\" stroke-width=\"0\"/><path aria-label=\"x1: 8022; x2: 8022.9; level: 37; level2: 37.9; status: Default; sf: mapreduce_impl(f::typeof(abs2), op::typeof(Base.add_sum), A::Matrix{ComplexF64}, ifirst::Int64, ilast::Int64, blksize::Int64) at reduce.jl:271\" role=\"graphics-symbol\" aria-roledescription=\"rect mark\" d=\"M320.88,96.8h0.036000000000001364v7.200000000000003h-0.036000000000001364Z\" fill=\"#4c78a8\" fill-opacity=\"1\" stroke=\"#505050\" stroke-width=\"0\"/><path aria-label=\"x1: 8022; x2: 8022.9; level: 38; level2: 38.9; status: Default; sf: mapreduce_impl(f::typeof(abs2), op::typeof(Base.add_sum), A::Matrix{ComplexF64}, ifirst::Int64, ilast::Int64, blksize::Int64) at reduce.jl:263\" role=\"graphics-symbol\" aria-roledescription=\"rect mark\" d=\"M320.88,88.79999999999998h0.036000000000001364v7.200000000000017h-0.036000000000001364Z\" fill=\"#4c78a8\" fill-opacity=\"1\" stroke=\"#505050\" stroke-width=\"0\"/><path aria-label=\"x1: 8022; x2: 8022.9; level: 39; level2: 39.9; status: Default; sf: macro expansion at simdloop.jl:77 [inlined]\" role=\"graphics-symbol\" aria-roledescription=\"rect mark\" d=\"M320.88,80.80000000000003h0.036000000000001364v7.19999999999996h-0.036000000000001364Z\" fill=\"#4c78a8\" fill-opacity=\"1\" stroke=\"#505050\" stroke-width=\"0\"/><path aria-label=\"x1: 8022; x2: 8022.9; level: 40; level2: 40.9; status: Default; sf: macro expansion at reduce.jl:264 [inlined]\" role=\"graphics-symbol\" aria-roledescription=\"rect mark\" d=\"M320.88,72.80000000000003h0.036000000000001364v7.19999999999996h-0.036000000000001364Z\" fill=\"#4c78a8\" fill-opacity=\"1\" stroke=\"#505050\" stroke-width=\"0\"/><path aria-label=\"x1: 8022; x2: 8022.9; level: 41; level2: 41.9; status: Default; sf: getindex at essentials.jl:917 [inlined]\" role=\"graphics-symbol\" aria-roledescription=\"rect mark\" d=\"M320.88,64.80000000000001h0.036000000000001364v7.200000000000003h-0.036000000000001364Z\" fill=\"#4c78a8\" fill-opacity=\"1\" stroke=\"#505050\" stroke-width=\"0\"/><path aria-label=\"x1: 8023; x2: 8024.9; level: 37; level2: 37.9; status: Default; sf: mapreduce_impl(f::typeof(abs2), op::typeof(Base.add_sum), A::Matrix{ComplexF64}, ifirst::Int64, ilast::Int64, blksize::Int64) at reduce.jl:272\" role=\"graphics-symbol\" aria-roledescription=\"rect mark\" d=\"M320.92,96.8h0.07599999999996498v7.200000000000003h-0.07599999999996498Z\" fill=\"#4c78a8\" fill-opacity=\"1\" stroke=\"#505050\" stroke-width=\"0\"/><path aria-label=\"x1: 8023; x2: 8024.9; level: 38; level2: 38.9; status: Default; sf: mapreduce_impl(f::typeof(abs2), op::typeof(Base.add_sum), A::Matrix{ComplexF64}, ifirst::Int64, ilast::Int64, blksize::Int64) at reduce.jl:263\" role=\"graphics-symbol\" aria-roledescription=\"rect mark\" d=\"M320.92,88.79999999999998h0.07599999999996498v7.200000000000017h-0.07599999999996498Z\" fill=\"#4c78a8\" fill-opacity=\"1\" stroke=\"#505050\" stroke-width=\"0\"/><path aria-label=\"x1: 8023; x2: 8024.9; level: 39; level2: 39.9; status: Default; sf: macro expansion at simdloop.jl:77 [inlined]\" role=\"graphics-symbol\" aria-roledescription=\"rect mark\" d=\"M320.92,80.80000000000003h0.07599999999996498v7.19999999999996h-0.07599999999996498Z\" fill=\"#4c78a8\" fill-opacity=\"1\" stroke=\"#505050\" stroke-width=\"0\"/><path aria-label=\"x1: 8023; x2: 8024.9; level: 40; level2: 40.9; status: Default; sf: macro expansion at reduce.jl:265 [inlined]\" role=\"graphics-symbol\" aria-roledescription=\"rect mark\" d=\"M320.92,72.80000000000003h0.07599999999996498v7.19999999999996h-0.07599999999996498Z\" fill=\"#4c78a8\" fill-opacity=\"1\" stroke=\"#505050\" stroke-width=\"0\"/><path aria-label=\"x1: 8023; x2: 8024.9; level: 41; level2: 41.9; status: Default; sf: add_sum at reduce.jl:27 [inlined]\" role=\"graphics-symbol\" aria-roledescription=\"rect mark\" d=\"M320.92,64.80000000000001h0.07599999999996498v7.200000000000003h-0.07599999999996498Z\" fill=\"#4c78a8\" fill-opacity=\"1\" stroke=\"#505050\" stroke-width=\"0\"/><path aria-label=\"x1: 8023; x2: 8024.9; level: 42; level2: 42.9; status: Default; sf: + at float.jl:491 [inlined]\" role=\"graphics-symbol\" aria-roledescription=\"rect mark\" d=\"M320.92,56.800000000000004h0.07599999999996498v7.20000000000001h-0.07599999999996498Z\" fill=\"#4c78a8\" fill-opacity=\"1\" stroke=\"#505050\" stroke-width=\"0\"/><path aria-label=\"x1: 8025; x2: 8027.9; level: 36; level2: 36.9; status: Default; sf: mapreduce_impl(f::typeof(abs2), op::typeof(Base.add_sum), A::Matrix{ComplexF64}, ifirst::Int64, ilast::Int64, blksize::Int64) at reduce.jl:272\" role=\"graphics-symbol\" aria-roledescription=\"rect mark\" d=\"M321,104.80000000000001h0.11599999999998545v7.200000000000003h-0.11599999999998545Z\" fill=\"#4c78a8\" fill-opacity=\"1\" stroke=\"#505050\" stroke-width=\"0\"/><path aria-label=\"x1: 8025; x2: 8026.9; level: 37; level2: 37.9; status: Default; sf: mapreduce_impl(f::typeof(abs2), op::typeof(Base.add_sum), A::Matrix{ComplexF64}, ifirst::Int64, ilast::Int64, blksize::Int64) at reduce.jl:271\" role=\"graphics-symbol\" aria-roledescription=\"rect mark\" d=\"M321,96.8h0.07600000000002183v7.200000000000003h-0.07600000000002183Z\" fill=\"#4c78a8\" fill-opacity=\"1\" stroke=\"#505050\" stroke-width=\"0\"/><path aria-label=\"x1: 8025; x2: 8026.9; level: 38; level2: 38.9; status: Default; sf: mapreduce_impl(f::typeof(abs2), op::typeof(Base.add_sum), A::Matrix{ComplexF64}, ifirst::Int64, ilast::Int64, blksize::Int64) at reduce.jl:263\" role=\"graphics-symbol\" aria-roledescription=\"rect mark\" d=\"M321,88.79999999999998h0.07600000000002183v7.200000000000017h-0.07600000000002183Z\" fill=\"#4c78a8\" fill-opacity=\"1\" stroke=\"#505050\" stroke-width=\"0\"/><path aria-label=\"x1: 8025; x2: 8026.9; level: 39; level2: 39.9; status: Default; sf: macro expansion at simdloop.jl:77 [inlined]\" role=\"graphics-symbol\" aria-roledescription=\"rect mark\" d=\"M321,80.80000000000003h0.07600000000002183v7.19999999999996h-0.07600000000002183Z\" fill=\"#4c78a8\" fill-opacity=\"1\" stroke=\"#505050\" stroke-width=\"0\"/><path aria-label=\"x1: 8025; x2: 8026.9; level: 40; level2: 40.9; status: Default; sf: macro expansion at reduce.jl:265 [inlined]\" role=\"graphics-symbol\" aria-roledescription=\"rect mark\" d=\"M321,72.80000000000003h0.07600000000002183v7.19999999999996h-0.07600000000002183Z\" fill=\"#4c78a8\" fill-opacity=\"1\" stroke=\"#505050\" stroke-width=\"0\"/><path aria-label=\"x1: 8025; x2: 8026.9; level: 41; level2: 41.9; status: Default; sf: add_sum at reduce.jl:27 [inlined]\" role=\"graphics-symbol\" aria-roledescription=\"rect mark\" d=\"M321,64.80000000000001h0.07600000000002183v7.200000000000003h-0.07600000000002183Z\" fill=\"#4c78a8\" fill-opacity=\"1\" stroke=\"#505050\" stroke-width=\"0\"/><path aria-label=\"x1: 8025; x2: 8026.9; level: 42; level2: 42.9; status: Default; sf: + at float.jl:491 [inlined]\" role=\"graphics-symbol\" aria-roledescription=\"rect mark\" d=\"M321,56.800000000000004h0.07600000000002183v7.20000000000001h-0.07600000000002183Z\" fill=\"#4c78a8\" fill-opacity=\"1\" stroke=\"#505050\" stroke-width=\"0\"/><path aria-label=\"x1: 8027; x2: 8027.9; level: 37; level2: 37.9; status: Default; sf: mapreduce_impl(f::typeof(abs2), op::typeof(Base.add_sum), A::Matrix{ComplexF64}, ifirst::Int64, ilast::Int64, blksize::Int64) at reduce.jl:272\" role=\"graphics-symbol\" aria-roledescription=\"rect mark\" d=\"M321.08,96.8h0.036000000000001364v7.200000000000003h-0.036000000000001364Z\" fill=\"#4c78a8\" fill-opacity=\"1\" stroke=\"#505050\" stroke-width=\"0\"/><path aria-label=\"x1: 8027; x2: 8027.9; level: 38; level2: 38.9; status: Default; sf: mapreduce_impl(f::typeof(abs2), op::typeof(Base.add_sum), A::Matrix{ComplexF64}, ifirst::Int64, ilast::Int64, blksize::Int64) at reduce.jl:263\" role=\"graphics-symbol\" aria-roledescription=\"rect mark\" d=\"M321.08,88.79999999999998h0.036000000000001364v7.200000000000017h-0.036000000000001364Z\" fill=\"#4c78a8\" fill-opacity=\"1\" stroke=\"#505050\" stroke-width=\"0\"/><path aria-label=\"x1: 8027; x2: 8027.9; level: 39; level2: 39.9; status: Default; sf: macro expansion at simdloop.jl:77 [inlined]\" role=\"graphics-symbol\" aria-roledescription=\"rect mark\" d=\"M321.08,80.80000000000003h0.036000000000001364v7.19999999999996h-0.036000000000001364Z\" fill=\"#4c78a8\" fill-opacity=\"1\" stroke=\"#505050\" stroke-width=\"0\"/><path aria-label=\"x1: 8027; x2: 8027.9; level: 40; level2: 40.9; status: Default; sf: macro expansion at reduce.jl:265 [inlined]\" role=\"graphics-symbol\" aria-roledescription=\"rect mark\" d=\"M321.08,72.80000000000003h0.036000000000001364v7.19999999999996h-0.036000000000001364Z\" fill=\"#4c78a8\" fill-opacity=\"1\" stroke=\"#505050\" stroke-width=\"0\"/><path aria-label=\"x1: 8027; x2: 8027.9; level: 41; level2: 41.9; status: Default; sf: add_sum at reduce.jl:27 [inlined]\" role=\"graphics-symbol\" aria-roledescription=\"rect mark\" d=\"M321.08,64.80000000000001h0.036000000000001364v7.200000000000003h-0.036000000000001364Z\" fill=\"#4c78a8\" fill-opacity=\"1\" stroke=\"#505050\" stroke-width=\"0\"/><path aria-label=\"x1: 8027; x2: 8027.9; level: 42; level2: 42.9; status: Default; sf: + at float.jl:491 [inlined]\" role=\"graphics-symbol\" aria-roledescription=\"rect mark\" d=\"M321.08,56.800000000000004h0.036000000000001364v7.20000000000001h-0.036000000000001364Z\" fill=\"#4c78a8\" fill-opacity=\"1\" stroke=\"#505050\" stroke-width=\"0\"/><path aria-label=\"x1: 8028; x2: 9577.9; level: 26; level2: 26.9; status: Default; sf: value_and_gradient(f::ArraySignalProcessing.MyLeastSquares{ComplexF64, Matrix{ComplexF64}, Matrix{ComplexF64}}, x::Matrix{ComplexF64}) at lasso.jl:51\" role=\"graphics-symbol\" aria-roledescription=\"rect mark\" d=\"M321.12,184.80000000000004h61.99599999999998v7.19999999999996h-61.99599999999998Z\" fill=\"#4c78a8\" fill-opacity=\"1\" stroke=\"#505050\" stroke-width=\"0\"/><path aria-label=\"x1: 8028; x2: 9577.9; level: 27; level2: 27.9; status: Default; sf: * at matmul.jl:130 [inlined]\" role=\"graphics-symbol\" aria-roledescription=\"rect mark\" d=\"M321.12,176.8h61.99599999999998v7.199999999999989h-61.99599999999998Z\" fill=\"#4c78a8\" fill-opacity=\"1\" stroke=\"#505050\" stroke-width=\"0\"/><path aria-label=\"x1: 8028; x2: 8959.9; level: 28; level2: 28.9; status: Default; sf: similar at array.jl:372 [inlined]\" role=\"graphics-symbol\" aria-roledescription=\"rect mark\" d=\"M321.12,168.8h37.275999999999954v7.19999999999996h-37.275999999999954Z\" fill=\"#4c78a8\" fill-opacity=\"1\" stroke=\"#505050\" stroke-width=\"0\"/><path aria-label=\"x1: 8028; x2: 8959.9; level: 29; level2: 29.9; status: Default; sf: Array at boot.jl:592 [inlined]\" role=\"graphics-symbol\" aria-roledescription=\"rect mark\" d=\"M321.12,160.8h37.275999999999954v7.200000000000017h-37.275999999999954Z\" fill=\"#4c78a8\" fill-opacity=\"1\" stroke=\"#505050\" stroke-width=\"0\"/><path aria-label=\"x1: 8028; x2: 8959.9; level: 30; level2: 30.9; status: Default; sf: Array at boot.jl:582 [inlined]\" role=\"graphics-symbol\" aria-roledescription=\"rect mark\" d=\"M321.12,152.8h37.275999999999954v7.199999999999989h-37.275999999999954Z\" fill=\"#4c78a8\" fill-opacity=\"1\" stroke=\"#505050\" stroke-width=\"0\"/><path aria-label=\"x1: 8028; x2: 8959.9; level: 31; level2: 31.9; status: Default; sf: new_as_memoryref at boot.jl:535 [inlined]\" role=\"graphics-symbol\" aria-roledescription=\"rect mark\" d=\"M321.12,144.79999999999998h37.275999999999954v7.200000000000017h-37.275999999999954Z\" fill=\"#4c78a8\" fill-opacity=\"1\" stroke=\"#505050\" stroke-width=\"0\"/><path aria-label=\"x1: 8028; x2: 8959.9; level: 32; level2: 32.9; status: Garbage collection; sf: GenericMemory at boot.jl:516 [inlined]\" role=\"graphics-symbol\" aria-roledescription=\"rect mark\" d=\"M321.12,136.80000000000004h37.275999999999954v7.19999999999996h-37.275999999999954Z\" fill=\"#f58518\" fill-opacity=\"1\" stroke=\"#505050\" stroke-width=\"0\"/><path aria-label=\"x1: 8960; x2: 9577.9; level: 28; level2: 28.9; status: Default; sf: mul! at matmul.jl:253 [inlined]\" role=\"graphics-symbol\" aria-roledescription=\"rect mark\" d=\"M358.40000000000003,168.8h24.71599999999995v7.19999999999996h-24.71599999999995Z\" fill=\"#4c78a8\" fill-opacity=\"1\" stroke=\"#505050\" stroke-width=\"0\"/><path aria-label=\"x1: 8960; x2: 9577.9; level: 29; level2: 29.9; status: Default; sf: mul! at matmul.jl:285 [inlined]\" role=\"graphics-symbol\" aria-roledescription=\"rect mark\" d=\"M358.40000000000003,160.8h24.71599999999995v7.200000000000017h-24.71599999999995Z\" fill=\"#4c78a8\" fill-opacity=\"1\" stroke=\"#505050\" stroke-width=\"0\"/><path aria-label=\"x1: 8960; x2: 9577.9; level: 30; level2: 30.9; status: Default; sf: _mul! at matmul.jl:287 [inlined]\" role=\"graphics-symbol\" aria-roledescription=\"rect mark\" d=\"M358.40000000000003,152.8h24.71599999999995v7.199999999999989h-24.71599999999995Z\" fill=\"#4c78a8\" fill-opacity=\"1\" stroke=\"#505050\" stroke-width=\"0\"/><path aria-label=\"x1: 8960; x2: 9577.9; level: 31; level2: 31.9; status: Default; sf: generic_matmatmul! at matmul.jl:381 [inlined]\" role=\"graphics-symbol\" aria-roledescription=\"rect mark\" d=\"M358.40000000000003,144.79999999999998h24.71599999999995v7.200000000000017h-24.71599999999995Z\" fill=\"#4c78a8\" fill-opacity=\"1\" stroke=\"#505050\" stroke-width=\"0\"/><path aria-label=\"x1: 8960; x2: 9577.9; level: 32; level2: 32.9; status: Default; sf: gemm_wrapper!(C::Matrix{ComplexF64}, tA::Char, tB::Char, A::Matrix{ComplexF64}, B::Matrix{ComplexF64}, _add::LinearAlgebra.MulAddMul{true, true, Bool, Bool}) at matmul.jl:657\" role=\"graphics-symbol\" aria-roledescription=\"rect mark\" d=\"M358.40000000000003,136.80000000000004h24.71599999999995v7.19999999999996h-24.71599999999995Z\" fill=\"#4c78a8\" fill-opacity=\"1\" stroke=\"#505050\" stroke-width=\"0\"/><path aria-label=\"x1: 8960; x2: 9577.9; level: 33; level2: 33.9; status: Default; sf: gemm!(transA::Char, transB::Char, alpha::ComplexF64, A::Matrix{ComplexF64}, B::Matrix{ComplexF64}, beta::ComplexF64, C::Matrix{ComplexF64}) at blas.jl:1644\" role=\"graphics-symbol\" aria-roledescription=\"rect mark\" d=\"M358.40000000000003,128.8h24.71599999999995v7.199999999999989h-24.71599999999995Z\" fill=\"#4c78a8\" fill-opacity=\"1\" stroke=\"#505050\" stroke-width=\"0\"/><path aria-label=\"x1: 9578; x2: 9578.9; level: 25; level2: 25.9; status: Default; sf: backtrack_stepsize!(gamma::Float64, f::ArraySignalProcessing.MyLeastSquares{ComplexF64, Matrix{ComplexF64}, Matrix{ComplexF64}}, A::Nothing, g::ArraySignalProcessing.MyNormL21{Float64, Int64}, x::Matrix{ComplexF64}, f_Ax::Float64, At_grad_f_Ax::Matrix{ComplexF64}, y::Matrix{ComplexF64}, z::Matrix{ComplexF64}, g_z::Float64, res::Matrix{ComplexF64}, Az::Matrix{ComplexF64}, grad_f_Az::Nothing; alpha::Float64, minimum_gamma::Float64, reduce_gamma::Float64) at fb_tools.jl:53\" role=\"graphics-symbol\" aria-roledescription=\"rect mark\" d=\"M383.12,192.79999999999998h0.03599999999994452v7.200000000000017h-0.03599999999994452Z\" fill=\"#4c78a8\" fill-opacity=\"1\" stroke=\"#505050\" stroke-width=\"0\"/><path aria-label=\"x1: 9578; x2: 9578.9; level: 26; level2: 26.9; status: Default; sf: value_and_gradient(f::ArraySignalProcessing.MyLeastSquares{ComplexF64, Matrix{ComplexF64}, Matrix{ComplexF64}}, x::Matrix{ComplexF64}) at lasso.jl:51\" role=\"graphics-symbol\" aria-roledescription=\"rect mark\" d=\"M383.12,184.80000000000004h0.03599999999994452v7.19999999999996h-0.03599999999994452Z\" fill=\"#4c78a8\" fill-opacity=\"1\" stroke=\"#505050\" stroke-width=\"0\"/><path aria-label=\"x1: 9578; x2: 9578.9; level: 27; level2: 27.9; status: Default; sf: * at matmul.jl:130 [inlined]\" role=\"graphics-symbol\" aria-roledescription=\"rect mark\" d=\"M383.12,176.8h0.03599999999994452v7.199999999999989h-0.03599999999994452Z\" fill=\"#4c78a8\" fill-opacity=\"1\" stroke=\"#505050\" stroke-width=\"0\"/><path aria-label=\"x1: 9578; x2: 9578.9; level: 28; level2: 28.9; status: Default; sf: mul! at matmul.jl:253 [inlined]\" role=\"graphics-symbol\" aria-roledescription=\"rect mark\" d=\"M383.12,168.8h0.03599999999994452v7.19999999999996h-0.03599999999994452Z\" fill=\"#4c78a8\" fill-opacity=\"1\" stroke=\"#505050\" stroke-width=\"0\"/><path aria-label=\"x1: 9578; x2: 9578.9; level: 29; level2: 29.9; status: Default; sf: mul! at matmul.jl:285 [inlined]\" role=\"graphics-symbol\" aria-roledescription=\"rect mark\" d=\"M383.12,160.8h0.03599999999994452v7.200000000000017h-0.03599999999994452Z\" fill=\"#4c78a8\" fill-opacity=\"1\" stroke=\"#505050\" stroke-width=\"0\"/><path aria-label=\"x1: 9578; x2: 9578.9; level: 30; level2: 30.9; status: Default; sf: _mul! at matmul.jl:287 [inlined]\" role=\"graphics-symbol\" aria-roledescription=\"rect mark\" d=\"M383.12,152.8h0.03599999999994452v7.199999999999989h-0.03599999999994452Z\" fill=\"#4c78a8\" fill-opacity=\"1\" stroke=\"#505050\" stroke-width=\"0\"/><path aria-label=\"x1: 9578; x2: 9578.9; level: 31; level2: 31.9; status: Default; sf: generic_matmatmul! at matmul.jl:381 [inlined]\" role=\"graphics-symbol\" aria-roledescription=\"rect mark\" d=\"M383.12,144.79999999999998h0.03599999999994452v7.200000000000017h-0.03599999999994452Z\" fill=\"#4c78a8\" fill-opacity=\"1\" stroke=\"#505050\" stroke-width=\"0\"/><path aria-label=\"x1: 9578; x2: 9578.9; level: 32; level2: 32.9; status: Default; sf: gemm_wrapper!(C::Matrix{ComplexF64}, tA::Char, tB::Char, A::Matrix{ComplexF64}, B::Matrix{ComplexF64}, _add::LinearAlgebra.MulAddMul{true, true, Bool, Bool}) at matmul.jl:657\" role=\"graphics-symbol\" aria-roledescription=\"rect mark\" d=\"M383.12,136.80000000000004h0.03599999999994452v7.19999999999996h-0.03599999999994452Z\" fill=\"#4c78a8\" fill-opacity=\"1\" stroke=\"#505050\" stroke-width=\"0\"/><path aria-label=\"x1: 9578; x2: 9578.9; level: 33; level2: 33.9; status: Default; sf: gemm!(transA::Char, transB::Char, alpha::ComplexF64, A::Matrix{ComplexF64}, B::Matrix{ComplexF64}, beta::ComplexF64, C::Matrix{ComplexF64}) at blas.jl:1644\" role=\"graphics-symbol\" aria-roledescription=\"rect mark\" d=\"M383.12,128.8h0.03599999999994452v7.199999999999989h-0.03599999999994452Z\" fill=\"#4c78a8\" fill-opacity=\"1\" stroke=\"#505050\" stroke-width=\"0\"/><path aria-label=\"x1: 9579; x2: 9579.9; level: 23; level2: 23.9; status: Default; sf: iterate(iter::ProximalAlgorithms.FastForwardBackwardIteration{Float64, Matrix{ComplexF64}, ArraySignalProcessing.MyLeastSquares{ComplexF64, Matrix{ComplexF64}, Matrix{ComplexF64}}, ArraySignalProcessing.MyNormL21{Float64, Int64}, Nothing, Nothing, Nothing}, state::ProximalAlgorithms.FastForwardBackwardState{Float64, Matrix{ComplexF64}, ProximalAlgorithms.AdaptiveNesterovSequence{Float64}}) at fast_forward_backward.jl:134\" role=\"graphics-symbol\" aria-roledescription=\"rect mark\" d=\"M383.15999999999997,208.8h0.03600000000005821v7.199999999999989h-0.03600000000005821Z\" fill=\"#4c78a8\" fill-opacity=\"1\" stroke=\"#505050\" stroke-width=\"0\"/><path aria-label=\"x1: 9579; x2: 9579.9; level: 24; level2: 24.9; status: Default; sf: get_next_extrapolation_coefficient! at fast_forward_backward.jl:102 [inlined]\" role=\"graphics-symbol\" aria-roledescription=\"rect mark\" d=\"M383.15999999999997,200.8h0.03600000000005821v7.199999999999989h-0.03600000000005821Z\" fill=\"#4c78a8\" fill-opacity=\"1\" stroke=\"#505050\" stroke-width=\"0\"/><path aria-label=\"x1: 9579; x2: 9579.9; level: 25; level2: 25.9; status: Default; sf: next!(seq::ProximalAlgorithms.AdaptiveNesterovSequence{Float64}, stepsize::Float64) at nesterov.jl:89\" role=\"graphics-symbol\" aria-roledescription=\"rect mark\" d=\"M383.15999999999997,192.79999999999998h0.03600000000005821v7.200000000000017h-0.03600000000005821Z\" fill=\"#4c78a8\" fill-opacity=\"1\" stroke=\"#505050\" stroke-width=\"0\"/><path aria-label=\"x1: 9580; x2: 11168.9; level: 23; level2: 23.9; status: Default; sf: iterate(iter::ProximalAlgorithms.FastForwardBackwardIteration{Float64, Matrix{ComplexF64}, ArraySignalProcessing.MyLeastSquares{ComplexF64, Matrix{ComplexF64}, Matrix{ComplexF64}}, ArraySignalProcessing.MyNormL21{Float64, Int64}, Nothing, Nothing, Nothing}, state::ProximalAlgorithms.FastForwardBackwardState{Float64, Matrix{ComplexF64}, ProximalAlgorithms.AdaptiveNesterovSequence{Float64}}) at fast_forward_backward.jl:135\" role=\"graphics-symbol\" aria-roledescription=\"rect mark\" d=\"M383.2,208.8h63.55599999999998v7.199999999999989h-63.55599999999998Z\" fill=\"#4c78a8\" fill-opacity=\"1\" stroke=\"#505050\" stroke-width=\"0\"/><path aria-label=\"x1: 9580; x2: 11168.9; level: 24; level2: 24.9; status: Default; sf: materialize! at broadcast.jl:880 [inlined]\" role=\"graphics-symbol\" aria-roledescription=\"rect mark\" d=\"M383.2,200.8h63.55599999999998v7.199999999999989h-63.55599999999998Z\" fill=\"#4c78a8\" fill-opacity=\"1\" stroke=\"#505050\" stroke-width=\"0\"/><path aria-label=\"x1: 9580; x2: 11168.9; level: 25; level2: 25.9; status: Default; sf: materialize! at broadcast.jl:883 [inlined]\" role=\"graphics-symbol\" aria-roledescription=\"rect mark\" d=\"M383.2,192.79999999999998h63.55599999999998v7.200000000000017h-63.55599999999998Z\" fill=\"#4c78a8\" fill-opacity=\"1\" stroke=\"#505050\" stroke-width=\"0\"/><path aria-label=\"x1: 9580; x2: 11168.9; level: 26; level2: 26.9; status: Default; sf: copyto! at broadcast.jl:925 [inlined]\" role=\"graphics-symbol\" aria-roledescription=\"rect mark\" d=\"M383.2,184.80000000000004h63.55599999999998v7.19999999999996h-63.55599999999998Z\" fill=\"#4c78a8\" fill-opacity=\"1\" stroke=\"#505050\" stroke-width=\"0\"/><path aria-label=\"x1: 9580; x2: 9580.9; level: 27; level2: 27.9; status: Default; sf: copyto! at array.jl:0 [inlined]\" role=\"graphics-symbol\" aria-roledescription=\"rect mark\" d=\"M383.2,176.8h0.036000000000001364v7.199999999999989h-0.036000000000001364Z\" fill=\"#4c78a8\" fill-opacity=\"1\" stroke=\"#505050\" stroke-width=\"0\"/><path aria-label=\"x1: 9581; x2: 9595.9; level: 27; level2: 27.9; status: Default; sf: copyto! at broadcast.jl:969 [inlined]\" role=\"graphics-symbol\" aria-roledescription=\"rect mark\" d=\"M383.24,176.8h0.5959999999999468v7.199999999999989h-0.5959999999999468Z\" fill=\"#4c78a8\" fill-opacity=\"1\" stroke=\"#505050\" stroke-width=\"0\"/><path aria-label=\"x1: 9581; x2: 9595.9; level: 28; level2: 28.9; status: Default; sf: preprocess at broadcast.jl:952 [inlined]\" role=\"graphics-symbol\" aria-roledescription=\"rect mark\" d=\"M383.24,168.8h0.5959999999999468v7.19999999999996h-0.5959999999999468Z\" fill=\"#4c78a8\" fill-opacity=\"1\" stroke=\"#505050\" stroke-width=\"0\"/><path aria-label=\"x1: 9581; x2: 9595.9; level: 29; level2: 29.9; status: Default; sf: preprocess_args at broadcast.jl:955 [inlined]\" role=\"graphics-symbol\" aria-roledescription=\"rect mark\" d=\"M383.24,160.8h0.5959999999999468v7.200000000000017h-0.5959999999999468Z\" fill=\"#4c78a8\" fill-opacity=\"1\" stroke=\"#505050\" stroke-width=\"0\"/><path aria-label=\"x1: 9581; x2: 9595.9; level: 30; level2: 30.9; status: Default; sf: preprocess_args at broadcast.jl:956 [inlined]\" role=\"graphics-symbol\" aria-roledescription=\"rect mark\" d=\"M383.24,152.8h0.5959999999999468v7.199999999999989h-0.5959999999999468Z\" fill=\"#4c78a8\" fill-opacity=\"1\" stroke=\"#505050\" stroke-width=\"0\"/><path aria-label=\"x1: 9581; x2: 9595.9; level: 31; level2: 31.9; status: Default; sf: preprocess at broadcast.jl:952 [inlined]\" role=\"graphics-symbol\" aria-roledescription=\"rect mark\" d=\"M383.24,144.79999999999998h0.5959999999999468v7.200000000000017h-0.5959999999999468Z\" fill=\"#4c78a8\" fill-opacity=\"1\" stroke=\"#505050\" stroke-width=\"0\"/><path aria-label=\"x1: 9581; x2: 9595.9; level: 32; level2: 32.9; status: Default; sf: preprocess_args at broadcast.jl:955 [inlined]\" role=\"graphics-symbol\" aria-roledescription=\"rect mark\" d=\"M383.24,136.80000000000004h0.5959999999999468v7.19999999999996h-0.5959999999999468Z\" fill=\"#4c78a8\" fill-opacity=\"1\" stroke=\"#505050\" stroke-width=\"0\"/><path aria-label=\"x1: 9581; x2: 9595.9; level: 33; level2: 33.9; status: Default; sf: preprocess_args at broadcast.jl:956 [inlined]\" role=\"graphics-symbol\" aria-roledescription=\"rect mark\" d=\"M383.24,128.8h0.5959999999999468v7.199999999999989h-0.5959999999999468Z\" fill=\"#4c78a8\" fill-opacity=\"1\" stroke=\"#505050\" stroke-width=\"0\"/><path aria-label=\"x1: 9581; x2: 9595.9; level: 34; level2: 34.9; status: Default; sf: preprocess at broadcast.jl:952 [inlined]\" role=\"graphics-symbol\" aria-roledescription=\"rect mark\" d=\"M383.24,120.80000000000001h0.5959999999999468v7.199999999999974h-0.5959999999999468Z\" fill=\"#4c78a8\" fill-opacity=\"1\" stroke=\"#505050\" stroke-width=\"0\"/><path aria-label=\"x1: 9581; x2: 9595.9; level: 35; level2: 35.9; status: Default; sf: preprocess_args at broadcast.jl:955 [inlined]\" role=\"graphics-symbol\" aria-roledescription=\"rect mark\" d=\"M383.24,112.80000000000001h0.5959999999999468v7.200000000000003h-0.5959999999999468Z\" fill=\"#4c78a8\" fill-opacity=\"1\" stroke=\"#505050\" stroke-width=\"0\"/><path aria-label=\"x1: 9581; x2: 9595.9; level: 36; level2: 36.9; status: Default; sf: preprocess_args at broadcast.jl:956 [inlined]\" role=\"graphics-symbol\" aria-roledescription=\"rect mark\" d=\"M383.24,104.80000000000001h0.5959999999999468v7.200000000000003h-0.5959999999999468Z\" fill=\"#4c78a8\" fill-opacity=\"1\" stroke=\"#505050\" stroke-width=\"0\"/><path aria-label=\"x1: 9581; x2: 9595.9; level: 37; level2: 37.9; status: Default; sf: preprocess at broadcast.jl:953 [inlined]\" role=\"graphics-symbol\" aria-roledescription=\"rect mark\" d=\"M383.24,96.8h0.5959999999999468v7.200000000000003h-0.5959999999999468Z\" fill=\"#4c78a8\" fill-opacity=\"1\" stroke=\"#505050\" stroke-width=\"0\"/><path aria-label=\"x1: 9581; x2: 9595.9; level: 38; level2: 38.9; status: Default; sf: extrude at broadcast.jl:645 [inlined]\" role=\"graphics-symbol\" aria-roledescription=\"rect mark\" d=\"M383.24,88.79999999999998h0.5959999999999468v7.200000000000017h-0.5959999999999468Z\" fill=\"#4c78a8\" fill-opacity=\"1\" stroke=\"#505050\" stroke-width=\"0\"/><path aria-label=\"x1: 9581; x2: 9595.9; level: 39; level2: 39.9; status: Default; sf: newindexer at broadcast.jl:598 [inlined]\" role=\"graphics-symbol\" aria-roledescription=\"rect mark\" d=\"M383.24,80.80000000000003h0.5959999999999468v7.19999999999996h-0.5959999999999468Z\" fill=\"#4c78a8\" fill-opacity=\"1\" stroke=\"#505050\" stroke-width=\"0\"/><path aria-label=\"x1: 9581; x2: 9595.9; level: 40; level2: 40.9; status: Default; sf: shapeindexer at broadcast.jl:599 [inlined]\" role=\"graphics-symbol\" aria-roledescription=\"rect mark\" d=\"M383.24,72.80000000000003h0.5959999999999468v7.19999999999996h-0.5959999999999468Z\" fill=\"#4c78a8\" fill-opacity=\"1\" stroke=\"#505050\" stroke-width=\"0\"/><path aria-label=\"x1: 9581; x2: 9595.9; level: 41; level2: 41.9; status: Default; sf: _newindexer at broadcast.jl:604 [inlined]\" role=\"graphics-symbol\" aria-roledescription=\"rect mark\" d=\"M383.24,64.80000000000001h0.5959999999999468v7.200000000000003h-0.5959999999999468Z\" fill=\"#4c78a8\" fill-opacity=\"1\" stroke=\"#505050\" stroke-width=\"0\"/><path aria-label=\"x1: 9581; x2: 9595.9; level: 42; level2: 42.9; status: Default; sf: != at operators.jl:277 [inlined]\" role=\"graphics-symbol\" aria-roledescription=\"rect mark\" d=\"M383.24,56.800000000000004h0.5959999999999468v7.20000000000001h-0.5959999999999468Z\" fill=\"#4c78a8\" fill-opacity=\"1\" stroke=\"#505050\" stroke-width=\"0\"/><path aria-label=\"x1: 9581; x2: 9595.9; level: 43; level2: 43.9; status: Default; sf: == at promotion.jl:639 [inlined]\" role=\"graphics-symbol\" aria-roledescription=\"rect mark\" d=\"M383.24,48.8h0.5959999999999468v7.20000000000001h-0.5959999999999468Z\" fill=\"#4c78a8\" fill-opacity=\"1\" stroke=\"#505050\" stroke-width=\"0\"/><path aria-label=\"x1: 9596; x2: 11168.9; level: 27; level2: 27.9; status: Default; sf: copyto! at broadcast.jl:972 [inlined]\" role=\"graphics-symbol\" aria-roledescription=\"rect mark\" d=\"M383.84000000000003,176.8h62.91599999999994v7.199999999999989h-62.91599999999994Z\" fill=\"#4c78a8\" fill-opacity=\"1\" stroke=\"#505050\" stroke-width=\"0\"/><path aria-label=\"x1: 9596; x2: 9597.9; level: 28; level2: 28.9; status: Default; sf: macro expansion at array.jl:0 [inlined]\" role=\"graphics-symbol\" aria-roledescription=\"rect mark\" d=\"M383.84000000000003,168.8h0.07599999999990814v7.19999999999996h-0.07599999999990814Z\" fill=\"#4c78a8\" fill-opacity=\"1\" stroke=\"#505050\" stroke-width=\"0\"/><path aria-label=\"x1: 9598; x2: 9632.9; level: 28; level2: 28.9; status: Default; sf: macro expansion at simdloop.jl:0 [inlined]\" role=\"graphics-symbol\" aria-roledescription=\"rect mark\" d=\"M383.92,168.8h1.3959999999999582v7.19999999999996h-1.3959999999999582Z\" fill=\"#4c78a8\" fill-opacity=\"1\" stroke=\"#505050\" stroke-width=\"0\"/><path aria-label=\"x1: 9633; x2: 9641.9; level: 28; level2: 28.9; status: Default; sf: macro expansion at simdloop.jl:75 [inlined]\" role=\"graphics-symbol\" aria-roledescription=\"rect mark\" d=\"M385.32,168.8h0.35599999999999454v7.19999999999996h-0.35599999999999454Z\" fill=\"#4c78a8\" fill-opacity=\"1\" stroke=\"#505050\" stroke-width=\"0\"/><path aria-label=\"x1: 9642; x2: 11168.9; level: 28; level2: 28.9; status: Default; sf: macro expansion at simdloop.jl:77 [inlined]\" role=\"graphics-symbol\" aria-roledescription=\"rect mark\" d=\"M385.67999999999995,168.8h61.07600000000002v7.19999999999996h-61.07600000000002Z\" fill=\"#4c78a8\" fill-opacity=\"1\" stroke=\"#505050\" stroke-width=\"0\"/><path aria-label=\"x1: 9642; x2: 11168.9; level: 29; level2: 29.9; status: Default; sf: macro expansion at broadcast.jl:973 [inlined]\" role=\"graphics-symbol\" aria-roledescription=\"rect mark\" d=\"M385.67999999999995,160.8h61.07600000000002v7.200000000000017h-61.07600000000002Z\" fill=\"#4c78a8\" fill-opacity=\"1\" stroke=\"#505050\" stroke-width=\"0\"/><path aria-label=\"x1: 9642; x2: 11028.9; level: 30; level2: 30.9; status: Default; sf: getindex at broadcast.jl:610 [inlined]\" role=\"graphics-symbol\" aria-roledescription=\"rect mark\" d=\"M385.67999999999995,152.8h55.476v7.199999999999989h-55.476Z\" fill=\"#4c78a8\" fill-opacity=\"1\" stroke=\"#505050\" stroke-width=\"0\"/><path aria-label=\"x1: 9642; x2: 10842.9; level: 31; level2: 31.9; status: Default; sf: _broadcast_getindex at broadcast.jl:650 [inlined]\" role=\"graphics-symbol\" aria-roledescription=\"rect mark\" d=\"M385.67999999999995,144.79999999999998h48.03600000000006v7.200000000000017h-48.03600000000006Z\" fill=\"#4c78a8\" fill-opacity=\"1\" stroke=\"#505050\" stroke-width=\"0\"/><path aria-label=\"x1: 9642; x2: 10842.9; level: 32; level2: 32.9; status: Default; sf: _getindex at broadcast.jl:674 [inlined]\" role=\"graphics-symbol\" aria-roledescription=\"rect mark\" d=\"M385.67999999999995,136.80000000000004h48.03600000000006v7.19999999999996h-48.03600000000006Z\" fill=\"#4c78a8\" fill-opacity=\"1\" stroke=\"#505050\" stroke-width=\"0\"/><path aria-label=\"x1: 9642; x2: 9781.9; level: 33; level2: 33.9; status: Default; sf: _broadcast_getindex at broadcast.jl:644 [inlined]\" role=\"graphics-symbol\" aria-roledescription=\"rect mark\" d=\"M385.67999999999995,128.8h5.5960000000000605v7.199999999999989h-5.5960000000000605Z\" fill=\"#4c78a8\" fill-opacity=\"1\" stroke=\"#505050\" stroke-width=\"0\"/><path aria-label=\"x1: 9642; x2: 9781.9; level: 34; level2: 34.9; status: Default; sf: getindex at multidimensional.jl:702 [inlined]\" role=\"graphics-symbol\" aria-roledescription=\"rect mark\" d=\"M385.67999999999995,120.80000000000001h5.5960000000000605v7.199999999999974h-5.5960000000000605Z\" fill=\"#4c78a8\" fill-opacity=\"1\" stroke=\"#505050\" stroke-width=\"0\"/><path aria-label=\"x1: 9642; x2: 9781.9; level: 35; level2: 35.9; status: Default; sf: getindex at array.jl:930 [inlined]\" role=\"graphics-symbol\" aria-roledescription=\"rect mark\" d=\"M385.67999999999995,112.80000000000001h5.5960000000000605v7.200000000000003h-5.5960000000000605Z\" fill=\"#4c78a8\" fill-opacity=\"1\" stroke=\"#505050\" stroke-width=\"0\"/><path aria-label=\"x1: 9642; x2: 9659.9; level: 36; level2: 36.9; status: Default; sf: _to_linear_index at abstractarray.jl:1347 [inlined]\" role=\"graphics-symbol\" aria-roledescription=\"rect mark\" d=\"M385.67999999999995,104.80000000000001h0.716000000000065v7.200000000000003h-0.716000000000065Z\" fill=\"#4c78a8\" fill-opacity=\"1\" stroke=\"#505050\" stroke-width=\"0\"/><path aria-label=\"x1: 9642; x2: 9659.9; level: 37; level2: 37.9; status: Default; sf: _sub2ind at abstractarray.jl:3048 [inlined]\" role=\"graphics-symbol\" aria-roledescription=\"rect mark\" d=\"M385.67999999999995,96.8h0.716000000000065v7.200000000000003h-0.716000000000065Z\" fill=\"#4c78a8\" fill-opacity=\"1\" stroke=\"#505050\" stroke-width=\"0\"/><path aria-label=\"x1: 9642; x2: 9659.9; level: 38; level2: 38.9; status: Default; sf: _sub2ind at abstractarray.jl:3064 [inlined]\" role=\"graphics-symbol\" aria-roledescription=\"rect mark\" d=\"M385.67999999999995,88.79999999999998h0.716000000000065v7.200000000000017h-0.716000000000065Z\" fill=\"#4c78a8\" fill-opacity=\"1\" stroke=\"#505050\" stroke-width=\"0\"/><path aria-label=\"x1: 9642; x2: 9659.9; level: 39; level2: 39.9; status: Default; sf: _sub2ind_recurse at abstractarray.jl:3080 [inlined]\" role=\"graphics-symbol\" aria-roledescription=\"rect mark\" d=\"M385.67999999999995,80.80000000000003h0.716000000000065v7.19999999999996h-0.716000000000065Z\" fill=\"#4c78a8\" fill-opacity=\"1\" stroke=\"#505050\" stroke-width=\"0\"/><path aria-label=\"x1: 9642; x2: 9643.9; level: 40; level2: 40.9; status: Default; sf: _sub2ind_recurse at abstractarray.jl:3080 [inlined]\" role=\"graphics-symbol\" aria-roledescription=\"rect mark\" d=\"M385.67999999999995,72.80000000000003h0.07600000000002183v7.19999999999996h-0.07600000000002183Z\" fill=\"#4c78a8\" fill-opacity=\"1\" stroke=\"#505050\" stroke-width=\"0\"/><path aria-label=\"x1: 9642; x2: 9643.9; level: 41; level2: 41.9; status: Default; sf: * at int.jl:88 [inlined]\" role=\"graphics-symbol\" aria-roledescription=\"rect mark\" d=\"M385.67999999999995,64.80000000000001h0.07600000000002183v7.200000000000003h-0.07600000000002183Z\" fill=\"#4c78a8\" fill-opacity=\"1\" stroke=\"#505050\" stroke-width=\"0\"/><path aria-label=\"x1: 9644; x2: 9659.9; level: 40; level2: 40.9; status: Default; sf: + at int.jl:87 [inlined]\" role=\"graphics-symbol\" aria-roledescription=\"rect mark\" d=\"M385.76,72.80000000000003h0.6360000000000241v7.19999999999996h-0.6360000000000241Z\" fill=\"#4c78a8\" fill-opacity=\"1\" stroke=\"#505050\" stroke-width=\"0\"/><path aria-label=\"x1: 9660; x2: 9781.9; level: 36; level2: 36.9; status: Default; sf: getindex at essentials.jl:917 [inlined]\" role=\"graphics-symbol\" aria-roledescription=\"rect mark\" d=\"M386.4,104.80000000000001h4.876000000000033v7.200000000000003h-4.876000000000033Z\" fill=\"#4c78a8\" fill-opacity=\"1\" stroke=\"#505050\" stroke-width=\"0\"/><path aria-label=\"x1: 9782; x2: 10842.9; level: 33; level2: 33.9; status: Default; sf: _getindex at broadcast.jl:675 [inlined]\" role=\"graphics-symbol\" aria-roledescription=\"rect mark\" d=\"M391.28,128.8h42.436000000000035v7.199999999999989h-42.436000000000035Z\" fill=\"#4c78a8\" fill-opacity=\"1\" stroke=\"#505050\" stroke-width=\"0\"/><path aria-label=\"x1: 9782; x2: 10766.9; level: 34; level2: 34.9; status: Default; sf: _broadcast_getindex at broadcast.jl:650 [inlined]\" role=\"graphics-symbol\" aria-roledescription=\"rect mark\" d=\"M391.28,120.80000000000001h39.396000000000015v7.199999999999974h-39.396000000000015Z\" fill=\"#4c78a8\" fill-opacity=\"1\" stroke=\"#505050\" stroke-width=\"0\"/><path aria-label=\"x1: 9782; x2: 10766.9; level: 35; level2: 35.9; status: Default; sf: _getindex at broadcast.jl:674 [inlined]\" role=\"graphics-symbol\" aria-roledescription=\"rect mark\" d=\"M391.28,112.80000000000001h39.396000000000015v7.200000000000003h-39.396000000000015Z\" fill=\"#4c78a8\" fill-opacity=\"1\" stroke=\"#505050\" stroke-width=\"0\"/><path aria-label=\"x1: 9782; x2: 10766.9; level: 36; level2: 36.9; status: Default; sf: _getindex at broadcast.jl:675 [inlined]\" role=\"graphics-symbol\" aria-roledescription=\"rect mark\" d=\"M391.28,104.80000000000001h39.396000000000015v7.200000000000003h-39.396000000000015Z\" fill=\"#4c78a8\" fill-opacity=\"1\" stroke=\"#505050\" stroke-width=\"0\"/><path aria-label=\"x1: 9782; x2: 10251.9; level: 37; level2: 37.9; status: Default; sf: _broadcast_getindex at broadcast.jl:650 [inlined]\" role=\"graphics-symbol\" aria-roledescription=\"rect mark\" d=\"M391.28,96.8h18.79600000000005v7.200000000000003h-18.79600000000005Z\" fill=\"#4c78a8\" fill-opacity=\"1\" stroke=\"#505050\" stroke-width=\"0\"/><path aria-label=\"x1: 9782; x2: 10251.9; level: 38; level2: 38.9; status: Default; sf: _getindex at broadcast.jl:674 [inlined]\" role=\"graphics-symbol\" aria-roledescription=\"rect mark\" d=\"M391.28,88.79999999999998h18.79600000000005v7.200000000000017h-18.79600000000005Z\" fill=\"#4c78a8\" fill-opacity=\"1\" stroke=\"#505050\" stroke-width=\"0\"/><path aria-label=\"x1: 9782; x2: 9982.9; level: 39; level2: 39.9; status: Default; sf: _broadcast_getindex at broadcast.jl:644 [inlined]\" role=\"graphics-symbol\" aria-roledescription=\"rect mark\" d=\"M391.28,80.80000000000003h8.036000000000058v7.19999999999996h-8.036000000000058Z\" fill=\"#4c78a8\" fill-opacity=\"1\" stroke=\"#505050\" stroke-width=\"0\"/><path aria-label=\"x1: 9782; x2: 9982.9; level: 40; level2: 40.9; status: Default; sf: getindex at multidimensional.jl:702 [inlined]\" role=\"graphics-symbol\" aria-roledescription=\"rect mark\" d=\"M391.28,72.80000000000003h8.036000000000058v7.19999999999996h-8.036000000000058Z\" fill=\"#4c78a8\" fill-opacity=\"1\" stroke=\"#505050\" stroke-width=\"0\"/><path aria-label=\"x1: 9782; x2: 9982.9; level: 41; level2: 41.9; status: Default; sf: getindex at array.jl:930 [inlined]\" role=\"graphics-symbol\" aria-roledescription=\"rect mark\" d=\"M391.28,64.80000000000001h8.036000000000058v7.200000000000003h-8.036000000000058Z\" fill=\"#4c78a8\" fill-opacity=\"1\" stroke=\"#505050\" stroke-width=\"0\"/><path aria-label=\"x1: 9782; x2: 9982.9; level: 42; level2: 42.9; status: Default; sf: getindex at essentials.jl:917 [inlined]\" role=\"graphics-symbol\" aria-roledescription=\"rect mark\" d=\"M391.28,56.800000000000004h8.036000000000058v7.20000000000001h-8.036000000000058Z\" fill=\"#4c78a8\" fill-opacity=\"1\" stroke=\"#505050\" stroke-width=\"0\"/><path aria-label=\"x1: 9983; x2: 10251.9; level: 39; level2: 39.9; status: Default; sf: _getindex at broadcast.jl:675 [inlined]\" role=\"graphics-symbol\" aria-roledescription=\"rect mark\" d=\"M399.32,80.80000000000003h10.756000000000029v7.19999999999996h-10.756000000000029Z\" fill=\"#4c78a8\" fill-opacity=\"1\" stroke=\"#505050\" stroke-width=\"0\"/><path aria-label=\"x1: 9983; x2: 10251.9; level: 40; level2: 40.9; status: Default; sf: _broadcast_getindex at broadcast.jl:644 [inlined]\" role=\"graphics-symbol\" aria-roledescription=\"rect mark\" d=\"M399.32,72.80000000000003h10.756000000000029v7.19999999999996h-10.756000000000029Z\" fill=\"#4c78a8\" fill-opacity=\"1\" stroke=\"#505050\" stroke-width=\"0\"/><path aria-label=\"x1: 9983; x2: 10251.9; level: 41; level2: 41.9; status: Default; sf: getindex at multidimensional.jl:702 [inlined]\" role=\"graphics-symbol\" aria-roledescription=\"rect mark\" d=\"M399.32,64.80000000000001h10.756000000000029v7.200000000000003h-10.756000000000029Z\" fill=\"#4c78a8\" fill-opacity=\"1\" stroke=\"#505050\" stroke-width=\"0\"/><path aria-label=\"x1: 9983; x2: 10251.9; level: 42; level2: 42.9; status: Default; sf: getindex at array.jl:930 [inlined]\" role=\"graphics-symbol\" aria-roledescription=\"rect mark\" d=\"M399.32,56.800000000000004h10.756000000000029v7.20000000000001h-10.756000000000029Z\" fill=\"#4c78a8\" fill-opacity=\"1\" stroke=\"#505050\" stroke-width=\"0\"/><path aria-label=\"x1: 9983; x2: 10070.9; level: 43; level2: 43.9; status: Default; sf: _to_linear_index at abstractarray.jl:1347 [inlined]\" role=\"graphics-symbol\" aria-roledescription=\"rect mark\" d=\"M399.32,48.8h3.5160000000000196v7.20000000000001h-3.5160000000000196Z\" fill=\"#4c78a8\" fill-opacity=\"1\" stroke=\"#505050\" stroke-width=\"0\"/><path aria-label=\"x1: 9983; x2: 10070.9; level: 44; level2: 44.9; status: Default; sf: _sub2ind at abstractarray.jl:3048 [inlined]\" role=\"graphics-symbol\" aria-roledescription=\"rect mark\" d=\"M399.32,40.79999999999999h3.5160000000000196v7.20000000000001h-3.5160000000000196Z\" fill=\"#4c78a8\" fill-opacity=\"1\" stroke=\"#505050\" stroke-width=\"0\"/><path aria-label=\"x1: 9983; x2: 10070.9; level: 45; level2: 45.9; status: Default; sf: _sub2ind at abstractarray.jl:3064 [inlined]\" role=\"graphics-symbol\" aria-roledescription=\"rect mark\" d=\"M399.32,32.800000000000026h3.5160000000000196v7.199999999999967h-3.5160000000000196Z\" fill=\"#4c78a8\" fill-opacity=\"1\" stroke=\"#505050\" stroke-width=\"0\"/><path aria-label=\"x1: 9983; x2: 10070.9; level: 46; level2: 46.9; status: Default; sf: _sub2ind_recurse at abstractarray.jl:3080 [inlined]\" role=\"graphics-symbol\" aria-roledescription=\"rect mark\" d=\"M399.32,24.800000000000022h3.5160000000000196v7.199999999999964h-3.5160000000000196Z\" fill=\"#4c78a8\" fill-opacity=\"1\" stroke=\"#505050\" stroke-width=\"0\"/><path aria-label=\"x1: 9983; x2: 10070.9; level: 47; level2: 47.9; status: Default; sf: _sub2ind_recurse at abstractarray.jl:3080 [inlined]\" role=\"graphics-symbol\" aria-roledescription=\"rect mark\" d=\"M399.32,16.800000000000015h3.5160000000000196v7.200000000000006h-3.5160000000000196Z\" fill=\"#4c78a8\" fill-opacity=\"1\" stroke=\"#505050\" stroke-width=\"0\"/><path aria-label=\"x1: 9983; x2: 10011.9; level: 48; level2: 48.9; status: Default; sf: * at int.jl:88 [inlined]\" role=\"graphics-symbol\" aria-roledescription=\"rect mark\" d=\"M399.32,8.800000000000008h1.156000000000006v7.200000000000006h-1.156000000000006Z\" fill=\"#4c78a8\" fill-opacity=\"1\" stroke=\"#505050\" stroke-width=\"0\"/><path aria-label=\"x1: 10012; x2: 10070.9; level: 48; level2: 48.9; status: Default; sf: + at int.jl:87 [inlined]\" role=\"graphics-symbol\" aria-roledescription=\"rect mark\" d=\"M400.48,8.800000000000008h2.3559999999999945v7.200000000000006h-2.3559999999999945Z\" fill=\"#4c78a8\" fill-opacity=\"1\" stroke=\"#505050\" stroke-width=\"0\"/><path aria-label=\"x1: 10071; x2: 10251.9; level: 43; level2: 43.9; status: Default; sf: getindex at essentials.jl:917 [inlined]\" role=\"graphics-symbol\" aria-roledescription=\"rect mark\" d=\"M402.84000000000003,48.8h7.23599999999999v7.20000000000001h-7.23599999999999Z\" fill=\"#4c78a8\" fill-opacity=\"1\" stroke=\"#505050\" stroke-width=\"0\"/><path aria-label=\"x1: 10252; x2: 10766.9; level: 37; level2: 37.9; status: Default; sf: _broadcast_getindex at broadcast.jl:651 [inlined]\" role=\"graphics-symbol\" aria-roledescription=\"rect mark\" d=\"M410.0799999999999,96.8h20.59600000000006v7.200000000000003h-20.59600000000006Z\" fill=\"#4c78a8\" fill-opacity=\"1\" stroke=\"#505050\" stroke-width=\"0\"/><path aria-label=\"x1: 10252; x2: 10766.9; level: 38; level2: 38.9; status: Default; sf: _broadcast_getindex_evalf at broadcast.jl:678 [inlined]\" role=\"graphics-symbol\" aria-roledescription=\"rect mark\" d=\"M410.0799999999999,88.79999999999998h20.59600000000006v7.200000000000017h-20.59600000000006Z\" fill=\"#4c78a8\" fill-opacity=\"1\" stroke=\"#505050\" stroke-width=\"0\"/><path aria-label=\"x1: 10252; x2: 10766.9; level: 39; level2: 39.9; status: Default; sf: - at complex.jl:298 [inlined]\" role=\"graphics-symbol\" aria-roledescription=\"rect mark\" d=\"M410.0799999999999,80.80000000000003h20.59600000000006v7.19999999999996h-20.59600000000006Z\" fill=\"#4c78a8\" fill-opacity=\"1\" stroke=\"#505050\" stroke-width=\"0\"/><path aria-label=\"x1: 10252; x2: 10766.9; level: 40; level2: 40.9; status: Default; sf: - at float.jl:492 [inlined]\" role=\"graphics-symbol\" aria-roledescription=\"rect mark\" d=\"M410.0799999999999,72.80000000000003h20.59600000000006v7.19999999999996h-20.59600000000006Z\" fill=\"#4c78a8\" fill-opacity=\"1\" stroke=\"#505050\" stroke-width=\"0\"/><path aria-label=\"x1: 10767; x2: 10842.9; level: 34; level2: 34.9; status: Default; sf: _broadcast_getindex at broadcast.jl:651 [inlined]\" role=\"graphics-symbol\" aria-roledescription=\"rect mark\" d=\"M430.68,120.80000000000001h3.0360000000000014v7.199999999999974h-3.0360000000000014Z\" fill=\"#4c78a8\" fill-opacity=\"1\" stroke=\"#505050\" stroke-width=\"0\"/><path aria-label=\"x1: 10767; x2: 10842.9; level: 35; level2: 35.9; status: Default; sf: _broadcast_getindex_evalf at broadcast.jl:678 [inlined]\" role=\"graphics-symbol\" aria-roledescription=\"rect mark\" d=\"M430.68,112.80000000000001h3.0360000000000014v7.200000000000003h-3.0360000000000014Z\" fill=\"#4c78a8\" fill-opacity=\"1\" stroke=\"#505050\" stroke-width=\"0\"/><path aria-label=\"x1: 10767; x2: 10842.9; level: 36; level2: 36.9; status: Default; sf: * at complex.jl:342 [inlined]\" role=\"graphics-symbol\" aria-roledescription=\"rect mark\" d=\"M430.68,104.80000000000001h3.0360000000000014v7.200000000000003h-3.0360000000000014Z\" fill=\"#4c78a8\" fill-opacity=\"1\" stroke=\"#505050\" stroke-width=\"0\"/><path aria-label=\"x1: 10767; x2: 10842.9; level: 37; level2: 37.9; status: Default; sf: * at float.jl:493 [inlined]\" role=\"graphics-symbol\" aria-roledescription=\"rect mark\" d=\"M430.68,96.8h3.0360000000000014v7.200000000000003h-3.0360000000000014Z\" fill=\"#4c78a8\" fill-opacity=\"1\" stroke=\"#505050\" stroke-width=\"0\"/><path aria-label=\"x1: 10843; x2: 11028.9; level: 31; level2: 31.9; status: Default; sf: _broadcast_getindex at broadcast.jl:651 [inlined]\" role=\"graphics-symbol\" aria-roledescription=\"rect mark\" d=\"M433.72,144.79999999999998h7.435999999999922v7.200000000000017h-7.435999999999922Z\" fill=\"#4c78a8\" fill-opacity=\"1\" stroke=\"#505050\" stroke-width=\"0\"/><path aria-label=\"x1: 10843; x2: 11028.9; level: 32; level2: 32.9; status: Default; sf: _broadcast_getindex_evalf at broadcast.jl:678 [inlined]\" role=\"graphics-symbol\" aria-roledescription=\"rect mark\" d=\"M433.72,136.80000000000004h7.435999999999922v7.19999999999996h-7.435999999999922Z\" fill=\"#4c78a8\" fill-opacity=\"1\" stroke=\"#505050\" stroke-width=\"0\"/><path aria-label=\"x1: 10843; x2: 11028.9; level: 33; level2: 33.9; status: Default; sf: + at complex.jl:297 [inlined]\" role=\"graphics-symbol\" aria-roledescription=\"rect mark\" d=\"M433.72,128.8h7.435999999999922v7.199999999999989h-7.435999999999922Z\" fill=\"#4c78a8\" fill-opacity=\"1\" stroke=\"#505050\" stroke-width=\"0\"/><path aria-label=\"x1: 10843; x2: 11028.9; level: 34; level2: 34.9; status: Default; sf: + at float.jl:491 [inlined]\" role=\"graphics-symbol\" aria-roledescription=\"rect mark\" d=\"M433.72,120.80000000000001h7.435999999999922v7.199999999999974h-7.435999999999922Z\" fill=\"#4c78a8\" fill-opacity=\"1\" stroke=\"#505050\" stroke-width=\"0\"/><path aria-label=\"x1: 11029; x2: 11168.9; level: 30; level2: 30.9; status: Default; sf: setindex! at multidimensional.jl:704 [inlined]\" role=\"graphics-symbol\" aria-roledescription=\"rect mark\" d=\"M441.15999999999997,152.8h5.596000000000004v7.199999999999989h-5.596000000000004Z\" fill=\"#4c78a8\" fill-opacity=\"1\" stroke=\"#505050\" stroke-width=\"0\"/><path aria-label=\"x1: 11029; x2: 11168.9; level: 31; level2: 31.9; status: Default; sf: setindex! at array.jl:994 [inlined]\" role=\"graphics-symbol\" aria-roledescription=\"rect mark\" d=\"M441.15999999999997,144.79999999999998h5.596000000000004v7.200000000000017h-5.596000000000004Z\" fill=\"#4c78a8\" fill-opacity=\"1\" stroke=\"#505050\" stroke-width=\"0\"/><path aria-label=\"x1: 11169; x2: 13575.9; level: 23; level2: 23.9; status: Default; sf: iterate(iter::ProximalAlgorithms.FastForwardBackwardIteration{Float64, Matrix{ComplexF64}, ArraySignalProcessing.MyLeastSquares{ComplexF64, Matrix{ComplexF64}, Matrix{ComplexF64}}, ArraySignalProcessing.MyNormL21{Float64, Int64}, Nothing, Nothing, Nothing}, state::ProximalAlgorithms.FastForwardBackwardState{Float64, Matrix{ComplexF64}, ProximalAlgorithms.AdaptiveNesterovSequence{Float64}}) at fast_forward_backward.jl:138\" role=\"graphics-symbol\" aria-roledescription=\"rect mark\" d=\"M446.76,208.8h96.27600000000007v7.199999999999989h-96.27600000000007Z\" fill=\"#4c78a8\" fill-opacity=\"1\" stroke=\"#505050\" stroke-width=\"0\"/><path aria-label=\"x1: 11169; x2: 11169.9; level: 24; level2: 24.9; status: Default; sf: value_and_gradient(f::ArraySignalProcessing.MyLeastSquares{ComplexF64, Matrix{ComplexF64}, Matrix{ComplexF64}}, x::Matrix{ComplexF64}) at lasso.jl:47\" role=\"graphics-symbol\" aria-roledescription=\"rect mark\" d=\"M446.76,200.8h0.036000000000001364v7.199999999999989h-0.036000000000001364Z\" fill=\"#4c78a8\" fill-opacity=\"1\" stroke=\"#505050\" stroke-width=\"0\"/><path aria-label=\"x1: 11170; x2: 11767.9; level: 24; level2: 24.9; status: Default; sf: value_and_gradient(f::ArraySignalProcessing.MyLeastSquares{ComplexF64, Matrix{ComplexF64}, Matrix{ComplexF64}}, x::Matrix{ComplexF64}) at lasso.jl:49\" role=\"graphics-symbol\" aria-roledescription=\"rect mark\" d=\"M446.8,200.8h23.915999999999997v7.199999999999989h-23.915999999999997Z\" fill=\"#4c78a8\" fill-opacity=\"1\" stroke=\"#505050\" stroke-width=\"0\"/><path aria-label=\"x1: 11170; x2: 11204.9; level: 25; level2: 25.9; status: Default; sf: -(A::Matrix{ComplexF64}, B::Matrix{ComplexF64}) at arraymath.jl:8\" role=\"graphics-symbol\" aria-roledescription=\"rect mark\" d=\"M446.8,192.79999999999998h1.3959999999999582v7.200000000000017h-1.3959999999999582Z\" fill=\"#4c78a8\" fill-opacity=\"1\" stroke=\"#505050\" stroke-width=\"0\"/><path aria-label=\"x1: 11170; x2: 11204.9; level: 26; level2: 26.9; status: Default; sf: broadcast_preserving_zero_d at broadcast.jl:861 [inlined]\" role=\"graphics-symbol\" aria-roledescription=\"rect mark\" d=\"M446.8,184.80000000000004h1.3959999999999582v7.19999999999996h-1.3959999999999582Z\" fill=\"#4c78a8\" fill-opacity=\"1\" stroke=\"#505050\" stroke-width=\"0\"/><path aria-label=\"x1: 11170; x2: 11204.9; level: 27; level2: 27.9; status: Default; sf: materialize at broadcast.jl:872 [inlined]\" role=\"graphics-symbol\" aria-roledescription=\"rect mark\" d=\"M446.8,176.8h1.3959999999999582v7.199999999999989h-1.3959999999999582Z\" fill=\"#4c78a8\" fill-opacity=\"1\" stroke=\"#505050\" stroke-width=\"0\"/><path aria-label=\"x1: 11170; x2: 11204.9; level: 28; level2: 28.9; status: Default; sf: copy at broadcast.jl:897 [inlined]\" role=\"graphics-symbol\" aria-roledescription=\"rect mark\" d=\"M446.8,168.8h1.3959999999999582v7.19999999999996h-1.3959999999999582Z\" fill=\"#4c78a8\" fill-opacity=\"1\" stroke=\"#505050\" stroke-width=\"0\"/><path aria-label=\"x1: 11170; x2: 11197.9; level: 29; level2: 29.9; status: Default; sf: copyto! at broadcast.jl:925 [inlined]\" role=\"graphics-symbol\" aria-roledescription=\"rect mark\" d=\"M446.8,160.8h1.1160000000000423v7.200000000000017h-1.1160000000000423Z\" fill=\"#4c78a8\" fill-opacity=\"1\" stroke=\"#505050\" stroke-width=\"0\"/><path aria-label=\"x1: 11170; x2: 11171.9; level: 30; level2: 30.9; status: Default; sf: copyto! at broadcast.jl:969 [inlined]\" role=\"graphics-symbol\" aria-roledescription=\"rect mark\" d=\"M446.8,152.8h0.07599999999996498v7.199999999999989h-0.07599999999996498Z\" fill=\"#4c78a8\" fill-opacity=\"1\" stroke=\"#505050\" stroke-width=\"0\"/><path aria-label=\"x1: 11170; x2: 11171.9; level: 31; level2: 31.9; status: Default; sf: preprocess at broadcast.jl:952 [inlined]\" role=\"graphics-symbol\" aria-roledescription=\"rect mark\" d=\"M446.8,144.79999999999998h0.07599999999996498v7.200000000000017h-0.07599999999996498Z\" fill=\"#4c78a8\" fill-opacity=\"1\" stroke=\"#505050\" stroke-width=\"0\"/><path aria-label=\"x1: 11170; x2: 11171.9; level: 32; level2: 32.9; status: Default; sf: preprocess_args at broadcast.jl:955 [inlined]\" role=\"graphics-symbol\" aria-roledescription=\"rect mark\" d=\"M446.8,136.80000000000004h0.07599999999996498v7.19999999999996h-0.07599999999996498Z\" fill=\"#4c78a8\" fill-opacity=\"1\" stroke=\"#505050\" stroke-width=\"0\"/><path aria-label=\"x1: 11170; x2: 11171.9; level: 33; level2: 33.9; status: Default; sf: preprocess_args at broadcast.jl:956 [inlined]\" role=\"graphics-symbol\" aria-roledescription=\"rect mark\" d=\"M446.8,128.8h0.07599999999996498v7.199999999999989h-0.07599999999996498Z\" fill=\"#4c78a8\" fill-opacity=\"1\" stroke=\"#505050\" stroke-width=\"0\"/><path aria-label=\"x1: 11170; x2: 11171.9; level: 34; level2: 34.9; status: Default; sf: preprocess at broadcast.jl:953 [inlined]\" role=\"graphics-symbol\" aria-roledescription=\"rect mark\" d=\"M446.8,120.80000000000001h0.07599999999996498v7.199999999999974h-0.07599999999996498Z\" fill=\"#4c78a8\" fill-opacity=\"1\" stroke=\"#505050\" stroke-width=\"0\"/><path aria-label=\"x1: 11170; x2: 11170.9; level: 35; level2: 35.9; status: Default; sf: broadcast_unalias at broadcast.jl:946 [inlined]\" role=\"graphics-symbol\" aria-roledescription=\"rect mark\" d=\"M446.8,112.80000000000001h0.03599999999994452v7.200000000000003h-0.03599999999994452Z\" fill=\"#4c78a8\" fill-opacity=\"1\" stroke=\"#505050\" stroke-width=\"0\"/><path aria-label=\"x1: 11170; x2: 11170.9; level: 36; level2: 36.9; status: Default; sf: unalias at abstractarray.jl:1500 [inlined]\" role=\"graphics-symbol\" aria-roledescription=\"rect mark\" d=\"M446.8,104.80000000000001h0.03599999999994452v7.200000000000003h-0.03599999999994452Z\" fill=\"#4c78a8\" fill-opacity=\"1\" stroke=\"#505050\" stroke-width=\"0\"/><path aria-label=\"x1: 11170; x2: 11170.9; level: 37; level2: 37.9; status: Default; sf: mightalias at abstractarray.jl:1537 [inlined]\" role=\"graphics-symbol\" aria-roledescription=\"rect mark\" d=\"M446.8,96.8h0.03599999999994452v7.200000000000003h-0.03599999999994452Z\" fill=\"#4c78a8\" fill-opacity=\"1\" stroke=\"#505050\" stroke-width=\"0\"/><path aria-label=\"x1: 11170; x2: 11170.9; level: 38; level2: 38.9; status: Default; sf: isempty at abstractarray.jl:1212 [inlined]\" role=\"graphics-symbol\" aria-roledescription=\"rect mark\" d=\"M446.8,88.79999999999998h0.03599999999994452v7.200000000000017h-0.03599999999994452Z\" fill=\"#4c78a8\" fill-opacity=\"1\" stroke=\"#505050\" stroke-width=\"0\"/><path aria-label=\"x1: 11170; x2: 11170.9; level: 39; level2: 39.9; status: Default; sf: == at promotion.jl:639 [inlined]\" role=\"graphics-symbol\" aria-roledescription=\"rect mark\" d=\"M446.8,80.80000000000003h0.03599999999994452v7.19999999999996h-0.03599999999994452Z\" fill=\"#4c78a8\" fill-opacity=\"1\" stroke=\"#505050\" stroke-width=\"0\"/><path aria-label=\"x1: 11171; x2: 11171.9; level: 35; level2: 35.9; status: Default; sf: extrude at broadcast.jl:645 [inlined]\" role=\"graphics-symbol\" aria-roledescription=\"rect mark\" d=\"M446.84,112.80000000000001h0.036000000000001364v7.200000000000003h-0.036000000000001364Z\" fill=\"#4c78a8\" fill-opacity=\"1\" stroke=\"#505050\" stroke-width=\"0\"/><path aria-label=\"x1: 11171; x2: 11171.9; level: 36; level2: 36.9; status: Default; sf: newindexer at broadcast.jl:598 [inlined]\" role=\"graphics-symbol\" aria-roledescription=\"rect mark\" d=\"M446.84,104.80000000000001h0.036000000000001364v7.200000000000003h-0.036000000000001364Z\" fill=\"#4c78a8\" fill-opacity=\"1\" stroke=\"#505050\" stroke-width=\"0\"/><path aria-label=\"x1: 11171; x2: 11171.9; level: 37; level2: 37.9; status: Default; sf: shapeindexer at broadcast.jl:599 [inlined]\" role=\"graphics-symbol\" aria-roledescription=\"rect mark\" d=\"M446.84,96.8h0.036000000000001364v7.200000000000003h-0.036000000000001364Z\" fill=\"#4c78a8\" fill-opacity=\"1\" stroke=\"#505050\" stroke-width=\"0\"/><path aria-label=\"x1: 11171; x2: 11171.9; level: 38; level2: 38.9; status: Default; sf: _newindexer at broadcast.jl:604 [inlined]\" role=\"graphics-symbol\" aria-roledescription=\"rect mark\" d=\"M446.84,88.79999999999998h0.036000000000001364v7.200000000000017h-0.036000000000001364Z\" fill=\"#4c78a8\" fill-opacity=\"1\" stroke=\"#505050\" stroke-width=\"0\"/><path aria-label=\"x1: 11171; x2: 11171.9; level: 39; level2: 39.9; status: Default; sf: != at operators.jl:277 [inlined]\" role=\"graphics-symbol\" aria-roledescription=\"rect mark\" d=\"M446.84,80.80000000000003h0.036000000000001364v7.19999999999996h-0.036000000000001364Z\" fill=\"#4c78a8\" fill-opacity=\"1\" stroke=\"#505050\" stroke-width=\"0\"/><path aria-label=\"x1: 11171; x2: 11171.9; level: 40; level2: 40.9; status: Default; sf: == at promotion.jl:639 [inlined]\" role=\"graphics-symbol\" aria-roledescription=\"rect mark\" d=\"M446.84,72.80000000000003h0.036000000000001364v7.19999999999996h-0.036000000000001364Z\" fill=\"#4c78a8\" fill-opacity=\"1\" stroke=\"#505050\" stroke-width=\"0\"/><path aria-label=\"x1: 11172; x2: 11197.9; level: 30; level2: 30.9; status: Default; sf: copyto! at broadcast.jl:972 [inlined]\" role=\"graphics-symbol\" aria-roledescription=\"rect mark\" d=\"M446.88,152.8h1.0360000000000582v7.199999999999989h-1.0360000000000582Z\" fill=\"#4c78a8\" fill-opacity=\"1\" stroke=\"#505050\" stroke-width=\"0\"/><path aria-label=\"x1: 11172; x2: 11172.9; level: 31; level2: 31.9; status: Default; sf: macro expansion at simdloop.jl:0 [inlined]\" role=\"graphics-symbol\" aria-roledescription=\"rect mark\" d=\"M446.88,144.79999999999998h0.03599999999994452v7.200000000000017h-0.03599999999994452Z\" fill=\"#4c78a8\" fill-opacity=\"1\" stroke=\"#505050\" stroke-width=\"0\"/><path aria-label=\"x1: 11173; x2: 11175.9; level: 31; level2: 31.9; status: Default; sf: macro expansion at simdloop.jl:75 [inlined]\" role=\"graphics-symbol\" aria-roledescription=\"rect mark\" d=\"M446.91999999999996,144.79999999999998h0.11599999999998545v7.200000000000017h-0.11599999999998545Z\" fill=\"#4c78a8\" fill-opacity=\"1\" stroke=\"#505050\" stroke-width=\"0\"/><path aria-label=\"x1: 11176; x2: 11197.9; level: 31; level2: 31.9; status: Default; sf: macro expansion at simdloop.jl:77 [inlined]\" role=\"graphics-symbol\" aria-roledescription=\"rect mark\" d=\"M447.03999999999996,144.79999999999998h0.87600000000009v7.200000000000017h-0.87600000000009Z\" fill=\"#4c78a8\" fill-opacity=\"1\" stroke=\"#505050\" stroke-width=\"0\"/><path aria-label=\"x1: 11176; x2: 11197.9; level: 32; level2: 32.9; status: Default; sf: macro expansion at broadcast.jl:973 [inlined]\" role=\"graphics-symbol\" aria-roledescription=\"rect mark\" d=\"M447.03999999999996,136.80000000000004h0.87600000000009v7.19999999999996h-0.87600000000009Z\" fill=\"#4c78a8\" fill-opacity=\"1\" stroke=\"#505050\" stroke-width=\"0\"/><path aria-label=\"x1: 11176; x2: 11185.9; level: 33; level2: 33.9; status: Default; sf: getindex at broadcast.jl:610 [inlined]\" role=\"graphics-symbol\" aria-roledescription=\"rect mark\" d=\"M447.03999999999996,128.8h0.396000000000015v7.199999999999989h-0.396000000000015Z\" fill=\"#4c78a8\" fill-opacity=\"1\" stroke=\"#505050\" stroke-width=\"0\"/><path aria-label=\"x1: 11176; x2: 11180.9; level: 34; level2: 34.9; status: Default; sf: _broadcast_getindex at broadcast.jl:650 [inlined]\" role=\"graphics-symbol\" aria-roledescription=\"rect mark\" d=\"M447.03999999999996,120.80000000000001h0.19600000000002638v7.199999999999974h-0.19600000000002638Z\" fill=\"#4c78a8\" fill-opacity=\"1\" stroke=\"#505050\" stroke-width=\"0\"/><path aria-label=\"x1: 11176; x2: 11180.9; level: 35; level2: 35.9; status: Default; sf: _getindex at broadcast.jl:674 [inlined]\" role=\"graphics-symbol\" aria-roledescription=\"rect mark\" d=\"M447.03999999999996,112.80000000000001h0.19600000000002638v7.200000000000003h-0.19600000000002638Z\" fill=\"#4c78a8\" fill-opacity=\"1\" stroke=\"#505050\" stroke-width=\"0\"/><path aria-label=\"x1: 11176; x2: 11176.9; level: 36; level2: 36.9; status: Default; sf: _broadcast_getindex at broadcast.jl:644 [inlined]\" role=\"graphics-symbol\" aria-roledescription=\"rect mark\" d=\"M447.03999999999996,104.80000000000001h0.03600000000005821v7.200000000000003h-0.03600000000005821Z\" fill=\"#4c78a8\" fill-opacity=\"1\" stroke=\"#505050\" stroke-width=\"0\"/><path aria-label=\"x1: 11176; x2: 11176.9; level: 37; level2: 37.9; status: Default; sf: getindex at multidimensional.jl:702 [inlined]\" role=\"graphics-symbol\" aria-roledescription=\"rect mark\" d=\"M447.03999999999996,96.8h0.03600000000005821v7.200000000000003h-0.03600000000005821Z\" fill=\"#4c78a8\" fill-opacity=\"1\" stroke=\"#505050\" stroke-width=\"0\"/><path aria-label=\"x1: 11176; x2: 11176.9; level: 38; level2: 38.9; status: Default; sf: getindex at array.jl:930 [inlined]\" role=\"graphics-symbol\" aria-roledescription=\"rect mark\" d=\"M447.03999999999996,88.79999999999998h0.03600000000005821v7.200000000000017h-0.03600000000005821Z\" fill=\"#4c78a8\" fill-opacity=\"1\" stroke=\"#505050\" stroke-width=\"0\"/><path aria-label=\"x1: 11176; x2: 11176.9; level: 39; level2: 39.9; status: Default; sf: getindex at essentials.jl:917 [inlined]\" role=\"graphics-symbol\" aria-roledescription=\"rect mark\" d=\"M447.03999999999996,80.80000000000003h0.03600000000005821v7.19999999999996h-0.03600000000005821Z\" fill=\"#4c78a8\" fill-opacity=\"1\" stroke=\"#505050\" stroke-width=\"0\"/><path aria-label=\"x1: 11177; x2: 11180.9; level: 36; level2: 36.9; status: Default; sf: _getindex at broadcast.jl:675 [inlined]\" role=\"graphics-symbol\" aria-roledescription=\"rect mark\" d=\"M447.08,104.80000000000001h0.1560000000000059v7.200000000000003h-0.1560000000000059Z\" fill=\"#4c78a8\" fill-opacity=\"1\" stroke=\"#505050\" stroke-width=\"0\"/><path aria-label=\"x1: 11177; x2: 11180.9; level: 37; level2: 37.9; status: Default; sf: _broadcast_getindex at broadcast.jl:644 [inlined]\" role=\"graphics-symbol\" aria-roledescription=\"rect mark\" d=\"M447.08,96.8h0.1560000000000059v7.200000000000003h-0.1560000000000059Z\" fill=\"#4c78a8\" fill-opacity=\"1\" stroke=\"#505050\" stroke-width=\"0\"/><path aria-label=\"x1: 11177; x2: 11180.9; level: 38; level2: 38.9; status: Default; sf: getindex at multidimensional.jl:702 [inlined]\" role=\"graphics-symbol\" aria-roledescription=\"rect mark\" d=\"M447.08,88.79999999999998h0.1560000000000059v7.200000000000017h-0.1560000000000059Z\" fill=\"#4c78a8\" fill-opacity=\"1\" stroke=\"#505050\" stroke-width=\"0\"/><path aria-label=\"x1: 11177; x2: 11180.9; level: 39; level2: 39.9; status: Default; sf: getindex at array.jl:930 [inlined]\" role=\"graphics-symbol\" aria-roledescription=\"rect mark\" d=\"M447.08,80.80000000000003h0.1560000000000059v7.19999999999996h-0.1560000000000059Z\" fill=\"#4c78a8\" fill-opacity=\"1\" stroke=\"#505050\" stroke-width=\"0\"/><path aria-label=\"x1: 11177; x2: 11180.9; level: 40; level2: 40.9; status: Default; sf: getindex at essentials.jl:917 [inlined]\" role=\"graphics-symbol\" aria-roledescription=\"rect mark\" d=\"M447.08,72.80000000000003h0.1560000000000059v7.19999999999996h-0.1560000000000059Z\" fill=\"#4c78a8\" fill-opacity=\"1\" stroke=\"#505050\" stroke-width=\"0\"/><path aria-label=\"x1: 11181; x2: 11185.9; level: 34; level2: 34.9; status: Default; sf: _broadcast_getindex at broadcast.jl:651 [inlined]\" role=\"graphics-symbol\" aria-roledescription=\"rect mark\" d=\"M447.24,120.80000000000001h0.19599999999996953v7.199999999999974h-0.19599999999996953Z\" fill=\"#4c78a8\" fill-opacity=\"1\" stroke=\"#505050\" stroke-width=\"0\"/><path aria-label=\"x1: 11181; x2: 11185.9; level: 35; level2: 35.9; status: Default; sf: _broadcast_getindex_evalf at broadcast.jl:678 [inlined]\" role=\"graphics-symbol\" aria-roledescription=\"rect mark\" d=\"M447.24,112.80000000000001h0.19599999999996953v7.200000000000003h-0.19599999999996953Z\" fill=\"#4c78a8\" fill-opacity=\"1\" stroke=\"#505050\" stroke-width=\"0\"/><path aria-label=\"x1: 11181; x2: 11185.9; level: 36; level2: 36.9; status: Default; sf: - at complex.jl:298 [inlined]\" role=\"graphics-symbol\" aria-roledescription=\"rect mark\" d=\"M447.24,104.80000000000001h0.19599999999996953v7.200000000000003h-0.19599999999996953Z\" fill=\"#4c78a8\" fill-opacity=\"1\" stroke=\"#505050\" stroke-width=\"0\"/><path aria-label=\"x1: 11181; x2: 11185.9; level: 37; level2: 37.9; status: Default; sf: - at float.jl:492 [inlined]\" role=\"graphics-symbol\" aria-roledescription=\"rect mark\" d=\"M447.24,96.8h0.19599999999996953v7.200000000000003h-0.19599999999996953Z\" fill=\"#4c78a8\" fill-opacity=\"1\" stroke=\"#505050\" stroke-width=\"0\"/><path aria-label=\"x1: 11186; x2: 11197.9; level: 33; level2: 33.9; status: Default; sf: setindex! at multidimensional.jl:704 [inlined]\" role=\"graphics-symbol\" aria-roledescription=\"rect mark\" d=\"M447.44,128.8h0.47600000000005593v7.199999999999989h-0.47600000000005593Z\" fill=\"#4c78a8\" fill-opacity=\"1\" stroke=\"#505050\" stroke-width=\"0\"/><path aria-label=\"x1: 11186; x2: 11197.9; level: 34; level2: 34.9; status: Default; sf: setindex! at array.jl:994 [inlined]\" role=\"graphics-symbol\" aria-roledescription=\"rect mark\" d=\"M447.44,120.80000000000001h0.47600000000005593v7.199999999999974h-0.47600000000005593Z\" fill=\"#4c78a8\" fill-opacity=\"1\" stroke=\"#505050\" stroke-width=\"0\"/><path aria-label=\"x1: 11198; x2: 11204.9; level: 29; level2: 29.9; status: Default; sf: similar at broadcast.jl:223 [inlined]\" role=\"graphics-symbol\" aria-roledescription=\"rect mark\" d=\"M447.91999999999996,160.8h0.27600000000001046v7.200000000000017h-0.27600000000001046Z\" fill=\"#4c78a8\" fill-opacity=\"1\" stroke=\"#505050\" stroke-width=\"0\"/><path aria-label=\"x1: 11198; x2: 11204.9; level: 30; level2: 30.9; status: Default; sf: similar at broadcast.jl:224 [inlined]\" role=\"graphics-symbol\" aria-roledescription=\"rect mark\" d=\"M447.91999999999996,152.8h0.27600000000001046v7.199999999999989h-0.27600000000001046Z\" fill=\"#4c78a8\" fill-opacity=\"1\" stroke=\"#505050\" stroke-width=\"0\"/><path aria-label=\"x1: 11198; x2: 11204.9; level: 31; level2: 31.9; status: Default; sf: similar at abstractarray.jl:867 [inlined]\" role=\"graphics-symbol\" aria-roledescription=\"rect mark\" d=\"M447.91999999999996,144.79999999999998h0.27600000000001046v7.200000000000017h-0.27600000000001046Z\" fill=\"#4c78a8\" fill-opacity=\"1\" stroke=\"#505050\" stroke-width=\"0\"/><path aria-label=\"x1: 11198; x2: 11204.9; level: 32; level2: 32.9; status: Default; sf: similar at abstractarray.jl:868 [inlined]\" role=\"graphics-symbol\" aria-roledescription=\"rect mark\" d=\"M447.91999999999996,136.80000000000004h0.27600000000001046v7.19999999999996h-0.27600000000001046Z\" fill=\"#4c78a8\" fill-opacity=\"1\" stroke=\"#505050\" stroke-width=\"0\"/><path aria-label=\"x1: 11198; x2: 11204.9; level: 33; level2: 33.9; status: Default; sf: Array at boot.jl:599 [inlined]\" role=\"graphics-symbol\" aria-roledescription=\"rect mark\" d=\"M447.91999999999996,128.8h0.27600000000001046v7.199999999999989h-0.27600000000001046Z\" fill=\"#4c78a8\" fill-opacity=\"1\" stroke=\"#505050\" stroke-width=\"0\"/><path aria-label=\"x1: 11198; x2: 11204.9; level: 34; level2: 34.9; status: Default; sf: Array at boot.jl:592 [inlined]\" role=\"graphics-symbol\" aria-roledescription=\"rect mark\" d=\"M447.91999999999996,120.80000000000001h0.27600000000001046v7.199999999999974h-0.27600000000001046Z\" fill=\"#4c78a8\" fill-opacity=\"1\" stroke=\"#505050\" stroke-width=\"0\"/><path aria-label=\"x1: 11198; x2: 11204.9; level: 35; level2: 35.9; status: Default; sf: Array at boot.jl:582 [inlined]\" role=\"graphics-symbol\" aria-roledescription=\"rect mark\" d=\"M447.91999999999996,112.80000000000001h0.27600000000001046v7.200000000000003h-0.27600000000001046Z\" fill=\"#4c78a8\" fill-opacity=\"1\" stroke=\"#505050\" stroke-width=\"0\"/><path aria-label=\"x1: 11198; x2: 11204.9; level: 36; level2: 36.9; status: Default; sf: new_as_memoryref at boot.jl:535 [inlined]\" role=\"graphics-symbol\" aria-roledescription=\"rect mark\" d=\"M447.91999999999996,104.80000000000001h0.27600000000001046v7.200000000000003h-0.27600000000001046Z\" fill=\"#4c78a8\" fill-opacity=\"1\" stroke=\"#505050\" stroke-width=\"0\"/><path aria-label=\"x1: 11198; x2: 11204.9; level: 37; level2: 37.9; status: Garbage collection; sf: GenericMemory at boot.jl:516 [inlined]\" role=\"graphics-symbol\" aria-roledescription=\"rect mark\" d=\"M447.91999999999996,96.8h0.27600000000001046v7.200000000000003h-0.27600000000001046Z\" fill=\"#f58518\" fill-opacity=\"1\" stroke=\"#505050\" stroke-width=\"0\"/><path aria-label=\"x1: 11205; x2: 11767.9; level: 25; level2: 25.9; status: Default; sf: * at matmul.jl:130 [inlined]\" role=\"graphics-symbol\" aria-roledescription=\"rect mark\" d=\"M448.20000000000005,192.79999999999998h22.515999999999963v7.200000000000017h-22.515999999999963Z\" fill=\"#4c78a8\" fill-opacity=\"1\" stroke=\"#505050\" stroke-width=\"0\"/><path aria-label=\"x1: 11205; x2: 11248.9; level: 26; level2: 26.9; status: Default; sf: similar at array.jl:372 [inlined]\" role=\"graphics-symbol\" aria-roledescription=\"rect mark\" d=\"M448.20000000000005,184.80000000000004h1.755999999999915v7.19999999999996h-1.755999999999915Z\" fill=\"#4c78a8\" fill-opacity=\"1\" stroke=\"#505050\" stroke-width=\"0\"/><path aria-label=\"x1: 11205; x2: 11248.9; level: 27; level2: 27.9; status: Default; sf: Array at boot.jl:592 [inlined]\" role=\"graphics-symbol\" aria-roledescription=\"rect mark\" d=\"M448.20000000000005,176.8h1.755999999999915v7.199999999999989h-1.755999999999915Z\" fill=\"#4c78a8\" fill-opacity=\"1\" stroke=\"#505050\" stroke-width=\"0\"/><path aria-label=\"x1: 11205; x2: 11248.9; level: 28; level2: 28.9; status: Default; sf: Array at boot.jl:582 [inlined]\" role=\"graphics-symbol\" aria-roledescription=\"rect mark\" d=\"M448.20000000000005,168.8h1.755999999999915v7.19999999999996h-1.755999999999915Z\" fill=\"#4c78a8\" fill-opacity=\"1\" stroke=\"#505050\" stroke-width=\"0\"/><path aria-label=\"x1: 11205; x2: 11248.9; level: 29; level2: 29.9; status: Default; sf: new_as_memoryref at boot.jl:535 [inlined]\" role=\"graphics-symbol\" aria-roledescription=\"rect mark\" d=\"M448.20000000000005,160.8h1.755999999999915v7.200000000000017h-1.755999999999915Z\" fill=\"#4c78a8\" fill-opacity=\"1\" stroke=\"#505050\" stroke-width=\"0\"/><path aria-label=\"x1: 11205; x2: 11248.9; level: 30; level2: 30.9; status: Garbage collection; sf: GenericMemory at boot.jl:516 [inlined]\" role=\"graphics-symbol\" aria-roledescription=\"rect mark\" d=\"M448.20000000000005,152.8h1.755999999999915v7.199999999999989h-1.755999999999915Z\" fill=\"#f58518\" fill-opacity=\"1\" stroke=\"#505050\" stroke-width=\"0\"/><path aria-label=\"x1: 11249; x2: 11767.9; level: 26; level2: 26.9; status: Default; sf: mul! at matmul.jl:253 [inlined]\" role=\"graphics-symbol\" aria-roledescription=\"rect mark\" d=\"M449.96,184.80000000000004h20.75600000000003v7.19999999999996h-20.75600000000003Z\" fill=\"#4c78a8\" fill-opacity=\"1\" stroke=\"#505050\" stroke-width=\"0\"/><path aria-label=\"x1: 11249; x2: 11767.9; level: 27; level2: 27.9; status: Default; sf: mul! at matmul.jl:285 [inlined]\" role=\"graphics-symbol\" aria-roledescription=\"rect mark\" d=\"M449.96,176.8h20.75600000000003v7.199999999999989h-20.75600000000003Z\" fill=\"#4c78a8\" fill-opacity=\"1\" stroke=\"#505050\" stroke-width=\"0\"/><path aria-label=\"x1: 11249; x2: 11767.9; level: 28; level2: 28.9; status: Default; sf: _mul! at matmul.jl:287 [inlined]\" role=\"graphics-symbol\" aria-roledescription=\"rect mark\" d=\"M449.96,168.8h20.75600000000003v7.19999999999996h-20.75600000000003Z\" fill=\"#4c78a8\" fill-opacity=\"1\" stroke=\"#505050\" stroke-width=\"0\"/><path aria-label=\"x1: 11249; x2: 11767.9; level: 29; level2: 29.9; status: Default; sf: generic_matmatmul! at matmul.jl:381 [inlined]\" role=\"graphics-symbol\" aria-roledescription=\"rect mark\" d=\"M449.96,160.8h20.75600000000003v7.200000000000017h-20.75600000000003Z\" fill=\"#4c78a8\" fill-opacity=\"1\" stroke=\"#505050\" stroke-width=\"0\"/><path aria-label=\"x1: 11249; x2: 11767.9; level: 30; level2: 30.9; status: Default; sf: gemm_wrapper!(C::Matrix{ComplexF64}, tA::Char, tB::Char, A::Matrix{ComplexF64}, B::Matrix{ComplexF64}, _add::LinearAlgebra.MulAddMul{true, true, Bool, Bool}) at matmul.jl:657\" role=\"graphics-symbol\" aria-roledescription=\"rect mark\" d=\"M449.96,152.8h20.75600000000003v7.199999999999989h-20.75600000000003Z\" fill=\"#4c78a8\" fill-opacity=\"1\" stroke=\"#505050\" stroke-width=\"0\"/><path aria-label=\"x1: 11249; x2: 11767.9; level: 31; level2: 31.9; status: Default; sf: gemm!(transA::Char, transB::Char, alpha::ComplexF64, A::Matrix{ComplexF64}, B::Matrix{ComplexF64}, beta::ComplexF64, C::Matrix{ComplexF64}) at blas.jl:1644\" role=\"graphics-symbol\" aria-roledescription=\"rect mark\" d=\"M449.96,144.79999999999998h20.75600000000003v7.200000000000017h-20.75600000000003Z\" fill=\"#4c78a8\" fill-opacity=\"1\" stroke=\"#505050\" stroke-width=\"0\"/><path aria-label=\"x1: 11768; x2: 11775.9; level: 24; level2: 24.9; status: Default; sf: value_and_gradient(f::ArraySignalProcessing.MyLeastSquares{ComplexF64, Matrix{ComplexF64}, Matrix{ComplexF64}}, x::Matrix{ComplexF64}) at lasso.jl:50\" role=\"graphics-symbol\" aria-roledescription=\"rect mark\" d=\"M470.72,200.8h0.31599999999991724v7.199999999999989h-0.31599999999991724Z\" fill=\"#4c78a8\" fill-opacity=\"1\" stroke=\"#505050\" stroke-width=\"0\"/><path aria-label=\"x1: 11768; x2: 11775.9; level: 25; level2: 25.9; status: Default; sf: sum at reducedim.jl:983 [inlined]\" role=\"graphics-symbol\" aria-roledescription=\"rect mark\" d=\"M470.72,192.79999999999998h0.31599999999991724v7.200000000000017h-0.31599999999991724Z\" fill=\"#4c78a8\" fill-opacity=\"1\" stroke=\"#505050\" stroke-width=\"0\"/><path aria-label=\"x1: 11768; x2: 11775.9; level: 26; level2: 26.9; status: Default; sf: #sum#936 at reducedim.jl:983 [inlined]\" role=\"graphics-symbol\" aria-roledescription=\"rect mark\" d=\"M470.72,184.80000000000004h0.31599999999991724v7.19999999999996h-0.31599999999991724Z\" fill=\"#4c78a8\" fill-opacity=\"1\" stroke=\"#505050\" stroke-width=\"0\"/><path aria-label=\"x1: 11768; x2: 11775.9; level: 27; level2: 27.9; status: Default; sf: _sum at reducedim.jl:987 [inlined]\" role=\"graphics-symbol\" aria-roledescription=\"rect mark\" d=\"M470.72,176.8h0.31599999999991724v7.199999999999989h-0.31599999999991724Z\" fill=\"#4c78a8\" fill-opacity=\"1\" stroke=\"#505050\" stroke-width=\"0\"/><path aria-label=\"x1: 11768; x2: 11775.9; level: 28; level2: 28.9; status: Default; sf: #_sum#938 at reducedim.jl:987 [inlined]\" role=\"graphics-symbol\" aria-roledescription=\"rect mark\" d=\"M470.72,168.8h0.31599999999991724v7.19999999999996h-0.31599999999991724Z\" fill=\"#4c78a8\" fill-opacity=\"1\" stroke=\"#505050\" stroke-width=\"0\"/><path aria-label=\"x1: 11768; x2: 11775.9; level: 29; level2: 29.9; status: Default; sf: mapreduce at reducedim.jl:329 [inlined]\" role=\"graphics-symbol\" aria-roledescription=\"rect mark\" d=\"M470.72,160.8h0.31599999999991724v7.200000000000017h-0.31599999999991724Z\" fill=\"#4c78a8\" fill-opacity=\"1\" stroke=\"#505050\" stroke-width=\"0\"/><path aria-label=\"x1: 11768; x2: 11775.9; level: 30; level2: 30.9; status: Default; sf: #mapreduce#928 at reducedim.jl:329 [inlined]\" role=\"graphics-symbol\" aria-roledescription=\"rect mark\" d=\"M470.72,152.8h0.31599999999991724v7.199999999999989h-0.31599999999991724Z\" fill=\"#4c78a8\" fill-opacity=\"1\" stroke=\"#505050\" stroke-width=\"0\"/><path aria-label=\"x1: 11768; x2: 11775.9; level: 31; level2: 31.9; status: Default; sf: _mapreduce_dim at reducedim.jl:337 [inlined]\" role=\"graphics-symbol\" aria-roledescription=\"rect mark\" d=\"M470.72,144.79999999999998h0.31599999999991724v7.200000000000017h-0.31599999999991724Z\" fill=\"#4c78a8\" fill-opacity=\"1\" stroke=\"#505050\" stroke-width=\"0\"/><path aria-label=\"x1: 11768; x2: 11775.9; level: 32; level2: 32.9; status: Default; sf: _mapreduce(f::typeof(abs2), op::typeof(Base.add_sum), ::IndexLinear, A::Matrix{ComplexF64}) at reduce.jl:444\" role=\"graphics-symbol\" aria-roledescription=\"rect mark\" d=\"M470.72,136.80000000000004h0.31599999999991724v7.19999999999996h-0.31599999999991724Z\" fill=\"#4c78a8\" fill-opacity=\"1\" stroke=\"#505050\" stroke-width=\"0\"/><path aria-label=\"x1: 11768; x2: 11775.9; level: 33; level2: 33.9; status: Default; sf: mapreduce_impl at reduce.jl:277 [inlined]\" role=\"graphics-symbol\" aria-roledescription=\"rect mark\" d=\"M470.72,128.8h0.31599999999991724v7.199999999999989h-0.31599999999991724Z\" fill=\"#4c78a8\" fill-opacity=\"1\" stroke=\"#505050\" stroke-width=\"0\"/><path aria-label=\"x1: 11768; x2: 11768.9; level: 34; level2: 34.9; status: Default; sf: mapreduce_impl(f::typeof(abs2), op::typeof(Base.add_sum), A::Matrix{ComplexF64}, ifirst::Int64, ilast::Int64, blksize::Int64) at reduce.jl:253\" role=\"graphics-symbol\" aria-roledescription=\"rect mark\" d=\"M470.72,120.80000000000001h0.03599999999994452v7.199999999999974h-0.03599999999994452Z\" fill=\"#4c78a8\" fill-opacity=\"1\" stroke=\"#505050\" stroke-width=\"0\"/><path aria-label=\"x1: 11769; x2: 11771.9; level: 34; level2: 34.9; status: Default; sf: mapreduce_impl(f::typeof(abs2), op::typeof(Base.add_sum), A::Matrix{ComplexF64}, ifirst::Int64, ilast::Int64, blksize::Int64) at reduce.jl:271\" role=\"graphics-symbol\" aria-roledescription=\"rect mark\" d=\"M470.76000000000005,120.80000000000001h0.1159999999999286v7.199999999999974h-0.1159999999999286Z\" fill=\"#4c78a8\" fill-opacity=\"1\" stroke=\"#505050\" stroke-width=\"0\"/><path aria-label=\"x1: 11769; x2: 11769.9; level: 35; level2: 35.9; status: Default; sf: mapreduce_impl(f::typeof(abs2), op::typeof(Base.add_sum), A::Matrix{ComplexF64}, ifirst::Int64, ilast::Int64, blksize::Int64) at reduce.jl:271\" role=\"graphics-symbol\" aria-roledescription=\"rect mark\" d=\"M470.76000000000005,112.80000000000001h0.03599999999994452v7.200000000000003h-0.03599999999994452Z\" fill=\"#4c78a8\" fill-opacity=\"1\" stroke=\"#505050\" stroke-width=\"0\"/><path aria-label=\"x1: 11769; x2: 11769.9; level: 36; level2: 36.9; status: Default; sf: mapreduce_impl(f::typeof(abs2), op::typeof(Base.add_sum), A::Matrix{ComplexF64}, ifirst::Int64, ilast::Int64, blksize::Int64) at reduce.jl:263\" role=\"graphics-symbol\" aria-roledescription=\"rect mark\" d=\"M470.76000000000005,104.80000000000001h0.03599999999994452v7.200000000000003h-0.03599999999994452Z\" fill=\"#4c78a8\" fill-opacity=\"1\" stroke=\"#505050\" stroke-width=\"0\"/><path aria-label=\"x1: 11769; x2: 11769.9; level: 37; level2: 37.9; status: Default; sf: macro expansion at simdloop.jl:78 [inlined]\" role=\"graphics-symbol\" aria-roledescription=\"rect mark\" d=\"M470.76000000000005,96.8h0.03599999999994452v7.200000000000003h-0.03599999999994452Z\" fill=\"#4c78a8\" fill-opacity=\"1\" stroke=\"#505050\" stroke-width=\"0\"/><path aria-label=\"x1: 11769; x2: 11769.9; level: 38; level2: 38.9; status: Default; sf: + at int.jl:87 [inlined]\" role=\"graphics-symbol\" aria-roledescription=\"rect mark\" d=\"M470.76000000000005,88.79999999999998h0.03599999999994452v7.200000000000017h-0.03599999999994452Z\" fill=\"#4c78a8\" fill-opacity=\"1\" stroke=\"#505050\" stroke-width=\"0\"/><path aria-label=\"x1: 11770; x2: 11771.9; level: 35; level2: 35.9; status: Default; sf: mapreduce_impl(f::typeof(abs2), op::typeof(Base.add_sum), A::Matrix{ComplexF64}, ifirst::Int64, ilast::Int64, blksize::Int64) at reduce.jl:272\" role=\"graphics-symbol\" aria-roledescription=\"rect mark\" d=\"M470.8,112.80000000000001h0.07599999999996498v7.200000000000003h-0.07599999999996498Z\" fill=\"#4c78a8\" fill-opacity=\"1\" stroke=\"#505050\" stroke-width=\"0\"/><path aria-label=\"x1: 11770; x2: 11771.9; level: 36; level2: 36.9; status: Default; sf: mapreduce_impl(f::typeof(abs2), op::typeof(Base.add_sum), A::Matrix{ComplexF64}, ifirst::Int64, ilast::Int64, blksize::Int64) at reduce.jl:263\" role=\"graphics-symbol\" aria-roledescription=\"rect mark\" d=\"M470.8,104.80000000000001h0.07599999999996498v7.200000000000003h-0.07599999999996498Z\" fill=\"#4c78a8\" fill-opacity=\"1\" stroke=\"#505050\" stroke-width=\"0\"/><path aria-label=\"x1: 11770; x2: 11771.9; level: 37; level2: 37.9; status: Default; sf: macro expansion at simdloop.jl:77 [inlined]\" role=\"graphics-symbol\" aria-roledescription=\"rect mark\" d=\"M470.8,96.8h0.07599999999996498v7.200000000000003h-0.07599999999996498Z\" fill=\"#4c78a8\" fill-opacity=\"1\" stroke=\"#505050\" stroke-width=\"0\"/><path aria-label=\"x1: 11770; x2: 11771.9; level: 38; level2: 38.9; status: Default; sf: macro expansion at reduce.jl:264 [inlined]\" role=\"graphics-symbol\" aria-roledescription=\"rect mark\" d=\"M470.8,88.79999999999998h0.07599999999996498v7.200000000000017h-0.07599999999996498Z\" fill=\"#4c78a8\" fill-opacity=\"1\" stroke=\"#505050\" stroke-width=\"0\"/><path aria-label=\"x1: 11770; x2: 11771.9; level: 39; level2: 39.9; status: Default; sf: getindex at essentials.jl:917 [inlined]\" role=\"graphics-symbol\" aria-roledescription=\"rect mark\" d=\"M470.8,80.80000000000003h0.07599999999996498v7.19999999999996h-0.07599999999996498Z\" fill=\"#4c78a8\" fill-opacity=\"1\" stroke=\"#505050\" stroke-width=\"0\"/><path aria-label=\"x1: 11772; x2: 11775.9; level: 34; level2: 34.9; status: Default; sf: mapreduce_impl(f::typeof(abs2), op::typeof(Base.add_sum), A::Matrix{ComplexF64}, ifirst::Int64, ilast::Int64, blksize::Int64) at reduce.jl:272\" role=\"graphics-symbol\" aria-roledescription=\"rect mark\" d=\"M470.88,120.80000000000001h0.15599999999994907v7.199999999999974h-0.15599999999994907Z\" fill=\"#4c78a8\" fill-opacity=\"1\" stroke=\"#505050\" stroke-width=\"0\"/><path aria-label=\"x1: 11772; x2: 11774.9; level: 35; level2: 35.9; status: Default; sf: mapreduce_impl(f::typeof(abs2), op::typeof(Base.add_sum), A::Matrix{ComplexF64}, ifirst::Int64, ilast::Int64, blksize::Int64) at reduce.jl:271\" role=\"graphics-symbol\" aria-roledescription=\"rect mark\" d=\"M470.88,112.80000000000001h0.11599999999998545v7.200000000000003h-0.11599999999998545Z\" fill=\"#4c78a8\" fill-opacity=\"1\" stroke=\"#505050\" stroke-width=\"0\"/><path aria-label=\"x1: 11772; x2: 11774.9; level: 36; level2: 36.9; status: Default; sf: mapreduce_impl(f::typeof(abs2), op::typeof(Base.add_sum), A::Matrix{ComplexF64}, ifirst::Int64, ilast::Int64, blksize::Int64) at reduce.jl:263\" role=\"graphics-symbol\" aria-roledescription=\"rect mark\" d=\"M470.88,104.80000000000001h0.11599999999998545v7.200000000000003h-0.11599999999998545Z\" fill=\"#4c78a8\" fill-opacity=\"1\" stroke=\"#505050\" stroke-width=\"0\"/><path aria-label=\"x1: 11772; x2: 11773.9; level: 37; level2: 37.9; status: Default; sf: macro expansion at simdloop.jl:77 [inlined]\" role=\"graphics-symbol\" aria-roledescription=\"rect mark\" d=\"M470.88,96.8h0.07599999999996498v7.200000000000003h-0.07599999999996498Z\" fill=\"#4c78a8\" fill-opacity=\"1\" stroke=\"#505050\" stroke-width=\"0\"/><path aria-label=\"x1: 11772; x2: 11772.9; level: 38; level2: 38.9; status: Default; sf: macro expansion at reduce.jl:264 [inlined]\" role=\"graphics-symbol\" aria-roledescription=\"rect mark\" d=\"M470.88,88.79999999999998h0.036000000000001364v7.200000000000017h-0.036000000000001364Z\" fill=\"#4c78a8\" fill-opacity=\"1\" stroke=\"#505050\" stroke-width=\"0\"/><path aria-label=\"x1: 11772; x2: 11772.9; level: 39; level2: 39.9; status: Default; sf: getindex at essentials.jl:917 [inlined]\" role=\"graphics-symbol\" aria-roledescription=\"rect mark\" d=\"M470.88,80.80000000000003h0.036000000000001364v7.19999999999996h-0.036000000000001364Z\" fill=\"#4c78a8\" fill-opacity=\"1\" stroke=\"#505050\" stroke-width=\"0\"/><path aria-label=\"x1: 11773; x2: 11773.9; level: 38; level2: 38.9; status: Default; sf: macro expansion at reduce.jl:265 [inlined]\" role=\"graphics-symbol\" aria-roledescription=\"rect mark\" d=\"M470.92,88.79999999999998h0.03599999999994452v7.200000000000017h-0.03599999999994452Z\" fill=\"#4c78a8\" fill-opacity=\"1\" stroke=\"#505050\" stroke-width=\"0\"/><path aria-label=\"x1: 11773; x2: 11773.9; level: 39; level2: 39.9; status: Default; sf: add_sum at reduce.jl:27 [inlined]\" role=\"graphics-symbol\" aria-roledescription=\"rect mark\" d=\"M470.92,80.80000000000003h0.03599999999994452v7.19999999999996h-0.03599999999994452Z\" fill=\"#4c78a8\" fill-opacity=\"1\" stroke=\"#505050\" stroke-width=\"0\"/><path aria-label=\"x1: 11773; x2: 11773.9; level: 40; level2: 40.9; status: Default; sf: + at float.jl:491 [inlined]\" role=\"graphics-symbol\" aria-roledescription=\"rect mark\" d=\"M470.92,72.80000000000003h0.03599999999994452v7.19999999999996h-0.03599999999994452Z\" fill=\"#4c78a8\" fill-opacity=\"1\" stroke=\"#505050\" stroke-width=\"0\"/><path aria-label=\"x1: 11774; x2: 11774.9; level: 37; level2: 37.9; status: Default; sf: macro expansion at simdloop.jl:78 [inlined]\" role=\"graphics-symbol\" aria-roledescription=\"rect mark\" d=\"M470.96,96.8h0.036000000000001364v7.200000000000003h-0.036000000000001364Z\" fill=\"#4c78a8\" fill-opacity=\"1\" stroke=\"#505050\" stroke-width=\"0\"/><path aria-label=\"x1: 11774; x2: 11774.9; level: 38; level2: 38.9; status: Default; sf: + at int.jl:87 [inlined]\" role=\"graphics-symbol\" aria-roledescription=\"rect mark\" d=\"M470.96,88.79999999999998h0.036000000000001364v7.200000000000017h-0.036000000000001364Z\" fill=\"#4c78a8\" fill-opacity=\"1\" stroke=\"#505050\" stroke-width=\"0\"/><path aria-label=\"x1: 11775; x2: 11775.9; level: 35; level2: 35.9; status: Default; sf: mapreduce_impl(f::typeof(abs2), op::typeof(Base.add_sum), A::Matrix{ComplexF64}, ifirst::Int64, ilast::Int64, blksize::Int64) at reduce.jl:272\" role=\"graphics-symbol\" aria-roledescription=\"rect mark\" d=\"M471,112.80000000000001h0.03599999999994452v7.200000000000003h-0.03599999999994452Z\" fill=\"#4c78a8\" fill-opacity=\"1\" stroke=\"#505050\" stroke-width=\"0\"/><path aria-label=\"x1: 11775; x2: 11775.9; level: 36; level2: 36.9; status: Default; sf: mapreduce_impl(f::typeof(abs2), op::typeof(Base.add_sum), A::Matrix{ComplexF64}, ifirst::Int64, ilast::Int64, blksize::Int64) at reduce.jl:263\" role=\"graphics-symbol\" aria-roledescription=\"rect mark\" d=\"M471,104.80000000000001h0.03599999999994452v7.200000000000003h-0.03599999999994452Z\" fill=\"#4c78a8\" fill-opacity=\"1\" stroke=\"#505050\" stroke-width=\"0\"/><path aria-label=\"x1: 11775; x2: 11775.9; level: 37; level2: 37.9; status: Default; sf: macro expansion at simdloop.jl:77 [inlined]\" role=\"graphics-symbol\" aria-roledescription=\"rect mark\" d=\"M471,96.8h0.03599999999994452v7.200000000000003h-0.03599999999994452Z\" fill=\"#4c78a8\" fill-opacity=\"1\" stroke=\"#505050\" stroke-width=\"0\"/><path aria-label=\"x1: 11775; x2: 11775.9; level: 38; level2: 38.9; status: Default; sf: macro expansion at reduce.jl:265 [inlined]\" role=\"graphics-symbol\" aria-roledescription=\"rect mark\" d=\"M471,88.79999999999998h0.03599999999994452v7.200000000000017h-0.03599999999994452Z\" fill=\"#4c78a8\" fill-opacity=\"1\" stroke=\"#505050\" stroke-width=\"0\"/><path aria-label=\"x1: 11775; x2: 11775.9; level: 39; level2: 39.9; status: Default; sf: add_sum at reduce.jl:27 [inlined]\" role=\"graphics-symbol\" aria-roledescription=\"rect mark\" d=\"M471,80.80000000000003h0.03599999999994452v7.19999999999996h-0.03599999999994452Z\" fill=\"#4c78a8\" fill-opacity=\"1\" stroke=\"#505050\" stroke-width=\"0\"/><path aria-label=\"x1: 11775; x2: 11775.9; level: 40; level2: 40.9; status: Default; sf: + at float.jl:491 [inlined]\" role=\"graphics-symbol\" aria-roledescription=\"rect mark\" d=\"M471,72.80000000000003h0.03599999999994452v7.19999999999996h-0.03599999999994452Z\" fill=\"#4c78a8\" fill-opacity=\"1\" stroke=\"#505050\" stroke-width=\"0\"/><path aria-label=\"x1: 11776; x2: 13575.9; level: 24; level2: 24.9; status: Default; sf: value_and_gradient(f::ArraySignalProcessing.MyLeastSquares{ComplexF64, Matrix{ComplexF64}, Matrix{ComplexF64}}, x::Matrix{ComplexF64}) at lasso.jl:51\" role=\"graphics-symbol\" aria-roledescription=\"rect mark\" d=\"M471.03999999999996,200.8h71.9960000000001v7.199999999999989h-71.9960000000001Z\" fill=\"#4c78a8\" fill-opacity=\"1\" stroke=\"#505050\" stroke-width=\"0\"/><path aria-label=\"x1: 11776; x2: 13575.9; level: 25; level2: 25.9; status: Default; sf: * at matmul.jl:130 [inlined]\" role=\"graphics-symbol\" aria-roledescription=\"rect mark\" d=\"M471.03999999999996,192.79999999999998h71.9960000000001v7.200000000000017h-71.9960000000001Z\" fill=\"#4c78a8\" fill-opacity=\"1\" stroke=\"#505050\" stroke-width=\"0\"/><path aria-label=\"x1: 11776; x2: 12975.9; level: 26; level2: 26.9; status: Default; sf: similar at array.jl:372 [inlined]\" role=\"graphics-symbol\" aria-roledescription=\"rect mark\" d=\"M471.03999999999996,184.80000000000004h47.996000000000095v7.19999999999996h-47.996000000000095Z\" fill=\"#4c78a8\" fill-opacity=\"1\" stroke=\"#505050\" stroke-width=\"0\"/><path aria-label=\"x1: 11776; x2: 12975.9; level: 27; level2: 27.9; status: Default; sf: Array at boot.jl:592 [inlined]\" role=\"graphics-symbol\" aria-roledescription=\"rect mark\" d=\"M471.03999999999996,176.8h47.996000000000095v7.199999999999989h-47.996000000000095Z\" fill=\"#4c78a8\" fill-opacity=\"1\" stroke=\"#505050\" stroke-width=\"0\"/><path aria-label=\"x1: 11776; x2: 12975.9; level: 28; level2: 28.9; status: Default; sf: Array at boot.jl:582 [inlined]\" role=\"graphics-symbol\" aria-roledescription=\"rect mark\" d=\"M471.03999999999996,168.8h47.996000000000095v7.19999999999996h-47.996000000000095Z\" fill=\"#4c78a8\" fill-opacity=\"1\" stroke=\"#505050\" stroke-width=\"0\"/><path aria-label=\"x1: 11776; x2: 12975.9; level: 29; level2: 29.9; status: Default; sf: new_as_memoryref at boot.jl:535 [inlined]\" role=\"graphics-symbol\" aria-roledescription=\"rect mark\" d=\"M471.03999999999996,160.8h47.996000000000095v7.200000000000017h-47.996000000000095Z\" fill=\"#4c78a8\" fill-opacity=\"1\" stroke=\"#505050\" stroke-width=\"0\"/><path aria-label=\"x1: 11776; x2: 12975.9; level: 30; level2: 30.9; status: Garbage collection; sf: GenericMemory at boot.jl:516 [inlined]\" role=\"graphics-symbol\" aria-roledescription=\"rect mark\" d=\"M471.03999999999996,152.8h47.996000000000095v7.199999999999989h-47.996000000000095Z\" fill=\"#f58518\" fill-opacity=\"1\" stroke=\"#505050\" stroke-width=\"0\"/><path aria-label=\"x1: 12976; x2: 13575.9; level: 26; level2: 26.9; status: Default; sf: mul! at matmul.jl:253 [inlined]\" role=\"graphics-symbol\" aria-roledescription=\"rect mark\" d=\"M519.0400000000001,184.80000000000004h23.99599999999998v7.19999999999996h-23.99599999999998Z\" fill=\"#4c78a8\" fill-opacity=\"1\" stroke=\"#505050\" stroke-width=\"0\"/><path aria-label=\"x1: 12976; x2: 13575.9; level: 27; level2: 27.9; status: Default; sf: mul! at matmul.jl:285 [inlined]\" role=\"graphics-symbol\" aria-roledescription=\"rect mark\" d=\"M519.0400000000001,176.8h23.99599999999998v7.199999999999989h-23.99599999999998Z\" fill=\"#4c78a8\" fill-opacity=\"1\" stroke=\"#505050\" stroke-width=\"0\"/><path aria-label=\"x1: 12976; x2: 13575.9; level: 28; level2: 28.9; status: Default; sf: _mul! at matmul.jl:287 [inlined]\" role=\"graphics-symbol\" aria-roledescription=\"rect mark\" d=\"M519.0400000000001,168.8h23.99599999999998v7.19999999999996h-23.99599999999998Z\" fill=\"#4c78a8\" fill-opacity=\"1\" stroke=\"#505050\" stroke-width=\"0\"/><path aria-label=\"x1: 12976; x2: 13575.9; level: 29; level2: 29.9; status: Default; sf: generic_matmatmul! at matmul.jl:381 [inlined]\" role=\"graphics-symbol\" aria-roledescription=\"rect mark\" d=\"M519.0400000000001,160.8h23.99599999999998v7.200000000000017h-23.99599999999998Z\" fill=\"#4c78a8\" fill-opacity=\"1\" stroke=\"#505050\" stroke-width=\"0\"/><path aria-label=\"x1: 12976; x2: 13575.9; level: 30; level2: 30.9; status: Default; sf: gemm_wrapper!(C::Matrix{ComplexF64}, tA::Char, tB::Char, A::Matrix{ComplexF64}, B::Matrix{ComplexF64}, _add::LinearAlgebra.MulAddMul{true, true, Bool, Bool}) at matmul.jl:657\" role=\"graphics-symbol\" aria-roledescription=\"rect mark\" d=\"M519.0400000000001,152.8h23.99599999999998v7.199999999999989h-23.99599999999998Z\" fill=\"#4c78a8\" fill-opacity=\"1\" stroke=\"#505050\" stroke-width=\"0\"/><path aria-label=\"x1: 12976; x2: 13575.9; level: 31; level2: 31.9; status: Default; sf: gemm!(transA::Char, transB::Char, alpha::ComplexF64, A::Matrix{ComplexF64}, B::Matrix{ComplexF64}, beta::ComplexF64, C::Matrix{ComplexF64}) at blas.jl:1644\" role=\"graphics-symbol\" aria-roledescription=\"rect mark\" d=\"M519.0400000000001,144.79999999999998h23.99599999999998v7.200000000000017h-23.99599999999998Z\" fill=\"#4c78a8\" fill-opacity=\"1\" stroke=\"#505050\" stroke-width=\"0\"/><path aria-label=\"x1: 13576; x2: 14146.9; level: 23; level2: 23.9; status: Default; sf: iterate(iter::ProximalAlgorithms.FastForwardBackwardIteration{Float64, Matrix{ComplexF64}, ArraySignalProcessing.MyLeastSquares{ComplexF64, Matrix{ComplexF64}, Matrix{ComplexF64}}, ArraySignalProcessing.MyNormL21{Float64, Int64}, Nothing, Nothing, Nothing}, state::ProximalAlgorithms.FastForwardBackwardState{Float64, Matrix{ComplexF64}, ProximalAlgorithms.AdaptiveNesterovSequence{Float64}}) at fast_forward_backward.jl:139\" role=\"graphics-symbol\" aria-roledescription=\"rect mark\" d=\"M543.04,208.8h22.836000000000013v7.199999999999989h-22.836000000000013Z\" fill=\"#4c78a8\" fill-opacity=\"1\" stroke=\"#505050\" stroke-width=\"0\"/><path aria-label=\"x1: 13576; x2: 13576.9; level: 24; level2: 24.9; status: Default; sf: dotgetproperty at Base.jl:56 [inlined]\" role=\"graphics-symbol\" aria-roledescription=\"rect mark\" d=\"M543.04,200.8h0.03600000000005821v7.199999999999989h-0.03600000000005821Z\" fill=\"#4c78a8\" fill-opacity=\"1\" stroke=\"#505050\" stroke-width=\"0\"/><path aria-label=\"x1: 13576; x2: 13576.9; level: 25; level2: 25.9; status: Default; sf: getproperty at Base.jl:49 [inlined]\" role=\"graphics-symbol\" aria-roledescription=\"rect mark\" d=\"M543.04,192.79999999999998h0.03600000000005821v7.200000000000017h-0.03600000000005821Z\" fill=\"#4c78a8\" fill-opacity=\"1\" stroke=\"#505050\" stroke-width=\"0\"/><path aria-label=\"x1: 13577; x2: 14146.9; level: 24; level2: 24.9; status: Default; sf: materialize! at broadcast.jl:880 [inlined]\" role=\"graphics-symbol\" aria-roledescription=\"rect mark\" d=\"M543.0799999999999,200.8h22.79600000000005v7.199999999999989h-22.79600000000005Z\" fill=\"#4c78a8\" fill-opacity=\"1\" stroke=\"#505050\" stroke-width=\"0\"/><path aria-label=\"x1: 13577; x2: 14146.9; level: 25; level2: 25.9; status: Default; sf: materialize! at broadcast.jl:883 [inlined]\" role=\"graphics-symbol\" aria-roledescription=\"rect mark\" d=\"M543.0799999999999,192.79999999999998h22.79600000000005v7.200000000000017h-22.79600000000005Z\" fill=\"#4c78a8\" fill-opacity=\"1\" stroke=\"#505050\" stroke-width=\"0\"/><path aria-label=\"x1: 13577; x2: 14146.9; level: 26; level2: 26.9; status: Default; sf: copyto! at broadcast.jl:925 [inlined]\" role=\"graphics-symbol\" aria-roledescription=\"rect mark\" d=\"M543.0799999999999,184.80000000000004h22.79600000000005v7.19999999999996h-22.79600000000005Z\" fill=\"#4c78a8\" fill-opacity=\"1\" stroke=\"#505050\" stroke-width=\"0\"/><path aria-label=\"x1: 13577; x2: 14146.9; level: 27; level2: 27.9; status: Default; sf: copyto! at broadcast.jl:966 [inlined]\" role=\"graphics-symbol\" aria-roledescription=\"rect mark\" d=\"M543.0799999999999,176.8h22.79600000000005v7.199999999999989h-22.79600000000005Z\" fill=\"#4c78a8\" fill-opacity=\"1\" stroke=\"#505050\" stroke-width=\"0\"/><path aria-label=\"x1: 13577; x2: 14146.9; level: 28; level2: 28.9; status: Default; sf: copyto! at array.jl:322 [inlined]\" role=\"graphics-symbol\" aria-roledescription=\"rect mark\" d=\"M543.0799999999999,168.8h22.79600000000005v7.19999999999996h-22.79600000000005Z\" fill=\"#4c78a8\" fill-opacity=\"1\" stroke=\"#505050\" stroke-width=\"0\"/><path aria-label=\"x1: 13577; x2: 14146.9; level: 29; level2: 29.9; status: Default; sf: copyto! at array.jl:299 [inlined]\" role=\"graphics-symbol\" aria-roledescription=\"rect mark\" d=\"M543.0799999999999,160.8h22.79600000000005v7.200000000000017h-22.79600000000005Z\" fill=\"#4c78a8\" fill-opacity=\"1\" stroke=\"#505050\" stroke-width=\"0\"/><path aria-label=\"x1: 13577; x2: 14146.9; level: 30; level2: 30.9; status: Default; sf: _copyto_impl! at array.jl:308 [inlined]\" role=\"graphics-symbol\" aria-roledescription=\"rect mark\" d=\"M543.0799999999999,152.8h22.79600000000005v7.199999999999989h-22.79600000000005Z\" fill=\"#4c78a8\" fill-opacity=\"1\" stroke=\"#505050\" stroke-width=\"0\"/><path aria-label=\"x1: 13577; x2: 14146.9; level: 31; level2: 31.9; status: Default; sf: unsafe_copyto! at genericmemory.jl:121 [inlined]\" role=\"graphics-symbol\" aria-roledescription=\"rect mark\" d=\"M543.0799999999999,144.79999999999998h22.79600000000005v7.200000000000017h-22.79600000000005Z\" fill=\"#4c78a8\" fill-opacity=\"1\" stroke=\"#505050\" stroke-width=\"0\"/><path aria-label=\"x1: 13577; x2: 14146.9; level: 32; level2: 32.9; status: Default; sf: memmove at cmem.jl:28 [inlined]\" role=\"graphics-symbol\" aria-roledescription=\"rect mark\" d=\"M543.0799999999999,136.80000000000004h22.79600000000005v7.19999999999996h-22.79600000000005Z\" fill=\"#4c78a8\" fill-opacity=\"1\" stroke=\"#505050\" stroke-width=\"0\"/><path aria-label=\"x1: 14147; x2: 15656.9; level: 23; level2: 23.9; status: Default; sf: iterate(iter::ProximalAlgorithms.FastForwardBackwardIteration{Float64, Matrix{ComplexF64}, ArraySignalProcessing.MyLeastSquares{ComplexF64, Matrix{ComplexF64}, Matrix{ComplexF64}}, ArraySignalProcessing.MyNormL21{Float64, Int64}, Nothing, Nothing, Nothing}, state::ProximalAlgorithms.FastForwardBackwardState{Float64, Matrix{ComplexF64}, ProximalAlgorithms.AdaptiveNesterovSequence{Float64}}) at fast_forward_backward.jl:140\" role=\"graphics-symbol\" aria-roledescription=\"rect mark\" d=\"M565.88,208.8h60.39600000000007v7.199999999999989h-60.39600000000007Z\" fill=\"#4c78a8\" fill-opacity=\"1\" stroke=\"#505050\" stroke-width=\"0\"/><path aria-label=\"x1: 14147; x2: 14148.9; level: 24; level2: 24.9; status: Default; sf: dotgetproperty at Base.jl:56 [inlined]\" role=\"graphics-symbol\" aria-roledescription=\"rect mark\" d=\"M565.88,200.8h0.07600000000002183v7.199999999999989h-0.07600000000002183Z\" fill=\"#4c78a8\" fill-opacity=\"1\" stroke=\"#505050\" stroke-width=\"0\"/><path aria-label=\"x1: 14147; x2: 14148.9; level: 25; level2: 25.9; status: Default; sf: getproperty at Base.jl:49 [inlined]\" role=\"graphics-symbol\" aria-roledescription=\"rect mark\" d=\"M565.88,192.79999999999998h0.07600000000002183v7.200000000000017h-0.07600000000002183Z\" fill=\"#4c78a8\" fill-opacity=\"1\" stroke=\"#505050\" stroke-width=\"0\"/><path aria-label=\"x1: 14149; x2: 15656.9; level: 24; level2: 24.9; status: Default; sf: materialize! at broadcast.jl:880 [inlined]\" role=\"graphics-symbol\" aria-roledescription=\"rect mark\" d=\"M565.96,200.8h60.31600000000003v7.199999999999989h-60.31600000000003Z\" fill=\"#4c78a8\" fill-opacity=\"1\" stroke=\"#505050\" stroke-width=\"0\"/><path aria-label=\"x1: 14149; x2: 15656.9; level: 25; level2: 25.9; status: Default; sf: materialize! at broadcast.jl:883 [inlined]\" role=\"graphics-symbol\" aria-roledescription=\"rect mark\" d=\"M565.96,192.79999999999998h60.31600000000003v7.200000000000017h-60.31600000000003Z\" fill=\"#4c78a8\" fill-opacity=\"1\" stroke=\"#505050\" stroke-width=\"0\"/><path aria-label=\"x1: 14149; x2: 15656.9; level: 26; level2: 26.9; status: Default; sf: copyto! at broadcast.jl:925 [inlined]\" role=\"graphics-symbol\" aria-roledescription=\"rect mark\" d=\"M565.96,184.80000000000004h60.31600000000003v7.19999999999996h-60.31600000000003Z\" fill=\"#4c78a8\" fill-opacity=\"1\" stroke=\"#505050\" stroke-width=\"0\"/><path aria-label=\"x1: 14149; x2: 14151.9; level: 27; level2: 27.9; status: Default; sf: copyto! at broadcast.jl:969 [inlined]\" role=\"graphics-symbol\" aria-roledescription=\"rect mark\" d=\"M565.96,176.8h0.11599999999998545v7.199999999999989h-0.11599999999998545Z\" fill=\"#4c78a8\" fill-opacity=\"1\" stroke=\"#505050\" stroke-width=\"0\"/><path aria-label=\"x1: 14149; x2: 14151.9; level: 28; level2: 28.9; status: Default; sf: preprocess at broadcast.jl:952 [inlined]\" role=\"graphics-symbol\" aria-roledescription=\"rect mark\" d=\"M565.96,168.8h0.11599999999998545v7.19999999999996h-0.11599999999998545Z\" fill=\"#4c78a8\" fill-opacity=\"1\" stroke=\"#505050\" stroke-width=\"0\"/><path aria-label=\"x1: 14149; x2: 14151.9; level: 29; level2: 29.9; status: Default; sf: preprocess_args at broadcast.jl:955 [inlined]\" role=\"graphics-symbol\" aria-roledescription=\"rect mark\" d=\"M565.96,160.8h0.11599999999998545v7.200000000000017h-0.11599999999998545Z\" fill=\"#4c78a8\" fill-opacity=\"1\" stroke=\"#505050\" stroke-width=\"0\"/><path aria-label=\"x1: 14149; x2: 14149.9; level: 30; level2: 30.9; status: Default; sf: preprocess at broadcast.jl:953 [inlined]\" role=\"graphics-symbol\" aria-roledescription=\"rect mark\" d=\"M565.96,152.8h0.03599999999994452v7.199999999999989h-0.03599999999994452Z\" fill=\"#4c78a8\" fill-opacity=\"1\" stroke=\"#505050\" stroke-width=\"0\"/><path aria-label=\"x1: 14149; x2: 14149.9; level: 31; level2: 31.9; status: Default; sf: broadcast_unalias at broadcast.jl:946 [inlined]\" role=\"graphics-symbol\" aria-roledescription=\"rect mark\" d=\"M565.96,144.79999999999998h0.03599999999994452v7.200000000000017h-0.03599999999994452Z\" fill=\"#4c78a8\" fill-opacity=\"1\" stroke=\"#505050\" stroke-width=\"0\"/><path aria-label=\"x1: 14149; x2: 14149.9; level: 32; level2: 32.9; status: Default; sf: unalias at abstractarray.jl:1500 [inlined]\" role=\"graphics-symbol\" aria-roledescription=\"rect mark\" d=\"M565.96,136.80000000000004h0.03599999999994452v7.19999999999996h-0.03599999999994452Z\" fill=\"#4c78a8\" fill-opacity=\"1\" stroke=\"#505050\" stroke-width=\"0\"/><path aria-label=\"x1: 14149; x2: 14149.9; level: 33; level2: 33.9; status: Default; sf: mightalias at abstractarray.jl:1537 [inlined]\" role=\"graphics-symbol\" aria-roledescription=\"rect mark\" d=\"M565.96,128.8h0.03599999999994452v7.199999999999989h-0.03599999999994452Z\" fill=\"#4c78a8\" fill-opacity=\"1\" stroke=\"#505050\" stroke-width=\"0\"/><path aria-label=\"x1: 14150; x2: 14151.9; level: 30; level2: 30.9; status: Default; sf: preprocess_args at broadcast.jl:956 [inlined]\" role=\"graphics-symbol\" aria-roledescription=\"rect mark\" d=\"M566,152.8h0.07600000000002183v7.199999999999989h-0.07600000000002183Z\" fill=\"#4c78a8\" fill-opacity=\"1\" stroke=\"#505050\" stroke-width=\"0\"/><path aria-label=\"x1: 14150; x2: 14151.9; level: 31; level2: 31.9; status: Default; sf: preprocess at broadcast.jl:952 [inlined]\" role=\"graphics-symbol\" aria-roledescription=\"rect mark\" d=\"M566,144.79999999999998h0.07600000000002183v7.200000000000017h-0.07600000000002183Z\" fill=\"#4c78a8\" fill-opacity=\"1\" stroke=\"#505050\" stroke-width=\"0\"/><path aria-label=\"x1: 14150; x2: 14151.9; level: 32; level2: 32.9; status: Default; sf: preprocess_args at broadcast.jl:955 [inlined]\" role=\"graphics-symbol\" aria-roledescription=\"rect mark\" d=\"M566,136.80000000000004h0.07600000000002183v7.19999999999996h-0.07600000000002183Z\" fill=\"#4c78a8\" fill-opacity=\"1\" stroke=\"#505050\" stroke-width=\"0\"/><path aria-label=\"x1: 14150; x2: 14151.9; level: 33; level2: 33.9; status: Default; sf: preprocess_args at broadcast.jl:956 [inlined]\" role=\"graphics-symbol\" aria-roledescription=\"rect mark\" d=\"M566,128.8h0.07600000000002183v7.199999999999989h-0.07600000000002183Z\" fill=\"#4c78a8\" fill-opacity=\"1\" stroke=\"#505050\" stroke-width=\"0\"/><path aria-label=\"x1: 14150; x2: 14151.9; level: 34; level2: 34.9; status: Default; sf: preprocess at broadcast.jl:953 [inlined]\" role=\"graphics-symbol\" aria-roledescription=\"rect mark\" d=\"M566,120.80000000000001h0.07600000000002183v7.199999999999974h-0.07600000000002183Z\" fill=\"#4c78a8\" fill-opacity=\"1\" stroke=\"#505050\" stroke-width=\"0\"/><path aria-label=\"x1: 14150; x2: 14151.9; level: 35; level2: 35.9; status: Default; sf: extrude at broadcast.jl:645 [inlined]\" role=\"graphics-symbol\" aria-roledescription=\"rect mark\" d=\"M566,112.80000000000001h0.07600000000002183v7.200000000000003h-0.07600000000002183Z\" fill=\"#4c78a8\" fill-opacity=\"1\" stroke=\"#505050\" stroke-width=\"0\"/><path aria-label=\"x1: 14150; x2: 14151.9; level: 36; level2: 36.9; status: Default; sf: newindexer at broadcast.jl:598 [inlined]\" role=\"graphics-symbol\" aria-roledescription=\"rect mark\" d=\"M566,104.80000000000001h0.07600000000002183v7.200000000000003h-0.07600000000002183Z\" fill=\"#4c78a8\" fill-opacity=\"1\" stroke=\"#505050\" stroke-width=\"0\"/><path aria-label=\"x1: 14150; x2: 14151.9; level: 37; level2: 37.9; status: Default; sf: shapeindexer at broadcast.jl:599 [inlined]\" role=\"graphics-symbol\" aria-roledescription=\"rect mark\" d=\"M566,96.8h0.07600000000002183v7.200000000000003h-0.07600000000002183Z\" fill=\"#4c78a8\" fill-opacity=\"1\" stroke=\"#505050\" stroke-width=\"0\"/><path aria-label=\"x1: 14150; x2: 14150.9; level: 38; level2: 38.9; status: Default; sf: _newindexer at broadcast.jl:603 [inlined]\" role=\"graphics-symbol\" aria-roledescription=\"rect mark\" d=\"M566,88.79999999999998h0.03599999999994452v7.200000000000017h-0.03599999999994452Z\" fill=\"#4c78a8\" fill-opacity=\"1\" stroke=\"#505050\" stroke-width=\"0\"/><path aria-label=\"x1: 14150; x2: 14150.9; level: 39; level2: 39.9; status: Default; sf: _newindexer at broadcast.jl:604 [inlined]\" role=\"graphics-symbol\" aria-roledescription=\"rect mark\" d=\"M566,80.80000000000003h0.03599999999994452v7.19999999999996h-0.03599999999994452Z\" fill=\"#4c78a8\" fill-opacity=\"1\" stroke=\"#505050\" stroke-width=\"0\"/><path aria-label=\"x1: 14150; x2: 14150.9; level: 40; level2: 40.9; status: Default; sf: != at operators.jl:277 [inlined]\" role=\"graphics-symbol\" aria-roledescription=\"rect mark\" d=\"M566,72.80000000000003h0.03599999999994452v7.19999999999996h-0.03599999999994452Z\" fill=\"#4c78a8\" fill-opacity=\"1\" stroke=\"#505050\" stroke-width=\"0\"/><path aria-label=\"x1: 14150; x2: 14150.9; level: 41; level2: 41.9; status: Default; sf: == at promotion.jl:639 [inlined]\" role=\"graphics-symbol\" aria-roledescription=\"rect mark\" d=\"M566,64.80000000000001h0.03599999999994452v7.200000000000003h-0.03599999999994452Z\" fill=\"#4c78a8\" fill-opacity=\"1\" stroke=\"#505050\" stroke-width=\"0\"/><path aria-label=\"x1: 14151; x2: 14151.9; level: 38; level2: 38.9; status: Default; sf: _newindexer at broadcast.jl:604 [inlined]\" role=\"graphics-symbol\" aria-roledescription=\"rect mark\" d=\"M566.04,88.79999999999998h0.03600000000005821v7.200000000000017h-0.03600000000005821Z\" fill=\"#4c78a8\" fill-opacity=\"1\" stroke=\"#505050\" stroke-width=\"0\"/><path aria-label=\"x1: 14151; x2: 14151.9; level: 39; level2: 39.9; status: Default; sf: != at operators.jl:277 [inlined]\" role=\"graphics-symbol\" aria-roledescription=\"rect mark\" d=\"M566.04,80.80000000000003h0.03600000000005821v7.19999999999996h-0.03600000000005821Z\" fill=\"#4c78a8\" fill-opacity=\"1\" stroke=\"#505050\" stroke-width=\"0\"/><path aria-label=\"x1: 14151; x2: 14151.9; level: 40; level2: 40.9; status: Default; sf: == at promotion.jl:639 [inlined]\" role=\"graphics-symbol\" aria-roledescription=\"rect mark\" d=\"M566.04,72.80000000000003h0.03600000000005821v7.19999999999996h-0.03600000000005821Z\" fill=\"#4c78a8\" fill-opacity=\"1\" stroke=\"#505050\" stroke-width=\"0\"/><path aria-label=\"x1: 14152; x2: 15656.9; level: 27; level2: 27.9; status: Default; sf: copyto! at broadcast.jl:972 [inlined]\" role=\"graphics-symbol\" aria-roledescription=\"rect mark\" d=\"M566.08,176.8h60.196000000000026v7.199999999999989h-60.196000000000026Z\" fill=\"#4c78a8\" fill-opacity=\"1\" stroke=\"#505050\" stroke-width=\"0\"/><path aria-label=\"x1: 14152; x2: 14165.9; level: 28; level2: 28.9; status: Default; sf: macro expansion at simdloop.jl:0 [inlined]\" role=\"graphics-symbol\" aria-roledescription=\"rect mark\" d=\"M566.08,168.8h0.5559999999999263v7.19999999999996h-0.5559999999999263Z\" fill=\"#4c78a8\" fill-opacity=\"1\" stroke=\"#505050\" stroke-width=\"0\"/><path aria-label=\"x1: 14166; x2: 14166.9; level: 28; level2: 28.9; status: Default; sf: macro expansion at simdloop.jl:72 [inlined]\" role=\"graphics-symbol\" aria-roledescription=\"rect mark\" d=\"M566.64,168.8h0.03600000000005821v7.19999999999996h-0.03600000000005821Z\" fill=\"#4c78a8\" fill-opacity=\"1\" stroke=\"#505050\" stroke-width=\"0\"/><path aria-label=\"x1: 14167; x2: 14176.9; level: 28; level2: 28.9; status: Default; sf: macro expansion at simdloop.jl:75 [inlined]\" role=\"graphics-symbol\" aria-roledescription=\"rect mark\" d=\"M566.6800000000001,168.8h0.3959999999998445v7.19999999999996h-0.3959999999998445Z\" fill=\"#4c78a8\" fill-opacity=\"1\" stroke=\"#505050\" stroke-width=\"0\"/><path aria-label=\"x1: 14177; x2: 15656.9; level: 28; level2: 28.9; status: Default; sf: macro expansion at simdloop.jl:77 [inlined]\" role=\"graphics-symbol\" aria-roledescription=\"rect mark\" d=\"M567.0799999999999,168.8h59.19600000000014v7.19999999999996h-59.19600000000014Z\" fill=\"#4c78a8\" fill-opacity=\"1\" stroke=\"#505050\" stroke-width=\"0\"/><path aria-label=\"x1: 14177; x2: 15656.9; level: 29; level2: 29.9; status: Default; sf: macro expansion at broadcast.jl:973 [inlined]\" role=\"graphics-symbol\" aria-roledescription=\"rect mark\" d=\"M567.0799999999999,160.8h59.19600000000014v7.200000000000017h-59.19600000000014Z\" fill=\"#4c78a8\" fill-opacity=\"1\" stroke=\"#505050\" stroke-width=\"0\"/><path aria-label=\"x1: 14177; x2: 15403.9; level: 30; level2: 30.9; status: Default; sf: getindex at broadcast.jl:610 [inlined]\" role=\"graphics-symbol\" aria-roledescription=\"rect mark\" d=\"M567.0799999999999,152.8h49.07600000000002v7.199999999999989h-49.07600000000002Z\" fill=\"#4c78a8\" fill-opacity=\"1\" stroke=\"#505050\" stroke-width=\"0\"/><path aria-label=\"x1: 14177; x2: 15362.9; level: 31; level2: 31.9; status: Default; sf: _broadcast_getindex at broadcast.jl:650 [inlined]\" role=\"graphics-symbol\" aria-roledescription=\"rect mark\" d=\"M567.0799999999999,144.79999999999998h47.436000000000035v7.200000000000017h-47.436000000000035Z\" fill=\"#4c78a8\" fill-opacity=\"1\" stroke=\"#505050\" stroke-width=\"0\"/><path aria-label=\"x1: 14177; x2: 15362.9; level: 32; level2: 32.9; status: Default; sf: _getindex at broadcast.jl:674 [inlined]\" role=\"graphics-symbol\" aria-roledescription=\"rect mark\" d=\"M567.0799999999999,136.80000000000004h47.436000000000035v7.19999999999996h-47.436000000000035Z\" fill=\"#4c78a8\" fill-opacity=\"1\" stroke=\"#505050\" stroke-width=\"0\"/><path aria-label=\"x1: 14177; x2: 14422.9; level: 33; level2: 33.9; status: Default; sf: _broadcast_getindex at broadcast.jl:644 [inlined]\" role=\"graphics-symbol\" aria-roledescription=\"rect mark\" d=\"M567.0799999999999,128.8h9.836000000000126v7.199999999999989h-9.836000000000126Z\" fill=\"#4c78a8\" fill-opacity=\"1\" stroke=\"#505050\" stroke-width=\"0\"/><path aria-label=\"x1: 14177; x2: 14422.9; level: 34; level2: 34.9; status: Default; sf: getindex at multidimensional.jl:702 [inlined]\" role=\"graphics-symbol\" aria-roledescription=\"rect mark\" d=\"M567.0799999999999,120.80000000000001h9.836000000000126v7.199999999999974h-9.836000000000126Z\" fill=\"#4c78a8\" fill-opacity=\"1\" stroke=\"#505050\" stroke-width=\"0\"/><path aria-label=\"x1: 14177; x2: 14422.9; level: 35; level2: 35.9; status: Default; sf: getindex at array.jl:930 [inlined]\" role=\"graphics-symbol\" aria-roledescription=\"rect mark\" d=\"M567.0799999999999,112.80000000000001h9.836000000000126v7.200000000000003h-9.836000000000126Z\" fill=\"#4c78a8\" fill-opacity=\"1\" stroke=\"#505050\" stroke-width=\"0\"/><path aria-label=\"x1: 14177; x2: 14205.9; level: 36; level2: 36.9; status: Default; sf: _to_linear_index at abstractarray.jl:1347 [inlined]\" role=\"graphics-symbol\" aria-roledescription=\"rect mark\" d=\"M567.0799999999999,104.80000000000001h1.1560000000000628v7.200000000000003h-1.1560000000000628Z\" fill=\"#4c78a8\" fill-opacity=\"1\" stroke=\"#505050\" stroke-width=\"0\"/><path aria-label=\"x1: 14177; x2: 14205.9; level: 37; level2: 37.9; status: Default; sf: _sub2ind at abstractarray.jl:3048 [inlined]\" role=\"graphics-symbol\" aria-roledescription=\"rect mark\" d=\"M567.0799999999999,96.8h1.1560000000000628v7.200000000000003h-1.1560000000000628Z\" fill=\"#4c78a8\" fill-opacity=\"1\" stroke=\"#505050\" stroke-width=\"0\"/><path aria-label=\"x1: 14177; x2: 14205.9; level: 38; level2: 38.9; status: Default; sf: _sub2ind at abstractarray.jl:3064 [inlined]\" role=\"graphics-symbol\" aria-roledescription=\"rect mark\" d=\"M567.0799999999999,88.79999999999998h1.1560000000000628v7.200000000000017h-1.1560000000000628Z\" fill=\"#4c78a8\" fill-opacity=\"1\" stroke=\"#505050\" stroke-width=\"0\"/><path aria-label=\"x1: 14177; x2: 14205.9; level: 39; level2: 39.9; status: Default; sf: _sub2ind_recurse at abstractarray.jl:3080 [inlined]\" role=\"graphics-symbol\" aria-roledescription=\"rect mark\" d=\"M567.0799999999999,80.80000000000003h1.1560000000000628v7.19999999999996h-1.1560000000000628Z\" fill=\"#4c78a8\" fill-opacity=\"1\" stroke=\"#505050\" stroke-width=\"0\"/><path aria-label=\"x1: 14177; x2: 14192.9; level: 40; level2: 40.9; status: Default; sf: _sub2ind_recurse at abstractarray.jl:3080 [inlined]\" role=\"graphics-symbol\" aria-roledescription=\"rect mark\" d=\"M567.0799999999999,72.80000000000003h0.636000000000081v7.19999999999996h-0.636000000000081Z\" fill=\"#4c78a8\" fill-opacity=\"1\" stroke=\"#505050\" stroke-width=\"0\"/><path aria-label=\"x1: 14177; x2: 14192.9; level: 41; level2: 41.9; status: Default; sf: * at int.jl:88 [inlined]\" role=\"graphics-symbol\" aria-roledescription=\"rect mark\" d=\"M567.0799999999999,64.80000000000001h0.636000000000081v7.200000000000003h-0.636000000000081Z\" fill=\"#4c78a8\" fill-opacity=\"1\" stroke=\"#505050\" stroke-width=\"0\"/><path aria-label=\"x1: 14193; x2: 14205.9; level: 40; level2: 40.9; status: Default; sf: + at int.jl:87 [inlined]\" role=\"graphics-symbol\" aria-roledescription=\"rect mark\" d=\"M567.72,72.80000000000003h0.5159999999999627v7.19999999999996h-0.5159999999999627Z\" fill=\"#4c78a8\" fill-opacity=\"1\" stroke=\"#505050\" stroke-width=\"0\"/><path aria-label=\"x1: 14206; x2: 14422.9; level: 36; level2: 36.9; status: Default; sf: getindex at essentials.jl:917 [inlined]\" role=\"graphics-symbol\" aria-roledescription=\"rect mark\" d=\"M568.24,104.80000000000001h8.676000000000045v7.200000000000003h-8.676000000000045Z\" fill=\"#4c78a8\" fill-opacity=\"1\" stroke=\"#505050\" stroke-width=\"0\"/><path aria-label=\"x1: 14423; x2: 15362.9; level: 33; level2: 33.9; status: Default; sf: _getindex at broadcast.jl:675 [inlined]\" role=\"graphics-symbol\" aria-roledescription=\"rect mark\" d=\"M576.92,128.8h37.596000000000004v7.199999999999989h-37.596000000000004Z\" fill=\"#4c78a8\" fill-opacity=\"1\" stroke=\"#505050\" stroke-width=\"0\"/><path aria-label=\"x1: 14423; x2: 14519.9; level: 34; level2: 34.9; status: Default; sf: _broadcast_getindex at broadcast.jl:650 [inlined]\" role=\"graphics-symbol\" aria-roledescription=\"rect mark\" d=\"M576.92,120.80000000000001h3.8759999999999764v7.199999999999974h-3.8759999999999764Z\" fill=\"#4c78a8\" fill-opacity=\"1\" stroke=\"#505050\" stroke-width=\"0\"/><path aria-label=\"x1: 14423; x2: 14519.9; level: 35; level2: 35.9; status: Default; sf: _getindex at broadcast.jl:674 [inlined]\" role=\"graphics-symbol\" aria-roledescription=\"rect mark\" d=\"M576.92,112.80000000000001h3.8759999999999764v7.200000000000003h-3.8759999999999764Z\" fill=\"#4c78a8\" fill-opacity=\"1\" stroke=\"#505050\" stroke-width=\"0\"/><path aria-label=\"x1: 14423; x2: 14519.9; level: 36; level2: 36.9; status: Default; sf: _getindex at broadcast.jl:675 [inlined]\" role=\"graphics-symbol\" aria-roledescription=\"rect mark\" d=\"M576.92,104.80000000000001h3.8759999999999764v7.200000000000003h-3.8759999999999764Z\" fill=\"#4c78a8\" fill-opacity=\"1\" stroke=\"#505050\" stroke-width=\"0\"/><path aria-label=\"x1: 14423; x2: 14519.9; level: 37; level2: 37.9; status: Default; sf: _broadcast_getindex at broadcast.jl:644 [inlined]\" role=\"graphics-symbol\" aria-roledescription=\"rect mark\" d=\"M576.92,96.8h3.8759999999999764v7.200000000000003h-3.8759999999999764Z\" fill=\"#4c78a8\" fill-opacity=\"1\" stroke=\"#505050\" stroke-width=\"0\"/><path aria-label=\"x1: 14423; x2: 14519.9; level: 38; level2: 38.9; status: Default; sf: getindex at multidimensional.jl:702 [inlined]\" role=\"graphics-symbol\" aria-roledescription=\"rect mark\" d=\"M576.92,88.79999999999998h3.8759999999999764v7.200000000000017h-3.8759999999999764Z\" fill=\"#4c78a8\" fill-opacity=\"1\" stroke=\"#505050\" stroke-width=\"0\"/><path aria-label=\"x1: 14423; x2: 14519.9; level: 39; level2: 39.9; status: Default; sf: getindex at array.jl:930 [inlined]\" role=\"graphics-symbol\" aria-roledescription=\"rect mark\" d=\"M576.92,80.80000000000003h3.8759999999999764v7.19999999999996h-3.8759999999999764Z\" fill=\"#4c78a8\" fill-opacity=\"1\" stroke=\"#505050\" stroke-width=\"0\"/><path aria-label=\"x1: 14423; x2: 14447.9; level: 40; level2: 40.9; status: Default; sf: _to_linear_index at abstractarray.jl:1347 [inlined]\" role=\"graphics-symbol\" aria-roledescription=\"rect mark\" d=\"M576.92,72.80000000000003h0.9960000000000946v7.19999999999996h-0.9960000000000946Z\" fill=\"#4c78a8\" fill-opacity=\"1\" stroke=\"#505050\" stroke-width=\"0\"/><path aria-label=\"x1: 14423; x2: 14447.9; level: 41; level2: 41.9; status: Default; sf: _sub2ind at abstractarray.jl:3048 [inlined]\" role=\"graphics-symbol\" aria-roledescription=\"rect mark\" d=\"M576.92,64.80000000000001h0.9960000000000946v7.200000000000003h-0.9960000000000946Z\" fill=\"#4c78a8\" fill-opacity=\"1\" stroke=\"#505050\" stroke-width=\"0\"/><path aria-label=\"x1: 14423; x2: 14447.9; level: 42; level2: 42.9; status: Default; sf: _sub2ind at abstractarray.jl:3064 [inlined]\" role=\"graphics-symbol\" aria-roledescription=\"rect mark\" d=\"M576.92,56.800000000000004h0.9960000000000946v7.20000000000001h-0.9960000000000946Z\" fill=\"#4c78a8\" fill-opacity=\"1\" stroke=\"#505050\" stroke-width=\"0\"/><path aria-label=\"x1: 14423; x2: 14447.9; level: 43; level2: 43.9; status: Default; sf: _sub2ind_recurse at abstractarray.jl:3080 [inlined]\" role=\"graphics-symbol\" aria-roledescription=\"rect mark\" d=\"M576.92,48.8h0.9960000000000946v7.20000000000001h-0.9960000000000946Z\" fill=\"#4c78a8\" fill-opacity=\"1\" stroke=\"#505050\" stroke-width=\"0\"/><path aria-label=\"x1: 14423; x2: 14447.9; level: 44; level2: 44.9; status: Default; sf: _sub2ind_recurse at abstractarray.jl:3080 [inlined]\" role=\"graphics-symbol\" aria-roledescription=\"rect mark\" d=\"M576.92,40.79999999999999h0.9960000000000946v7.20000000000001h-0.9960000000000946Z\" fill=\"#4c78a8\" fill-opacity=\"1\" stroke=\"#505050\" stroke-width=\"0\"/><path aria-label=\"x1: 14423; x2: 14447.9; level: 45; level2: 45.9; status: Default; sf: * at int.jl:88 [inlined]\" role=\"graphics-symbol\" aria-roledescription=\"rect mark\" d=\"M576.92,32.800000000000026h0.9960000000000946v7.199999999999967h-0.9960000000000946Z\" fill=\"#4c78a8\" fill-opacity=\"1\" stroke=\"#505050\" stroke-width=\"0\"/><path aria-label=\"x1: 14448; x2: 14519.9; level: 40; level2: 40.9; status: Default; sf: getindex at essentials.jl:917 [inlined]\" role=\"graphics-symbol\" aria-roledescription=\"rect mark\" d=\"M577.9200000000001,72.80000000000003h2.8759999999998627v7.19999999999996h-2.8759999999998627Z\" fill=\"#4c78a8\" fill-opacity=\"1\" stroke=\"#505050\" stroke-width=\"0\"/><path aria-label=\"x1: 14520; x2: 15362.9; level: 34; level2: 34.9; status: Default; sf: _broadcast_getindex at broadcast.jl:651 [inlined]\" role=\"graphics-symbol\" aria-roledescription=\"rect mark\" d=\"M580.8,120.80000000000001h33.71600000000001v7.199999999999974h-33.71600000000001Z\" fill=\"#4c78a8\" fill-opacity=\"1\" stroke=\"#505050\" stroke-width=\"0\"/><path aria-label=\"x1: 14520; x2: 15362.9; level: 35; level2: 35.9; status: Default; sf: _broadcast_getindex_evalf at broadcast.jl:678 [inlined]\" role=\"graphics-symbol\" aria-roledescription=\"rect mark\" d=\"M580.8,112.80000000000001h33.71600000000001v7.200000000000003h-33.71600000000001Z\" fill=\"#4c78a8\" fill-opacity=\"1\" stroke=\"#505050\" stroke-width=\"0\"/><path aria-label=\"x1: 14520; x2: 15362.9; level: 36; level2: 36.9; status: Default; sf: * at complex.jl:342 [inlined]\" role=\"graphics-symbol\" aria-roledescription=\"rect mark\" d=\"M580.8,104.80000000000001h33.71600000000001v7.200000000000003h-33.71600000000001Z\" fill=\"#4c78a8\" fill-opacity=\"1\" stroke=\"#505050\" stroke-width=\"0\"/><path aria-label=\"x1: 14520; x2: 15362.9; level: 37; level2: 37.9; status: Default; sf: * at float.jl:493 [inlined]\" role=\"graphics-symbol\" aria-roledescription=\"rect mark\" d=\"M580.8,96.8h33.71600000000001v7.200000000000003h-33.71600000000001Z\" fill=\"#4c78a8\" fill-opacity=\"1\" stroke=\"#505050\" stroke-width=\"0\"/><path aria-label=\"x1: 15363; x2: 15403.9; level: 31; level2: 31.9; status: Default; sf: _broadcast_getindex at broadcast.jl:651 [inlined]\" role=\"graphics-symbol\" aria-roledescription=\"rect mark\" d=\"M614.52,144.79999999999998h1.6359999999999673v7.200000000000017h-1.6359999999999673Z\" fill=\"#4c78a8\" fill-opacity=\"1\" stroke=\"#505050\" stroke-width=\"0\"/><path aria-label=\"x1: 15363; x2: 15403.9; level: 32; level2: 32.9; status: Default; sf: _broadcast_getindex_evalf at broadcast.jl:678 [inlined]\" role=\"graphics-symbol\" aria-roledescription=\"rect mark\" d=\"M614.52,136.80000000000004h1.6359999999999673v7.19999999999996h-1.6359999999999673Z\" fill=\"#4c78a8\" fill-opacity=\"1\" stroke=\"#505050\" stroke-width=\"0\"/><path aria-label=\"x1: 15363; x2: 15403.9; level: 33; level2: 33.9; status: Default; sf: - at complex.jl:298 [inlined]\" role=\"graphics-symbol\" aria-roledescription=\"rect mark\" d=\"M614.52,128.8h1.6359999999999673v7.199999999999989h-1.6359999999999673Z\" fill=\"#4c78a8\" fill-opacity=\"1\" stroke=\"#505050\" stroke-width=\"0\"/><path aria-label=\"x1: 15363; x2: 15403.9; level: 34; level2: 34.9; status: Default; sf: - at float.jl:492 [inlined]\" role=\"graphics-symbol\" aria-roledescription=\"rect mark\" d=\"M614.52,120.80000000000001h1.6359999999999673v7.199999999999974h-1.6359999999999673Z\" fill=\"#4c78a8\" fill-opacity=\"1\" stroke=\"#505050\" stroke-width=\"0\"/><path aria-label=\"x1: 15404; x2: 15656.9; level: 30; level2: 30.9; status: Default; sf: setindex! at multidimensional.jl:704 [inlined]\" role=\"graphics-symbol\" aria-roledescription=\"rect mark\" d=\"M616.16,152.8h10.1160000000001v7.199999999999989h-10.1160000000001Z\" fill=\"#4c78a8\" fill-opacity=\"1\" stroke=\"#505050\" stroke-width=\"0\"/><path aria-label=\"x1: 15404; x2: 15656.9; level: 31; level2: 31.9; status: Default; sf: setindex! at array.jl:994 [inlined]\" role=\"graphics-symbol\" aria-roledescription=\"rect mark\" d=\"M616.16,144.79999999999998h10.1160000000001v7.200000000000017h-10.1160000000001Z\" fill=\"#4c78a8\" fill-opacity=\"1\" stroke=\"#505050\" stroke-width=\"0\"/><path aria-label=\"x1: 15657; x2: 16947.9; level: 23; level2: 23.9; status: Default; sf: iterate(iter::ProximalAlgorithms.FastForwardBackwardIteration{Float64, Matrix{ComplexF64}, ArraySignalProcessing.MyLeastSquares{ComplexF64, Matrix{ComplexF64}, Matrix{ComplexF64}}, ArraySignalProcessing.MyNormL21{Float64, Int64}, Nothing, Nothing, Nothing}, state::ProximalAlgorithms.FastForwardBackwardState{Float64, Matrix{ComplexF64}, ProximalAlgorithms.AdaptiveNesterovSequence{Float64}}) at fast_forward_backward.jl:141\" role=\"graphics-symbol\" aria-roledescription=\"rect mark\" d=\"M626.2800000000001,208.8h51.63599999999997v7.199999999999989h-51.63599999999997Z\" fill=\"#4c78a8\" fill-opacity=\"1\" stroke=\"#505050\" stroke-width=\"0\"/><path aria-label=\"x1: 15657; x2: 15657.9; level: 24; level2: 24.9; status: Default; sf: prox!(Y::Matrix{ComplexF64}, f::ArraySignalProcessing.MyNormL21{Float64, Int64}, X::Matrix{ComplexF64}, gamma::Float64) at lasso.jl:23\" role=\"graphics-symbol\" aria-roledescription=\"rect mark\" d=\"M626.2800000000001,200.8h0.03599999999994452v7.199999999999989h-0.03599999999994452Z\" fill=\"#4c78a8\" fill-opacity=\"1\" stroke=\"#505050\" stroke-width=\"0\"/><path aria-label=\"x1: 15657; x2: 15657.9; level: 25; level2: 25.9; status: Default; sf: * at float.jl:493 [inlined]\" role=\"graphics-symbol\" aria-roledescription=\"rect mark\" d=\"M626.2800000000001,192.79999999999998h0.03599999999994452v7.200000000000017h-0.03599999999994452Z\" fill=\"#4c78a8\" fill-opacity=\"1\" stroke=\"#505050\" stroke-width=\"0\"/><path aria-label=\"x1: 15658; x2: 16191.9; level: 24; level2: 24.9; status: Default; sf: prox!(Y::Matrix{ComplexF64}, f::ArraySignalProcessing.MyNormL21{Float64, Int64}, X::Matrix{ComplexF64}, gamma::Float64) at lasso.jl:25\" role=\"graphics-symbol\" aria-roledescription=\"rect mark\" d=\"M626.32,200.8h21.35599999999988v7.199999999999989h-21.35599999999988Z\" fill=\"#4c78a8\" fill-opacity=\"1\" stroke=\"#505050\" stroke-width=\"0\"/><path aria-label=\"x1: 15658; x2: 15659.9; level: 25; level2: 25.9; status: Default; sf: materialize at broadcast.jl:872 [inlined]\" role=\"graphics-symbol\" aria-roledescription=\"rect mark\" d=\"M626.32,192.79999999999998h0.07599999999990814v7.200000000000017h-0.07599999999990814Z\" fill=\"#4c78a8\" fill-opacity=\"1\" stroke=\"#505050\" stroke-width=\"0\"/><path aria-label=\"x1: 15658; x2: 15659.9; level: 26; level2: 26.9; status: Default; sf: copy at broadcast.jl:897 [inlined]\" role=\"graphics-symbol\" aria-roledescription=\"rect mark\" d=\"M626.32,184.80000000000004h0.07599999999990814v7.19999999999996h-0.07599999999990814Z\" fill=\"#4c78a8\" fill-opacity=\"1\" stroke=\"#505050\" stroke-width=\"0\"/><path aria-label=\"x1: 15658; x2: 15658.9; level: 27; level2: 27.9; status: Default; sf: copyto! at broadcast.jl:925 [inlined]\" role=\"graphics-symbol\" aria-roledescription=\"rect mark\" d=\"M626.32,176.8h0.03599999999994452v7.199999999999989h-0.03599999999994452Z\" fill=\"#4c78a8\" fill-opacity=\"1\" stroke=\"#505050\" stroke-width=\"0\"/><path aria-label=\"x1: 15658; x2: 15658.9; level: 28; level2: 28.9; status: Default; sf: copyto! at broadcast.jl:972 [inlined]\" role=\"graphics-symbol\" aria-roledescription=\"rect mark\" d=\"M626.32,168.8h0.03599999999994452v7.19999999999996h-0.03599999999994452Z\" fill=\"#4c78a8\" fill-opacity=\"1\" stroke=\"#505050\" stroke-width=\"0\"/><path aria-label=\"x1: 15658; x2: 15658.9; level: 29; level2: 29.9; status: Default; sf: macro expansion at simdloop.jl:77 [inlined]\" role=\"graphics-symbol\" aria-roledescription=\"rect mark\" d=\"M626.32,160.8h0.03599999999994452v7.200000000000017h-0.03599999999994452Z\" fill=\"#4c78a8\" fill-opacity=\"1\" stroke=\"#505050\" stroke-width=\"0\"/><path aria-label=\"x1: 15658; x2: 15658.9; level: 30; level2: 30.9; status: Default; sf: macro expansion at broadcast.jl:973 [inlined]\" role=\"graphics-symbol\" aria-roledescription=\"rect mark\" d=\"M626.32,152.8h0.03599999999994452v7.199999999999989h-0.03599999999994452Z\" fill=\"#4c78a8\" fill-opacity=\"1\" stroke=\"#505050\" stroke-width=\"0\"/><path aria-label=\"x1: 15658; x2: 15658.9; level: 31; level2: 31.9; status: Default; sf: setindex! at multidimensional.jl:704 [inlined]\" role=\"graphics-symbol\" aria-roledescription=\"rect mark\" d=\"M626.32,144.79999999999998h0.03599999999994452v7.200000000000017h-0.03599999999994452Z\" fill=\"#4c78a8\" fill-opacity=\"1\" stroke=\"#505050\" stroke-width=\"0\"/><path aria-label=\"x1: 15658; x2: 15658.9; level: 32; level2: 32.9; status: Default; sf: setindex! at array.jl:994 [inlined]\" role=\"graphics-symbol\" aria-roledescription=\"rect mark\" d=\"M626.32,136.80000000000004h0.03599999999994452v7.19999999999996h-0.03599999999994452Z\" fill=\"#4c78a8\" fill-opacity=\"1\" stroke=\"#505050\" stroke-width=\"0\"/><path aria-label=\"x1: 15659; x2: 15659.9; level: 27; level2: 27.9; status: Default; sf: similar at broadcast.jl:223 [inlined]\" role=\"graphics-symbol\" aria-roledescription=\"rect mark\" d=\"M626.36,176.8h0.03599999999994452v7.199999999999989h-0.03599999999994452Z\" fill=\"#4c78a8\" fill-opacity=\"1\" stroke=\"#505050\" stroke-width=\"0\"/><path aria-label=\"x1: 15659; x2: 15659.9; level: 28; level2: 28.9; status: Default; sf: similar at broadcast.jl:224 [inlined]\" role=\"graphics-symbol\" aria-roledescription=\"rect mark\" d=\"M626.36,168.8h0.03599999999994452v7.19999999999996h-0.03599999999994452Z\" fill=\"#4c78a8\" fill-opacity=\"1\" stroke=\"#505050\" stroke-width=\"0\"/><path aria-label=\"x1: 15659; x2: 15659.9; level: 29; level2: 29.9; status: Default; sf: similar at abstractarray.jl:867 [inlined]\" role=\"graphics-symbol\" aria-roledescription=\"rect mark\" d=\"M626.36,160.8h0.03599999999994452v7.200000000000017h-0.03599999999994452Z\" fill=\"#4c78a8\" fill-opacity=\"1\" stroke=\"#505050\" stroke-width=\"0\"/><path aria-label=\"x1: 15659; x2: 15659.9; level: 30; level2: 30.9; status: Default; sf: similar at abstractarray.jl:868 [inlined]\" role=\"graphics-symbol\" aria-roledescription=\"rect mark\" d=\"M626.36,152.8h0.03599999999994452v7.199999999999989h-0.03599999999994452Z\" fill=\"#4c78a8\" fill-opacity=\"1\" stroke=\"#505050\" stroke-width=\"0\"/><path aria-label=\"x1: 15659; x2: 15659.9; level: 31; level2: 31.9; status: Default; sf: Array at boot.jl:599 [inlined]\" role=\"graphics-symbol\" aria-roledescription=\"rect mark\" d=\"M626.36,144.79999999999998h0.03599999999994452v7.200000000000017h-0.03599999999994452Z\" fill=\"#4c78a8\" fill-opacity=\"1\" stroke=\"#505050\" stroke-width=\"0\"/><path aria-label=\"x1: 15659; x2: 15659.9; level: 32; level2: 32.9; status: Default; sf: Array at boot.jl:592 [inlined]\" role=\"graphics-symbol\" aria-roledescription=\"rect mark\" d=\"M626.36,136.80000000000004h0.03599999999994452v7.19999999999996h-0.03599999999994452Z\" fill=\"#4c78a8\" fill-opacity=\"1\" stroke=\"#505050\" stroke-width=\"0\"/><path aria-label=\"x1: 15659; x2: 15659.9; level: 33; level2: 33.9; status: Default; sf: Array at boot.jl:582 [inlined]\" role=\"graphics-symbol\" aria-roledescription=\"rect mark\" d=\"M626.36,128.8h0.03599999999994452v7.199999999999989h-0.03599999999994452Z\" fill=\"#4c78a8\" fill-opacity=\"1\" stroke=\"#505050\" stroke-width=\"0\"/><path aria-label=\"x1: 15659; x2: 15659.9; level: 34; level2: 34.9; status: Default; sf: new_as_memoryref at boot.jl:535 [inlined]\" role=\"graphics-symbol\" aria-roledescription=\"rect mark\" d=\"M626.36,120.80000000000001h0.03599999999994452v7.199999999999974h-0.03599999999994452Z\" fill=\"#4c78a8\" fill-opacity=\"1\" stroke=\"#505050\" stroke-width=\"0\"/><path aria-label=\"x1: 15659; x2: 15659.9; level: 35; level2: 35.9; status: Default; sf: GenericMemory at boot.jl:516 [inlined]\" role=\"graphics-symbol\" aria-roledescription=\"rect mark\" d=\"M626.36,112.80000000000001h0.03599999999994452v7.200000000000003h-0.03599999999994452Z\" fill=\"#4c78a8\" fill-opacity=\"1\" stroke=\"#505050\" stroke-width=\"0\"/><path aria-label=\"x1: 15660; x2: 16191.9; level: 25; level2: 25.9; status: Default; sf: sum at reducedim.jl:983 [inlined]\" role=\"graphics-symbol\" aria-roledescription=\"rect mark\" d=\"M626.4,192.79999999999998h21.275999999999954v7.200000000000017h-21.275999999999954Z\" fill=\"#4c78a8\" fill-opacity=\"1\" stroke=\"#505050\" stroke-width=\"0\"/><path aria-label=\"x1: 15660; x2: 16191.9; level: 26; level2: 26.9; status: Default; sf: #sum#936 at reducedim.jl:983 [inlined]\" role=\"graphics-symbol\" aria-roledescription=\"rect mark\" d=\"M626.4,184.80000000000004h21.275999999999954v7.19999999999996h-21.275999999999954Z\" fill=\"#4c78a8\" fill-opacity=\"1\" stroke=\"#505050\" stroke-width=\"0\"/><path aria-label=\"x1: 15660; x2: 16191.9; level: 27; level2: 27.9; status: Default; sf: _sum at reducedim.jl:1011 [inlined]\" role=\"graphics-symbol\" aria-roledescription=\"rect mark\" d=\"M626.4,176.8h21.275999999999954v7.199999999999989h-21.275999999999954Z\" fill=\"#4c78a8\" fill-opacity=\"1\" stroke=\"#505050\" stroke-width=\"0\"/><path aria-label=\"x1: 15660; x2: 16191.9; level: 28; level2: 28.9; status: Default; sf: #_sum#962 at reducedim.jl:1011 [inlined]\" role=\"graphics-symbol\" aria-roledescription=\"rect mark\" d=\"M626.4,168.8h21.275999999999954v7.19999999999996h-21.275999999999954Z\" fill=\"#4c78a8\" fill-opacity=\"1\" stroke=\"#505050\" stroke-width=\"0\"/><path aria-label=\"x1: 15660; x2: 16191.9; level: 29; level2: 29.9; status: Default; sf: mapreduce at reducedim.jl:329 [inlined]\" role=\"graphics-symbol\" aria-roledescription=\"rect mark\" d=\"M626.4,160.8h21.275999999999954v7.200000000000017h-21.275999999999954Z\" fill=\"#4c78a8\" fill-opacity=\"1\" stroke=\"#505050\" stroke-width=\"0\"/><path aria-label=\"x1: 15660; x2: 16191.9; level: 30; level2: 30.9; status: Default; sf: #mapreduce#928 at reducedim.jl:329 [inlined]\" role=\"graphics-symbol\" aria-roledescription=\"rect mark\" d=\"M626.4,152.8h21.275999999999954v7.199999999999989h-21.275999999999954Z\" fill=\"#4c78a8\" fill-opacity=\"1\" stroke=\"#505050\" stroke-width=\"0\"/><path aria-label=\"x1: 15660; x2: 16191.9; level: 31; level2: 31.9; status: Default; sf: _mapreduce_dim at reducedim.jl:343 [inlined]\" role=\"graphics-symbol\" aria-roledescription=\"rect mark\" d=\"M626.4,144.79999999999998h21.275999999999954v7.200000000000017h-21.275999999999954Z\" fill=\"#4c78a8\" fill-opacity=\"1\" stroke=\"#505050\" stroke-width=\"0\"/><path aria-label=\"x1: 15660; x2: 16187.9; level: 32; level2: 32.9; status: Default; sf: mapreducedim! at reducedim.jl:296 [inlined]\" role=\"graphics-symbol\" aria-roledescription=\"rect mark\" d=\"M626.4,136.80000000000004h21.115999999999985v7.19999999999996h-21.115999999999985Z\" fill=\"#4c78a8\" fill-opacity=\"1\" stroke=\"#505050\" stroke-width=\"0\"/><path aria-label=\"x1: 15660; x2: 16187.9; level: 33; level2: 33.9; status: Default; sf: _mapreducedim!(f::typeof(abs2), op::typeof(Base.add_sum), R::Matrix{Float64}, A::Matrix{ComplexF64}) at reducedim.jl:287\" role=\"graphics-symbol\" aria-roledescription=\"rect mark\" d=\"M626.4,128.8h21.115999999999985v7.199999999999989h-21.115999999999985Z\" fill=\"#4c78a8\" fill-opacity=\"1\" stroke=\"#505050\" stroke-width=\"0\"/><path aria-label=\"x1: 15660; x2: 15661.9; level: 34; level2: 34.9; status: Default; sf: macro expansion at simdloop.jl:75 [inlined]\" role=\"graphics-symbol\" aria-roledescription=\"rect mark\" d=\"M626.4,120.80000000000001h0.07600000000002183v7.199999999999974h-0.07600000000002183Z\" fill=\"#4c78a8\" fill-opacity=\"1\" stroke=\"#505050\" stroke-width=\"0\"/><path aria-label=\"x1: 15660; x2: 15660.9; level: 35; level2: 35.9; status: Default; sf: &lt; at int.jl:83 [inlined]\" role=\"graphics-symbol\" aria-roledescription=\"rect mark\" d=\"M626.4,112.80000000000001h0.03600000000005821v7.200000000000003h-0.03600000000005821Z\" fill=\"#4c78a8\" fill-opacity=\"1\" stroke=\"#505050\" stroke-width=\"0\"/><path aria-label=\"x1: 15662; x2: 16183.9; level: 34; level2: 34.9; status: Default; sf: macro expansion at simdloop.jl:77 [inlined]\" role=\"graphics-symbol\" aria-roledescription=\"rect mark\" d=\"M626.48,120.80000000000001h20.875999999999976v7.199999999999974h-20.875999999999976Z\" fill=\"#4c78a8\" fill-opacity=\"1\" stroke=\"#505050\" stroke-width=\"0\"/><path aria-label=\"x1: 15662; x2: 16159.9; level: 35; level2: 35.9; status: Default; sf: macro expansion at reducedim.jl:288 [inlined]\" role=\"graphics-symbol\" aria-roledescription=\"rect mark\" d=\"M626.48,112.80000000000001h19.91599999999994v7.200000000000003h-19.91599999999994Z\" fill=\"#4c78a8\" fill-opacity=\"1\" stroke=\"#505050\" stroke-width=\"0\"/><path aria-label=\"x1: 15662; x2: 15689.9; level: 36; level2: 36.9; status: Default; sf: abs2 at complex.jl:287 [inlined]\" role=\"graphics-symbol\" aria-roledescription=\"rect mark\" d=\"M626.48,104.80000000000001h1.1159999999999854v7.200000000000003h-1.1159999999999854Z\" fill=\"#4c78a8\" fill-opacity=\"1\" stroke=\"#505050\" stroke-width=\"0\"/><path aria-label=\"x1: 15662; x2: 15663.9; level: 37; level2: 37.9; status: Default; sf: * at float.jl:493 [inlined]\" role=\"graphics-symbol\" aria-roledescription=\"rect mark\" d=\"M626.48,96.8h0.07599999999990814v7.200000000000003h-0.07599999999990814Z\" fill=\"#4c78a8\" fill-opacity=\"1\" stroke=\"#505050\" stroke-width=\"0\"/><path aria-label=\"x1: 15664; x2: 15689.9; level: 37; level2: 37.9; status: Default; sf: + at float.jl:491 [inlined]\" role=\"graphics-symbol\" aria-roledescription=\"rect mark\" d=\"M626.5600000000001,96.8h1.0359999999999445v7.200000000000003h-1.0359999999999445Z\" fill=\"#4c78a8\" fill-opacity=\"1\" stroke=\"#505050\" stroke-width=\"0\"/><path aria-label=\"x1: 15690; x2: 16142.9; level: 36; level2: 36.9; status: Default; sf: getindex at multidimensional.jl:702 [inlined]\" role=\"graphics-symbol\" aria-roledescription=\"rect mark\" d=\"M627.6,104.80000000000001h18.115999999999985v7.200000000000003h-18.115999999999985Z\" fill=\"#4c78a8\" fill-opacity=\"1\" stroke=\"#505050\" stroke-width=\"0\"/><path aria-label=\"x1: 15690; x2: 16142.9; level: 37; level2: 37.9; status: Default; sf: getindex at array.jl:930 [inlined]\" role=\"graphics-symbol\" aria-roledescription=\"rect mark\" d=\"M627.6,96.8h18.115999999999985v7.200000000000003h-18.115999999999985Z\" fill=\"#4c78a8\" fill-opacity=\"1\" stroke=\"#505050\" stroke-width=\"0\"/><path aria-label=\"x1: 15690; x2: 16142.9; level: 38; level2: 38.9; status: Default; sf: getindex at essentials.jl:917 [inlined]\" role=\"graphics-symbol\" aria-roledescription=\"rect mark\" d=\"M627.6,88.79999999999998h18.115999999999985v7.200000000000017h-18.115999999999985Z\" fill=\"#4c78a8\" fill-opacity=\"1\" stroke=\"#505050\" stroke-width=\"0\"/><path aria-label=\"x1: 16143; x2: 16159.9; level: 36; level2: 36.9; status: Default; sf: add_sum at reduce.jl:27 [inlined]\" role=\"graphics-symbol\" aria-roledescription=\"rect mark\" d=\"M645.72,104.80000000000001h0.6759999999999309v7.200000000000003h-0.6759999999999309Z\" fill=\"#4c78a8\" fill-opacity=\"1\" stroke=\"#505050\" stroke-width=\"0\"/><path aria-label=\"x1: 16143; x2: 16159.9; level: 37; level2: 37.9; status: Default; sf: + at float.jl:491 [inlined]\" role=\"graphics-symbol\" aria-roledescription=\"rect mark\" d=\"M645.72,96.8h0.6759999999999309v7.200000000000003h-0.6759999999999309Z\" fill=\"#4c78a8\" fill-opacity=\"1\" stroke=\"#505050\" stroke-width=\"0\"/><path aria-label=\"x1: 16160; x2: 16183.9; level: 35; level2: 35.9; status: Default; sf: macro expansion at reducedim.jl:289 [inlined]\" role=\"graphics-symbol\" aria-roledescription=\"rect mark\" d=\"M646.4000000000001,112.80000000000001h0.9559999999999036v7.200000000000003h-0.9559999999999036Z\" fill=\"#4c78a8\" fill-opacity=\"1\" stroke=\"#505050\" stroke-width=\"0\"/><path aria-label=\"x1: 16160; x2: 16183.9; level: 36; level2: 36.9; status: Default; sf: setindex! at array.jl:994 [inlined]\" role=\"graphics-symbol\" aria-roledescription=\"rect mark\" d=\"M646.4000000000001,104.80000000000001h0.9559999999999036v7.200000000000003h-0.9559999999999036Z\" fill=\"#4c78a8\" fill-opacity=\"1\" stroke=\"#505050\" stroke-width=\"0\"/><path aria-label=\"x1: 16184; x2: 16187.9; level: 34; level2: 34.9; status: Default; sf: macro expansion at simdloop.jl:78 [inlined]\" role=\"graphics-symbol\" aria-roledescription=\"rect mark\" d=\"M647.36,120.80000000000001h0.15599999999994907v7.199999999999974h-0.15599999999994907Z\" fill=\"#4c78a8\" fill-opacity=\"1\" stroke=\"#505050\" stroke-width=\"0\"/><path aria-label=\"x1: 16184; x2: 16187.9; level: 35; level2: 35.9; status: Default; sf: + at int.jl:87 [inlined]\" role=\"graphics-symbol\" aria-roledescription=\"rect mark\" d=\"M647.36,112.80000000000001h0.15599999999994907v7.200000000000003h-0.15599999999994907Z\" fill=\"#4c78a8\" fill-opacity=\"1\" stroke=\"#505050\" stroke-width=\"0\"/><path aria-label=\"x1: 16188; x2: 16191.9; level: 32; level2: 32.9; status: Default; sf: reducedim_init at reducedim.jl:189 [inlined]\" role=\"graphics-symbol\" aria-roledescription=\"rect mark\" d=\"M647.52,136.80000000000004h0.15599999999994907v7.19999999999996h-0.15599999999994907Z\" fill=\"#4c78a8\" fill-opacity=\"1\" stroke=\"#505050\" stroke-width=\"0\"/><path aria-label=\"x1: 16188; x2: 16191.9; level: 33; level2: 33.9; status: Default; sf: reducedim_initarray at reducedim.jl:54 [inlined]\" role=\"graphics-symbol\" aria-roledescription=\"rect mark\" d=\"M647.52,128.8h0.15599999999994907v7.199999999999989h-0.15599999999994907Z\" fill=\"#4c78a8\" fill-opacity=\"1\" stroke=\"#505050\" stroke-width=\"0\"/><path aria-label=\"x1: 16188; x2: 16191.9; level: 34; level2: 34.9; status: Default; sf: reducedim_initarray(A::Matrix{ComplexF64}, region::Int64, init::Float64, ::Type{Float64}) at reducedim.jl:53\" role=\"graphics-symbol\" aria-roledescription=\"rect mark\" d=\"M647.52,120.80000000000001h0.15599999999994907v7.199999999999974h-0.15599999999994907Z\" fill=\"#4c78a8\" fill-opacity=\"1\" stroke=\"#505050\" stroke-width=\"0\"/><path aria-label=\"x1: 16188; x2: 16191.9; level: 35; level2: 35.9; status: Default; sf: similar at abstractarray.jl:830 [inlined]\" role=\"graphics-symbol\" aria-roledescription=\"rect mark\" d=\"M647.52,112.80000000000001h0.15599999999994907v7.200000000000003h-0.15599999999994907Z\" fill=\"#4c78a8\" fill-opacity=\"1\" stroke=\"#505050\" stroke-width=\"0\"/><path aria-label=\"x1: 16188; x2: 16191.9; level: 36; level2: 36.9; status: Default; sf: similar at array.jl:372 [inlined]\" role=\"graphics-symbol\" aria-roledescription=\"rect mark\" d=\"M647.52,104.80000000000001h0.15599999999994907v7.200000000000003h-0.15599999999994907Z\" fill=\"#4c78a8\" fill-opacity=\"1\" stroke=\"#505050\" stroke-width=\"0\"/><path aria-label=\"x1: 16188; x2: 16191.9; level: 37; level2: 37.9; status: Default; sf: Array at boot.jl:592 [inlined]\" role=\"graphics-symbol\" aria-roledescription=\"rect mark\" d=\"M647.52,96.8h0.15599999999994907v7.200000000000003h-0.15599999999994907Z\" fill=\"#4c78a8\" fill-opacity=\"1\" stroke=\"#505050\" stroke-width=\"0\"/><path aria-label=\"x1: 16188; x2: 16191.9; level: 38; level2: 38.9; status: Default; sf: Array at boot.jl:582 [inlined]\" role=\"graphics-symbol\" aria-roledescription=\"rect mark\" d=\"M647.52,88.79999999999998h0.15599999999994907v7.200000000000017h-0.15599999999994907Z\" fill=\"#4c78a8\" fill-opacity=\"1\" stroke=\"#505050\" stroke-width=\"0\"/><path aria-label=\"x1: 16188; x2: 16191.9; level: 39; level2: 39.9; status: Default; sf: new_as_memoryref at boot.jl:535 [inlined]\" role=\"graphics-symbol\" aria-roledescription=\"rect mark\" d=\"M647.52,80.80000000000003h0.15599999999994907v7.19999999999996h-0.15599999999994907Z\" fill=\"#4c78a8\" fill-opacity=\"1\" stroke=\"#505050\" stroke-width=\"0\"/><path aria-label=\"x1: 16188; x2: 16191.9; level: 40; level2: 40.9; status: Default; sf: GenericMemory at boot.jl:516 [inlined]\" role=\"graphics-symbol\" aria-roledescription=\"rect mark\" d=\"M647.52,72.80000000000003h0.15599999999994907v7.19999999999996h-0.15599999999994907Z\" fill=\"#4c78a8\" fill-opacity=\"1\" stroke=\"#505050\" stroke-width=\"0\"/><path aria-label=\"x1: 16192; x2: 16193.9; level: 24; level2: 24.9; status: Default; sf: prox!(Y::Matrix{ComplexF64}, f::ArraySignalProcessing.MyNormL21{Float64, Int64}, X::Matrix{ComplexF64}, gamma::Float64) at lasso.jl:26\" role=\"graphics-symbol\" aria-roledescription=\"rect mark\" d=\"M647.68,200.8h0.07600000000002183v7.199999999999989h-0.07600000000002183Z\" fill=\"#4c78a8\" fill-opacity=\"1\" stroke=\"#505050\" stroke-width=\"0\"/><path aria-label=\"x1: 16192; x2: 16193.9; level: 25; level2: 25.9; status: Default; sf: materialize at broadcast.jl:872 [inlined]\" role=\"graphics-symbol\" aria-roledescription=\"rect mark\" d=\"M647.68,192.79999999999998h0.07600000000002183v7.200000000000017h-0.07600000000002183Z\" fill=\"#4c78a8\" fill-opacity=\"1\" stroke=\"#505050\" stroke-width=\"0\"/><path aria-label=\"x1: 16192; x2: 16193.9; level: 26; level2: 26.9; status: Default; sf: copy at broadcast.jl:897 [inlined]\" role=\"graphics-symbol\" aria-roledescription=\"rect mark\" d=\"M647.68,184.80000000000004h0.07600000000002183v7.19999999999996h-0.07600000000002183Z\" fill=\"#4c78a8\" fill-opacity=\"1\" stroke=\"#505050\" stroke-width=\"0\"/><path aria-label=\"x1: 16192; x2: 16193.9; level: 27; level2: 27.9; status: Default; sf: copyto! at broadcast.jl:925 [inlined]\" role=\"graphics-symbol\" aria-roledescription=\"rect mark\" d=\"M647.68,176.8h0.07600000000002183v7.199999999999989h-0.07600000000002183Z\" fill=\"#4c78a8\" fill-opacity=\"1\" stroke=\"#505050\" stroke-width=\"0\"/><path aria-label=\"x1: 16192; x2: 16193.9; level: 28; level2: 28.9; status: Default; sf: copyto! at broadcast.jl:972 [inlined]\" role=\"graphics-symbol\" aria-roledescription=\"rect mark\" d=\"M647.68,168.8h0.07600000000002183v7.19999999999996h-0.07600000000002183Z\" fill=\"#4c78a8\" fill-opacity=\"1\" stroke=\"#505050\" stroke-width=\"0\"/><path aria-label=\"x1: 16192; x2: 16192.9; level: 29; level2: 29.9; status: Default; sf: macro expansion at simdloop.jl:75 [inlined]\" role=\"graphics-symbol\" aria-roledescription=\"rect mark\" d=\"M647.68,160.8h0.03600000000005821v7.200000000000017h-0.03600000000005821Z\" fill=\"#4c78a8\" fill-opacity=\"1\" stroke=\"#505050\" stroke-width=\"0\"/><path aria-label=\"x1: 16193; x2: 16193.9; level: 29; level2: 29.9; status: Default; sf: macro expansion at simdloop.jl:77 [inlined]\" role=\"graphics-symbol\" aria-roledescription=\"rect mark\" d=\"M647.72,160.8h0.03599999999994452v7.200000000000017h-0.03599999999994452Z\" fill=\"#4c78a8\" fill-opacity=\"1\" stroke=\"#505050\" stroke-width=\"0\"/><path aria-label=\"x1: 16193; x2: 16193.9; level: 30; level2: 30.9; status: Default; sf: macro expansion at broadcast.jl:973 [inlined]\" role=\"graphics-symbol\" aria-roledescription=\"rect mark\" d=\"M647.72,152.8h0.03599999999994452v7.199999999999989h-0.03599999999994452Z\" fill=\"#4c78a8\" fill-opacity=\"1\" stroke=\"#505050\" stroke-width=\"0\"/><path aria-label=\"x1: 16193; x2: 16193.9; level: 31; level2: 31.9; status: Default; sf: getindex at broadcast.jl:610 [inlined]\" role=\"graphics-symbol\" aria-roledescription=\"rect mark\" d=\"M647.72,144.79999999999998h0.03599999999994452v7.200000000000017h-0.03599999999994452Z\" fill=\"#4c78a8\" fill-opacity=\"1\" stroke=\"#505050\" stroke-width=\"0\"/><path aria-label=\"x1: 16193; x2: 16193.9; level: 32; level2: 32.9; status: Default; sf: _broadcast_getindex at broadcast.jl:651 [inlined]\" role=\"graphics-symbol\" aria-roledescription=\"rect mark\" d=\"M647.72,136.80000000000004h0.03599999999994452v7.19999999999996h-0.03599999999994452Z\" fill=\"#4c78a8\" fill-opacity=\"1\" stroke=\"#505050\" stroke-width=\"0\"/><path aria-label=\"x1: 16193; x2: 16193.9; level: 33; level2: 33.9; status: Default; sf: _broadcast_getindex_evalf at broadcast.jl:678 [inlined]\" role=\"graphics-symbol\" aria-roledescription=\"rect mark\" d=\"M647.72,128.8h0.03599999999994452v7.199999999999989h-0.03599999999994452Z\" fill=\"#4c78a8\" fill-opacity=\"1\" stroke=\"#505050\" stroke-width=\"0\"/><path aria-label=\"x1: 16193; x2: 16193.9; level: 34; level2: 34.9; status: Default; sf: shrink at lasso.jl:24 [inlined]\" role=\"graphics-symbol\" aria-roledescription=\"rect mark\" d=\"M647.72,120.80000000000001h0.03599999999994452v7.199999999999974h-0.03599999999994452Z\" fill=\"#4c78a8\" fill-opacity=\"1\" stroke=\"#505050\" stroke-width=\"0\"/><path aria-label=\"x1: 16193; x2: 16193.9; level: 35; level2: 35.9; status: Default; sf: max at math.jl:839 [inlined]\" role=\"graphics-symbol\" aria-roledescription=\"rect mark\" d=\"M647.72,112.80000000000001h0.03599999999994452v7.200000000000003h-0.03599999999994452Z\" fill=\"#4c78a8\" fill-opacity=\"1\" stroke=\"#505050\" stroke-width=\"0\"/><path aria-label=\"x1: 16193; x2: 16193.9; level: 36; level2: 36.9; status: Default; sf: ifelse at essentials.jl:796 [inlined]\" role=\"graphics-symbol\" aria-roledescription=\"rect mark\" d=\"M647.72,104.80000000000001h0.03599999999994452v7.200000000000003h-0.03599999999994452Z\" fill=\"#4c78a8\" fill-opacity=\"1\" stroke=\"#505050\" stroke-width=\"0\"/><path aria-label=\"x1: 16194; x2: 16942.9; level: 24; level2: 24.9; status: Default; sf: prox!(Y::Matrix{ComplexF64}, f::ArraySignalProcessing.MyNormL21{Float64, Int64}, X::Matrix{ComplexF64}, gamma::Float64) at lasso.jl:28\" role=\"graphics-symbol\" aria-roledescription=\"rect mark\" d=\"M647.76,200.8h29.956000000000017v7.199999999999989h-29.956000000000017Z\" fill=\"#4c78a8\" fill-opacity=\"1\" stroke=\"#505050\" stroke-width=\"0\"/><path aria-label=\"x1: 16194; x2: 16942.9; level: 25; level2: 25.9; status: Default; sf: materialize! at broadcast.jl:880 [inlined]\" role=\"graphics-symbol\" aria-roledescription=\"rect mark\" d=\"M647.76,192.79999999999998h29.956000000000017v7.200000000000017h-29.956000000000017Z\" fill=\"#4c78a8\" fill-opacity=\"1\" stroke=\"#505050\" stroke-width=\"0\"/><path aria-label=\"x1: 16194; x2: 16942.9; level: 26; level2: 26.9; status: Default; sf: materialize! at broadcast.jl:883 [inlined]\" role=\"graphics-symbol\" aria-roledescription=\"rect mark\" d=\"M647.76,184.80000000000004h29.956000000000017v7.19999999999996h-29.956000000000017Z\" fill=\"#4c78a8\" fill-opacity=\"1\" stroke=\"#505050\" stroke-width=\"0\"/><path aria-label=\"x1: 16194; x2: 16194.9; level: 27; level2: 27.9; status: Default; sf: axes at abstractarray.jl:98 [inlined]\" role=\"graphics-symbol\" aria-roledescription=\"rect mark\" d=\"M647.76,176.8h0.03599999999994452v7.199999999999989h-0.03599999999994452Z\" fill=\"#4c78a8\" fill-opacity=\"1\" stroke=\"#505050\" stroke-width=\"0\"/><path aria-label=\"x1: 16194; x2: 16194.9; level: 28; level2: 28.9; status: Default; sf: size at array.jl:194 [inlined]\" role=\"graphics-symbol\" aria-roledescription=\"rect mark\" d=\"M647.76,168.8h0.03599999999994452v7.19999999999996h-0.03599999999994452Z\" fill=\"#4c78a8\" fill-opacity=\"1\" stroke=\"#505050\" stroke-width=\"0\"/><path aria-label=\"x1: 16195; x2: 16941.9; level: 27; level2: 27.9; status: Default; sf: copyto! at broadcast.jl:925 [inlined]\" role=\"graphics-symbol\" aria-roledescription=\"rect mark\" d=\"M647.8,176.8h29.87600000000009v7.199999999999989h-29.87600000000009Z\" fill=\"#4c78a8\" fill-opacity=\"1\" stroke=\"#505050\" stroke-width=\"0\"/><path aria-label=\"x1: 16195; x2: 16941.9; level: 28; level2: 28.9; status: Default; sf: copyto! at broadcast.jl:972 [inlined]\" role=\"graphics-symbol\" aria-roledescription=\"rect mark\" d=\"M647.8,168.8h29.87600000000009v7.19999999999996h-29.87600000000009Z\" fill=\"#4c78a8\" fill-opacity=\"1\" stroke=\"#505050\" stroke-width=\"0\"/><path aria-label=\"x1: 16195; x2: 16204.9; level: 29; level2: 29.9; status: Default; sf: macro expansion at simdloop.jl:0 [inlined]\" role=\"graphics-symbol\" aria-roledescription=\"rect mark\" d=\"M647.8,160.8h0.39600000000007185v7.200000000000017h-0.39600000000007185Z\" fill=\"#4c78a8\" fill-opacity=\"1\" stroke=\"#505050\" stroke-width=\"0\"/><path aria-label=\"x1: 16205; x2: 16236.9; level: 29; level2: 29.9; status: Default; sf: macro expansion at simdloop.jl:75 [inlined]\" role=\"graphics-symbol\" aria-roledescription=\"rect mark\" d=\"M648.2,160.8h1.27599999999984v7.200000000000017h-1.27599999999984Z\" fill=\"#4c78a8\" fill-opacity=\"1\" stroke=\"#505050\" stroke-width=\"0\"/><path aria-label=\"x1: 16237; x2: 16940.9; level: 29; level2: 29.9; status: Default; sf: macro expansion at simdloop.jl:77 [inlined]\" role=\"graphics-symbol\" aria-roledescription=\"rect mark\" d=\"M649.48,160.8h28.156000000000063v7.200000000000017h-28.156000000000063Z\" fill=\"#4c78a8\" fill-opacity=\"1\" stroke=\"#505050\" stroke-width=\"0\"/><path aria-label=\"x1: 16237; x2: 16940.9; level: 30; level2: 30.9; status: Default; sf: macro expansion at broadcast.jl:973 [inlined]\" role=\"graphics-symbol\" aria-roledescription=\"rect mark\" d=\"M649.48,152.8h28.156000000000063v7.199999999999989h-28.156000000000063Z\" fill=\"#4c78a8\" fill-opacity=\"1\" stroke=\"#505050\" stroke-width=\"0\"/><path aria-label=\"x1: 16237; x2: 16423.9; level: 31; level2: 31.9; status: Default; sf: getindex at broadcast.jl:610 [inlined]\" role=\"graphics-symbol\" aria-roledescription=\"rect mark\" d=\"M649.48,144.79999999999998h7.476000000000113v7.200000000000017h-7.476000000000113Z\" fill=\"#4c78a8\" fill-opacity=\"1\" stroke=\"#505050\" stroke-width=\"0\"/><path aria-label=\"x1: 16237; x2: 16355.9; level: 32; level2: 32.9; status: Default; sf: _broadcast_getindex at broadcast.jl:650 [inlined]\" role=\"graphics-symbol\" aria-roledescription=\"rect mark\" d=\"M649.48,136.80000000000004h4.755999999999972v7.19999999999996h-4.755999999999972Z\" fill=\"#4c78a8\" fill-opacity=\"1\" stroke=\"#505050\" stroke-width=\"0\"/><path aria-label=\"x1: 16237; x2: 16355.9; level: 33; level2: 33.9; status: Default; sf: _getindex at broadcast.jl:674 [inlined]\" role=\"graphics-symbol\" aria-roledescription=\"rect mark\" d=\"M649.48,128.8h4.755999999999972v7.199999999999989h-4.755999999999972Z\" fill=\"#4c78a8\" fill-opacity=\"1\" stroke=\"#505050\" stroke-width=\"0\"/><path aria-label=\"x1: 16237; x2: 16355.9; level: 34; level2: 34.9; status: Default; sf: _getindex at broadcast.jl:675 [inlined]\" role=\"graphics-symbol\" aria-roledescription=\"rect mark\" d=\"M649.48,120.80000000000001h4.755999999999972v7.199999999999974h-4.755999999999972Z\" fill=\"#4c78a8\" fill-opacity=\"1\" stroke=\"#505050\" stroke-width=\"0\"/><path aria-label=\"x1: 16237; x2: 16355.9; level: 35; level2: 35.9; status: Default; sf: _broadcast_getindex at broadcast.jl:644 [inlined]\" role=\"graphics-symbol\" aria-roledescription=\"rect mark\" d=\"M649.48,112.80000000000001h4.755999999999972v7.200000000000003h-4.755999999999972Z\" fill=\"#4c78a8\" fill-opacity=\"1\" stroke=\"#505050\" stroke-width=\"0\"/><path aria-label=\"x1: 16237; x2: 16355.9; level: 36; level2: 36.9; status: Default; sf: getindex at multidimensional.jl:702 [inlined]\" role=\"graphics-symbol\" aria-roledescription=\"rect mark\" d=\"M649.48,104.80000000000001h4.755999999999972v7.200000000000003h-4.755999999999972Z\" fill=\"#4c78a8\" fill-opacity=\"1\" stroke=\"#505050\" stroke-width=\"0\"/><path aria-label=\"x1: 16237; x2: 16355.9; level: 37; level2: 37.9; status: Default; sf: getindex at array.jl:930 [inlined]\" role=\"graphics-symbol\" aria-roledescription=\"rect mark\" d=\"M649.48,96.8h4.755999999999972v7.200000000000003h-4.755999999999972Z\" fill=\"#4c78a8\" fill-opacity=\"1\" stroke=\"#505050\" stroke-width=\"0\"/><path aria-label=\"x1: 16237; x2: 16258.9; level: 38; level2: 38.9; status: Default; sf: _to_linear_index at abstractarray.jl:1347 [inlined]\" role=\"graphics-symbol\" aria-roledescription=\"rect mark\" d=\"M649.48,88.79999999999998h0.8759999999999764v7.200000000000017h-0.8759999999999764Z\" fill=\"#4c78a8\" fill-opacity=\"1\" stroke=\"#505050\" stroke-width=\"0\"/><path aria-label=\"x1: 16237; x2: 16258.9; level: 39; level2: 39.9; status: Default; sf: _sub2ind at abstractarray.jl:3048 [inlined]\" role=\"graphics-symbol\" aria-roledescription=\"rect mark\" d=\"M649.48,80.80000000000003h0.8759999999999764v7.19999999999996h-0.8759999999999764Z\" fill=\"#4c78a8\" fill-opacity=\"1\" stroke=\"#505050\" stroke-width=\"0\"/><path aria-label=\"x1: 16237; x2: 16258.9; level: 40; level2: 40.9; status: Default; sf: _sub2ind at abstractarray.jl:3064 [inlined]\" role=\"graphics-symbol\" aria-roledescription=\"rect mark\" d=\"M649.48,72.80000000000003h0.8759999999999764v7.19999999999996h-0.8759999999999764Z\" fill=\"#4c78a8\" fill-opacity=\"1\" stroke=\"#505050\" stroke-width=\"0\"/><path aria-label=\"x1: 16237; x2: 16258.9; level: 41; level2: 41.9; status: Default; sf: _sub2ind_recurse at abstractarray.jl:3080 [inlined]\" role=\"graphics-symbol\" aria-roledescription=\"rect mark\" d=\"M649.48,64.80000000000001h0.8759999999999764v7.200000000000003h-0.8759999999999764Z\" fill=\"#4c78a8\" fill-opacity=\"1\" stroke=\"#505050\" stroke-width=\"0\"/><path aria-label=\"x1: 16237; x2: 16258.9; level: 42; level2: 42.9; status: Default; sf: _sub2ind_recurse at abstractarray.jl:3080 [inlined]\" role=\"graphics-symbol\" aria-roledescription=\"rect mark\" d=\"M649.48,56.800000000000004h0.8759999999999764v7.20000000000001h-0.8759999999999764Z\" fill=\"#4c78a8\" fill-opacity=\"1\" stroke=\"#505050\" stroke-width=\"0\"/><path aria-label=\"x1: 16237; x2: 16258.9; level: 43; level2: 43.9; status: Default; sf: * at int.jl:88 [inlined]\" role=\"graphics-symbol\" aria-roledescription=\"rect mark\" d=\"M649.48,48.8h0.8759999999999764v7.20000000000001h-0.8759999999999764Z\" fill=\"#4c78a8\" fill-opacity=\"1\" stroke=\"#505050\" stroke-width=\"0\"/><path aria-label=\"x1: 16259; x2: 16355.9; level: 38; level2: 38.9; status: Default; sf: getindex at essentials.jl:917 [inlined]\" role=\"graphics-symbol\" aria-roledescription=\"rect mark\" d=\"M650.36,88.79999999999998h3.8759999999999764v7.200000000000017h-3.8759999999999764Z\" fill=\"#4c78a8\" fill-opacity=\"1\" stroke=\"#505050\" stroke-width=\"0\"/><path aria-label=\"x1: 16356; x2: 16423.9; level: 32; level2: 32.9; status: Default; sf: _broadcast_getindex at broadcast.jl:651 [inlined]\" role=\"graphics-symbol\" aria-roledescription=\"rect mark\" d=\"M654.24,136.80000000000004h2.716000000000122v7.19999999999996h-2.716000000000122Z\" fill=\"#4c78a8\" fill-opacity=\"1\" stroke=\"#505050\" stroke-width=\"0\"/><path aria-label=\"x1: 16356; x2: 16423.9; level: 33; level2: 33.9; status: Default; sf: _broadcast_getindex_evalf at broadcast.jl:678 [inlined]\" role=\"graphics-symbol\" aria-roledescription=\"rect mark\" d=\"M654.24,128.8h2.716000000000122v7.199999999999989h-2.716000000000122Z\" fill=\"#4c78a8\" fill-opacity=\"1\" stroke=\"#505050\" stroke-width=\"0\"/><path aria-label=\"x1: 16356; x2: 16423.9; level: 34; level2: 34.9; status: Default; sf: * at complex.jl:342 [inlined]\" role=\"graphics-symbol\" aria-roledescription=\"rect mark\" d=\"M654.24,120.80000000000001h2.716000000000122v7.199999999999974h-2.716000000000122Z\" fill=\"#4c78a8\" fill-opacity=\"1\" stroke=\"#505050\" stroke-width=\"0\"/><path aria-label=\"x1: 16356; x2: 16423.9; level: 35; level2: 35.9; status: Default; sf: * at float.jl:493 [inlined]\" role=\"graphics-symbol\" aria-roledescription=\"rect mark\" d=\"M654.24,112.80000000000001h2.716000000000122v7.200000000000003h-2.716000000000122Z\" fill=\"#4c78a8\" fill-opacity=\"1\" stroke=\"#505050\" stroke-width=\"0\"/><path aria-label=\"x1: 16424; x2: 16940.9; level: 31; level2: 31.9; status: Default; sf: setindex! at multidimensional.jl:704 [inlined]\" role=\"graphics-symbol\" aria-roledescription=\"rect mark\" d=\"M656.96,144.79999999999998h20.676000000000045v7.200000000000017h-20.676000000000045Z\" fill=\"#4c78a8\" fill-opacity=\"1\" stroke=\"#505050\" stroke-width=\"0\"/><path aria-label=\"x1: 16424; x2: 16940.9; level: 32; level2: 32.9; status: Default; sf: setindex! at array.jl:994 [inlined]\" role=\"graphics-symbol\" aria-roledescription=\"rect mark\" d=\"M656.96,136.80000000000004h20.676000000000045v7.19999999999996h-20.676000000000045Z\" fill=\"#4c78a8\" fill-opacity=\"1\" stroke=\"#505050\" stroke-width=\"0\"/><path aria-label=\"x1: 16941; x2: 16941.9; level: 29; level2: 29.9; status: Default; sf: macro expansion at simdloop.jl:84 [inlined]\" role=\"graphics-symbol\" aria-roledescription=\"rect mark\" d=\"M677.64,160.8h0.03600000000005821v7.200000000000017h-0.03600000000005821Z\" fill=\"#4c78a8\" fill-opacity=\"1\" stroke=\"#505050\" stroke-width=\"0\"/><path aria-label=\"x1: 16941; x2: 16941.9; level: 30; level2: 30.9; status: Default; sf: iterate at multidimensional.jl:422 [inlined]\" role=\"graphics-symbol\" aria-roledescription=\"rect mark\" d=\"M677.64,152.8h0.03600000000005821v7.199999999999989h-0.03600000000005821Z\" fill=\"#4c78a8\" fill-opacity=\"1\" stroke=\"#505050\" stroke-width=\"0\"/><path aria-label=\"x1: 16941; x2: 16941.9; level: 31; level2: 31.9; status: Default; sf: __inc at multidimensional.jl:441 [inlined]\" role=\"graphics-symbol\" aria-roledescription=\"rect mark\" d=\"M677.64,144.79999999999998h0.03600000000005821v7.200000000000017h-0.03600000000005821Z\" fill=\"#4c78a8\" fill-opacity=\"1\" stroke=\"#505050\" stroke-width=\"0\"/><path aria-label=\"x1: 16941; x2: 16941.9; level: 32; level2: 32.9; status: Default; sf: != at operators.jl:277 [inlined]\" role=\"graphics-symbol\" aria-roledescription=\"rect mark\" d=\"M677.64,136.80000000000004h0.03600000000005821v7.19999999999996h-0.03600000000005821Z\" fill=\"#4c78a8\" fill-opacity=\"1\" stroke=\"#505050\" stroke-width=\"0\"/><path aria-label=\"x1: 16941; x2: 16941.9; level: 33; level2: 33.9; status: Default; sf: == at promotion.jl:639 [inlined]\" role=\"graphics-symbol\" aria-roledescription=\"rect mark\" d=\"M677.64,128.8h0.03600000000005821v7.199999999999989h-0.03600000000005821Z\" fill=\"#4c78a8\" fill-opacity=\"1\" stroke=\"#505050\" stroke-width=\"0\"/><path aria-label=\"x1: 16942; x2: 16942.9; level: 27; level2: 27.9; status: Default; sf: instantiate at broadcast.jl:310 [inlined]\" role=\"graphics-symbol\" aria-roledescription=\"rect mark\" d=\"M677.68,176.8h0.03600000000005821v7.199999999999989h-0.03600000000005821Z\" fill=\"#4c78a8\" fill-opacity=\"1\" stroke=\"#505050\" stroke-width=\"0\"/><path aria-label=\"x1: 16942; x2: 16942.9; level: 28; level2: 28.9; status: Default; sf: check_broadcast_axes at broadcast.jl:558 [inlined]\" role=\"graphics-symbol\" aria-roledescription=\"rect mark\" d=\"M677.68,168.8h0.03600000000005821v7.19999999999996h-0.03600000000005821Z\" fill=\"#4c78a8\" fill-opacity=\"1\" stroke=\"#505050\" stroke-width=\"0\"/><path aria-label=\"x1: 16942; x2: 16942.9; level: 29; level2: 29.9; status: Default; sf: check_broadcast_axes at broadcast.jl:0 [inlined]\" role=\"graphics-symbol\" aria-roledescription=\"rect mark\" d=\"M677.68,160.8h0.03600000000005821v7.200000000000017h-0.03600000000005821Z\" fill=\"#4c78a8\" fill-opacity=\"1\" stroke=\"#505050\" stroke-width=\"0\"/><path aria-label=\"x1: 16943; x2: 16947.9; level: 24; level2: 24.9; status: Default; sf: prox!(Y::Matrix{ComplexF64}, f::ArraySignalProcessing.MyNormL21{Float64, Int64}, X::Matrix{ComplexF64}, gamma::Float64) at lasso.jl:29\" role=\"graphics-symbol\" aria-roledescription=\"rect mark\" d=\"M677.7199999999999,200.8h0.19600000000014006v7.199999999999989h-0.19600000000014006Z\" fill=\"#4c78a8\" fill-opacity=\"1\" stroke=\"#505050\" stroke-width=\"0\"/><path aria-label=\"x1: 16943; x2: 16946.9; level: 25; level2: 25.9; status: Default; sf: materialize at broadcast.jl:872 [inlined]\" role=\"graphics-symbol\" aria-roledescription=\"rect mark\" d=\"M677.7199999999999,192.79999999999998h0.15600000000017644v7.200000000000017h-0.15600000000017644Z\" fill=\"#4c78a8\" fill-opacity=\"1\" stroke=\"#505050\" stroke-width=\"0\"/><path aria-label=\"x1: 16943; x2: 16946.9; level: 26; level2: 26.9; status: Default; sf: copy at broadcast.jl:897 [inlined]\" role=\"graphics-symbol\" aria-roledescription=\"rect mark\" d=\"M677.7199999999999,184.80000000000004h0.15600000000017644v7.19999999999996h-0.15600000000017644Z\" fill=\"#4c78a8\" fill-opacity=\"1\" stroke=\"#505050\" stroke-width=\"0\"/><path aria-label=\"x1: 16943; x2: 16946.9; level: 27; level2: 27.9; status: Default; sf: copyto! at broadcast.jl:925 [inlined]\" role=\"graphics-symbol\" aria-roledescription=\"rect mark\" d=\"M677.7199999999999,176.8h0.15600000000017644v7.199999999999989h-0.15600000000017644Z\" fill=\"#4c78a8\" fill-opacity=\"1\" stroke=\"#505050\" stroke-width=\"0\"/><path aria-label=\"x1: 16943; x2: 16946.9; level: 28; level2: 28.9; status: Default; sf: copyto! at broadcast.jl:972 [inlined]\" role=\"graphics-symbol\" aria-roledescription=\"rect mark\" d=\"M677.7199999999999,168.8h0.15600000000017644v7.19999999999996h-0.15600000000017644Z\" fill=\"#4c78a8\" fill-opacity=\"1\" stroke=\"#505050\" stroke-width=\"0\"/><path aria-label=\"x1: 16943; x2: 16944.9; level: 29; level2: 29.9; status: Default; sf: macro expansion at simdloop.jl:0 [inlined]\" role=\"graphics-symbol\" aria-roledescription=\"rect mark\" d=\"M677.7199999999999,160.8h0.07600000000013551v7.200000000000017h-0.07600000000013551Z\" fill=\"#4c78a8\" fill-opacity=\"1\" stroke=\"#505050\" stroke-width=\"0\"/><path aria-label=\"x1: 16945; x2: 16946.9; level: 29; level2: 29.9; status: Default; sf: macro expansion at simdloop.jl:77 [inlined]\" role=\"graphics-symbol\" aria-roledescription=\"rect mark\" d=\"M677.8,160.8h0.07600000000013551v7.200000000000017h-0.07600000000013551Z\" fill=\"#4c78a8\" fill-opacity=\"1\" stroke=\"#505050\" stroke-width=\"0\"/><path aria-label=\"x1: 16945; x2: 16946.9; level: 30; level2: 30.9; status: Default; sf: macro expansion at broadcast.jl:973 [inlined]\" role=\"graphics-symbol\" aria-roledescription=\"rect mark\" d=\"M677.8,152.8h0.07600000000013551v7.199999999999989h-0.07600000000013551Z\" fill=\"#4c78a8\" fill-opacity=\"1\" stroke=\"#505050\" stroke-width=\"0\"/><path aria-label=\"x1: 16945; x2: 16946.9; level: 31; level2: 31.9; status: Default; sf: setindex! at multidimensional.jl:704 [inlined]\" role=\"graphics-symbol\" aria-roledescription=\"rect mark\" d=\"M677.8,144.79999999999998h0.07600000000013551v7.200000000000017h-0.07600000000013551Z\" fill=\"#4c78a8\" fill-opacity=\"1\" stroke=\"#505050\" stroke-width=\"0\"/><path aria-label=\"x1: 16945; x2: 16946.9; level: 32; level2: 32.9; status: Default; sf: setindex! at array.jl:994 [inlined]\" role=\"graphics-symbol\" aria-roledescription=\"rect mark\" d=\"M677.8,136.80000000000004h0.07600000000013551v7.19999999999996h-0.07600000000013551Z\" fill=\"#4c78a8\" fill-opacity=\"1\" stroke=\"#505050\" stroke-width=\"0\"/><path aria-label=\"x1: 16947; x2: 16947.9; level: 25; level2: 25.9; status: Default; sf: sum at reducedim.jl:982 [inlined]\" role=\"graphics-symbol\" aria-roledescription=\"rect mark\" d=\"M677.88,192.79999999999998h0.03600000000005821v7.200000000000017h-0.03600000000005821Z\" fill=\"#4c78a8\" fill-opacity=\"1\" stroke=\"#505050\" stroke-width=\"0\"/><path aria-label=\"x1: 16947; x2: 16947.9; level: 26; level2: 26.9; status: Default; sf: #sum#935 at reducedim.jl:982 [inlined]\" role=\"graphics-symbol\" aria-roledescription=\"rect mark\" d=\"M677.88,184.80000000000004h0.03600000000005821v7.19999999999996h-0.03600000000005821Z\" fill=\"#4c78a8\" fill-opacity=\"1\" stroke=\"#505050\" stroke-width=\"0\"/><path aria-label=\"x1: 16947; x2: 16947.9; level: 27; level2: 27.9; status: Default; sf: _sum at reducedim.jl:986 [inlined]\" role=\"graphics-symbol\" aria-roledescription=\"rect mark\" d=\"M677.88,176.8h0.03600000000005821v7.199999999999989h-0.03600000000005821Z\" fill=\"#4c78a8\" fill-opacity=\"1\" stroke=\"#505050\" stroke-width=\"0\"/><path aria-label=\"x1: 16947; x2: 16947.9; level: 28; level2: 28.9; status: Default; sf: #_sum#937 at reducedim.jl:986 [inlined]\" role=\"graphics-symbol\" aria-roledescription=\"rect mark\" d=\"M677.88,168.8h0.03600000000005821v7.19999999999996h-0.03600000000005821Z\" fill=\"#4c78a8\" fill-opacity=\"1\" stroke=\"#505050\" stroke-width=\"0\"/><path aria-label=\"x1: 16947; x2: 16947.9; level: 29; level2: 29.9; status: Default; sf: _sum at reducedim.jl:987 [inlined]\" role=\"graphics-symbol\" aria-roledescription=\"rect mark\" d=\"M677.88,160.8h0.03600000000005821v7.200000000000017h-0.03600000000005821Z\" fill=\"#4c78a8\" fill-opacity=\"1\" stroke=\"#505050\" stroke-width=\"0\"/><path aria-label=\"x1: 16947; x2: 16947.9; level: 30; level2: 30.9; status: Default; sf: #_sum#938 at reducedim.jl:987 [inlined]\" role=\"graphics-symbol\" aria-roledescription=\"rect mark\" d=\"M677.88,152.8h0.03600000000005821v7.199999999999989h-0.03600000000005821Z\" fill=\"#4c78a8\" fill-opacity=\"1\" stroke=\"#505050\" stroke-width=\"0\"/><path aria-label=\"x1: 16947; x2: 16947.9; level: 31; level2: 31.9; status: Default; sf: mapreduce at reducedim.jl:329 [inlined]\" role=\"graphics-symbol\" aria-roledescription=\"rect mark\" d=\"M677.88,144.79999999999998h0.03600000000005821v7.200000000000017h-0.03600000000005821Z\" fill=\"#4c78a8\" fill-opacity=\"1\" stroke=\"#505050\" stroke-width=\"0\"/><path aria-label=\"x1: 16947; x2: 16947.9; level: 32; level2: 32.9; status: Default; sf: #mapreduce#928 at reducedim.jl:329 [inlined]\" role=\"graphics-symbol\" aria-roledescription=\"rect mark\" d=\"M677.88,136.80000000000004h0.03600000000005821v7.19999999999996h-0.03600000000005821Z\" fill=\"#4c78a8\" fill-opacity=\"1\" stroke=\"#505050\" stroke-width=\"0\"/><path aria-label=\"x1: 16947; x2: 16947.9; level: 33; level2: 33.9; status: Default; sf: _mapreduce_dim at reducedim.jl:337 [inlined]\" role=\"graphics-symbol\" aria-roledescription=\"rect mark\" d=\"M677.88,128.8h0.03600000000005821v7.199999999999989h-0.03600000000005821Z\" fill=\"#4c78a8\" fill-opacity=\"1\" stroke=\"#505050\" stroke-width=\"0\"/><path aria-label=\"x1: 16947; x2: 16947.9; level: 34; level2: 34.9; status: Default; sf: _mapreduce at reduce.jl:444 [inlined]\" role=\"graphics-symbol\" aria-roledescription=\"rect mark\" d=\"M677.88,120.80000000000001h0.03600000000005821v7.199999999999974h-0.03600000000005821Z\" fill=\"#4c78a8\" fill-opacity=\"1\" stroke=\"#505050\" stroke-width=\"0\"/><path aria-label=\"x1: 16947; x2: 16947.9; level: 35; level2: 35.9; status: Default; sf: mapreduce_impl at reduce.jl:277 [inlined]\" role=\"graphics-symbol\" aria-roledescription=\"rect mark\" d=\"M677.88,112.80000000000001h0.03600000000005821v7.200000000000003h-0.03600000000005821Z\" fill=\"#4c78a8\" fill-opacity=\"1\" stroke=\"#505050\" stroke-width=\"0\"/><path aria-label=\"x1: 16947; x2: 16947.9; level: 36; level2: 36.9; status: Default; sf: mapreduce_impl(f::typeof(identity), op::typeof(Base.add_sum), A::Matrix{Float64}, ifirst::Int64, ilast::Int64, blksize::Int64) at reduce.jl:263\" role=\"graphics-symbol\" aria-roledescription=\"rect mark\" d=\"M677.88,104.80000000000001h0.03600000000005821v7.200000000000003h-0.03600000000005821Z\" fill=\"#4c78a8\" fill-opacity=\"1\" stroke=\"#505050\" stroke-width=\"0\"/><path aria-label=\"x1: 16947; x2: 16947.9; level: 37; level2: 37.9; status: Default; sf: macro expansion at simdloop.jl:69 [inlined]\" role=\"graphics-symbol\" aria-roledescription=\"rect mark\" d=\"M677.88,96.8h0.03600000000005821v7.200000000000003h-0.03600000000005821Z\" fill=\"#4c78a8\" fill-opacity=\"1\" stroke=\"#505050\" stroke-width=\"0\"/><path aria-label=\"x1: 16947; x2: 16947.9; level: 38; level2: 38.9; status: Default; sf: Colon at range.jl:5 [inlined]\" role=\"graphics-symbol\" aria-roledescription=\"rect mark\" d=\"M677.88,88.79999999999998h0.03600000000005821v7.200000000000017h-0.03600000000005821Z\" fill=\"#4c78a8\" fill-opacity=\"1\" stroke=\"#505050\" stroke-width=\"0\"/><path aria-label=\"x1: 16947; x2: 16947.9; level: 39; level2: 39.9; status: Default; sf: UnitRange at range.jl:408 [inlined]\" role=\"graphics-symbol\" aria-roledescription=\"rect mark\" d=\"M677.88,80.80000000000003h0.03600000000005821v7.19999999999996h-0.03600000000005821Z\" fill=\"#4c78a8\" fill-opacity=\"1\" stroke=\"#505050\" stroke-width=\"0\"/><path aria-label=\"x1: 16947; x2: 16947.9; level: 40; level2: 40.9; status: Default; sf: unitrange_last at range.jl:419 [inlined]\" role=\"graphics-symbol\" aria-roledescription=\"rect mark\" d=\"M677.88,72.80000000000003h0.03600000000005821v7.19999999999996h-0.03600000000005821Z\" fill=\"#4c78a8\" fill-opacity=\"1\" stroke=\"#505050\" stroke-width=\"0\"/><path aria-label=\"x1: 16947; x2: 16947.9; level: 41; level2: 41.9; status: Default; sf: &gt;= at operators.jl:426 [inlined]\" role=\"graphics-symbol\" aria-roledescription=\"rect mark\" d=\"M677.88,64.80000000000001h0.03600000000005821v7.200000000000003h-0.03600000000005821Z\" fill=\"#4c78a8\" fill-opacity=\"1\" stroke=\"#505050\" stroke-width=\"0\"/><path aria-label=\"x1: 16947; x2: 16947.9; level: 42; level2: 42.9; status: Default; sf: &lt;= at int.jl:514 [inlined]\" role=\"graphics-symbol\" aria-roledescription=\"rect mark\" d=\"M677.88,56.800000000000004h0.03600000000005821v7.20000000000001h-0.03600000000005821Z\" fill=\"#4c78a8\" fill-opacity=\"1\" stroke=\"#505050\" stroke-width=\"0\"/><path aria-label=\"x1: 16948; x2: 17989.9; level: 23; level2: 23.9; status: Default; sf: iterate(iter::ProximalAlgorithms.FastForwardBackwardIteration{Float64, Matrix{ComplexF64}, ArraySignalProcessing.MyLeastSquares{ComplexF64, Matrix{ComplexF64}, Matrix{ComplexF64}}, ArraySignalProcessing.MyNormL21{Float64, Int64}, Nothing, Nothing, Nothing}, state::ProximalAlgorithms.FastForwardBackwardState{Float64, Matrix{ComplexF64}, ProximalAlgorithms.AdaptiveNesterovSequence{Float64}}) at fast_forward_backward.jl:142\" role=\"graphics-symbol\" aria-roledescription=\"rect mark\" d=\"M677.9200000000001,208.8h41.67599999999993v7.199999999999989h-41.67599999999993Z\" fill=\"#4c78a8\" fill-opacity=\"1\" stroke=\"#505050\" stroke-width=\"0\"/><path aria-label=\"x1: 16948; x2: 17989.9; level: 24; level2: 24.9; status: Default; sf: materialize! at broadcast.jl:880 [inlined]\" role=\"graphics-symbol\" aria-roledescription=\"rect mark\" d=\"M677.9200000000001,200.8h41.67599999999993v7.199999999999989h-41.67599999999993Z\" fill=\"#4c78a8\" fill-opacity=\"1\" stroke=\"#505050\" stroke-width=\"0\"/><path aria-label=\"x1: 16948; x2: 17989.9; level: 25; level2: 25.9; status: Default; sf: materialize! at broadcast.jl:883 [inlined]\" role=\"graphics-symbol\" aria-roledescription=\"rect mark\" d=\"M677.9200000000001,192.79999999999998h41.67599999999993v7.200000000000017h-41.67599999999993Z\" fill=\"#4c78a8\" fill-opacity=\"1\" stroke=\"#505050\" stroke-width=\"0\"/><path aria-label=\"x1: 16948; x2: 17989.9; level: 26; level2: 26.9; status: Default; sf: copyto! at broadcast.jl:925 [inlined]\" role=\"graphics-symbol\" aria-roledescription=\"rect mark\" d=\"M677.9200000000001,184.80000000000004h41.67599999999993v7.19999999999996h-41.67599999999993Z\" fill=\"#4c78a8\" fill-opacity=\"1\" stroke=\"#505050\" stroke-width=\"0\"/><path aria-label=\"x1: 16948; x2: 16948.9; level: 27; level2: 27.9; status: Default; sf: copyto! at broadcast.jl:969 [inlined]\" role=\"graphics-symbol\" aria-roledescription=\"rect mark\" d=\"M677.9200000000001,176.8h0.03600000000005821v7.199999999999989h-0.03600000000005821Z\" fill=\"#4c78a8\" fill-opacity=\"1\" stroke=\"#505050\" stroke-width=\"0\"/><path aria-label=\"x1: 16948; x2: 16948.9; level: 28; level2: 28.9; status: Default; sf: preprocess at broadcast.jl:952 [inlined]\" role=\"graphics-symbol\" aria-roledescription=\"rect mark\" d=\"M677.9200000000001,168.8h0.03600000000005821v7.19999999999996h-0.03600000000005821Z\" fill=\"#4c78a8\" fill-opacity=\"1\" stroke=\"#505050\" stroke-width=\"0\"/><path aria-label=\"x1: 16948; x2: 16948.9; level: 29; level2: 29.9; status: Default; sf: preprocess_args at broadcast.jl:955 [inlined]\" role=\"graphics-symbol\" aria-roledescription=\"rect mark\" d=\"M677.9200000000001,160.8h0.03600000000005821v7.200000000000017h-0.03600000000005821Z\" fill=\"#4c78a8\" fill-opacity=\"1\" stroke=\"#505050\" stroke-width=\"0\"/><path aria-label=\"x1: 16948; x2: 16948.9; level: 30; level2: 30.9; status: Default; sf: preprocess_args at broadcast.jl:956 [inlined]\" role=\"graphics-symbol\" aria-roledescription=\"rect mark\" d=\"M677.9200000000001,152.8h0.03600000000005821v7.199999999999989h-0.03600000000005821Z\" fill=\"#4c78a8\" fill-opacity=\"1\" stroke=\"#505050\" stroke-width=\"0\"/><path aria-label=\"x1: 16948; x2: 16948.9; level: 31; level2: 31.9; status: Default; sf: preprocess at broadcast.jl:953 [inlined]\" role=\"graphics-symbol\" aria-roledescription=\"rect mark\" d=\"M677.9200000000001,144.79999999999998h0.03600000000005821v7.200000000000017h-0.03600000000005821Z\" fill=\"#4c78a8\" fill-opacity=\"1\" stroke=\"#505050\" stroke-width=\"0\"/><path aria-label=\"x1: 16948; x2: 16948.9; level: 32; level2: 32.9; status: Default; sf: extrude at broadcast.jl:645 [inlined]\" role=\"graphics-symbol\" aria-roledescription=\"rect mark\" d=\"M677.9200000000001,136.80000000000004h0.03600000000005821v7.19999999999996h-0.03600000000005821Z\" fill=\"#4c78a8\" fill-opacity=\"1\" stroke=\"#505050\" stroke-width=\"0\"/><path aria-label=\"x1: 16948; x2: 16948.9; level: 33; level2: 33.9; status: Default; sf: newindexer at broadcast.jl:598 [inlined]\" role=\"graphics-symbol\" aria-roledescription=\"rect mark\" d=\"M677.9200000000001,128.8h0.03600000000005821v7.199999999999989h-0.03600000000005821Z\" fill=\"#4c78a8\" fill-opacity=\"1\" stroke=\"#505050\" stroke-width=\"0\"/><path aria-label=\"x1: 16948; x2: 16948.9; level: 34; level2: 34.9; status: Default; sf: shapeindexer at broadcast.jl:599 [inlined]\" role=\"graphics-symbol\" aria-roledescription=\"rect mark\" d=\"M677.9200000000001,120.80000000000001h0.03600000000005821v7.199999999999974h-0.03600000000005821Z\" fill=\"#4c78a8\" fill-opacity=\"1\" stroke=\"#505050\" stroke-width=\"0\"/><path aria-label=\"x1: 16948; x2: 16948.9; level: 35; level2: 35.9; status: Default; sf: _newindexer at broadcast.jl:603 [inlined]\" role=\"graphics-symbol\" aria-roledescription=\"rect mark\" d=\"M677.9200000000001,112.80000000000001h0.03600000000005821v7.200000000000003h-0.03600000000005821Z\" fill=\"#4c78a8\" fill-opacity=\"1\" stroke=\"#505050\" stroke-width=\"0\"/><path aria-label=\"x1: 16948; x2: 16948.9; level: 36; level2: 36.9; status: Default; sf: _newindexer at broadcast.jl:604 [inlined]\" role=\"graphics-symbol\" aria-roledescription=\"rect mark\" d=\"M677.9200000000001,104.80000000000001h0.03600000000005821v7.200000000000003h-0.03600000000005821Z\" fill=\"#4c78a8\" fill-opacity=\"1\" stroke=\"#505050\" stroke-width=\"0\"/><path aria-label=\"x1: 16948; x2: 16948.9; level: 37; level2: 37.9; status: Default; sf: != at operators.jl:277 [inlined]\" role=\"graphics-symbol\" aria-roledescription=\"rect mark\" d=\"M677.9200000000001,96.8h0.03600000000005821v7.200000000000003h-0.03600000000005821Z\" fill=\"#4c78a8\" fill-opacity=\"1\" stroke=\"#505050\" stroke-width=\"0\"/><path aria-label=\"x1: 16948; x2: 16948.9; level: 38; level2: 38.9; status: Default; sf: == at promotion.jl:639 [inlined]\" role=\"graphics-symbol\" aria-roledescription=\"rect mark\" d=\"M677.9200000000001,88.79999999999998h0.03600000000005821v7.200000000000017h-0.03600000000005821Z\" fill=\"#4c78a8\" fill-opacity=\"1\" stroke=\"#505050\" stroke-width=\"0\"/><path aria-label=\"x1: 16949; x2: 17988.9; level: 27; level2: 27.9; status: Default; sf: copyto! at broadcast.jl:972 [inlined]\" role=\"graphics-symbol\" aria-roledescription=\"rect mark\" d=\"M677.96,176.8h41.596000000000004v7.199999999999989h-41.596000000000004Z\" fill=\"#4c78a8\" fill-opacity=\"1\" stroke=\"#505050\" stroke-width=\"0\"/><path aria-label=\"x1: 16949; x2: 16961.9; level: 28; level2: 28.9; status: Default; sf: macro expansion at simdloop.jl:0 [inlined]\" role=\"graphics-symbol\" aria-roledescription=\"rect mark\" d=\"M677.96,168.8h0.5159999999999627v7.19999999999996h-0.5159999999999627Z\" fill=\"#4c78a8\" fill-opacity=\"1\" stroke=\"#505050\" stroke-width=\"0\"/><path aria-label=\"x1: 16962; x2: 16973.9; level: 28; level2: 28.9; status: Default; sf: macro expansion at simdloop.jl:75 [inlined]\" role=\"graphics-symbol\" aria-roledescription=\"rect mark\" d=\"M678.48,168.8h0.4759999999999991v7.19999999999996h-0.4759999999999991Z\" fill=\"#4c78a8\" fill-opacity=\"1\" stroke=\"#505050\" stroke-width=\"0\"/><path aria-label=\"x1: 16974; x2: 17988.9; level: 28; level2: 28.9; status: Default; sf: macro expansion at simdloop.jl:77 [inlined]\" role=\"graphics-symbol\" aria-roledescription=\"rect mark\" d=\"M678.96,168.8h40.596000000000004v7.19999999999996h-40.596000000000004Z\" fill=\"#4c78a8\" fill-opacity=\"1\" stroke=\"#505050\" stroke-width=\"0\"/><path aria-label=\"x1: 16974; x2: 17988.9; level: 29; level2: 29.9; status: Default; sf: macro expansion at broadcast.jl:973 [inlined]\" role=\"graphics-symbol\" aria-roledescription=\"rect mark\" d=\"M678.96,160.8h40.596000000000004v7.200000000000017h-40.596000000000004Z\" fill=\"#4c78a8\" fill-opacity=\"1\" stroke=\"#505050\" stroke-width=\"0\"/><path aria-label=\"x1: 16974; x2: 17851.9; level: 30; level2: 30.9; status: Default; sf: getindex at broadcast.jl:610 [inlined]\" role=\"graphics-symbol\" aria-roledescription=\"rect mark\" d=\"M678.96,152.8h35.115999999999985v7.199999999999989h-35.115999999999985Z\" fill=\"#4c78a8\" fill-opacity=\"1\" stroke=\"#505050\" stroke-width=\"0\"/><path aria-label=\"x1: 16974; x2: 17344.9; level: 31; level2: 31.9; status: Default; sf: _broadcast_getindex at broadcast.jl:650 [inlined]\" role=\"graphics-symbol\" aria-roledescription=\"rect mark\" d=\"M678.96,144.79999999999998h14.836000000000013v7.200000000000017h-14.836000000000013Z\" fill=\"#4c78a8\" fill-opacity=\"1\" stroke=\"#505050\" stroke-width=\"0\"/><path aria-label=\"x1: 16974; x2: 17344.9; level: 32; level2: 32.9; status: Default; sf: _getindex at broadcast.jl:674 [inlined]\" role=\"graphics-symbol\" aria-roledescription=\"rect mark\" d=\"M678.96,136.80000000000004h14.836000000000013v7.19999999999996h-14.836000000000013Z\" fill=\"#4c78a8\" fill-opacity=\"1\" stroke=\"#505050\" stroke-width=\"0\"/><path aria-label=\"x1: 16974; x2: 17243.9; level: 33; level2: 33.9; status: Default; sf: _broadcast_getindex at broadcast.jl:644 [inlined]\" role=\"graphics-symbol\" aria-roledescription=\"rect mark\" d=\"M678.96,128.8h10.79600000000005v7.199999999999989h-10.79600000000005Z\" fill=\"#4c78a8\" fill-opacity=\"1\" stroke=\"#505050\" stroke-width=\"0\"/><path aria-label=\"x1: 16974; x2: 17243.9; level: 34; level2: 34.9; status: Default; sf: getindex at multidimensional.jl:702 [inlined]\" role=\"graphics-symbol\" aria-roledescription=\"rect mark\" d=\"M678.96,120.80000000000001h10.79600000000005v7.199999999999974h-10.79600000000005Z\" fill=\"#4c78a8\" fill-opacity=\"1\" stroke=\"#505050\" stroke-width=\"0\"/><path aria-label=\"x1: 16974; x2: 17243.9; level: 35; level2: 35.9; status: Default; sf: getindex at array.jl:930 [inlined]\" role=\"graphics-symbol\" aria-roledescription=\"rect mark\" d=\"M678.96,112.80000000000001h10.79600000000005v7.200000000000003h-10.79600000000005Z\" fill=\"#4c78a8\" fill-opacity=\"1\" stroke=\"#505050\" stroke-width=\"0\"/><path aria-label=\"x1: 16974; x2: 17002.9; level: 36; level2: 36.9; status: Default; sf: _to_linear_index at abstractarray.jl:1347 [inlined]\" role=\"graphics-symbol\" aria-roledescription=\"rect mark\" d=\"M678.96,104.80000000000001h1.155999999999949v7.200000000000003h-1.155999999999949Z\" fill=\"#4c78a8\" fill-opacity=\"1\" stroke=\"#505050\" stroke-width=\"0\"/><path aria-label=\"x1: 16974; x2: 17002.9; level: 37; level2: 37.9; status: Default; sf: _sub2ind at abstractarray.jl:3048 [inlined]\" role=\"graphics-symbol\" aria-roledescription=\"rect mark\" d=\"M678.96,96.8h1.155999999999949v7.200000000000003h-1.155999999999949Z\" fill=\"#4c78a8\" fill-opacity=\"1\" stroke=\"#505050\" stroke-width=\"0\"/><path aria-label=\"x1: 16974; x2: 17002.9; level: 38; level2: 38.9; status: Default; sf: _sub2ind at abstractarray.jl:3064 [inlined]\" role=\"graphics-symbol\" aria-roledescription=\"rect mark\" d=\"M678.96,88.79999999999998h1.155999999999949v7.200000000000017h-1.155999999999949Z\" fill=\"#4c78a8\" fill-opacity=\"1\" stroke=\"#505050\" stroke-width=\"0\"/><path aria-label=\"x1: 16974; x2: 17002.9; level: 39; level2: 39.9; status: Default; sf: _sub2ind_recurse at abstractarray.jl:3080 [inlined]\" role=\"graphics-symbol\" aria-roledescription=\"rect mark\" d=\"M678.96,80.80000000000003h1.155999999999949v7.19999999999996h-1.155999999999949Z\" fill=\"#4c78a8\" fill-opacity=\"1\" stroke=\"#505050\" stroke-width=\"0\"/><path aria-label=\"x1: 16974; x2: 16992.9; level: 40; level2: 40.9; status: Default; sf: _sub2ind_recurse at abstractarray.jl:3080 [inlined]\" role=\"graphics-symbol\" aria-roledescription=\"rect mark\" d=\"M678.96,72.80000000000003h0.7560000000000855v7.19999999999996h-0.7560000000000855Z\" fill=\"#4c78a8\" fill-opacity=\"1\" stroke=\"#505050\" stroke-width=\"0\"/><path aria-label=\"x1: 16974; x2: 16992.9; level: 41; level2: 41.9; status: Default; sf: * at int.jl:88 [inlined]\" role=\"graphics-symbol\" aria-roledescription=\"rect mark\" d=\"M678.96,64.80000000000001h0.7560000000000855v7.200000000000003h-0.7560000000000855Z\" fill=\"#4c78a8\" fill-opacity=\"1\" stroke=\"#505050\" stroke-width=\"0\"/><path aria-label=\"x1: 16993; x2: 17002.9; level: 40; level2: 40.9; status: Default; sf: + at int.jl:87 [inlined]\" role=\"graphics-symbol\" aria-roledescription=\"rect mark\" d=\"M679.72,72.80000000000003h0.39599999999995816v7.19999999999996h-0.39599999999995816Z\" fill=\"#4c78a8\" fill-opacity=\"1\" stroke=\"#505050\" stroke-width=\"0\"/><path aria-label=\"x1: 17003; x2: 17243.9; level: 36; level2: 36.9; status: Default; sf: getindex at essentials.jl:917 [inlined]\" role=\"graphics-symbol\" aria-roledescription=\"rect mark\" d=\"M680.12,104.80000000000001h9.636000000000081v7.200000000000003h-9.636000000000081Z\" fill=\"#4c78a8\" fill-opacity=\"1\" stroke=\"#505050\" stroke-width=\"0\"/><path aria-label=\"x1: 17244; x2: 17344.9; level: 33; level2: 33.9; status: Default; sf: _getindex at broadcast.jl:675 [inlined]\" role=\"graphics-symbol\" aria-roledescription=\"rect mark\" d=\"M689.76,128.8h4.036000000000058v7.199999999999989h-4.036000000000058Z\" fill=\"#4c78a8\" fill-opacity=\"1\" stroke=\"#505050\" stroke-width=\"0\"/><path aria-label=\"x1: 17244; x2: 17344.9; level: 34; level2: 34.9; status: Default; sf: _broadcast_getindex at broadcast.jl:644 [inlined]\" role=\"graphics-symbol\" aria-roledescription=\"rect mark\" d=\"M689.76,120.80000000000001h4.036000000000058v7.199999999999974h-4.036000000000058Z\" fill=\"#4c78a8\" fill-opacity=\"1\" stroke=\"#505050\" stroke-width=\"0\"/><path aria-label=\"x1: 17244; x2: 17344.9; level: 35; level2: 35.9; status: Default; sf: getindex at multidimensional.jl:702 [inlined]\" role=\"graphics-symbol\" aria-roledescription=\"rect mark\" d=\"M689.76,112.80000000000001h4.036000000000058v7.200000000000003h-4.036000000000058Z\" fill=\"#4c78a8\" fill-opacity=\"1\" stroke=\"#505050\" stroke-width=\"0\"/><path aria-label=\"x1: 17244; x2: 17344.9; level: 36; level2: 36.9; status: Default; sf: getindex at array.jl:930 [inlined]\" role=\"graphics-symbol\" aria-roledescription=\"rect mark\" d=\"M689.76,104.80000000000001h4.036000000000058v7.200000000000003h-4.036000000000058Z\" fill=\"#4c78a8\" fill-opacity=\"1\" stroke=\"#505050\" stroke-width=\"0\"/><path aria-label=\"x1: 17244; x2: 17280.9; level: 37; level2: 37.9; status: Default; sf: _to_linear_index at abstractarray.jl:1347 [inlined]\" role=\"graphics-symbol\" aria-roledescription=\"rect mark\" d=\"M689.76,96.8h1.4760000000001128v7.200000000000003h-1.4760000000001128Z\" fill=\"#4c78a8\" fill-opacity=\"1\" stroke=\"#505050\" stroke-width=\"0\"/><path aria-label=\"x1: 17244; x2: 17280.9; level: 38; level2: 38.9; status: Default; sf: _sub2ind at abstractarray.jl:3048 [inlined]\" role=\"graphics-symbol\" aria-roledescription=\"rect mark\" d=\"M689.76,88.79999999999998h1.4760000000001128v7.200000000000017h-1.4760000000001128Z\" fill=\"#4c78a8\" fill-opacity=\"1\" stroke=\"#505050\" stroke-width=\"0\"/><path aria-label=\"x1: 17244; x2: 17280.9; level: 39; level2: 39.9; status: Default; sf: _sub2ind at abstractarray.jl:3064 [inlined]\" role=\"graphics-symbol\" aria-roledescription=\"rect mark\" d=\"M689.76,80.80000000000003h1.4760000000001128v7.19999999999996h-1.4760000000001128Z\" fill=\"#4c78a8\" fill-opacity=\"1\" stroke=\"#505050\" stroke-width=\"0\"/><path aria-label=\"x1: 17244; x2: 17280.9; level: 40; level2: 40.9; status: Default; sf: _sub2ind_recurse at abstractarray.jl:3080 [inlined]\" role=\"graphics-symbol\" aria-roledescription=\"rect mark\" d=\"M689.76,72.80000000000003h1.4760000000001128v7.19999999999996h-1.4760000000001128Z\" fill=\"#4c78a8\" fill-opacity=\"1\" stroke=\"#505050\" stroke-width=\"0\"/><path aria-label=\"x1: 17244; x2: 17280.9; level: 41; level2: 41.9; status: Default; sf: _sub2ind_recurse at abstractarray.jl:3080 [inlined]\" role=\"graphics-symbol\" aria-roledescription=\"rect mark\" d=\"M689.76,64.80000000000001h1.4760000000001128v7.200000000000003h-1.4760000000001128Z\" fill=\"#4c78a8\" fill-opacity=\"1\" stroke=\"#505050\" stroke-width=\"0\"/><path aria-label=\"x1: 17244; x2: 17280.9; level: 42; level2: 42.9; status: Default; sf: * at int.jl:88 [inlined]\" role=\"graphics-symbol\" aria-roledescription=\"rect mark\" d=\"M689.76,56.800000000000004h1.4760000000001128v7.20000000000001h-1.4760000000001128Z\" fill=\"#4c78a8\" fill-opacity=\"1\" stroke=\"#505050\" stroke-width=\"0\"/><path aria-label=\"x1: 17281; x2: 17344.9; level: 37; level2: 37.9; status: Default; sf: getindex at essentials.jl:917 [inlined]\" role=\"graphics-symbol\" aria-roledescription=\"rect mark\" d=\"M691.24,96.8h2.55600000000004v7.200000000000003h-2.55600000000004Z\" fill=\"#4c78a8\" fill-opacity=\"1\" stroke=\"#505050\" stroke-width=\"0\"/><path aria-label=\"x1: 17345; x2: 17851.9; level: 31; level2: 31.9; status: Default; sf: _broadcast_getindex at broadcast.jl:651 [inlined]\" role=\"graphics-symbol\" aria-roledescription=\"rect mark\" d=\"M693.8,144.79999999999998h20.276000000000067v7.200000000000017h-20.276000000000067Z\" fill=\"#4c78a8\" fill-opacity=\"1\" stroke=\"#505050\" stroke-width=\"0\"/><path aria-label=\"x1: 17345; x2: 17851.9; level: 32; level2: 32.9; status: Default; sf: _broadcast_getindex_evalf at broadcast.jl:678 [inlined]\" role=\"graphics-symbol\" aria-roledescription=\"rect mark\" d=\"M693.8,136.80000000000004h20.276000000000067v7.19999999999996h-20.276000000000067Z\" fill=\"#4c78a8\" fill-opacity=\"1\" stroke=\"#505050\" stroke-width=\"0\"/><path aria-label=\"x1: 17345; x2: 17851.9; level: 33; level2: 33.9; status: Default; sf: - at complex.jl:298 [inlined]\" role=\"graphics-symbol\" aria-roledescription=\"rect mark\" d=\"M693.8,128.8h20.276000000000067v7.199999999999989h-20.276000000000067Z\" fill=\"#4c78a8\" fill-opacity=\"1\" stroke=\"#505050\" stroke-width=\"0\"/><path aria-label=\"x1: 17345; x2: 17851.9; level: 34; level2: 34.9; status: Default; sf: - at float.jl:492 [inlined]\" role=\"graphics-symbol\" aria-roledescription=\"rect mark\" d=\"M693.8,120.80000000000001h20.276000000000067v7.199999999999974h-20.276000000000067Z\" fill=\"#4c78a8\" fill-opacity=\"1\" stroke=\"#505050\" stroke-width=\"0\"/><path aria-label=\"x1: 17852; x2: 17988.9; level: 30; level2: 30.9; status: Default; sf: setindex! at multidimensional.jl:704 [inlined]\" role=\"graphics-symbol\" aria-roledescription=\"rect mark\" d=\"M714.0799999999999,152.8h5.476000000000113v7.199999999999989h-5.476000000000113Z\" fill=\"#4c78a8\" fill-opacity=\"1\" stroke=\"#505050\" stroke-width=\"0\"/><path aria-label=\"x1: 17852; x2: 17988.9; level: 31; level2: 31.9; status: Default; sf: setindex! at array.jl:994 [inlined]\" role=\"graphics-symbol\" aria-roledescription=\"rect mark\" d=\"M714.0799999999999,144.79999999999998h5.476000000000113v7.200000000000017h-5.476000000000113Z\" fill=\"#4c78a8\" fill-opacity=\"1\" stroke=\"#505050\" stroke-width=\"0\"/><path aria-label=\"x1: 17989; x2: 17989.9; level: 27; level2: 27.9; status: Default; sf: copyto! at simdloop.jl:0 [inlined]\" role=\"graphics-symbol\" aria-roledescription=\"rect mark\" d=\"M719.56,176.8h0.03600000000005821v7.199999999999989h-0.03600000000005821Z\" fill=\"#4c78a8\" fill-opacity=\"1\" stroke=\"#505050\" stroke-width=\"0\"/><path aria-label=\"x1: 17990; x2: 17990.9; level: 22; level2: 22.9; status: Default; sf: iterate at iterators.jl:208 [inlined]\" role=\"graphics-symbol\" aria-roledescription=\"rect mark\" d=\"M719.6,216.8h0.03600000000005821v7.200000000000017h-0.03600000000005821Z\" fill=\"#4c78a8\" fill-opacity=\"1\" stroke=\"#505050\" stroke-width=\"0\"/><path aria-label=\"x1: 17990; x2: 17990.9; level: 23; level2: 23.9; status: Default; sf: getindex at tuple.jl:31 [inlined]\" role=\"graphics-symbol\" aria-roledescription=\"rect mark\" d=\"M719.6,208.8h0.03600000000005821v7.199999999999989h-0.03600000000005821Z\" fill=\"#4c78a8\" fill-opacity=\"1\" stroke=\"#505050\" stroke-width=\"0\"/></g><g class=\"mark-group role-legend\" role=\"graphics-symbol\" aria-roledescription=\"legend\" aria-label=\"Symbol legend for fill color with 2 values: Default, Garbage collection\"><g transform=\"translate(0,418)\"><path class=\"background\" aria-hidden=\"true\" d=\"M0,0h155v13h-155Z\" pointer-events=\"none\"/><g><g class=\"mark-group role-legend-entry\"><g transform=\"translate(0,0)\"><path class=\"background\" aria-hidden=\"true\" d=\"M0,0h0v0h0Z\" pointer-events=\"none\"/><g><g class=\"mark-group role-scope\" role=\"graphics-object\" aria-roledescription=\"group mark container\"><g transform=\"translate(0,0.25)\"><path class=\"background\" aria-hidden=\"true\" d=\"M0,0h47v12.5h-47Z\" pointer-events=\"none\" opacity=\"1\"/><g><g class=\"mark-symbol role-legend-symbol\" pointer-events=\"none\"><path transform=\"translate(6,6)\" d=\"M-5,-5h10v10h-10Z\" fill=\"#4c78a8\" stroke=\"#505050\" stroke-width=\"1.5\" opacity=\"1\"/></g><g class=\"mark-text role-legend-label\" pointer-events=\"none\"><text text-anchor=\"start\" transform=\"translate(16,9)\" font-family=\"sans-serif\" font-size=\"10px\" fill=\"#000\" opacity=\"1\">Default</text></g></g><path class=\"foreground\" aria-hidden=\"true\" d=\"\" pointer-events=\"none\" display=\"none\"/></g><g transform=\"translate(58,0.25)\"><path class=\"background\" aria-hidden=\"true\" d=\"M0,0h97v12.5h-97Z\" pointer-events=\"none\" opacity=\"1\"/><g><g class=\"mark-symbol role-legend-symbol\" pointer-events=\"none\"><path transform=\"translate(6,6)\" d=\"M-5,-5h10v10h-10Z\" fill=\"#f58518\" stroke=\"#505050\" stroke-width=\"1.5\" opacity=\"1\"/></g><g class=\"mark-text role-legend-label\" pointer-events=\"none\"><text text-anchor=\"start\" transform=\"translate(16,9)\" font-family=\"sans-serif\" font-size=\"10px\" fill=\"#000\" opacity=\"1\">Garbage collection</text></g></g><path class=\"foreground\" aria-hidden=\"true\" d=\"\" pointer-events=\"none\" display=\"none\"/></g></g></g><path class=\"foreground\" aria-hidden=\"true\" d=\"\" pointer-events=\"none\" display=\"none\"/></g></g></g><path class=\"foreground\" aria-hidden=\"true\" d=\"\" pointer-events=\"none\" display=\"none\"/></g></g><g class=\"mark-group role-title\"><g transform=\"translate(400,-17)\"><path class=\"background\" aria-hidden=\"true\" d=\"M0,0h0v0h0Z\" pointer-events=\"none\"/><g><g class=\"mark-text role-title-text\" role=\"graphics-symbol\" aria-roledescription=\"title\" aria-label=\"Title text 'Profile Results'\" pointer-events=\"none\"><text text-anchor=\"middle\" transform=\"translate(0,10)\" font-family=\"sans-serif\" font-size=\"13px\" font-weight=\"bold\" fill=\"#000\" opacity=\"1\">Profile Results</text></g></g><path class=\"foreground\" aria-hidden=\"true\" d=\"\" pointer-events=\"none\" display=\"none\"/></g></g></g><path class=\"foreground\" aria-hidden=\"true\" d=\"\" display=\"none\"/></g></g></g><defs><clipPath id=\"clip1\"><rect x=\"0\" y=\"0\" width=\"800\" height=\"400\"/></clipPath></defs></svg>\n"
      ],
      "text/plain": [
       "@vlplot(\n",
       "    mark={\n",
       "        type=\"rect\",\n",
       "        stroke=\"#505050\"\n",
       "    },\n",
       "    transform=[\n",
       "        {\n",
       "            calculate=\"datum.level+0.9\",\n",
       "            as=\"level2\"\n",
       "        }\n",
       "    ],\n",
       "    selection={\n",
       "        grid={\n",
       "            type=\"interval\",\n",
       "            bind=\"scales\"\n",
       "        },\n",
       "        highlight={\n",
       "            type=\"single\",\n",
       "            on=\"mouseover\",\n",
       "            empty=\"none\"\n",
       "        },\n",
       "        select={\n",
       "            type=\"multi\",\n",
       "            empty=\"none\"\n",
       "        }\n",
       "    },\n",
       "    width=800,\n",
       "    height=400,\n",
       "    title=\"Profile Results\",\n",
       "    encoding={\n",
       "        x={\n",
       "            axis=nothing,\n",
       "            field=\"x1\"\n",
       "        },\n",
       "        x2={\n",
       "            field=\"x2\"\n",
       "        },\n",
       "        y={\n",
       "            axis=nothing,\n",
       "            field=\"level\",\n",
       "            type=\"quantitative\"\n",
       "        },\n",
       "        y2={\n",
       "            field=\"level2\",\n",
       "            type=\"quantitative\"\n",
       "        },\n",
       "        fillOpacity={\n",
       "            condition=[\n",
       "                {\n",
       "                    selection=\"highlight\",\n",
       "                    value=0.6\n",
       "                },\n",
       "                {\n",
       "                    selection=\"select\",\n",
       "                    value=0.5\n",
       "                }\n",
       "            ],\n",
       "            value=1\n",
       "        },\n",
       "        strokeWidth={\n",
       "            condition=[\n",
       "                {\n",
       "                    selection=\"highlight\",\n",
       "                    value=0.5\n",
       "                },\n",
       "                {\n",
       "                    selection=\"select\",\n",
       "                    value=0.5\n",
       "                }\n",
       "            ],\n",
       "            value=0\n",
       "        },\n",
       "        color={\n",
       "            legend={\n",
       "                title=nothing,\n",
       "                orient=\"bottom\"\n",
       "            },\n",
       "            field=\"status\",\n",
       "            type=\"nominal\"\n",
       "        },\n",
       "        tooltip={\n",
       "            field=\"sf\"\n",
       "        }\n",
       "    },\n",
       "    data={\n",
       "        values=...\n",
       "    }\n",
       ")"
      ]
     },
     "metadata": {},
     "output_type": "display_data"
    }
   ],
   "source": [
    "using ProfileVega\n",
    "ProfileVega.@profview lasso(Y, A, λ)"
   ]
  },
  {
   "cell_type": "code",
   "execution_count": 7,
   "id": "c95e3451",
   "metadata": {},
   "outputs": [
    {
     "name": "stdout",
     "output_type": "stream",
     "text": [
      "  7.598652 seconds (16.42 M allocations: 417.994 MiB, 1.44% gc time, 26 lock conflicts)\n",
      "[10, 65]\n"
     ]
    },
    {
     "data": {
      "image/png": "[encoded data removed]",
      "image/svg+xml": [
       "<?xml version=\"1.0\" encoding=\"utf-8\"?>\n",
       "<svg xmlns=\"http://www.w3.org/2000/svg\" xmlns:xlink=\"http://www.w3.org/1999/xlink\" width=\"600\" height=\"400\" viewBox=\"0 0 2400 1600\">\n",
       "<defs>\n",
       "  <clipPath id=\"clip260\">\n",
       "    <rect x=\"0\" y=\"0\" width=\"2400\" height=\"1600\"/>\n",
       "  </clipPath>\n",
       "</defs>\n",
       "<path clip-path=\"url(#clip260)\" d=\"M0 1600 L2400 1600 L2400 0 L0 0  Z\" fill=\"#ffffff\" fill-rule=\"evenodd\" fill-opacity=\"1\"/>\n",
       "<defs>\n",
       "  <clipPath id=\"clip261\">\n",
       "    <rect x=\"480\" y=\"0\" width=\"1681\" height=\"1600\"/>\n",
       "  </clipPath>\n",
       "</defs>\n",
       "<path clip-path=\"url(#clip260)\" d=\"M266.956 1360.19 L2289.76 1360.19 L2289.76 186.464 L266.956 186.464  Z\" fill=\"#ffffff\" fill-rule=\"evenodd\" fill-opacity=\"1\"/>\n",
       "<defs>\n",
       "  <clipPath id=\"clip262\">\n",
       "    <rect x=\"266\" y=\"186\" width=\"2024\" height=\"1175\"/>\n",
       "  </clipPath>\n",
       "</defs>\n",
       "<polyline clip-path=\"url(#clip262)\" style=\"stroke:#000000; stroke-linecap:round; stroke-linejoin:round; stroke-width:2; stroke-opacity:0.1; fill:none\" points=\"483.231,1360.19 483.231,186.464 \"/>\n",
       "<polyline clip-path=\"url(#clip262)\" style=\"stroke:#000000; stroke-linecap:round; stroke-linejoin:round; stroke-width:2; stroke-opacity:0.1; fill:none\" points=\"748.274,1360.19 748.274,186.464 \"/>\n",
       "<polyline clip-path=\"url(#clip262)\" style=\"stroke:#000000; stroke-linecap:round; stroke-linejoin:round; stroke-width:2; stroke-opacity:0.1; fill:none\" points=\"1013.32,1360.19 1013.32,186.464 \"/>\n",
       "<polyline clip-path=\"url(#clip262)\" style=\"stroke:#000000; stroke-linecap:round; stroke-linejoin:round; stroke-width:2; stroke-opacity:0.1; fill:none\" points=\"1278.36,1360.19 1278.36,186.464 \"/>\n",
       "<polyline clip-path=\"url(#clip262)\" style=\"stroke:#000000; stroke-linecap:round; stroke-linejoin:round; stroke-width:2; stroke-opacity:0.1; fill:none\" points=\"1543.4,1360.19 1543.4,186.464 \"/>\n",
       "<polyline clip-path=\"url(#clip262)\" style=\"stroke:#000000; stroke-linecap:round; stroke-linejoin:round; stroke-width:2; stroke-opacity:0.1; fill:none\" points=\"1808.45,1360.19 1808.45,186.464 \"/>\n",
       "<polyline clip-path=\"url(#clip262)\" style=\"stroke:#000000; stroke-linecap:round; stroke-linejoin:round; stroke-width:2; stroke-opacity:0.1; fill:none\" points=\"2073.49,1360.19 2073.49,186.464 \"/>\n",
       "<polyline clip-path=\"url(#clip262)\" style=\"stroke:#000000; stroke-linecap:round; stroke-linejoin:round; stroke-width:2; stroke-opacity:0.1; fill:none\" points=\"266.956,1291.67 2289.76,1291.67 \"/>\n",
       "<polyline clip-path=\"url(#clip262)\" style=\"stroke:#000000; stroke-linecap:round; stroke-linejoin:round; stroke-width:2; stroke-opacity:0.1; fill:none\" points=\"266.956,965.738 2289.76,965.738 \"/>\n",
       "<polyline clip-path=\"url(#clip262)\" style=\"stroke:#000000; stroke-linecap:round; stroke-linejoin:round; stroke-width:2; stroke-opacity:0.1; fill:none\" points=\"266.956,639.809 2289.76,639.809 \"/>\n",
       "<polyline clip-path=\"url(#clip262)\" style=\"stroke:#000000; stroke-linecap:round; stroke-linejoin:round; stroke-width:2; stroke-opacity:0.1; fill:none\" points=\"266.956,313.88 2289.76,313.88 \"/>\n",
       "<polyline clip-path=\"url(#clip260)\" style=\"stroke:#000000; stroke-linecap:round; stroke-linejoin:round; stroke-width:4; stroke-opacity:1; fill:none\" points=\"266.956,1360.19 2289.76,1360.19 \"/>\n",
       "<polyline clip-path=\"url(#clip260)\" style=\"stroke:#000000; stroke-linecap:round; stroke-linejoin:round; stroke-width:4; stroke-opacity:1; fill:none\" points=\"483.231,1360.19 483.231,1341.29 \"/>\n",
       "<polyline clip-path=\"url(#clip260)\" style=\"stroke:#000000; stroke-linecap:round; stroke-linejoin:round; stroke-width:4; stroke-opacity:1; fill:none\" points=\"748.274,1360.19 748.274,1341.29 \"/>\n",
       "<polyline clip-path=\"url(#clip260)\" style=\"stroke:#000000; stroke-linecap:round; stroke-linejoin:round; stroke-width:4; stroke-opacity:1; fill:none\" points=\"1013.32,1360.19 1013.32,1341.29 \"/>\n",
       "<polyline clip-path=\"url(#clip260)\" style=\"stroke:#000000; stroke-linecap:round; stroke-linejoin:round; stroke-width:4; stroke-opacity:1; fill:none\" points=\"1278.36,1360.19 1278.36,1341.29 \"/>\n",
       "<polyline clip-path=\"url(#clip260)\" style=\"stroke:#000000; stroke-linecap:round; stroke-linejoin:round; stroke-width:4; stroke-opacity:1; fill:none\" points=\"1543.4,1360.19 1543.4,1341.29 \"/>\n",
       "<polyline clip-path=\"url(#clip260)\" style=\"stroke:#000000; stroke-linecap:round; stroke-linejoin:round; stroke-width:4; stroke-opacity:1; fill:none\" points=\"1808.45,1360.19 1808.45,1341.29 \"/>\n",
       "<polyline clip-path=\"url(#clip260)\" style=\"stroke:#000000; stroke-linecap:round; stroke-linejoin:round; stroke-width:4; stroke-opacity:1; fill:none\" points=\"2073.49,1360.19 2073.49,1341.29 \"/>\n",
       "<path clip-path=\"url(#clip260)\" d=\"M437.791 1405.76 L467.467 1405.76 L467.467 1409.69 L437.791 1409.69 L437.791 1405.76 Z\" fill=\"#000000\" fill-rule=\"nonzero\" fill-opacity=\"1\" /><path clip-path=\"url(#clip260)\" d=\"M476.379 1388.03 L498.601 1388.03 L498.601 1390.02 L486.055 1422.59 L481.171 1422.59 L492.976 1391.96 L476.379 1391.96 L476.379 1388.03 Z\" fill=\"#000000\" fill-rule=\"nonzero\" fill-opacity=\"1\" /><path clip-path=\"url(#clip260)\" d=\"M507.768 1388.03 L526.124 1388.03 L526.124 1391.96 L512.05 1391.96 L512.05 1400.44 Q513.069 1400.09 514.087 1399.93 Q515.106 1399.74 516.124 1399.74 Q521.911 1399.74 525.291 1402.91 Q528.67 1406.08 528.67 1411.5 Q528.67 1417.08 525.198 1420.18 Q521.726 1423.26 515.407 1423.26 Q513.231 1423.26 510.962 1422.89 Q508.717 1422.52 506.309 1421.78 L506.309 1417.08 Q508.393 1418.21 510.615 1418.77 Q512.837 1419.32 515.314 1419.32 Q519.319 1419.32 521.656 1417.22 Q523.994 1415.11 523.994 1411.5 Q523.994 1407.89 521.656 1405.78 Q519.319 1403.68 515.314 1403.68 Q513.439 1403.68 511.564 1404.09 Q509.712 1404.51 507.768 1405.39 L507.768 1388.03 Z\" fill=\"#000000\" fill-rule=\"nonzero\" fill-opacity=\"1\" /><path clip-path=\"url(#clip260)\" d=\"M702.337 1405.76 L732.012 1405.76 L732.012 1409.69 L702.337 1409.69 L702.337 1405.76 Z\" fill=\"#000000\" fill-rule=\"nonzero\" fill-opacity=\"1\" /><path clip-path=\"url(#clip260)\" d=\"M742.151 1388.03 L760.507 1388.03 L760.507 1391.96 L746.433 1391.96 L746.433 1400.44 Q747.452 1400.09 748.471 1399.93 Q749.489 1399.74 750.508 1399.74 Q756.295 1399.74 759.674 1402.91 Q763.054 1406.08 763.054 1411.5 Q763.054 1417.08 759.582 1420.18 Q756.109 1423.26 749.79 1423.26 Q747.614 1423.26 745.346 1422.89 Q743.1 1422.52 740.693 1421.78 L740.693 1417.08 Q742.776 1418.21 744.998 1418.77 Q747.221 1419.32 749.697 1419.32 Q753.702 1419.32 756.04 1417.22 Q758.378 1415.11 758.378 1411.5 Q758.378 1407.89 756.04 1405.78 Q753.702 1403.68 749.697 1403.68 Q747.822 1403.68 745.947 1404.09 Q744.096 1404.51 742.151 1405.39 L742.151 1388.03 Z\" fill=\"#000000\" fill-rule=\"nonzero\" fill-opacity=\"1\" /><path clip-path=\"url(#clip260)\" d=\"M782.267 1391.11 Q778.656 1391.11 776.827 1394.67 Q775.021 1398.21 775.021 1405.34 Q775.021 1412.45 776.827 1416.01 Q778.656 1419.56 782.267 1419.56 Q785.901 1419.56 787.706 1416.01 Q789.535 1412.45 789.535 1405.34 Q789.535 1398.21 787.706 1394.67 Q785.901 1391.11 782.267 1391.11 M782.267 1387.4 Q788.077 1387.4 791.132 1392.01 Q794.211 1396.59 794.211 1405.34 Q794.211 1414.07 791.132 1418.68 Q788.077 1423.26 782.267 1423.26 Q776.456 1423.26 773.378 1418.68 Q770.322 1414.07 770.322 1405.34 Q770.322 1396.59 773.378 1392.01 Q776.456 1387.4 782.267 1387.4 Z\" fill=\"#000000\" fill-rule=\"nonzero\" fill-opacity=\"1\" /><path clip-path=\"url(#clip260)\" d=\"M967.877 1405.76 L997.553 1405.76 L997.553 1409.69 L967.877 1409.69 L967.877 1405.76 Z\" fill=\"#000000\" fill-rule=\"nonzero\" fill-opacity=\"1\" /><path clip-path=\"url(#clip260)\" d=\"M1011.67 1418.65 L1027.99 1418.65 L1027.99 1422.59 L1006.05 1422.59 L1006.05 1418.65 Q1008.71 1415.9 1013.29 1411.27 Q1017.9 1406.62 1019.08 1405.27 Q1021.33 1402.75 1022.21 1401.01 Q1023.11 1399.25 1023.11 1397.56 Q1023.11 1394.81 1021.16 1393.07 Q1019.24 1391.34 1016.14 1391.34 Q1013.94 1391.34 1011.49 1392.1 Q1009.06 1392.87 1006.28 1394.42 L1006.28 1389.69 Q1009.1 1388.56 1011.56 1387.98 Q1014.01 1387.4 1016.05 1387.4 Q1021.42 1387.4 1024.61 1390.09 Q1027.81 1392.77 1027.81 1397.26 Q1027.81 1399.39 1027 1401.31 Q1026.21 1403.21 1024.1 1405.81 Q1023.53 1406.48 1020.42 1409.69 Q1017.32 1412.89 1011.67 1418.65 Z\" fill=\"#000000\" fill-rule=\"nonzero\" fill-opacity=\"1\" /><path clip-path=\"url(#clip260)\" d=\"M1037.85 1388.03 L1056.21 1388.03 L1056.21 1391.96 L1042.14 1391.96 L1042.14 1400.44 Q1043.15 1400.09 1044.17 1399.93 Q1045.19 1399.74 1046.21 1399.74 Q1052 1399.74 1055.38 1402.91 Q1058.76 1406.08 1058.76 1411.5 Q1058.76 1417.08 1055.28 1420.18 Q1051.81 1423.26 1045.49 1423.26 Q1043.32 1423.26 1041.05 1422.89 Q1038.8 1422.52 1036.4 1421.78 L1036.4 1417.08 Q1038.48 1418.21 1040.7 1418.77 Q1042.92 1419.32 1045.4 1419.32 Q1049.4 1419.32 1051.74 1417.22 Q1054.08 1415.11 1054.08 1411.5 Q1054.08 1407.89 1051.74 1405.78 Q1049.4 1403.68 1045.4 1403.68 Q1043.52 1403.68 1041.65 1404.09 Q1039.8 1404.51 1037.85 1405.39 L1037.85 1388.03 Z\" fill=\"#000000\" fill-rule=\"nonzero\" fill-opacity=\"1\" /><path clip-path=\"url(#clip260)\" d=\"M1278.36 1391.11 Q1274.75 1391.11 1272.92 1394.67 Q1271.11 1398.21 1271.11 1405.34 Q1271.11 1412.45 1272.92 1416.01 Q1274.75 1419.56 1278.36 1419.56 Q1281.99 1419.56 1283.8 1416.01 Q1285.63 1412.45 1285.63 1405.34 Q1285.63 1398.21 1283.8 1394.67 Q1281.99 1391.11 1278.36 1391.11 M1278.36 1387.4 Q1284.17 1387.4 1287.23 1392.01 Q1290.3 1396.59 1290.3 1405.34 Q1290.3 1414.07 1287.23 1418.68 Q1284.17 1423.26 1278.36 1423.26 Q1272.55 1423.26 1269.47 1418.68 Q1266.42 1414.07 1266.42 1405.34 Q1266.42 1396.59 1269.47 1392.01 Q1272.55 1387.4 1278.36 1387.4 Z\" fill=\"#000000\" fill-rule=\"nonzero\" fill-opacity=\"1\" /><path clip-path=\"url(#clip260)\" d=\"M1522.67 1418.65 L1538.99 1418.65 L1538.99 1422.59 L1517.05 1422.59 L1517.05 1418.65 Q1519.71 1415.9 1524.29 1411.27 Q1528.9 1406.62 1530.08 1405.27 Q1532.33 1402.75 1533.21 1401.01 Q1534.11 1399.25 1534.11 1397.56 Q1534.11 1394.81 1532.16 1393.07 Q1530.24 1391.34 1527.14 1391.34 Q1524.94 1391.34 1522.49 1392.1 Q1520.06 1392.87 1517.28 1394.42 L1517.28 1389.69 Q1520.1 1388.56 1522.56 1387.98 Q1525.01 1387.4 1527.05 1387.4 Q1532.42 1387.4 1535.61 1390.09 Q1538.81 1392.77 1538.81 1397.26 Q1538.81 1399.39 1538 1401.31 Q1537.21 1403.21 1535.1 1405.81 Q1534.53 1406.48 1531.42 1409.69 Q1528.32 1412.89 1522.67 1418.65 Z\" fill=\"#000000\" fill-rule=\"nonzero\" fill-opacity=\"1\" /><path clip-path=\"url(#clip260)\" d=\"M1548.85 1388.03 L1567.21 1388.03 L1567.21 1391.96 L1553.14 1391.96 L1553.14 1400.44 Q1554.15 1400.09 1555.17 1399.93 Q1556.19 1399.74 1557.21 1399.74 Q1563 1399.74 1566.38 1402.91 Q1569.76 1406.08 1569.76 1411.5 Q1569.76 1417.08 1566.28 1420.18 Q1562.81 1423.26 1556.49 1423.26 Q1554.32 1423.26 1552.05 1422.89 Q1549.8 1422.52 1547.4 1421.78 L1547.4 1417.08 Q1549.48 1418.21 1551.7 1418.77 Q1553.92 1419.32 1556.4 1419.32 Q1560.4 1419.32 1562.74 1417.22 Q1565.08 1415.11 1565.08 1411.5 Q1565.08 1407.89 1562.74 1405.78 Q1560.4 1403.68 1556.4 1403.68 Q1554.53 1403.68 1552.65 1404.09 Q1550.8 1404.51 1548.85 1405.39 L1548.85 1388.03 Z\" fill=\"#000000\" fill-rule=\"nonzero\" fill-opacity=\"1\" /><path clip-path=\"url(#clip260)\" d=\"M1783.14 1388.03 L1801.5 1388.03 L1801.5 1391.96 L1787.43 1391.96 L1787.43 1400.44 Q1788.45 1400.09 1789.46 1399.93 Q1790.48 1399.74 1791.5 1399.74 Q1797.29 1399.74 1800.67 1402.91 Q1804.05 1406.08 1804.05 1411.5 Q1804.05 1417.08 1800.58 1420.18 Q1797.1 1423.26 1790.78 1423.26 Q1788.61 1423.26 1786.34 1422.89 Q1784.09 1422.52 1781.69 1421.78 L1781.69 1417.08 Q1783.77 1418.21 1785.99 1418.77 Q1788.21 1419.32 1790.69 1419.32 Q1794.7 1419.32 1797.03 1417.22 Q1799.37 1415.11 1799.37 1411.5 Q1799.37 1407.89 1797.03 1405.78 Q1794.7 1403.68 1790.69 1403.68 Q1788.82 1403.68 1786.94 1404.09 Q1785.09 1404.51 1783.14 1405.39 L1783.14 1388.03 Z\" fill=\"#000000\" fill-rule=\"nonzero\" fill-opacity=\"1\" /><path clip-path=\"url(#clip260)\" d=\"M1823.26 1391.11 Q1819.65 1391.11 1817.82 1394.67 Q1816.02 1398.21 1816.02 1405.34 Q1816.02 1412.45 1817.82 1416.01 Q1819.65 1419.56 1823.26 1419.56 Q1826.89 1419.56 1828.7 1416.01 Q1830.53 1412.45 1830.53 1405.34 Q1830.53 1398.21 1828.7 1394.67 Q1826.89 1391.11 1823.26 1391.11 M1823.26 1387.4 Q1829.07 1387.4 1832.13 1392.01 Q1835.2 1396.59 1835.2 1405.34 Q1835.2 1414.07 1832.13 1418.68 Q1829.07 1423.26 1823.26 1423.26 Q1817.45 1423.26 1814.37 1418.68 Q1811.32 1414.07 1811.32 1405.34 Q1811.32 1396.59 1814.37 1392.01 Q1817.45 1387.4 1823.26 1387.4 Z\" fill=\"#000000\" fill-rule=\"nonzero\" fill-opacity=\"1\" /><path clip-path=\"url(#clip260)\" d=\"M2047.34 1388.03 L2069.57 1388.03 L2069.57 1390.02 L2057.02 1422.59 L2052.13 1422.59 L2063.94 1391.96 L2047.34 1391.96 L2047.34 1388.03 Z\" fill=\"#000000\" fill-rule=\"nonzero\" fill-opacity=\"1\" /><path clip-path=\"url(#clip260)\" d=\"M2078.73 1388.03 L2097.09 1388.03 L2097.09 1391.96 L2083.01 1391.96 L2083.01 1400.44 Q2084.03 1400.09 2085.05 1399.93 Q2086.07 1399.74 2087.09 1399.74 Q2092.88 1399.74 2096.25 1402.91 Q2099.63 1406.08 2099.63 1411.5 Q2099.63 1417.08 2096.16 1420.18 Q2092.69 1423.26 2086.37 1423.26 Q2084.19 1423.26 2081.93 1422.89 Q2079.68 1422.52 2077.27 1421.78 L2077.27 1417.08 Q2079.36 1418.21 2081.58 1418.77 Q2083.8 1419.32 2086.28 1419.32 Q2090.28 1419.32 2092.62 1417.22 Q2094.96 1415.11 2094.96 1411.5 Q2094.96 1407.89 2092.62 1405.78 Q2090.28 1403.68 2086.28 1403.68 Q2084.4 1403.68 2082.53 1404.09 Q2080.68 1404.51 2078.73 1405.39 L2078.73 1388.03 Z\" fill=\"#000000\" fill-rule=\"nonzero\" fill-opacity=\"1\" /><path clip-path=\"url(#clip260)\" d=\"M1003.17 1463.87 L994.449 1487.51 L1011.92 1487.51 L1003.17 1463.87 M999.542 1457.53 L1006.83 1457.53 L1024.94 1505.05 L1018.26 1505.05 L1013.93 1492.86 L992.508 1492.86 L988.179 1505.05 L981.4 1505.05 L999.542 1457.53 Z\" fill=\"#000000\" fill-rule=\"nonzero\" fill-opacity=\"1\" /><path clip-path=\"url(#clip260)\" d=\"M1029.08 1469.4 L1056.9 1469.4 L1056.9 1474.75 L1034.87 1500.37 L1056.9 1500.37 L1056.9 1505.05 L1028.28 1505.05 L1028.28 1499.7 L1050.31 1474.08 L1029.08 1474.08 L1029.08 1469.4 Z\" fill=\"#000000\" fill-rule=\"nonzero\" fill-opacity=\"1\" /><path clip-path=\"url(#clip260)\" d=\"M1065.84 1469.4 L1071.7 1469.4 L1071.7 1505.05 L1065.84 1505.05 L1065.84 1469.4 M1065.84 1455.53 L1071.7 1455.53 L1071.7 1462.94 L1065.84 1462.94 L1065.84 1455.53 Z\" fill=\"#000000\" fill-rule=\"nonzero\" fill-opacity=\"1\" /><path clip-path=\"url(#clip260)\" d=\"M1111.71 1476.25 Q1113.9 1472.3 1116.96 1470.42 Q1120.01 1468.54 1124.15 1468.54 Q1129.72 1468.54 1132.74 1472.46 Q1135.77 1476.34 1135.77 1483.54 L1135.77 1505.05 L1129.88 1505.05 L1129.88 1483.73 Q1129.88 1478.6 1128.07 1476.12 Q1126.25 1473.64 1122.53 1473.64 Q1117.98 1473.64 1115.33 1476.66 Q1112.69 1479.68 1112.69 1484.9 L1112.69 1505.05 L1106.8 1505.05 L1106.8 1483.73 Q1106.8 1478.57 1104.99 1476.12 Q1103.18 1473.64 1099.39 1473.64 Q1094.9 1473.64 1092.26 1476.69 Q1089.62 1479.72 1089.62 1484.9 L1089.62 1505.05 L1083.73 1505.05 L1083.73 1469.4 L1089.62 1469.4 L1089.62 1474.94 Q1091.62 1471.66 1094.42 1470.1 Q1097.22 1468.54 1101.07 1468.54 Q1104.96 1468.54 1107.66 1470.52 Q1110.4 1472.49 1111.71 1476.25 Z\" fill=\"#000000\" fill-rule=\"nonzero\" fill-opacity=\"1\" /><path clip-path=\"url(#clip260)\" d=\"M1146.84 1490.98 L1146.84 1469.4 L1152.7 1469.4 L1152.7 1490.76 Q1152.7 1495.82 1154.67 1498.37 Q1156.65 1500.88 1160.59 1500.88 Q1165.34 1500.88 1168.07 1497.86 Q1170.84 1494.83 1170.84 1489.61 L1170.84 1469.4 L1176.7 1469.4 L1176.7 1505.05 L1170.84 1505.05 L1170.84 1499.58 Q1168.71 1502.82 1165.88 1504.42 Q1163.08 1505.97 1159.35 1505.97 Q1153.21 1505.97 1150.03 1502.16 Q1146.84 1498.34 1146.84 1490.98 M1161.58 1468.54 L1161.58 1468.54 Z\" fill=\"#000000\" fill-rule=\"nonzero\" fill-opacity=\"1\" /><path clip-path=\"url(#clip260)\" d=\"M1194.56 1459.28 L1194.56 1469.4 L1206.62 1469.4 L1206.62 1473.96 L1194.56 1473.96 L1194.56 1493.31 Q1194.56 1497.67 1195.73 1498.91 Q1196.94 1500.15 1200.6 1500.15 L1206.62 1500.15 L1206.62 1505.05 L1200.6 1505.05 Q1193.82 1505.05 1191.25 1502.54 Q1188.67 1499.99 1188.67 1493.31 L1188.67 1473.96 L1184.37 1473.96 L1184.37 1469.4 L1188.67 1469.4 L1188.67 1459.28 L1194.56 1459.28 Z\" fill=\"#000000\" fill-rule=\"nonzero\" fill-opacity=\"1\" /><path clip-path=\"url(#clip260)\" d=\"M1243.95 1483.54 L1243.95 1505.05 L1238.1 1505.05 L1238.1 1483.73 Q1238.1 1478.67 1236.12 1476.15 Q1234.15 1473.64 1230.2 1473.64 Q1225.46 1473.64 1222.72 1476.66 Q1219.99 1479.68 1219.99 1484.9 L1219.99 1505.05 L1214.1 1505.05 L1214.1 1455.53 L1219.99 1455.53 L1219.99 1474.94 Q1222.09 1471.73 1224.92 1470.14 Q1227.78 1468.54 1231.51 1468.54 Q1237.65 1468.54 1240.8 1472.36 Q1243.95 1476.15 1243.95 1483.54 Z\" fill=\"#000000\" fill-rule=\"nonzero\" fill-opacity=\"1\" /><path clip-path=\"url(#clip260)\" d=\"M1276.35 1469.4 L1282.21 1469.4 L1282.21 1505.05 L1276.35 1505.05 L1276.35 1469.4 M1276.35 1455.53 L1282.21 1455.53 L1282.21 1462.94 L1276.35 1462.94 L1276.35 1455.53 Z\" fill=\"#000000\" fill-rule=\"nonzero\" fill-opacity=\"1\" /><path clip-path=\"url(#clip260)\" d=\"M1324.1 1483.54 L1324.1 1505.05 L1318.24 1505.05 L1318.24 1483.73 Q1318.24 1478.67 1316.27 1476.15 Q1314.29 1473.64 1310.35 1473.64 Q1305.6 1473.64 1302.87 1476.66 Q1300.13 1479.68 1300.13 1484.9 L1300.13 1505.05 L1294.24 1505.05 L1294.24 1469.4 L1300.13 1469.4 L1300.13 1474.94 Q1302.23 1471.73 1305.06 1470.14 Q1307.93 1468.54 1311.65 1468.54 Q1317.8 1468.54 1320.95 1472.36 Q1324.1 1476.15 1324.1 1483.54 Z\" fill=\"#000000\" fill-rule=\"nonzero\" fill-opacity=\"1\" /><path clip-path=\"url(#clip260)\" d=\"M1379.96 1474.81 L1379.96 1455.53 L1385.81 1455.53 L1385.81 1505.05 L1379.96 1505.05 L1379.96 1499.7 Q1378.11 1502.89 1375.28 1504.45 Q1372.48 1505.97 1368.53 1505.97 Q1362.07 1505.97 1357.99 1500.82 Q1353.95 1495.66 1353.95 1487.26 Q1353.95 1478.86 1357.99 1473.7 Q1362.07 1468.54 1368.53 1468.54 Q1372.48 1468.54 1375.28 1470.1 Q1378.11 1471.63 1379.96 1474.81 M1360 1487.26 Q1360 1493.72 1362.64 1497.41 Q1365.32 1501.07 1369.96 1501.07 Q1374.61 1501.07 1377.28 1497.41 Q1379.96 1493.72 1379.96 1487.26 Q1379.96 1480.8 1377.28 1477.14 Q1374.61 1473.45 1369.96 1473.45 Q1365.32 1473.45 1362.64 1477.14 Q1360 1480.8 1360 1487.26 Z\" fill=\"#000000\" fill-rule=\"nonzero\" fill-opacity=\"1\" /><path clip-path=\"url(#clip260)\" d=\"M1428.37 1485.76 L1428.37 1488.63 L1401.44 1488.63 Q1401.82 1494.68 1405.07 1497.86 Q1408.35 1501.01 1414.17 1501.01 Q1417.55 1501.01 1420.7 1500.18 Q1423.88 1499.35 1427 1497.7 L1427 1503.24 Q1423.85 1504.57 1420.54 1505.27 Q1417.23 1505.97 1413.82 1505.97 Q1405.29 1505.97 1400.29 1501.01 Q1395.33 1496.04 1395.33 1487.58 Q1395.33 1478.83 1400.04 1473.7 Q1404.78 1468.54 1412.8 1468.54 Q1420 1468.54 1424.17 1473.19 Q1428.37 1477.81 1428.37 1485.76 M1422.51 1484.04 Q1422.45 1479.24 1419.81 1476.37 Q1417.2 1473.51 1412.87 1473.51 Q1407.97 1473.51 1405.01 1476.28 Q1402.08 1479.05 1401.63 1484.08 L1422.51 1484.04 Z\" fill=\"#000000\" fill-rule=\"nonzero\" fill-opacity=\"1\" /><path clip-path=\"url(#clip260)\" d=\"M1461.44 1486.81 Q1461.44 1480.45 1458.8 1476.95 Q1456.19 1473.45 1451.44 1473.45 Q1446.73 1473.45 1444.09 1476.95 Q1441.48 1480.45 1441.48 1486.81 Q1441.48 1493.15 1444.09 1496.65 Q1446.73 1500.15 1451.44 1500.15 Q1456.19 1500.15 1458.8 1496.65 Q1461.44 1493.15 1461.44 1486.81 M1467.29 1500.63 Q1467.29 1509.73 1463.25 1514.15 Q1459.21 1518.61 1450.87 1518.61 Q1447.78 1518.61 1445.05 1518.13 Q1442.31 1517.69 1439.73 1516.73 L1439.73 1511.04 Q1442.31 1512.44 1444.82 1513.1 Q1447.34 1513.77 1449.95 1513.77 Q1455.71 1513.77 1458.57 1510.75 Q1461.44 1507.76 1461.44 1501.68 L1461.44 1498.78 Q1459.62 1501.93 1456.79 1503.49 Q1453.96 1505.05 1450.01 1505.05 Q1443.45 1505.05 1439.44 1500.05 Q1435.43 1495.06 1435.43 1486.81 Q1435.43 1478.54 1439.44 1473.54 Q1443.45 1468.54 1450.01 1468.54 Q1453.96 1468.54 1456.79 1470.1 Q1459.62 1471.66 1461.44 1474.81 L1461.44 1469.4 L1467.29 1469.4 L1467.29 1500.63 Z\" fill=\"#000000\" fill-rule=\"nonzero\" fill-opacity=\"1\" /><path clip-path=\"url(#clip260)\" d=\"M1500.01 1474.88 Q1499.03 1474.31 1497.85 1474.05 Q1496.7 1473.76 1495.3 1473.76 Q1490.34 1473.76 1487.66 1477.01 Q1485.02 1480.23 1485.02 1486.27 L1485.02 1505.05 L1479.13 1505.05 L1479.13 1469.4 L1485.02 1469.4 L1485.02 1474.94 Q1486.87 1471.7 1489.83 1470.14 Q1492.79 1468.54 1497.02 1468.54 Q1497.63 1468.54 1498.36 1468.64 Q1499.09 1468.7 1499.98 1468.86 L1500.01 1474.88 Z\" fill=\"#000000\" fill-rule=\"nonzero\" fill-opacity=\"1\" /><path clip-path=\"url(#clip260)\" d=\"M1535.22 1485.76 L1535.22 1488.63 L1508.29 1488.63 Q1508.67 1494.68 1511.92 1497.86 Q1515.2 1501.01 1521.02 1501.01 Q1524.39 1501.01 1527.55 1500.18 Q1530.73 1499.35 1533.85 1497.7 L1533.85 1503.24 Q1530.7 1504.57 1527.39 1505.27 Q1524.08 1505.97 1520.67 1505.97 Q1512.14 1505.97 1507.14 1501.01 Q1502.18 1496.04 1502.18 1487.58 Q1502.18 1478.83 1506.89 1473.7 Q1511.63 1468.54 1519.65 1468.54 Q1526.85 1468.54 1531.01 1473.19 Q1535.22 1477.81 1535.22 1485.76 M1529.36 1484.04 Q1529.3 1479.24 1526.65 1476.37 Q1524.04 1473.51 1519.72 1473.51 Q1514.81 1473.51 1511.85 1476.28 Q1508.93 1479.05 1508.48 1484.08 L1529.36 1484.04 Z\" fill=\"#000000\" fill-rule=\"nonzero\" fill-opacity=\"1\" /><path clip-path=\"url(#clip260)\" d=\"M1575.32 1485.76 L1575.32 1488.63 L1548.39 1488.63 Q1548.77 1494.68 1552.02 1497.86 Q1555.3 1501.01 1561.12 1501.01 Q1564.5 1501.01 1567.65 1500.18 Q1570.83 1499.35 1573.95 1497.7 L1573.95 1503.24 Q1570.8 1504.57 1567.49 1505.27 Q1564.18 1505.97 1560.77 1505.97 Q1552.24 1505.97 1547.25 1501.01 Q1542.28 1496.04 1542.28 1487.58 Q1542.28 1478.83 1546.99 1473.7 Q1551.74 1468.54 1559.76 1468.54 Q1566.95 1468.54 1571.12 1473.19 Q1575.32 1477.81 1575.32 1485.76 M1569.46 1484.04 Q1569.4 1479.24 1566.76 1476.37 Q1564.15 1473.51 1559.82 1473.51 Q1554.92 1473.51 1551.96 1476.28 Q1549.03 1479.05 1548.58 1484.08 L1569.46 1484.04 Z\" fill=\"#000000\" fill-rule=\"nonzero\" fill-opacity=\"1\" /><polyline clip-path=\"url(#clip260)\" style=\"stroke:#000000; stroke-linecap:round; stroke-linejoin:round; stroke-width:4; stroke-opacity:1; fill:none\" points=\"266.956,1360.19 266.956,186.464 \"/>\n",
       "<polyline clip-path=\"url(#clip260)\" style=\"stroke:#000000; stroke-linecap:round; stroke-linejoin:round; stroke-width:4; stroke-opacity:1; fill:none\" points=\"266.956,1291.67 285.853,1291.67 \"/>\n",
       "<polyline clip-path=\"url(#clip260)\" style=\"stroke:#000000; stroke-linecap:round; stroke-linejoin:round; stroke-width:4; stroke-opacity:1; fill:none\" points=\"266.956,965.738 285.853,965.738 \"/>\n",
       "<polyline clip-path=\"url(#clip260)\" style=\"stroke:#000000; stroke-linecap:round; stroke-linejoin:round; stroke-width:4; stroke-opacity:1; fill:none\" points=\"266.956,639.809 285.853,639.809 \"/>\n",
       "<polyline clip-path=\"url(#clip260)\" style=\"stroke:#000000; stroke-linecap:round; stroke-linejoin:round; stroke-width:4; stroke-opacity:1; fill:none\" points=\"266.956,313.88 285.853,313.88 \"/>\n",
       "<path clip-path=\"url(#clip260)\" d=\"M210.053 1274.39 L228.409 1274.39 L228.409 1278.32 L214.335 1278.32 L214.335 1286.79 Q215.354 1286.45 216.372 1286.29 Q217.391 1286.1 218.409 1286.1 Q224.196 1286.1 227.576 1289.27 Q230.956 1292.44 230.956 1297.86 Q230.956 1303.44 227.483 1306.54 Q224.011 1309.62 217.692 1309.62 Q215.516 1309.62 213.247 1309.25 Q211.002 1308.88 208.595 1308.14 L208.595 1303.44 Q210.678 1304.57 212.9 1305.13 Q215.122 1305.68 217.599 1305.68 Q221.604 1305.68 223.942 1303.58 Q226.28 1301.47 226.28 1297.86 Q226.28 1294.25 223.942 1292.14 Q221.604 1290.04 217.599 1290.04 Q215.724 1290.04 213.849 1290.45 Q211.997 1290.87 210.053 1291.75 L210.053 1274.39 Z\" fill=\"#000000\" fill-rule=\"nonzero\" fill-opacity=\"1\" /><path clip-path=\"url(#clip260)\" d=\"M179.66 979.083 L187.299 979.083 L187.299 952.717 L178.988 954.384 L178.988 950.125 L187.252 948.458 L191.928 948.458 L191.928 979.083 L199.567 979.083 L199.567 983.018 L179.66 983.018 L179.66 979.083 Z\" fill=\"#000000\" fill-rule=\"nonzero\" fill-opacity=\"1\" /><path clip-path=\"url(#clip260)\" d=\"M219.011 951.537 Q215.4 951.537 213.572 955.102 Q211.766 958.643 211.766 965.773 Q211.766 972.879 213.572 976.444 Q215.4 979.986 219.011 979.986 Q222.646 979.986 224.451 976.444 Q226.28 972.879 226.28 965.773 Q226.28 958.643 224.451 955.102 Q222.646 951.537 219.011 951.537 M219.011 947.833 Q224.821 947.833 227.877 952.44 Q230.956 957.023 230.956 965.773 Q230.956 974.5 227.877 979.106 Q224.821 983.689 219.011 983.689 Q213.201 983.689 210.122 979.106 Q207.067 974.5 207.067 965.773 Q207.067 957.023 210.122 952.44 Q213.201 947.833 219.011 947.833 Z\" fill=\"#000000\" fill-rule=\"nonzero\" fill-opacity=\"1\" /><path clip-path=\"url(#clip260)\" d=\"M180.655 653.154 L188.294 653.154 L188.294 626.789 L179.984 628.455 L179.984 624.196 L188.248 622.529 L192.923 622.529 L192.923 653.154 L200.562 653.154 L200.562 657.089 L180.655 657.089 L180.655 653.154 Z\" fill=\"#000000\" fill-rule=\"nonzero\" fill-opacity=\"1\" /><path clip-path=\"url(#clip260)\" d=\"M210.053 622.529 L228.409 622.529 L228.409 626.464 L214.335 626.464 L214.335 634.937 Q215.354 634.589 216.372 634.427 Q217.391 634.242 218.409 634.242 Q224.196 634.242 227.576 637.413 Q230.956 640.585 230.956 646.001 Q230.956 651.58 227.483 654.682 Q224.011 657.761 217.692 657.761 Q215.516 657.761 213.247 657.39 Q211.002 657.02 208.595 656.279 L208.595 651.58 Q210.678 652.714 212.9 653.27 Q215.122 653.825 217.599 653.825 Q221.604 653.825 223.942 651.719 Q226.28 649.612 226.28 646.001 Q226.28 642.39 223.942 640.284 Q221.604 638.177 217.599 638.177 Q215.724 638.177 213.849 638.594 Q211.997 639.011 210.053 639.89 L210.053 622.529 Z\" fill=\"#000000\" fill-rule=\"nonzero\" fill-opacity=\"1\" /><path clip-path=\"url(#clip260)\" d=\"M182.877 327.225 L199.197 327.225 L199.197 331.16 L177.252 331.16 L177.252 327.225 Q179.914 324.471 184.498 319.841 Q189.104 315.188 190.285 313.846 Q192.53 311.323 193.41 309.586 Q194.312 307.827 194.312 306.137 Q194.312 303.383 192.368 301.647 Q190.447 299.911 187.345 299.911 Q185.146 299.911 182.692 300.674 Q180.262 301.438 177.484 302.989 L177.484 298.267 Q180.308 297.133 182.762 296.554 Q185.215 295.975 187.252 295.975 Q192.623 295.975 195.817 298.661 Q199.011 301.346 199.011 305.836 Q199.011 307.966 198.201 309.887 Q197.414 311.785 195.308 314.378 Q194.729 315.049 191.627 318.267 Q188.525 321.461 182.877 327.225 Z\" fill=\"#000000\" fill-rule=\"nonzero\" fill-opacity=\"1\" /><path clip-path=\"url(#clip260)\" d=\"M219.011 299.679 Q215.4 299.679 213.572 303.244 Q211.766 306.786 211.766 313.915 Q211.766 321.022 213.572 324.586 Q215.4 328.128 219.011 328.128 Q222.646 328.128 224.451 324.586 Q226.28 321.022 226.28 313.915 Q226.28 306.786 224.451 303.244 Q222.646 299.679 219.011 299.679 M219.011 295.975 Q224.821 295.975 227.877 300.582 Q230.956 305.165 230.956 313.915 Q230.956 322.642 227.877 327.248 Q224.821 331.832 219.011 331.832 Q213.201 331.832 210.122 327.248 Q207.067 322.642 207.067 313.915 Q207.067 305.165 210.122 300.582 Q213.201 295.975 219.011 295.975 Z\" fill=\"#000000\" fill-rule=\"nonzero\" fill-opacity=\"1\" /><path clip-path=\"url(#clip260)\" d=\"M84.7598 953.412 L102.616 953.412 L102.616 945.327 Q102.616 940.84 100.292 938.389 Q97.9687 935.938 93.6718 935.938 Q89.4068 935.938 87.0833 938.389 Q84.7598 940.84 84.7598 945.327 L84.7598 953.412 M79.4763 959.841 L79.4763 945.327 Q79.4763 937.338 83.1047 933.264 Q86.7014 929.158 93.6718 929.158 Q100.706 929.158 104.303 933.264 Q107.899 937.338 107.899 945.327 L107.899 953.412 L126.996 953.412 L126.996 959.841 L79.4763 959.841 Z\" fill=\"#000000\" fill-rule=\"nonzero\" fill-opacity=\"1\" /><path clip-path=\"url(#clip260)\" d=\"M95.4542 909.297 Q95.4542 914.008 99.1463 916.745 Q102.807 919.483 109.204 919.483 Q115.602 919.483 119.294 916.777 Q122.954 914.04 122.954 909.297 Q122.954 904.619 119.262 901.881 Q115.57 899.144 109.204 899.144 Q102.87 899.144 99.1781 901.881 Q95.4542 904.619 95.4542 909.297 M90.489 909.297 Q90.489 901.659 95.4542 897.298 Q100.419 892.938 109.204 892.938 Q117.957 892.938 122.954 897.298 Q127.919 901.659 127.919 909.297 Q127.919 916.968 122.954 921.329 Q117.957 925.657 109.204 925.657 Q100.419 925.657 95.4542 921.329 Q90.489 916.968 90.489 909.297 Z\" fill=\"#000000\" fill-rule=\"nonzero\" fill-opacity=\"1\" /><path clip-path=\"url(#clip260)\" d=\"M91.3483 886.636 L91.3483 880.779 L119.166 873.459 L91.3483 866.17 L91.3483 859.263 L119.166 851.942 L91.3483 844.654 L91.3483 838.797 L126.996 848.123 L126.996 855.03 L97.7777 862.701 L126.996 870.403 L126.996 877.31 L91.3483 886.636 Z\" fill=\"#000000\" fill-rule=\"nonzero\" fill-opacity=\"1\" /><path clip-path=\"url(#clip260)\" d=\"M107.708 799.425 L110.573 799.425 L110.573 826.352 Q116.62 825.97 119.803 822.724 Q122.954 819.446 122.954 813.621 Q122.954 810.247 122.127 807.096 Q121.299 803.913 119.644 800.794 L125.182 800.794 Q126.519 803.945 127.219 807.255 Q127.919 810.565 127.919 813.971 Q127.919 822.501 122.954 827.498 Q117.989 832.463 109.522 832.463 Q100.77 832.463 95.6452 827.753 Q90.489 823.01 90.489 814.99 Q90.489 807.796 95.1359 803.627 Q99.7511 799.425 107.708 799.425 M105.989 805.282 Q101.183 805.345 98.3188 807.987 Q95.4542 810.597 95.4542 814.926 Q95.4542 819.827 98.2233 822.788 Q100.992 825.716 106.021 826.161 L105.989 805.282 Z\" fill=\"#000000\" fill-rule=\"nonzero\" fill-opacity=\"1\" /><path clip-path=\"url(#clip260)\" d=\"M96.8228 769.156 Q96.2499 770.143 95.9953 771.321 Q95.7088 772.467 95.7088 773.867 Q95.7088 778.832 98.9553 781.506 Q102.17 784.148 108.217 784.148 L126.996 784.148 L126.996 790.036 L91.3483 790.036 L91.3483 784.148 L96.8865 784.148 Q93.64 782.302 92.0804 779.342 Q90.489 776.382 90.489 772.148 Q90.489 771.544 90.5844 770.812 Q90.6481 770.079 90.8072 769.188 L96.8228 769.156 Z\" fill=\"#000000\" fill-rule=\"nonzero\" fill-opacity=\"1\" /><path clip-path=\"url(#clip260)\" d=\"M91.3483 742.293 L91.3483 736.437 L126.996 736.437 L126.996 742.293 L91.3483 742.293 M77.4711 742.293 L77.4711 736.437 L84.8871 736.437 L84.8871 742.293 L77.4711 742.293 Z\" fill=\"#000000\" fill-rule=\"nonzero\" fill-opacity=\"1\" /><path clip-path=\"url(#clip260)\" d=\"M105.48 694.55 L126.996 694.55 L126.996 700.407 L105.671 700.407 Q100.61 700.407 98.096 702.38 Q95.5815 704.354 95.5815 708.3 Q95.5815 713.043 98.6052 715.78 Q101.629 718.517 106.849 718.517 L126.996 718.517 L126.996 724.406 L91.3483 724.406 L91.3483 718.517 L96.8865 718.517 Q93.6718 716.417 92.0804 713.584 Q90.489 710.719 90.489 706.995 Q90.489 700.852 94.3084 697.701 Q98.096 694.55 105.48 694.55 Z\" fill=\"#000000\" fill-rule=\"nonzero\" fill-opacity=\"1\" /><path clip-path=\"url(#clip260)\" d=\"M96.7592 638.691 L77.4711 638.691 L77.4711 632.835 L126.996 632.835 L126.996 638.691 L121.649 638.691 Q124.832 640.537 126.392 643.37 Q127.919 646.171 127.919 650.118 Q127.919 656.579 122.763 660.653 Q117.607 664.695 109.204 664.695 Q100.801 664.695 95.6452 660.653 Q90.489 656.579 90.489 650.118 Q90.489 646.171 92.0486 643.37 Q93.5763 640.537 96.7592 638.691 M109.204 658.648 Q115.665 658.648 119.357 656.006 Q123.018 653.332 123.018 648.685 Q123.018 644.038 119.357 641.365 Q115.665 638.691 109.204 638.691 Q102.743 638.691 99.0827 641.365 Q95.3906 644.038 95.3906 648.685 Q95.3906 653.332 99.0827 656.006 Q102.743 658.648 109.204 658.648 Z\" fill=\"#000000\" fill-rule=\"nonzero\" fill-opacity=\"1\" /><path clip-path=\"url(#clip260)\" d=\"M104.303 614.088 L121.713 614.088 L121.713 603.775 Q121.713 598.587 119.58 596.105 Q117.416 593.59 112.992 593.59 Q108.536 593.59 106.435 596.105 Q104.303 598.587 104.303 603.775 L104.303 614.088 M84.7598 614.088 L99.0827 614.088 L99.0827 604.571 Q99.0827 599.86 97.3321 597.569 Q95.5497 595.245 91.9212 595.245 Q88.3246 595.245 86.5422 597.569 Q84.7598 599.86 84.7598 604.571 L84.7598 614.088 M79.4763 620.517 L79.4763 604.094 Q79.4763 596.741 82.5318 592.763 Q85.5874 588.784 91.221 588.784 Q95.5815 588.784 98.1596 590.821 Q100.738 592.858 101.374 596.805 Q102.393 592.062 105.639 589.453 Q108.854 586.811 113.692 586.811 Q120.058 586.811 123.527 591.139 Q126.996 595.468 126.996 603.457 L126.996 620.517 L79.4763 620.517 Z\" fill=\"#000000\" fill-rule=\"nonzero\" fill-opacity=\"1\" /><path clip-path=\"url(#clip260)\" d=\"M934.013 12.096 L942.195 12.096 L942.195 65.6895 L971.646 65.6895 L971.646 72.576 L934.013 72.576 L934.013 12.096 Z\" fill=\"#000000\" fill-rule=\"nonzero\" fill-opacity=\"1\" /><path clip-path=\"url(#clip260)\" d=\"M1002.35 20.1573 L991.252 50.2555 L1013.49 50.2555 L1002.35 20.1573 M997.733 12.096 L1007.01 12.096 L1030.06 72.576 L1021.55 72.576 L1016.04 57.061 L988.781 57.061 L983.272 72.576 L974.643 72.576 L997.733 12.096 Z\" fill=\"#000000\" fill-rule=\"nonzero\" fill-opacity=\"1\" /><path clip-path=\"url(#clip260)\" d=\"M1075.15 14.0809 L1075.15 22.0612 Q1070.49 19.8332 1066.36 18.7395 Q1062.22 17.6457 1058.38 17.6457 Q1051.69 17.6457 1048.05 20.2383 Q1044.44 22.8309 1044.44 27.611 Q1044.44 31.6214 1046.83 33.6873 Q1049.26 35.7128 1055.99 36.9686 L1060.93 37.9813 Q1070.08 39.7232 1074.42 44.1387 Q1078.79 48.5136 1078.79 55.8863 Q1078.79 64.6767 1072.88 69.2137 Q1067 73.7508 1055.62 73.7508 Q1051.33 73.7508 1046.47 72.7785 Q1041.65 71.8063 1036.46 69.9024 L1036.46 61.4765 Q1041.44 64.2716 1046.22 65.6895 Q1051 67.1073 1055.62 67.1073 Q1062.63 67.1073 1066.44 64.3527 Q1070.24 61.598 1070.24 56.4939 Q1070.24 52.0379 1067.49 49.5264 Q1064.78 47.0148 1058.54 45.759 L1053.55 44.7868 Q1044.4 42.9639 1040.31 39.075 Q1036.22 35.1862 1036.22 28.2591 Q1036.22 20.2383 1041.85 15.6203 Q1047.52 11.0023 1057.44 11.0023 Q1061.7 11.0023 1066.11 11.7719 Q1070.53 12.5416 1075.15 14.0809 Z\" fill=\"#000000\" fill-rule=\"nonzero\" fill-opacity=\"1\" /><path clip-path=\"url(#clip260)\" d=\"M1127.81 14.0809 L1127.81 22.0612 Q1123.15 19.8332 1119.02 18.7395 Q1114.89 17.6457 1111.04 17.6457 Q1104.35 17.6457 1100.71 20.2383 Q1097.1 22.8309 1097.1 27.611 Q1097.1 31.6214 1099.49 33.6873 Q1101.92 35.7128 1108.65 36.9686 L1113.59 37.9813 Q1122.74 39.7232 1127.08 44.1387 Q1131.45 48.5136 1131.45 55.8863 Q1131.45 64.6767 1125.54 69.2137 Q1119.67 73.7508 1108.28 73.7508 Q1103.99 73.7508 1099.13 72.7785 Q1094.31 71.8063 1089.12 69.9024 L1089.12 61.4765 Q1094.1 64.2716 1098.88 65.6895 Q1103.66 67.1073 1108.28 67.1073 Q1115.29 67.1073 1119.1 64.3527 Q1122.91 61.598 1122.91 56.4939 Q1122.91 52.0379 1120.15 49.5264 Q1117.44 47.0148 1111.2 45.759 L1106.22 44.7868 Q1097.06 42.9639 1092.97 39.075 Q1088.88 35.1862 1088.88 28.2591 Q1088.88 20.2383 1094.51 15.6203 Q1100.18 11.0023 1110.11 11.0023 Q1114.36 11.0023 1118.77 11.7719 Q1123.19 12.5416 1127.81 14.0809 Z\" fill=\"#000000\" fill-rule=\"nonzero\" fill-opacity=\"1\" /><path clip-path=\"url(#clip260)\" d=\"M1168.76 17.6457 Q1159.85 17.6457 1154.58 24.2892 Q1149.36 30.9327 1149.36 42.3968 Q1149.36 53.8203 1154.58 60.4638 Q1159.85 67.1073 1168.76 67.1073 Q1177.67 67.1073 1182.86 60.4638 Q1188.09 53.8203 1188.09 42.3968 Q1188.09 30.9327 1182.86 24.2892 Q1177.67 17.6457 1168.76 17.6457 M1168.76 11.0023 Q1181.48 11.0023 1189.1 19.5497 Q1196.71 28.0566 1196.71 42.3968 Q1196.71 56.6965 1189.1 65.2439 Q1181.48 73.7508 1168.76 73.7508 Q1156 73.7508 1148.35 65.2439 Q1140.73 56.737 1140.73 42.3968 Q1140.73 28.0566 1148.35 19.5497 Q1156 11.0023 1168.76 11.0023 Z\" fill=\"#000000\" fill-rule=\"nonzero\" fill-opacity=\"1\" /><path clip-path=\"url(#clip260)\" d=\"M1272.14 14.0809 L1272.14 22.0612 Q1267.48 19.8332 1263.35 18.7395 Q1259.22 17.6457 1255.37 17.6457 Q1248.69 17.6457 1245.04 20.2383 Q1241.44 22.8309 1241.44 27.611 Q1241.44 31.6214 1243.83 33.6873 Q1246.26 35.7128 1252.98 36.9686 L1257.92 37.9813 Q1267.08 39.7232 1271.41 44.1387 Q1275.79 48.5136 1275.79 55.8863 Q1275.79 64.6767 1269.87 69.2137 Q1264 73.7508 1252.62 73.7508 Q1248.32 73.7508 1243.46 72.7785 Q1238.64 71.8063 1233.46 69.9024 L1233.46 61.4765 Q1238.44 64.2716 1243.22 65.6895 Q1248 67.1073 1252.62 67.1073 Q1259.62 67.1073 1263.43 64.3527 Q1267.24 61.598 1267.24 56.4939 Q1267.24 52.0379 1264.49 49.5264 Q1261.77 47.0148 1255.53 45.759 L1250.55 44.7868 Q1241.4 42.9639 1237.3 39.075 Q1233.21 35.1862 1233.21 28.2591 Q1233.21 20.2383 1238.84 15.6203 Q1244.51 11.0023 1254.44 11.0023 Q1258.69 11.0023 1263.11 11.7719 Q1267.52 12.5416 1272.14 14.0809 Z\" fill=\"#000000\" fill-rule=\"nonzero\" fill-opacity=\"1\" /><path clip-path=\"url(#clip260)\" d=\"M1295.43 65.7705 L1295.43 89.8329 L1287.94 89.8329 L1287.94 27.2059 L1295.43 27.2059 L1295.43 34.0924 Q1297.78 30.0415 1301.35 28.0971 Q1304.95 26.1121 1309.94 26.1121 Q1318.2 26.1121 1323.35 32.6746 Q1328.53 39.2371 1328.53 49.9314 Q1328.53 60.6258 1323.35 67.1883 Q1318.2 73.7508 1309.94 73.7508 Q1304.95 73.7508 1301.35 71.8063 Q1297.78 69.8214 1295.43 65.7705 M1320.79 49.9314 Q1320.79 41.7081 1317.39 37.0496 Q1314.03 32.3505 1308.11 32.3505 Q1302.2 32.3505 1298.8 37.0496 Q1295.43 41.7081 1295.43 49.9314 Q1295.43 58.1548 1298.8 62.8538 Q1302.2 67.5124 1308.11 67.5124 Q1314.03 67.5124 1317.39 62.8538 Q1320.79 58.1548 1320.79 49.9314 Z\" fill=\"#000000\" fill-rule=\"nonzero\" fill-opacity=\"1\" /><path clip-path=\"url(#clip260)\" d=\"M1379.69 48.0275 L1379.69 51.6733 L1345.42 51.6733 Q1345.91 59.3701 1350.04 63.421 Q1354.21 67.4314 1361.63 67.4314 Q1365.92 67.4314 1369.93 66.3781 Q1373.98 65.3249 1377.95 63.2184 L1377.95 70.267 Q1373.94 71.9684 1369.73 72.8596 Q1365.51 73.7508 1361.18 73.7508 Q1350.32 73.7508 1343.96 67.4314 Q1337.64 61.1119 1337.64 50.3365 Q1337.64 39.1965 1343.64 32.6746 Q1349.68 26.1121 1359.88 26.1121 Q1369.04 26.1121 1374.35 32.0264 Q1379.69 37.9003 1379.69 48.0275 M1372.24 45.84 Q1372.16 39.7232 1368.8 36.0774 Q1365.47 32.4315 1359.97 32.4315 Q1353.73 32.4315 1349.96 35.9558 Q1346.23 39.4801 1345.67 45.8805 L1372.24 45.84 Z\" fill=\"#000000\" fill-rule=\"nonzero\" fill-opacity=\"1\" /><path clip-path=\"url(#clip260)\" d=\"M1424.58 28.9478 L1424.58 35.9153 Q1421.42 34.1734 1418.22 33.3227 Q1415.06 32.4315 1411.82 32.4315 Q1404.57 32.4315 1400.56 37.0496 Q1396.54 41.6271 1396.54 49.9314 Q1396.54 58.2358 1400.56 62.8538 Q1404.57 67.4314 1411.82 67.4314 Q1415.06 67.4314 1418.22 66.5807 Q1421.42 65.6895 1424.58 63.9476 L1424.58 70.8341 Q1421.46 72.2924 1418.1 73.0216 Q1414.77 73.7508 1411.01 73.7508 Q1400.76 73.7508 1394.72 67.3098 Q1388.69 60.8689 1388.69 49.9314 Q1388.69 38.832 1394.76 32.472 Q1400.88 26.1121 1411.49 26.1121 Q1414.94 26.1121 1418.22 26.8413 Q1421.5 27.5299 1424.58 28.9478 Z\" fill=\"#000000\" fill-rule=\"nonzero\" fill-opacity=\"1\" /><path clip-path=\"url(#clip260)\" d=\"M1444.91 14.324 L1444.91 27.2059 L1460.27 27.2059 L1460.27 32.9987 L1444.91 32.9987 L1444.91 57.6282 Q1444.91 63.1779 1446.41 64.7578 Q1447.95 66.3376 1452.61 66.3376 L1460.27 66.3376 L1460.27 72.576 L1452.61 72.576 Q1443.98 72.576 1440.7 69.3758 Q1437.42 66.1351 1437.42 57.6282 L1437.42 32.9987 L1431.95 32.9987 L1431.95 27.2059 L1437.42 27.2059 L1437.42 14.324 L1444.91 14.324 Z\" fill=\"#000000\" fill-rule=\"nonzero\" fill-opacity=\"1\" /><path clip-path=\"url(#clip260)\" d=\"M1496.36 34.1734 Q1495.1 33.4443 1493.6 33.1202 Q1492.15 32.7556 1490.36 32.7556 Q1484.04 32.7556 1480.64 36.8875 Q1477.28 40.9789 1477.28 48.6757 L1477.28 72.576 L1469.79 72.576 L1469.79 27.2059 L1477.28 27.2059 L1477.28 34.2544 Q1479.63 30.1225 1483.4 28.1376 Q1487.16 26.1121 1492.55 26.1121 Q1493.32 26.1121 1494.25 26.2337 Q1495.18 26.3147 1496.32 26.5172 L1496.36 34.1734 Z\" fill=\"#000000\" fill-rule=\"nonzero\" fill-opacity=\"1\" /><path clip-path=\"url(#clip260)\" d=\"M1503.41 54.671 L1503.41 27.2059 L1510.86 27.2059 L1510.86 54.3874 Q1510.86 60.8284 1513.37 64.0691 Q1515.88 67.2693 1520.91 67.2693 Q1526.94 67.2693 1530.43 63.421 Q1533.95 59.5726 1533.95 52.9291 L1533.95 27.2059 L1541.41 27.2059 L1541.41 72.576 L1533.95 72.576 L1533.95 65.6084 Q1531.24 69.7404 1527.63 71.7658 Q1524.07 73.7508 1519.33 73.7508 Q1511.51 73.7508 1507.46 68.8897 Q1503.41 64.0286 1503.41 54.671 M1522.16 26.1121 L1522.16 26.1121 Z\" fill=\"#000000\" fill-rule=\"nonzero\" fill-opacity=\"1\" /><path clip-path=\"url(#clip260)\" d=\"M1592.08 35.9153 Q1594.88 30.8922 1598.77 28.5022 Q1602.65 26.1121 1607.92 26.1121 Q1615.01 26.1121 1618.86 31.0947 Q1622.71 36.0368 1622.71 45.1919 L1622.71 72.576 L1615.21 72.576 L1615.21 45.4349 Q1615.21 38.913 1612.9 35.7533 Q1610.59 32.5936 1605.86 32.5936 Q1600.06 32.5936 1596.7 36.4419 Q1593.34 40.2903 1593.34 46.9338 L1593.34 72.576 L1585.84 72.576 L1585.84 45.4349 Q1585.84 38.8725 1583.53 35.7533 Q1581.23 32.5936 1576.41 32.5936 Q1570.69 32.5936 1567.33 36.4824 Q1563.97 40.3308 1563.97 46.9338 L1563.97 72.576 L1556.47 72.576 L1556.47 27.2059 L1563.97 27.2059 L1563.97 34.2544 Q1566.52 30.082 1570.09 28.0971 Q1573.65 26.1121 1578.55 26.1121 Q1583.49 26.1121 1586.94 28.6237 Q1590.42 31.1352 1592.08 35.9153 Z\" fill=\"#000000\" fill-rule=\"nonzero\" fill-opacity=\"1\" /><polyline clip-path=\"url(#clip262)\" style=\"stroke:#009af9; stroke-linecap:round; stroke-linejoin:round; stroke-width:4; stroke-opacity:1; fill:none\" points=\"1956.87,1326.97 1967.47,309.426 \"/>\n",
       "<circle clip-path=\"url(#clip262)\" cx=\"1384.38\" cy=\"219.683\" r=\"14.4\" fill=\"#009af9\" fill-rule=\"evenodd\" fill-opacity=\"1\" stroke=\"#000000\" stroke-opacity=\"1\" stroke-width=\"3.2\"/>\n",
       "<circle clip-path=\"url(#clip262)\" cx=\"1956.87\" cy=\"1326.97\" r=\"14.4\" fill=\"#009af9\" fill-rule=\"evenodd\" fill-opacity=\"1\" stroke=\"#000000\" stroke-opacity=\"1\" stroke-width=\"3.2\"/>\n",
       "<circle clip-path=\"url(#clip262)\" cx=\"1967.47\" cy=\"309.426\" r=\"14.4\" fill=\"#009af9\" fill-rule=\"evenodd\" fill-opacity=\"1\" stroke=\"#000000\" stroke-opacity=\"1\" stroke-width=\"3.2\"/>\n",
       "<path clip-path=\"url(#clip260)\" d=\"M1802.33 329.268 L2222.34 329.268 L2222.34 225.588 L1802.33 225.588  Z\" fill=\"#ffffff\" fill-rule=\"evenodd\" fill-opacity=\"1\"/>\n",
       "<polyline clip-path=\"url(#clip260)\" style=\"stroke:#000000; stroke-linecap:round; stroke-linejoin:round; stroke-width:4; stroke-opacity:1; fill:none\" points=\"1802.33,329.268 2222.34,329.268 2222.34,225.588 1802.33,225.588 1802.33,329.268 \"/>\n",
       "<polyline clip-path=\"url(#clip260)\" style=\"stroke:#009af9; stroke-linecap:round; stroke-linejoin:round; stroke-width:4; stroke-opacity:1; fill:none\" points=\"1824.8,277.428 1959.66,277.428 \"/>\n",
       "<circle clip-path=\"url(#clip260)\" cx=\"1892.23\" cy=\"277.428\" r=\"18.7297\" fill=\"#009af9\" fill-rule=\"evenodd\" fill-opacity=\"1\" stroke=\"#000000\" stroke-opacity=\"1\" stroke-width=\"4.55111\"/>\n",
       "<path clip-path=\"url(#clip260)\" d=\"M2000.56 269.546 L2000.56 273.574 Q1998.75 272.648 1996.81 272.185 Q1994.86 271.722 1992.78 271.722 Q1989.61 271.722 1988.01 272.695 Q1986.44 273.667 1986.44 275.611 Q1986.44 277.093 1987.57 277.949 Q1988.7 278.783 1992.13 279.546 L1993.59 279.87 Q1998.13 280.843 2000.02 282.625 Q2001.95 284.384 2001.95 287.556 Q2001.95 291.167 1999.08 293.273 Q1996.23 295.38 1991.23 295.38 Q1989.14 295.38 1986.88 294.963 Q1984.63 294.569 1982.13 293.759 L1982.13 289.361 Q1984.49 290.588 1986.78 291.213 Q1989.08 291.815 1991.32 291.815 Q1994.33 291.815 1995.95 290.796 Q1997.57 289.755 1997.57 287.88 Q1997.57 286.144 1996.39 285.218 Q1995.23 284.292 1991.27 283.435 L1989.79 283.088 Q1985.83 282.255 1984.08 280.542 Q1982.32 278.806 1982.32 275.796 Q1982.32 272.139 1984.91 270.148 Q1987.5 268.158 1992.27 268.158 Q1994.63 268.158 1996.71 268.505 Q1998.8 268.852 2000.56 269.546 Z\" fill=\"#000000\" fill-rule=\"nonzero\" fill-opacity=\"1\" /><path clip-path=\"url(#clip260)\" d=\"M2012.85 290.819 L2012.85 304.569 L2008.57 304.569 L2008.57 268.783 L2012.85 268.783 L2012.85 272.718 Q2014.19 270.403 2016.23 269.292 Q2018.29 268.158 2021.14 268.158 Q2025.86 268.158 2028.8 271.908 Q2031.76 275.658 2031.76 281.769 Q2031.76 287.88 2028.8 291.63 Q2025.86 295.38 2021.14 295.38 Q2018.29 295.38 2016.23 294.269 Q2014.19 293.134 2012.85 290.819 M2027.34 281.769 Q2027.34 277.07 2025.39 274.408 Q2023.47 271.722 2020.09 271.722 Q2016.71 271.722 2014.77 274.408 Q2012.85 277.07 2012.85 281.769 Q2012.85 286.468 2014.77 289.153 Q2016.71 291.815 2020.09 291.815 Q2023.47 291.815 2025.39 289.153 Q2027.34 286.468 2027.34 281.769 Z\" fill=\"#000000\" fill-rule=\"nonzero\" fill-opacity=\"1\" /><path clip-path=\"url(#clip260)\" d=\"M2061 280.681 L2061 282.764 L2041.41 282.764 Q2041.69 287.162 2044.05 289.477 Q2046.44 291.769 2050.67 291.769 Q2053.13 291.769 2055.42 291.167 Q2057.73 290.565 2060 289.361 L2060 293.389 Q2057.71 294.361 2055.3 294.87 Q2052.89 295.38 2050.42 295.38 Q2044.21 295.38 2040.58 291.769 Q2036.97 288.157 2036.97 282 Q2036.97 275.634 2040.39 271.908 Q2043.84 268.158 2049.68 268.158 Q2054.91 268.158 2057.94 271.537 Q2061 274.894 2061 280.681 M2056.74 279.431 Q2056.69 275.935 2054.77 273.852 Q2052.87 271.769 2049.72 271.769 Q2046.16 271.769 2044.01 273.783 Q2041.88 275.796 2041.55 279.454 L2056.74 279.431 Z\" fill=\"#000000\" fill-rule=\"nonzero\" fill-opacity=\"1\" /><path clip-path=\"url(#clip260)\" d=\"M2086.64 269.778 L2086.64 273.759 Q2084.84 272.764 2083.01 272.278 Q2081.2 271.769 2079.35 271.769 Q2075.21 271.769 2072.92 274.408 Q2070.63 277.023 2070.63 281.769 Q2070.63 286.514 2072.92 289.153 Q2075.21 291.769 2079.35 291.769 Q2081.2 291.769 2083.01 291.282 Q2084.84 290.773 2086.64 289.778 L2086.64 293.713 Q2084.86 294.546 2082.94 294.963 Q2081.04 295.38 2078.89 295.38 Q2073.03 295.38 2069.58 291.699 Q2066.14 288.019 2066.14 281.769 Q2066.14 275.426 2069.61 271.792 Q2073.1 268.158 2079.17 268.158 Q2081.13 268.158 2083.01 268.574 Q2084.88 268.968 2086.64 269.778 Z\" fill=\"#000000\" fill-rule=\"nonzero\" fill-opacity=\"1\" /><path clip-path=\"url(#clip260)\" d=\"M2098.26 261.422 L2098.26 268.783 L2107.04 268.783 L2107.04 272.093 L2098.26 272.093 L2098.26 286.167 Q2098.26 289.338 2099.12 290.241 Q2100 291.144 2102.66 291.144 L2107.04 291.144 L2107.04 294.708 L2102.66 294.708 Q2097.73 294.708 2095.86 292.88 Q2093.98 291.028 2093.98 286.167 L2093.98 272.093 L2090.86 272.093 L2090.86 268.783 L2093.98 268.783 L2093.98 261.422 L2098.26 261.422 Z\" fill=\"#000000\" fill-rule=\"nonzero\" fill-opacity=\"1\" /><path clip-path=\"url(#clip260)\" d=\"M2127.66 272.764 Q2126.94 272.347 2126.09 272.162 Q2125.26 271.954 2124.24 271.954 Q2120.63 271.954 2118.68 274.315 Q2116.76 276.653 2116.76 281.051 L2116.76 294.708 L2112.48 294.708 L2112.48 268.783 L2116.76 268.783 L2116.76 272.81 Q2118.1 270.449 2120.26 269.315 Q2122.41 268.158 2125.49 268.158 Q2125.93 268.158 2126.46 268.227 Q2126.99 268.273 2127.64 268.389 L2127.66 272.764 Z\" fill=\"#000000\" fill-rule=\"nonzero\" fill-opacity=\"1\" /><path clip-path=\"url(#clip260)\" d=\"M2131.69 284.477 L2131.69 268.783 L2135.95 268.783 L2135.95 284.315 Q2135.95 287.995 2137.38 289.847 Q2138.82 291.676 2141.69 291.676 Q2145.14 291.676 2147.13 289.477 Q2149.14 287.278 2149.14 283.482 L2149.14 268.783 L2153.4 268.783 L2153.4 294.708 L2149.14 294.708 L2149.14 290.727 Q2147.59 293.088 2145.53 294.245 Q2143.5 295.38 2140.79 295.38 Q2136.32 295.38 2134.01 292.602 Q2131.69 289.824 2131.69 284.477 M2142.41 268.158 L2142.41 268.158 Z\" fill=\"#000000\" fill-rule=\"nonzero\" fill-opacity=\"1\" /><path clip-path=\"url(#clip260)\" d=\"M2182.36 273.759 Q2183.96 270.889 2186.18 269.523 Q2188.4 268.158 2191.41 268.158 Q2195.46 268.158 2197.66 271.005 Q2199.86 273.829 2199.86 279.06 L2199.86 294.708 L2195.58 294.708 L2195.58 279.199 Q2195.58 275.472 2194.26 273.667 Q2192.94 271.861 2190.23 271.861 Q2186.92 271.861 2185 274.06 Q2183.08 276.259 2183.08 280.056 L2183.08 294.708 L2178.8 294.708 L2178.8 279.199 Q2178.8 275.449 2177.48 273.667 Q2176.16 271.861 2173.4 271.861 Q2170.14 271.861 2168.22 274.083 Q2166.3 276.283 2166.3 280.056 L2166.3 294.708 L2162.01 294.708 L2162.01 268.783 L2166.3 268.783 L2166.3 272.81 Q2167.75 270.426 2169.79 269.292 Q2171.83 268.158 2174.63 268.158 Q2177.45 268.158 2179.42 269.593 Q2181.41 271.028 2182.36 273.759 Z\" fill=\"#000000\" fill-rule=\"nonzero\" fill-opacity=\"1\" /></svg>\n"
      ],
      "text/html": [
       "<img src=\"data:image/png;base64,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\" />"
      ]
     },
     "metadata": {},
     "output_type": "display_data"
    }
   ],
   "source": [
    "using CUDA\n",
    "using ArraySignalProcessing\n",
    "using LinearAlgebra\n",
    "\n",
    "# test signal generation\n",
    "cuY = cu(Y)\n",
    "cuA = cu(A)\n",
    "λ = Float32(λ)\n",
    "@time @CUDA.sync spectrum = lasso(cuY, cuA, λ)\n",
    "Θest = find_doas(θgrid, Array(spectrum), d)\n",
    "println(Θest)\n",
    "\n",
    "using Plots\n",
    "import Measures\n",
    "p1 = plot(Array(θgrid), Array(10*log10.(spectrum)),marker=:dot, label=\"spectrum\")\n",
    "plot!(title=\"LASSO Spectrum\", margin=5*Measures.mm)\n",
    "xlabel!(\"Azimuth in degree\")\n",
    "ylabel!(\"Power in dB\")"
   ]
  }
 ],
 "metadata": {
  "kernelspec": {
   "display_name": "Julia 1.11.6",
   "language": "julia",
   "name": "julia-1.11"
  },
  "language_info": {
   "file_extension": ".jl",
   "mimetype": "application/julia",
   "name": "julia",
   "version": "1.11.6"
  }
 },
 "nbformat": 4,
 "nbformat_minor": 5
}
